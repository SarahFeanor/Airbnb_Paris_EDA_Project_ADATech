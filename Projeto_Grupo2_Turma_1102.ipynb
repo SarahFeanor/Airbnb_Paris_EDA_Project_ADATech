{
  "nbformat": 4,
  "nbformat_minor": 0,
  "metadata": {
    "colab": {
      "provenance": [],
      "toc_visible": true,
      "include_colab_link": true
    },
    "kernelspec": {
      "name": "python3",
      "display_name": "Python 3"
    },
    "language_info": {
      "name": "python"
    }
  },
  "cells": [
    {
      "cell_type": "markdown",
      "metadata": {
        "id": "view-in-github",
        "colab_type": "text"
      },
      "source": [
        "<a href=\"https://colab.research.google.com/github/SarahFeanor/Airbnb_Paris_EDA_Project_ADATech/blob/main/Projeto_Grupo2_Turma_1102.ipynb\" target=\"_parent\"><img src=\"https://colab.research.google.com/assets/colab-badge.svg\" alt=\"Open In Colab\"/></a>"
      ]
    },
    {
      "cell_type": "markdown",
      "source": [
        "[![Python 3.7+](https://img.shields.io/badge/python-3.7+-blue.svg)](https://www.python.org/downloads/release/python-360/) [![License: GPL v3](https://img.shields.io/badge/License-GPLv3-blue.svg)](https://www.gnu.org/licenses/gpl-3.0)\n"
      ],
      "metadata": {
        "id": "d1ZXkL82LYpO"
      }
    },
    {
      "cell_type": "markdown",
      "source": [
        "<sub> 📂 Projeto - Grupo 2 | Turma: 1102 | Programa Vem ser Tech - Dados | Módulo 4 - Técnicas de Programação (PY)  </sub>\n",
        "\n",
        "\n",
        "----"
      ],
      "metadata": {
        "id": "IL4FZTS3LaEM"
      }
    },
    {
      "cell_type": "markdown",
      "source": [
        "# **Análise Explorátoria dos Dados do Airbnb - Paris 🗼**"
      ],
      "metadata": {
        "id": "tc-KoexjV7K3"
      }
    },
    {
      "cell_type": "markdown",
      "source": [
        "<p align=\"center\">\n",
        "  <a href=\"https://github.com/SarahFeanor?tab=repositories\">\n",
        "    <img src=\"https://cdn.discordapp.com/attachments/1063559719291199599/1198980222389858464/thumb2-eiffel-tower-paris-champs-elysees-evening-paris-landmarks.jpg?ex=65c0e058&is=65ae6b58&hm=f80a94468a74b3b1a7104c55299392e769903121900d57137b15ad90714dccf4&\" alt=\"capa\" width=\"400\" height=\"300\">\n",
        "  </a>\n",
        "</p><p align=\"center\"> <sup> Foto: Torre Eiffel - Fonte: BesthHqWallpapers </sup> </p>"
      ],
      "metadata": {
        "id": "wQd1ZGplVtmW"
      }
    },
    {
      "cell_type": "markdown",
      "source": [
        "\n",
        "\n",
        "Este é um **projeto** de conclusão de módulo do curso **Vem ser Tech Dados** da Ada Tech, cujo objetivo é realizar um **EDA** (Exploratory Data Analysis) com os conhecimentos obtidos (Pandas e Numpy).\n",
        "\n",
        "Vale ressaltar que todos os dados são exclusivamente para fins de demonstração, garantindo total privacidade e conformidade ética.\n",
        "\n",
        "\n",
        "\n",
        "**Integrantes**:\n",
        "\n",
        "- [José Truta](https://www.linkedin.com/in/jos%C3%A9-truta/)\n",
        "- [Igor Cruz](https://www.linkedin.com/in/igorcruzcf/?utm_source=share&utm_campaign=share_via&utm_content=profile&utm_medium=android_app)\n",
        "- [Matheus Reis](https://www.linkedin.com/in/matheusreisn/)\n",
        "- [Leticia Carneiro](https://www.linkedin.com/in/leticia-oliv/)\n",
        "- [Sarah Rezende](https://www.linkedin.com/in/sarahfrezende/)\n",
        "\n",
        "**Professor**:\n",
        "- [Bruno Issamo](https://www.linkedin.com/in/bruno-issamo-7a977311a/)\n",
        "\n"
      ],
      "metadata": {
        "id": "nwKd9XjxLlzI"
      }
    },
    {
      "cell_type": "markdown",
      "source": [
        "# **Visão Geral do Projeto**"
      ],
      "metadata": {
        "id": "TIR_ovMOO0Fo"
      }
    },
    {
      "cell_type": "markdown",
      "source": [
        "🔍Este projeto tem como foco a **análise exploratória de dados** relacionados à cidade de Paris, França, utilizando informações disponibilizadas pelo [Inside Airbnb](http://insideairbnb.com/get-the-data/). O objetivo principal é extrair percepções e conhecimentos a partir desses dados, explorando aspectos relevantes do mercado de hospedagem na cidade.\n",
        "\n",
        "💻 O contexto envolve a simulação de uma empresa fictícia chamada **RotaVIP**, especializada em roteiros de viagem personalizados. Neste caso, nós da RotaVIP fomos contratados pela **EuroTrip**, uma empresa de excursões pela Europa, para desenvolver um **roteiro exclusivo** para a cidade de **Paris**.\n",
        "\n",
        "🗺️ Como analista de Dados da **RotaVIP**, realizamos uma Análise Exploratória de Dados (EDA) dedicada à cidade de Paris, com ênfase na área de hotelaria. A equipe utilizou dados do **Airbnb**, uma plataforma global que conecta anfitriões e viajantes. O Airbnb, conhecido por promover transparência e democratização dos dados, disponibiliza informações valiosas através do portal [Inside Airbnb](http://insideairbnb.com/get-the-data/).\n",
        "\n"
      ],
      "metadata": {
        "id": "5LoaoflvDLVE"
      }
    },
    {
      "cell_type": "markdown",
      "source": [
        "# 🗼 **Paris - França**\n",
        "\n",
        "Paris, a \"Cidade Luz\", encanta com sua arquitetura icônica, incluindo a Torre Eiffel, o Louvre e a Catedral de Notre-Dame. Os charmosos cafés e bistrôs, a moda de alta qualidade e os jardins exuberantes de Luxemburgo são pontos marcantes. Passeios pelo Rio Sena, explorar o boêmio Montmartre e admirar as pontes iluminadas acrescentam romantismo. Paris é uma mistura única de história, cultura e beleza, continuando a ser um destino irresistível para viajantes de todo o mundo."
      ],
      "metadata": {
        "id": "GaGWSFWgVIfe"
      }
    },
    {
      "cell_type": "markdown",
      "source": [
        "# **Conjunto de Dados**"
      ],
      "metadata": {
        "id": "y7ssfjjBSM4g"
      }
    },
    {
      "cell_type": "markdown",
      "source": [
        "Os dados que utilizamos foram adquiridos de um arquivo CSV disponibilizado no [Inside Airbnb](http://insideairbnb.com/get-the-data/). Os **arquivos** usados aqui tambem podem ser adquiridos em nosso [repositório]() do Github:\n",
        "\n",
        "- **Listagem** - Informações resumidas e métricas: [listings.csv](https://)\n",
        "\n",
        "```\n",
        "# Isto` está formatado como código`\n",
        "```\n",
        "\n",
        "\n",
        "\n",
        "\n"
      ],
      "metadata": {
        "id": "OfS_hvylQOH4"
      }
    },
    {
      "cell_type": "markdown",
      "source": [
        "# **Objetivo**"
      ],
      "metadata": {
        "id": "U0h-Ds9CT_Gw"
      }
    },
    {
      "cell_type": "markdown",
      "source": [
        "O projeto visa conduzir uma análise exploratória dos dados disponibilizados pelo Inside Airbnb. Através dessa análise, buscamos identificar informações significativas e potenciais padrões, a fim de obter conclusões esclarecedoras sobre a utilização do aplicativo hoteleiro.\n",
        "\n",
        "**Backlog:**\n",
        "\n",
        "1. Importar dados e bibliotecas necessárias;\n",
        "2. Analisar a quantidade de atributos, entradas e os tipos de variáveis presentes nos dados;\n",
        "3. Identificar valores ausentes nos atributos;\n",
        "4. Realizar a limpeza e preparação dos dados;\n",
        "5. Realizar a Análise descritiva;\n",
        "6. Analisar qual o tipo de distribuição das variaveis;\n",
        "7. Verificar se há Outliers;\n",
        "8. Análise Explorátoria dos Dados\n",
        " - Qual é a média de preços de aluguel?\n",
        " - Qual é a média dos alugueis por bairro?\n",
        " - Quais os bairros mais caros?\n",
        " - Quais os preços minimos e maximos por bairro?\n",
        " - Qual a média da quantidade minima de noites para alugar?\n",
        " - Qual o tipo de imovel mais alugado no Airbnb?\n",
        " - Preços por tipos de Quarto\n",
        " - Preços Médios do alugueis/por quarto apartamento\n",
        "\n",
        "\n",
        "\n",
        "---"
      ],
      "metadata": {
        "id": "xN0XRWtKfQ7-"
      }
    },
    {
      "cell_type": "markdown",
      "source": [
        "## **Importanto as bibliotecas e os Dados**"
      ],
      "metadata": {
        "id": "qQD-XShwNUKN"
      }
    },
    {
      "cell_type": "code",
      "source": [
        "# Importando bibliotecas;\n",
        "import pandas as pd\n",
        "import numpy as np\n",
        "from numpy import NaN"
      ],
      "metadata": {
        "id": "BPOy-7Xh_1Y8"
      },
      "execution_count": 1,
      "outputs": []
    },
    {
      "cell_type": "code",
      "source": [
        "# Importando dataset 'Listings'\n",
        "df = pd.read_csv('/content/listings.csv')\n"
      ],
      "metadata": {
        "id": "ZnfXAGRnbcqb"
      },
      "execution_count": 2,
      "outputs": []
    },
    {
      "cell_type": "markdown",
      "source": [
        "## **Mostrando as primeiras entradas:**"
      ],
      "metadata": {
        "id": "dA1Iz7tCRuXw"
      }
    },
    {
      "cell_type": "code",
      "source": [
        "df.head(n=3)"
      ],
      "metadata": {
        "colab": {
          "base_uri": "https://localhost:8080/",
          "height": 424
        },
        "id": "YcXKsNQbPszu",
        "outputId": "21f2ff84-49f9-4875-a179-90b67c332973"
      },
      "execution_count": 3,
      "outputs": [
        {
          "output_type": "execute_result",
          "data": {
            "text/plain": [
              "     id                                               name  host_id host_name  \\\n",
              "0  3109  Rental unit in Paris · ★5.0 · 1 bedroom · 1 be...     3631      Anne   \n",
              "1  5396  Rental unit in Paris · ★4.59 · Studio · 1 bed ...     7903    Borzou   \n",
              "2  7397  Rental unit in Paris · ★4.73 · 2 bedrooms · 2 ...     2626    Franck   \n",
              "\n",
              "   neighbourhood_group   neighbourhood  latitude  longitude        room_type  \\\n",
              "0                  NaN    Observatoire  48.83191    2.31870  Entire home/apt   \n",
              "1                  NaN  Hôtel-de-Ville  48.85247    2.35835  Entire home/apt   \n",
              "2                  NaN  Hôtel-de-Ville  48.85909    2.35315  Entire home/apt   \n",
              "\n",
              "   price  minimum_nights  number_of_reviews last_review  reviews_per_month  \\\n",
              "0  150.0               2                  4  2019-10-24               0.05   \n",
              "1  146.0               1                374  2023-12-11               2.12   \n",
              "2  140.0              10                343  2023-11-16               2.22   \n",
              "\n",
              "   calculated_host_listings_count  availability_365  number_of_reviews_ltm  \\\n",
              "0                               1               327                      0   \n",
              "1                               2                 0                     48   \n",
              "2                               7               198                     22   \n",
              "\n",
              "         license  \n",
              "0  7511409139079  \n",
              "1  7510402838018  \n",
              "2  7510400829623  "
            ],
            "text/html": [
              "\n",
              "  <div id=\"df-4d2ec5cb-8c92-4c15-8750-6d5109211217\" class=\"colab-df-container\">\n",
              "    <div>\n",
              "<style scoped>\n",
              "    .dataframe tbody tr th:only-of-type {\n",
              "        vertical-align: middle;\n",
              "    }\n",
              "\n",
              "    .dataframe tbody tr th {\n",
              "        vertical-align: top;\n",
              "    }\n",
              "\n",
              "    .dataframe thead th {\n",
              "        text-align: right;\n",
              "    }\n",
              "</style>\n",
              "<table border=\"1\" class=\"dataframe\">\n",
              "  <thead>\n",
              "    <tr style=\"text-align: right;\">\n",
              "      <th></th>\n",
              "      <th>id</th>\n",
              "      <th>name</th>\n",
              "      <th>host_id</th>\n",
              "      <th>host_name</th>\n",
              "      <th>neighbourhood_group</th>\n",
              "      <th>neighbourhood</th>\n",
              "      <th>latitude</th>\n",
              "      <th>longitude</th>\n",
              "      <th>room_type</th>\n",
              "      <th>price</th>\n",
              "      <th>minimum_nights</th>\n",
              "      <th>number_of_reviews</th>\n",
              "      <th>last_review</th>\n",
              "      <th>reviews_per_month</th>\n",
              "      <th>calculated_host_listings_count</th>\n",
              "      <th>availability_365</th>\n",
              "      <th>number_of_reviews_ltm</th>\n",
              "      <th>license</th>\n",
              "    </tr>\n",
              "  </thead>\n",
              "  <tbody>\n",
              "    <tr>\n",
              "      <th>0</th>\n",
              "      <td>3109</td>\n",
              "      <td>Rental unit in Paris · ★5.0 · 1 bedroom · 1 be...</td>\n",
              "      <td>3631</td>\n",
              "      <td>Anne</td>\n",
              "      <td>NaN</td>\n",
              "      <td>Observatoire</td>\n",
              "      <td>48.83191</td>\n",
              "      <td>2.31870</td>\n",
              "      <td>Entire home/apt</td>\n",
              "      <td>150.0</td>\n",
              "      <td>2</td>\n",
              "      <td>4</td>\n",
              "      <td>2019-10-24</td>\n",
              "      <td>0.05</td>\n",
              "      <td>1</td>\n",
              "      <td>327</td>\n",
              "      <td>0</td>\n",
              "      <td>7511409139079</td>\n",
              "    </tr>\n",
              "    <tr>\n",
              "      <th>1</th>\n",
              "      <td>5396</td>\n",
              "      <td>Rental unit in Paris · ★4.59 · Studio · 1 bed ...</td>\n",
              "      <td>7903</td>\n",
              "      <td>Borzou</td>\n",
              "      <td>NaN</td>\n",
              "      <td>Hôtel-de-Ville</td>\n",
              "      <td>48.85247</td>\n",
              "      <td>2.35835</td>\n",
              "      <td>Entire home/apt</td>\n",
              "      <td>146.0</td>\n",
              "      <td>1</td>\n",
              "      <td>374</td>\n",
              "      <td>2023-12-11</td>\n",
              "      <td>2.12</td>\n",
              "      <td>2</td>\n",
              "      <td>0</td>\n",
              "      <td>48</td>\n",
              "      <td>7510402838018</td>\n",
              "    </tr>\n",
              "    <tr>\n",
              "      <th>2</th>\n",
              "      <td>7397</td>\n",
              "      <td>Rental unit in Paris · ★4.73 · 2 bedrooms · 2 ...</td>\n",
              "      <td>2626</td>\n",
              "      <td>Franck</td>\n",
              "      <td>NaN</td>\n",
              "      <td>Hôtel-de-Ville</td>\n",
              "      <td>48.85909</td>\n",
              "      <td>2.35315</td>\n",
              "      <td>Entire home/apt</td>\n",
              "      <td>140.0</td>\n",
              "      <td>10</td>\n",
              "      <td>343</td>\n",
              "      <td>2023-11-16</td>\n",
              "      <td>2.22</td>\n",
              "      <td>7</td>\n",
              "      <td>198</td>\n",
              "      <td>22</td>\n",
              "      <td>7510400829623</td>\n",
              "    </tr>\n",
              "  </tbody>\n",
              "</table>\n",
              "</div>\n",
              "    <div class=\"colab-df-buttons\">\n",
              "\n",
              "  <div class=\"colab-df-container\">\n",
              "    <button class=\"colab-df-convert\" onclick=\"convertToInteractive('df-4d2ec5cb-8c92-4c15-8750-6d5109211217')\"\n",
              "            title=\"Convert this dataframe to an interactive table.\"\n",
              "            style=\"display:none;\">\n",
              "\n",
              "  <svg xmlns=\"http://www.w3.org/2000/svg\" height=\"24px\" viewBox=\"0 -960 960 960\">\n",
              "    <path d=\"M120-120v-720h720v720H120Zm60-500h600v-160H180v160Zm220 220h160v-160H400v160Zm0 220h160v-160H400v160ZM180-400h160v-160H180v160Zm440 0h160v-160H620v160ZM180-180h160v-160H180v160Zm440 0h160v-160H620v160Z\"/>\n",
              "  </svg>\n",
              "    </button>\n",
              "\n",
              "  <style>\n",
              "    .colab-df-container {\n",
              "      display:flex;\n",
              "      gap: 12px;\n",
              "    }\n",
              "\n",
              "    .colab-df-convert {\n",
              "      background-color: #E8F0FE;\n",
              "      border: none;\n",
              "      border-radius: 50%;\n",
              "      cursor: pointer;\n",
              "      display: none;\n",
              "      fill: #1967D2;\n",
              "      height: 32px;\n",
              "      padding: 0 0 0 0;\n",
              "      width: 32px;\n",
              "    }\n",
              "\n",
              "    .colab-df-convert:hover {\n",
              "      background-color: #E2EBFA;\n",
              "      box-shadow: 0px 1px 2px rgba(60, 64, 67, 0.3), 0px 1px 3px 1px rgba(60, 64, 67, 0.15);\n",
              "      fill: #174EA6;\n",
              "    }\n",
              "\n",
              "    .colab-df-buttons div {\n",
              "      margin-bottom: 4px;\n",
              "    }\n",
              "\n",
              "    [theme=dark] .colab-df-convert {\n",
              "      background-color: #3B4455;\n",
              "      fill: #D2E3FC;\n",
              "    }\n",
              "\n",
              "    [theme=dark] .colab-df-convert:hover {\n",
              "      background-color: #434B5C;\n",
              "      box-shadow: 0px 1px 3px 1px rgba(0, 0, 0, 0.15);\n",
              "      filter: drop-shadow(0px 1px 2px rgba(0, 0, 0, 0.3));\n",
              "      fill: #FFFFFF;\n",
              "    }\n",
              "  </style>\n",
              "\n",
              "    <script>\n",
              "      const buttonEl =\n",
              "        document.querySelector('#df-4d2ec5cb-8c92-4c15-8750-6d5109211217 button.colab-df-convert');\n",
              "      buttonEl.style.display =\n",
              "        google.colab.kernel.accessAllowed ? 'block' : 'none';\n",
              "\n",
              "      async function convertToInteractive(key) {\n",
              "        const element = document.querySelector('#df-4d2ec5cb-8c92-4c15-8750-6d5109211217');\n",
              "        const dataTable =\n",
              "          await google.colab.kernel.invokeFunction('convertToInteractive',\n",
              "                                                    [key], {});\n",
              "        if (!dataTable) return;\n",
              "\n",
              "        const docLinkHtml = 'Like what you see? Visit the ' +\n",
              "          '<a target=\"_blank\" href=https://colab.research.google.com/notebooks/data_table.ipynb>data table notebook</a>'\n",
              "          + ' to learn more about interactive tables.';\n",
              "        element.innerHTML = '';\n",
              "        dataTable['output_type'] = 'display_data';\n",
              "        await google.colab.output.renderOutput(dataTable, element);\n",
              "        const docLink = document.createElement('div');\n",
              "        docLink.innerHTML = docLinkHtml;\n",
              "        element.appendChild(docLink);\n",
              "      }\n",
              "    </script>\n",
              "  </div>\n",
              "\n",
              "\n",
              "<div id=\"df-f1f841eb-d597-4493-b369-96712dedf744\">\n",
              "  <button class=\"colab-df-quickchart\" onclick=\"quickchart('df-f1f841eb-d597-4493-b369-96712dedf744')\"\n",
              "            title=\"Suggest charts\"\n",
              "            style=\"display:none;\">\n",
              "\n",
              "<svg xmlns=\"http://www.w3.org/2000/svg\" height=\"24px\"viewBox=\"0 0 24 24\"\n",
              "     width=\"24px\">\n",
              "    <g>\n",
              "        <path d=\"M19 3H5c-1.1 0-2 .9-2 2v14c0 1.1.9 2 2 2h14c1.1 0 2-.9 2-2V5c0-1.1-.9-2-2-2zM9 17H7v-7h2v7zm4 0h-2V7h2v10zm4 0h-2v-4h2v4z\"/>\n",
              "    </g>\n",
              "</svg>\n",
              "  </button>\n",
              "\n",
              "<style>\n",
              "  .colab-df-quickchart {\n",
              "      --bg-color: #E8F0FE;\n",
              "      --fill-color: #1967D2;\n",
              "      --hover-bg-color: #E2EBFA;\n",
              "      --hover-fill-color: #174EA6;\n",
              "      --disabled-fill-color: #AAA;\n",
              "      --disabled-bg-color: #DDD;\n",
              "  }\n",
              "\n",
              "  [theme=dark] .colab-df-quickchart {\n",
              "      --bg-color: #3B4455;\n",
              "      --fill-color: #D2E3FC;\n",
              "      --hover-bg-color: #434B5C;\n",
              "      --hover-fill-color: #FFFFFF;\n",
              "      --disabled-bg-color: #3B4455;\n",
              "      --disabled-fill-color: #666;\n",
              "  }\n",
              "\n",
              "  .colab-df-quickchart {\n",
              "    background-color: var(--bg-color);\n",
              "    border: none;\n",
              "    border-radius: 50%;\n",
              "    cursor: pointer;\n",
              "    display: none;\n",
              "    fill: var(--fill-color);\n",
              "    height: 32px;\n",
              "    padding: 0;\n",
              "    width: 32px;\n",
              "  }\n",
              "\n",
              "  .colab-df-quickchart:hover {\n",
              "    background-color: var(--hover-bg-color);\n",
              "    box-shadow: 0 1px 2px rgba(60, 64, 67, 0.3), 0 1px 3px 1px rgba(60, 64, 67, 0.15);\n",
              "    fill: var(--button-hover-fill-color);\n",
              "  }\n",
              "\n",
              "  .colab-df-quickchart-complete:disabled,\n",
              "  .colab-df-quickchart-complete:disabled:hover {\n",
              "    background-color: var(--disabled-bg-color);\n",
              "    fill: var(--disabled-fill-color);\n",
              "    box-shadow: none;\n",
              "  }\n",
              "\n",
              "  .colab-df-spinner {\n",
              "    border: 2px solid var(--fill-color);\n",
              "    border-color: transparent;\n",
              "    border-bottom-color: var(--fill-color);\n",
              "    animation:\n",
              "      spin 1s steps(1) infinite;\n",
              "  }\n",
              "\n",
              "  @keyframes spin {\n",
              "    0% {\n",
              "      border-color: transparent;\n",
              "      border-bottom-color: var(--fill-color);\n",
              "      border-left-color: var(--fill-color);\n",
              "    }\n",
              "    20% {\n",
              "      border-color: transparent;\n",
              "      border-left-color: var(--fill-color);\n",
              "      border-top-color: var(--fill-color);\n",
              "    }\n",
              "    30% {\n",
              "      border-color: transparent;\n",
              "      border-left-color: var(--fill-color);\n",
              "      border-top-color: var(--fill-color);\n",
              "      border-right-color: var(--fill-color);\n",
              "    }\n",
              "    40% {\n",
              "      border-color: transparent;\n",
              "      border-right-color: var(--fill-color);\n",
              "      border-top-color: var(--fill-color);\n",
              "    }\n",
              "    60% {\n",
              "      border-color: transparent;\n",
              "      border-right-color: var(--fill-color);\n",
              "    }\n",
              "    80% {\n",
              "      border-color: transparent;\n",
              "      border-right-color: var(--fill-color);\n",
              "      border-bottom-color: var(--fill-color);\n",
              "    }\n",
              "    90% {\n",
              "      border-color: transparent;\n",
              "      border-bottom-color: var(--fill-color);\n",
              "    }\n",
              "  }\n",
              "</style>\n",
              "\n",
              "  <script>\n",
              "    async function quickchart(key) {\n",
              "      const quickchartButtonEl =\n",
              "        document.querySelector('#' + key + ' button');\n",
              "      quickchartButtonEl.disabled = true;  // To prevent multiple clicks.\n",
              "      quickchartButtonEl.classList.add('colab-df-spinner');\n",
              "      try {\n",
              "        const charts = await google.colab.kernel.invokeFunction(\n",
              "            'suggestCharts', [key], {});\n",
              "      } catch (error) {\n",
              "        console.error('Error during call to suggestCharts:', error);\n",
              "      }\n",
              "      quickchartButtonEl.classList.remove('colab-df-spinner');\n",
              "      quickchartButtonEl.classList.add('colab-df-quickchart-complete');\n",
              "    }\n",
              "    (() => {\n",
              "      let quickchartButtonEl =\n",
              "        document.querySelector('#df-f1f841eb-d597-4493-b369-96712dedf744 button');\n",
              "      quickchartButtonEl.style.display =\n",
              "        google.colab.kernel.accessAllowed ? 'block' : 'none';\n",
              "    })();\n",
              "  </script>\n",
              "</div>\n",
              "\n",
              "    </div>\n",
              "  </div>\n"
            ]
          },
          "metadata": {},
          "execution_count": 3
        }
      ]
    },
    {
      "cell_type": "code",
      "source": [
        "# Colunas do DF\n",
        "df.columns"
      ],
      "metadata": {
        "colab": {
          "base_uri": "https://localhost:8080/"
        },
        "id": "CZM3mKWDvKDQ",
        "outputId": "e67249a2-9bcc-49ab-9f07-7c3685f24a26"
      },
      "execution_count": 4,
      "outputs": [
        {
          "output_type": "execute_result",
          "data": {
            "text/plain": [
              "Index(['id', 'name', 'host_id', 'host_name', 'neighbourhood_group',\n",
              "       'neighbourhood', 'latitude', 'longitude', 'room_type', 'price',\n",
              "       'minimum_nights', 'number_of_reviews', 'last_review',\n",
              "       'reviews_per_month', 'calculated_host_listings_count',\n",
              "       'availability_365', 'number_of_reviews_ltm', 'license'],\n",
              "      dtype='object')"
            ]
          },
          "metadata": {},
          "execution_count": 4
        }
      ]
    },
    {
      "cell_type": "code",
      "source": [
        "def extractScore(name):\n",
        "    for i in range(len(name)):\n",
        "        if name[i] == '★':\n",
        "            return name[i+1:i+5]\n",
        "    return 'No Score'"
      ],
      "metadata": {
        "id": "Xv2sk2LKKXtZ"
      },
      "execution_count": 5,
      "outputs": []
    },
    {
      "cell_type": "code",
      "source": [
        "df['score'] = 'NaN'\n",
        "\n",
        "for i in range(len(df)):\n",
        "    df.loc[i, 'score'] = extractScore(df['name'][i])"
      ],
      "metadata": {
        "id": "Y-G-fihEKZ17"
      },
      "execution_count": 6,
      "outputs": []
    },
    {
      "cell_type": "code",
      "source": [
        "df['score'].value_counts()"
      ],
      "metadata": {
        "colab": {
          "base_uri": "https://localhost:8080/"
        },
        "id": "nfMi7sD3KcnH",
        "outputId": "a282cdd8-323b-4cbe-9b41-dc67bff2b607"
      },
      "execution_count": 7,
      "outputs": [
        {
          "output_type": "execute_result",
          "data": {
            "text/plain": [
              "No Score    21356\n",
              "5.0          8556\n",
              "New          6475\n",
              "4.67         1853\n",
              "4.75         1481\n",
              "            ...  \n",
              "1.83            1\n",
              "1.40            1\n",
              "3.31            1\n",
              "3.99            1\n",
              "3.27            1\n",
              "Name: score, Length: 191, dtype: int64"
            ]
          },
          "metadata": {},
          "execution_count": 7
        }
      ]
    },
    {
      "cell_type": "markdown",
      "source": [
        "## **Análise inicial dos dados**\n",
        "\n",
        "Vamos começar nossa análise ao descrever as variáveis presentes no conjunto de dados para compreender o significado de cada coluna.\n",
        "\n"
      ],
      "metadata": {
        "id": "Kpqr0Q6ITBt3"
      }
    },
    {
      "cell_type": "markdown",
      "source": [
        "**Dicionário de Variavéis**\n",
        "\n",
        "- `id`: Identificador único para cada listagem no Airbnb, distinguindo cada propriedade individualmente.\n",
        "- `name`: Nome da propriedade anunciada.\n",
        "- `host_id`: Identificador único para o anfitrião (host) da propriedade.\n",
        "- `host_name`: Nome do anfitrião\n",
        "- `neighbourhood_group`: Subdivisão geográfica mais ampla, como um distrito ou bairro.\n",
        "- `neighbourhood`: Nome do bairro/ Distrito.\n",
        "- `latitude`: Coordenada de latitude da localização da propriedade.\n",
        "- `longitude`: Coordenada de longitude da localização da propriedade.\n",
        "- `room_type`: Tipo de quarto ou unidade anunciada (por exemplo, \"Casa inteira\", \"Quarto privado\", \"Compartilhado\").\n",
        "- `price`: Valor do aluguel da propriedade por noite.\n",
        "- `minimum_nights`: Número mínimo de noites que um hóspede deve reservar para esta propriedade.\n",
        "- `number_of_reviews`: Total de avaliações que a propriedade recebeu de hóspedes anteriores.\n",
        "- `last_review`: Data da última avaliação/revisão deixada por um hóspede.\n",
        "- `reviews_per_month`: Média de avaliações/revisões que a propriedade recebe por mês.\n",
        "- `calculated_host_listings_count`: Número total de propriedades que o host possui, calculado automaticamente.\n",
        "- `availability_365`: Número de dias em que a propriedade está disponível para reserva ao longo do ano.\n",
        "- `number_of_reviews_ltm`: Número de avaliações que a propriedade recebeu nos últimos doze meses.\n",
        "- `license`: Possível licença ou autorização associada à propriedade."
      ],
      "metadata": {
        "id": "DjDlq-FaSCWu"
      }
    },
    {
      "cell_type": "markdown",
      "source": [
        "## **Quantos atributos (variáveis) e entradas compõem nosso conjunto de dados? Quais são os tipos das variáveis presentes?**"
      ],
      "metadata": {
        "id": "OZ4TxH-bV1b9"
      }
    },
    {
      "cell_type": "code",
      "source": [
        "# Avaliando o conjunto de dados\n",
        "print(\"Entradas: \",df.shape[0])\n",
        "print(\"Variáveis: \",df.shape[1])"
      ],
      "metadata": {
        "colab": {
          "base_uri": "https://localhost:8080/"
        },
        "id": "s8jftjd3cNKk",
        "outputId": "ef00e616-68a2-4d46-9ec0-dba1cc8d63e5"
      },
      "execution_count": 8,
      "outputs": [
        {
          "output_type": "stream",
          "name": "stdout",
          "text": [
            "Entradas:  74329\n",
            "Variáveis:  19\n"
          ]
        }
      ]
    },
    {
      "cell_type": "code",
      "source": [
        "# Analisando o tipo das variáveis, e outras informações\n",
        "df.info()"
      ],
      "metadata": {
        "colab": {
          "base_uri": "https://localhost:8080/"
        },
        "id": "4aUgYaNy-JPO",
        "outputId": "bba6adaa-79f7-4662-ce82-aafdbd07f0da"
      },
      "execution_count": 9,
      "outputs": [
        {
          "output_type": "stream",
          "name": "stdout",
          "text": [
            "<class 'pandas.core.frame.DataFrame'>\n",
            "RangeIndex: 74329 entries, 0 to 74328\n",
            "Data columns (total 19 columns):\n",
            " #   Column                          Non-Null Count  Dtype  \n",
            "---  ------                          --------------  -----  \n",
            " 0   id                              74329 non-null  int64  \n",
            " 1   name                            74329 non-null  object \n",
            " 2   host_id                         74329 non-null  int64  \n",
            " 3   host_name                       74320 non-null  object \n",
            " 4   neighbourhood_group             0 non-null      float64\n",
            " 5   neighbourhood                   74329 non-null  object \n",
            " 6   latitude                        74329 non-null  float64\n",
            " 7   longitude                       74329 non-null  float64\n",
            " 8   room_type                       74329 non-null  object \n",
            " 9   price                           67108 non-null  float64\n",
            " 10  minimum_nights                  74329 non-null  int64  \n",
            " 11  number_of_reviews               74329 non-null  int64  \n",
            " 12  last_review                     56438 non-null  object \n",
            " 13  reviews_per_month               56438 non-null  float64\n",
            " 14  calculated_host_listings_count  74329 non-null  int64  \n",
            " 15  availability_365                74329 non-null  int64  \n",
            " 16  number_of_reviews_ltm           74329 non-null  int64  \n",
            " 17  license                         54687 non-null  object \n",
            " 18  score                           74329 non-null  object \n",
            "dtypes: float64(5), int64(7), object(7)\n",
            "memory usage: 10.8+ MB\n"
          ]
        }
      ]
    },
    {
      "cell_type": "markdown",
      "source": [
        "Notamos que nosso dataset tem **74.392** linhas e **18** variaveis dos tipos **int**, **string** e **float**."
      ],
      "metadata": {
        "id": "UHxlEcGecuL8"
      }
    },
    {
      "cell_type": "markdown",
      "source": [
        "## **Qual a porcentagem de valores ausentes no dataset?**\n",
        "\n",
        "Após análise, vemos que temos alguns valores ausentes nos nossos dados e temos que lidar com eles para garantir que nossas análises sejam robustas e confiáveis."
      ],
      "metadata": {
        "id": "FaZoRDZbZPPI"
      }
    },
    {
      "cell_type": "code",
      "source": [
        "# Valores Ausentes\n",
        "df.isnull().sum()"
      ],
      "metadata": {
        "colab": {
          "base_uri": "https://localhost:8080/"
        },
        "id": "iiQp6cak-Kqj",
        "outputId": "df6fc781-11f9-43ab-e203-ceba25324366"
      },
      "execution_count": 10,
      "outputs": [
        {
          "output_type": "execute_result",
          "data": {
            "text/plain": [
              "id                                    0\n",
              "name                                  0\n",
              "host_id                               0\n",
              "host_name                             9\n",
              "neighbourhood_group               74329\n",
              "neighbourhood                         0\n",
              "latitude                              0\n",
              "longitude                             0\n",
              "room_type                             0\n",
              "price                              7221\n",
              "minimum_nights                        0\n",
              "number_of_reviews                     0\n",
              "last_review                       17891\n",
              "reviews_per_month                 17891\n",
              "calculated_host_listings_count        0\n",
              "availability_365                      0\n",
              "number_of_reviews_ltm                 0\n",
              "license                           19642\n",
              "score                                 0\n",
              "dtype: int64"
            ]
          },
          "metadata": {},
          "execution_count": 10
        }
      ]
    },
    {
      "cell_type": "code",
      "source": [
        "# % do Dataset\n",
        "(round((df.isnull().sum()/df.shape[0]),4)*100).sort_values(ascending = False)\n"
      ],
      "metadata": {
        "colab": {
          "base_uri": "https://localhost:8080/"
        },
        "id": "6uxeZdavsUT9",
        "outputId": "ecb66123-74fc-4a93-b36c-dedd01aa27ac"
      },
      "execution_count": 11,
      "outputs": [
        {
          "output_type": "execute_result",
          "data": {
            "text/plain": [
              "neighbourhood_group               100.00\n",
              "license                            26.43\n",
              "reviews_per_month                  24.07\n",
              "last_review                        24.07\n",
              "price                               9.71\n",
              "host_name                           0.01\n",
              "number_of_reviews                   0.00\n",
              "number_of_reviews_ltm               0.00\n",
              "availability_365                    0.00\n",
              "calculated_host_listings_count      0.00\n",
              "id                                  0.00\n",
              "minimum_nights                      0.00\n",
              "name                                0.00\n",
              "room_type                           0.00\n",
              "longitude                           0.00\n",
              "latitude                            0.00\n",
              "neighbourhood                       0.00\n",
              "host_id                             0.00\n",
              "score                               0.00\n",
              "dtype: float64"
            ]
          },
          "metadata": {},
          "execution_count": 11
        }
      ]
    },
    {
      "cell_type": "markdown",
      "source": [
        "## **Limpeza e pré- processamento de dados**\n",
        "\n",
        "Vamos empregar estratégias como o preenchimento de dados ausentes, a eliminação de colunas irrelevantes e outras técnicas de imputação, conforme necessário. Essas ações visam assegurar que nossas análises subsequentes se fundamentem em dados abrangentes e representativos."
      ],
      "metadata": {
        "id": "yPRiJIWOqFF8"
      }
    },
    {
      "cell_type": "code",
      "source": [
        "# Verificando coincidência entre as colunas 'reviews_per_month' e 'last_review';\n",
        "df[df['reviews_per_month'].isnull() & df['last_review'].isnull()].shape"
      ],
      "metadata": {
        "id": "zJEYugDsATXk",
        "colab": {
          "base_uri": "https://localhost:8080/"
        },
        "outputId": "f60fabba-964d-4d3e-e25b-386b0f04e2ab"
      },
      "execution_count": 13,
      "outputs": [
        {
          "output_type": "execute_result",
          "data": {
            "text/plain": [
              "(17891, 19)"
            ]
          },
          "metadata": {},
          "execution_count": 13
        }
      ]
    },
    {
      "cell_type": "code",
      "source": [
        "# Excluindo coluna 'neighbourhood_group', 'license' e 'last_review';\n",
        "df.drop(columns=['neighbourhood_group', 'license', 'last_review'], inplace=True)"
      ],
      "metadata": {
        "id": "9LlP0eUUs038"
      },
      "execution_count": 14,
      "outputs": []
    },
    {
      "cell_type": "code",
      "source": [
        "# Armazenando em variável a lista com os bairros listados;\n",
        "bairros = df['neighbourhood'].unique()"
      ],
      "metadata": {
        "id": "Zzd2NG5MElZD"
      },
      "execution_count": 15,
      "outputs": []
    },
    {
      "cell_type": "code",
      "source": [
        "# Inserindo médias de preço nas observações nulas da coluna 'price' a partir da média por bairro;\n",
        "df_precoPorBairro = df.pivot_table(index='neighbourhood', values='price', aggfunc=['mean', 'std', 'median'])\n"
      ],
      "metadata": {
        "id": "8A0iX7JQL4A1"
      },
      "execution_count": 16,
      "outputs": []
    },
    {
      "cell_type": "code",
      "source": [
        "df_precoPorBairro.columns = df_precoPorBairro.columns.droplevel(0)"
      ],
      "metadata": {
        "id": "nH9Hdb20MCfs"
      },
      "execution_count": 17,
      "outputs": []
    },
    {
      "cell_type": "code",
      "source": [
        "df_precoPorBairro.columns = ['mean', 'std', 'median']\n",
        "df_precoPorBairro.head()"
      ],
      "metadata": {
        "colab": {
          "base_uri": "https://localhost:8080/",
          "height": 237
        },
        "id": "rI2aaj6rMHYK",
        "outputId": "60a2df08-a669-4ad0-d366-a1aaccdadb99"
      },
      "execution_count": 18,
      "outputs": [
        {
          "output_type": "execute_result",
          "data": {
            "text/plain": [
              "                           mean         std  median\n",
              "neighbourhood                                      \n",
              "Batignolles-Monceau  216.345088  509.224960   123.0\n",
              "Bourse               246.330947  502.864136   162.0\n",
              "Buttes-Chaumont      159.192258  621.667492    98.0\n",
              "Buttes-Montmartre    154.279611  255.309570   109.0\n",
              "Entrepôt             184.537228  318.696637   122.0"
            ],
            "text/html": [
              "\n",
              "  <div id=\"df-22376e7f-10db-46a4-9be6-63b614740c93\" class=\"colab-df-container\">\n",
              "    <div>\n",
              "<style scoped>\n",
              "    .dataframe tbody tr th:only-of-type {\n",
              "        vertical-align: middle;\n",
              "    }\n",
              "\n",
              "    .dataframe tbody tr th {\n",
              "        vertical-align: top;\n",
              "    }\n",
              "\n",
              "    .dataframe thead th {\n",
              "        text-align: right;\n",
              "    }\n",
              "</style>\n",
              "<table border=\"1\" class=\"dataframe\">\n",
              "  <thead>\n",
              "    <tr style=\"text-align: right;\">\n",
              "      <th></th>\n",
              "      <th>mean</th>\n",
              "      <th>std</th>\n",
              "      <th>median</th>\n",
              "    </tr>\n",
              "    <tr>\n",
              "      <th>neighbourhood</th>\n",
              "      <th></th>\n",
              "      <th></th>\n",
              "      <th></th>\n",
              "    </tr>\n",
              "  </thead>\n",
              "  <tbody>\n",
              "    <tr>\n",
              "      <th>Batignolles-Monceau</th>\n",
              "      <td>216.345088</td>\n",
              "      <td>509.224960</td>\n",
              "      <td>123.0</td>\n",
              "    </tr>\n",
              "    <tr>\n",
              "      <th>Bourse</th>\n",
              "      <td>246.330947</td>\n",
              "      <td>502.864136</td>\n",
              "      <td>162.0</td>\n",
              "    </tr>\n",
              "    <tr>\n",
              "      <th>Buttes-Chaumont</th>\n",
              "      <td>159.192258</td>\n",
              "      <td>621.667492</td>\n",
              "      <td>98.0</td>\n",
              "    </tr>\n",
              "    <tr>\n",
              "      <th>Buttes-Montmartre</th>\n",
              "      <td>154.279611</td>\n",
              "      <td>255.309570</td>\n",
              "      <td>109.0</td>\n",
              "    </tr>\n",
              "    <tr>\n",
              "      <th>Entrepôt</th>\n",
              "      <td>184.537228</td>\n",
              "      <td>318.696637</td>\n",
              "      <td>122.0</td>\n",
              "    </tr>\n",
              "  </tbody>\n",
              "</table>\n",
              "</div>\n",
              "    <div class=\"colab-df-buttons\">\n",
              "\n",
              "  <div class=\"colab-df-container\">\n",
              "    <button class=\"colab-df-convert\" onclick=\"convertToInteractive('df-22376e7f-10db-46a4-9be6-63b614740c93')\"\n",
              "            title=\"Convert this dataframe to an interactive table.\"\n",
              "            style=\"display:none;\">\n",
              "\n",
              "  <svg xmlns=\"http://www.w3.org/2000/svg\" height=\"24px\" viewBox=\"0 -960 960 960\">\n",
              "    <path d=\"M120-120v-720h720v720H120Zm60-500h600v-160H180v160Zm220 220h160v-160H400v160Zm0 220h160v-160H400v160ZM180-400h160v-160H180v160Zm440 0h160v-160H620v160ZM180-180h160v-160H180v160Zm440 0h160v-160H620v160Z\"/>\n",
              "  </svg>\n",
              "    </button>\n",
              "\n",
              "  <style>\n",
              "    .colab-df-container {\n",
              "      display:flex;\n",
              "      gap: 12px;\n",
              "    }\n",
              "\n",
              "    .colab-df-convert {\n",
              "      background-color: #E8F0FE;\n",
              "      border: none;\n",
              "      border-radius: 50%;\n",
              "      cursor: pointer;\n",
              "      display: none;\n",
              "      fill: #1967D2;\n",
              "      height: 32px;\n",
              "      padding: 0 0 0 0;\n",
              "      width: 32px;\n",
              "    }\n",
              "\n",
              "    .colab-df-convert:hover {\n",
              "      background-color: #E2EBFA;\n",
              "      box-shadow: 0px 1px 2px rgba(60, 64, 67, 0.3), 0px 1px 3px 1px rgba(60, 64, 67, 0.15);\n",
              "      fill: #174EA6;\n",
              "    }\n",
              "\n",
              "    .colab-df-buttons div {\n",
              "      margin-bottom: 4px;\n",
              "    }\n",
              "\n",
              "    [theme=dark] .colab-df-convert {\n",
              "      background-color: #3B4455;\n",
              "      fill: #D2E3FC;\n",
              "    }\n",
              "\n",
              "    [theme=dark] .colab-df-convert:hover {\n",
              "      background-color: #434B5C;\n",
              "      box-shadow: 0px 1px 3px 1px rgba(0, 0, 0, 0.15);\n",
              "      filter: drop-shadow(0px 1px 2px rgba(0, 0, 0, 0.3));\n",
              "      fill: #FFFFFF;\n",
              "    }\n",
              "  </style>\n",
              "\n",
              "    <script>\n",
              "      const buttonEl =\n",
              "        document.querySelector('#df-22376e7f-10db-46a4-9be6-63b614740c93 button.colab-df-convert');\n",
              "      buttonEl.style.display =\n",
              "        google.colab.kernel.accessAllowed ? 'block' : 'none';\n",
              "\n",
              "      async function convertToInteractive(key) {\n",
              "        const element = document.querySelector('#df-22376e7f-10db-46a4-9be6-63b614740c93');\n",
              "        const dataTable =\n",
              "          await google.colab.kernel.invokeFunction('convertToInteractive',\n",
              "                                                    [key], {});\n",
              "        if (!dataTable) return;\n",
              "\n",
              "        const docLinkHtml = 'Like what you see? Visit the ' +\n",
              "          '<a target=\"_blank\" href=https://colab.research.google.com/notebooks/data_table.ipynb>data table notebook</a>'\n",
              "          + ' to learn more about interactive tables.';\n",
              "        element.innerHTML = '';\n",
              "        dataTable['output_type'] = 'display_data';\n",
              "        await google.colab.output.renderOutput(dataTable, element);\n",
              "        const docLink = document.createElement('div');\n",
              "        docLink.innerHTML = docLinkHtml;\n",
              "        element.appendChild(docLink);\n",
              "      }\n",
              "    </script>\n",
              "  </div>\n",
              "\n",
              "\n",
              "<div id=\"df-e1c0a586-f3b9-48eb-beed-94485cffb57c\">\n",
              "  <button class=\"colab-df-quickchart\" onclick=\"quickchart('df-e1c0a586-f3b9-48eb-beed-94485cffb57c')\"\n",
              "            title=\"Suggest charts\"\n",
              "            style=\"display:none;\">\n",
              "\n",
              "<svg xmlns=\"http://www.w3.org/2000/svg\" height=\"24px\"viewBox=\"0 0 24 24\"\n",
              "     width=\"24px\">\n",
              "    <g>\n",
              "        <path d=\"M19 3H5c-1.1 0-2 .9-2 2v14c0 1.1.9 2 2 2h14c1.1 0 2-.9 2-2V5c0-1.1-.9-2-2-2zM9 17H7v-7h2v7zm4 0h-2V7h2v10zm4 0h-2v-4h2v4z\"/>\n",
              "    </g>\n",
              "</svg>\n",
              "  </button>\n",
              "\n",
              "<style>\n",
              "  .colab-df-quickchart {\n",
              "      --bg-color: #E8F0FE;\n",
              "      --fill-color: #1967D2;\n",
              "      --hover-bg-color: #E2EBFA;\n",
              "      --hover-fill-color: #174EA6;\n",
              "      --disabled-fill-color: #AAA;\n",
              "      --disabled-bg-color: #DDD;\n",
              "  }\n",
              "\n",
              "  [theme=dark] .colab-df-quickchart {\n",
              "      --bg-color: #3B4455;\n",
              "      --fill-color: #D2E3FC;\n",
              "      --hover-bg-color: #434B5C;\n",
              "      --hover-fill-color: #FFFFFF;\n",
              "      --disabled-bg-color: #3B4455;\n",
              "      --disabled-fill-color: #666;\n",
              "  }\n",
              "\n",
              "  .colab-df-quickchart {\n",
              "    background-color: var(--bg-color);\n",
              "    border: none;\n",
              "    border-radius: 50%;\n",
              "    cursor: pointer;\n",
              "    display: none;\n",
              "    fill: var(--fill-color);\n",
              "    height: 32px;\n",
              "    padding: 0;\n",
              "    width: 32px;\n",
              "  }\n",
              "\n",
              "  .colab-df-quickchart:hover {\n",
              "    background-color: var(--hover-bg-color);\n",
              "    box-shadow: 0 1px 2px rgba(60, 64, 67, 0.3), 0 1px 3px 1px rgba(60, 64, 67, 0.15);\n",
              "    fill: var(--button-hover-fill-color);\n",
              "  }\n",
              "\n",
              "  .colab-df-quickchart-complete:disabled,\n",
              "  .colab-df-quickchart-complete:disabled:hover {\n",
              "    background-color: var(--disabled-bg-color);\n",
              "    fill: var(--disabled-fill-color);\n",
              "    box-shadow: none;\n",
              "  }\n",
              "\n",
              "  .colab-df-spinner {\n",
              "    border: 2px solid var(--fill-color);\n",
              "    border-color: transparent;\n",
              "    border-bottom-color: var(--fill-color);\n",
              "    animation:\n",
              "      spin 1s steps(1) infinite;\n",
              "  }\n",
              "\n",
              "  @keyframes spin {\n",
              "    0% {\n",
              "      border-color: transparent;\n",
              "      border-bottom-color: var(--fill-color);\n",
              "      border-left-color: var(--fill-color);\n",
              "    }\n",
              "    20% {\n",
              "      border-color: transparent;\n",
              "      border-left-color: var(--fill-color);\n",
              "      border-top-color: var(--fill-color);\n",
              "    }\n",
              "    30% {\n",
              "      border-color: transparent;\n",
              "      border-left-color: var(--fill-color);\n",
              "      border-top-color: var(--fill-color);\n",
              "      border-right-color: var(--fill-color);\n",
              "    }\n",
              "    40% {\n",
              "      border-color: transparent;\n",
              "      border-right-color: var(--fill-color);\n",
              "      border-top-color: var(--fill-color);\n",
              "    }\n",
              "    60% {\n",
              "      border-color: transparent;\n",
              "      border-right-color: var(--fill-color);\n",
              "    }\n",
              "    80% {\n",
              "      border-color: transparent;\n",
              "      border-right-color: var(--fill-color);\n",
              "      border-bottom-color: var(--fill-color);\n",
              "    }\n",
              "    90% {\n",
              "      border-color: transparent;\n",
              "      border-bottom-color: var(--fill-color);\n",
              "    }\n",
              "  }\n",
              "</style>\n",
              "\n",
              "  <script>\n",
              "    async function quickchart(key) {\n",
              "      const quickchartButtonEl =\n",
              "        document.querySelector('#' + key + ' button');\n",
              "      quickchartButtonEl.disabled = true;  // To prevent multiple clicks.\n",
              "      quickchartButtonEl.classList.add('colab-df-spinner');\n",
              "      try {\n",
              "        const charts = await google.colab.kernel.invokeFunction(\n",
              "            'suggestCharts', [key], {});\n",
              "      } catch (error) {\n",
              "        console.error('Error during call to suggestCharts:', error);\n",
              "      }\n",
              "      quickchartButtonEl.classList.remove('colab-df-spinner');\n",
              "      quickchartButtonEl.classList.add('colab-df-quickchart-complete');\n",
              "    }\n",
              "    (() => {\n",
              "      let quickchartButtonEl =\n",
              "        document.querySelector('#df-e1c0a586-f3b9-48eb-beed-94485cffb57c button');\n",
              "      quickchartButtonEl.style.display =\n",
              "        google.colab.kernel.accessAllowed ? 'block' : 'none';\n",
              "    })();\n",
              "  </script>\n",
              "</div>\n",
              "\n",
              "    </div>\n",
              "  </div>\n"
            ]
          },
          "metadata": {},
          "execution_count": 18
        }
      ]
    },
    {
      "cell_type": "code",
      "source": [
        "# Preenchendo as células 'NaN' na coluna 'prices' por -1;\n",
        "df['price'].fillna(-1, inplace=True)"
      ],
      "metadata": {
        "id": "Fkn5ssrUHLvx"
      },
      "execution_count": 19,
      "outputs": []
    },
    {
      "cell_type": "code",
      "source": [
        "# Trocando os valores -1 em 'prices' com a média de preço for a média de preço do bairro referente;\n",
        "for bairro in bairros:\n",
        "    valor = df_precoPorBairro.loc[bairro, 'median']\n",
        "    df.loc[df['neighbourhood'] == bairro, 'price'] = df.loc[df['neighbourhood'] == bairro, 'price'].replace(-1, valor)\n",
        ""
      ],
      "metadata": {
        "id": "QzE0Cv4sMTEL"
      },
      "execution_count": 20,
      "outputs": []
    },
    {
      "cell_type": "code",
      "source": [
        "df_precoPorBairroAtt = df.pivot_table(index='neighbourhood', values='price', aggfunc='mean')"
      ],
      "metadata": {
        "id": "8avDxRygMYl0"
      },
      "execution_count": 21,
      "outputs": []
    },
    {
      "cell_type": "code",
      "source": [
        "df_precoPorBairroAtt['price_antigo'] = df_precoPorBairro['mean']\n",
        "df_precoPorBairroAtt['diff'] = df_precoPorBairroAtt['price'] - df_precoPorBairroAtt['price_antigo']\n",
        "\n",
        "df_precoPorBairroAtt"
      ],
      "metadata": {
        "colab": {
          "base_uri": "https://localhost:8080/",
          "height": 707
        },
        "id": "Vg-oZoPiMbMY",
        "outputId": "718f541e-5ee9-4d2f-b1bf-e59d6ecc3eb8"
      },
      "execution_count": 22,
      "outputs": [
        {
          "output_type": "execute_result",
          "data": {
            "text/plain": [
              "                          price  price_antigo       diff\n",
              "neighbourhood                                           \n",
              "Batignolles-Monceau  205.885585    216.345088 -10.459503\n",
              "Bourse               241.101896    246.330947  -5.229052\n",
              "Buttes-Chaumont      153.092937    159.192258  -6.099321\n",
              "Buttes-Montmartre    149.567898    154.279611  -4.711712\n",
              "Entrepôt             178.463340    184.537228  -6.073888\n",
              "Gobelins             173.851501    183.825903  -9.974402\n",
              "Hôtel-de-Ville       237.398902    242.708561  -5.309659\n",
              "Louvre               316.134002    325.465902  -9.331899\n",
              "Luxembourg           279.003786    287.169570  -8.165784\n",
              "Ménilmontant         131.124366    135.364544  -4.240178\n",
              "Observatoire         174.574476    182.371556  -7.797080\n",
              "Opéra                229.155305    237.104356  -7.949051\n",
              "Palais-Bourbon       316.017291    330.194888 -14.177597\n",
              "Panthéon             257.384615    269.114862 -11.730246\n",
              "Passy                363.547333    382.067933 -18.520599\n",
              "Popincourt           164.021520    169.566958  -5.545438\n",
              "Reuilly              174.787191    182.744036  -7.956846\n",
              "Temple               245.637411    252.831646  -7.194236\n",
              "Vaugirard            202.366359    211.879809  -9.513449\n",
              "Élysée               374.135708    386.641818 -12.506110"
            ],
            "text/html": [
              "\n",
              "  <div id=\"df-0f4a0c09-06c2-4c3b-83c6-619bd05bc036\" class=\"colab-df-container\">\n",
              "    <div>\n",
              "<style scoped>\n",
              "    .dataframe tbody tr th:only-of-type {\n",
              "        vertical-align: middle;\n",
              "    }\n",
              "\n",
              "    .dataframe tbody tr th {\n",
              "        vertical-align: top;\n",
              "    }\n",
              "\n",
              "    .dataframe thead th {\n",
              "        text-align: right;\n",
              "    }\n",
              "</style>\n",
              "<table border=\"1\" class=\"dataframe\">\n",
              "  <thead>\n",
              "    <tr style=\"text-align: right;\">\n",
              "      <th></th>\n",
              "      <th>price</th>\n",
              "      <th>price_antigo</th>\n",
              "      <th>diff</th>\n",
              "    </tr>\n",
              "    <tr>\n",
              "      <th>neighbourhood</th>\n",
              "      <th></th>\n",
              "      <th></th>\n",
              "      <th></th>\n",
              "    </tr>\n",
              "  </thead>\n",
              "  <tbody>\n",
              "    <tr>\n",
              "      <th>Batignolles-Monceau</th>\n",
              "      <td>205.885585</td>\n",
              "      <td>216.345088</td>\n",
              "      <td>-10.459503</td>\n",
              "    </tr>\n",
              "    <tr>\n",
              "      <th>Bourse</th>\n",
              "      <td>241.101896</td>\n",
              "      <td>246.330947</td>\n",
              "      <td>-5.229052</td>\n",
              "    </tr>\n",
              "    <tr>\n",
              "      <th>Buttes-Chaumont</th>\n",
              "      <td>153.092937</td>\n",
              "      <td>159.192258</td>\n",
              "      <td>-6.099321</td>\n",
              "    </tr>\n",
              "    <tr>\n",
              "      <th>Buttes-Montmartre</th>\n",
              "      <td>149.567898</td>\n",
              "      <td>154.279611</td>\n",
              "      <td>-4.711712</td>\n",
              "    </tr>\n",
              "    <tr>\n",
              "      <th>Entrepôt</th>\n",
              "      <td>178.463340</td>\n",
              "      <td>184.537228</td>\n",
              "      <td>-6.073888</td>\n",
              "    </tr>\n",
              "    <tr>\n",
              "      <th>Gobelins</th>\n",
              "      <td>173.851501</td>\n",
              "      <td>183.825903</td>\n",
              "      <td>-9.974402</td>\n",
              "    </tr>\n",
              "    <tr>\n",
              "      <th>Hôtel-de-Ville</th>\n",
              "      <td>237.398902</td>\n",
              "      <td>242.708561</td>\n",
              "      <td>-5.309659</td>\n",
              "    </tr>\n",
              "    <tr>\n",
              "      <th>Louvre</th>\n",
              "      <td>316.134002</td>\n",
              "      <td>325.465902</td>\n",
              "      <td>-9.331899</td>\n",
              "    </tr>\n",
              "    <tr>\n",
              "      <th>Luxembourg</th>\n",
              "      <td>279.003786</td>\n",
              "      <td>287.169570</td>\n",
              "      <td>-8.165784</td>\n",
              "    </tr>\n",
              "    <tr>\n",
              "      <th>Ménilmontant</th>\n",
              "      <td>131.124366</td>\n",
              "      <td>135.364544</td>\n",
              "      <td>-4.240178</td>\n",
              "    </tr>\n",
              "    <tr>\n",
              "      <th>Observatoire</th>\n",
              "      <td>174.574476</td>\n",
              "      <td>182.371556</td>\n",
              "      <td>-7.797080</td>\n",
              "    </tr>\n",
              "    <tr>\n",
              "      <th>Opéra</th>\n",
              "      <td>229.155305</td>\n",
              "      <td>237.104356</td>\n",
              "      <td>-7.949051</td>\n",
              "    </tr>\n",
              "    <tr>\n",
              "      <th>Palais-Bourbon</th>\n",
              "      <td>316.017291</td>\n",
              "      <td>330.194888</td>\n",
              "      <td>-14.177597</td>\n",
              "    </tr>\n",
              "    <tr>\n",
              "      <th>Panthéon</th>\n",
              "      <td>257.384615</td>\n",
              "      <td>269.114862</td>\n",
              "      <td>-11.730246</td>\n",
              "    </tr>\n",
              "    <tr>\n",
              "      <th>Passy</th>\n",
              "      <td>363.547333</td>\n",
              "      <td>382.067933</td>\n",
              "      <td>-18.520599</td>\n",
              "    </tr>\n",
              "    <tr>\n",
              "      <th>Popincourt</th>\n",
              "      <td>164.021520</td>\n",
              "      <td>169.566958</td>\n",
              "      <td>-5.545438</td>\n",
              "    </tr>\n",
              "    <tr>\n",
              "      <th>Reuilly</th>\n",
              "      <td>174.787191</td>\n",
              "      <td>182.744036</td>\n",
              "      <td>-7.956846</td>\n",
              "    </tr>\n",
              "    <tr>\n",
              "      <th>Temple</th>\n",
              "      <td>245.637411</td>\n",
              "      <td>252.831646</td>\n",
              "      <td>-7.194236</td>\n",
              "    </tr>\n",
              "    <tr>\n",
              "      <th>Vaugirard</th>\n",
              "      <td>202.366359</td>\n",
              "      <td>211.879809</td>\n",
              "      <td>-9.513449</td>\n",
              "    </tr>\n",
              "    <tr>\n",
              "      <th>Élysée</th>\n",
              "      <td>374.135708</td>\n",
              "      <td>386.641818</td>\n",
              "      <td>-12.506110</td>\n",
              "    </tr>\n",
              "  </tbody>\n",
              "</table>\n",
              "</div>\n",
              "    <div class=\"colab-df-buttons\">\n",
              "\n",
              "  <div class=\"colab-df-container\">\n",
              "    <button class=\"colab-df-convert\" onclick=\"convertToInteractive('df-0f4a0c09-06c2-4c3b-83c6-619bd05bc036')\"\n",
              "            title=\"Convert this dataframe to an interactive table.\"\n",
              "            style=\"display:none;\">\n",
              "\n",
              "  <svg xmlns=\"http://www.w3.org/2000/svg\" height=\"24px\" viewBox=\"0 -960 960 960\">\n",
              "    <path d=\"M120-120v-720h720v720H120Zm60-500h600v-160H180v160Zm220 220h160v-160H400v160Zm0 220h160v-160H400v160ZM180-400h160v-160H180v160Zm440 0h160v-160H620v160ZM180-180h160v-160H180v160Zm440 0h160v-160H620v160Z\"/>\n",
              "  </svg>\n",
              "    </button>\n",
              "\n",
              "  <style>\n",
              "    .colab-df-container {\n",
              "      display:flex;\n",
              "      gap: 12px;\n",
              "    }\n",
              "\n",
              "    .colab-df-convert {\n",
              "      background-color: #E8F0FE;\n",
              "      border: none;\n",
              "      border-radius: 50%;\n",
              "      cursor: pointer;\n",
              "      display: none;\n",
              "      fill: #1967D2;\n",
              "      height: 32px;\n",
              "      padding: 0 0 0 0;\n",
              "      width: 32px;\n",
              "    }\n",
              "\n",
              "    .colab-df-convert:hover {\n",
              "      background-color: #E2EBFA;\n",
              "      box-shadow: 0px 1px 2px rgba(60, 64, 67, 0.3), 0px 1px 3px 1px rgba(60, 64, 67, 0.15);\n",
              "      fill: #174EA6;\n",
              "    }\n",
              "\n",
              "    .colab-df-buttons div {\n",
              "      margin-bottom: 4px;\n",
              "    }\n",
              "\n",
              "    [theme=dark] .colab-df-convert {\n",
              "      background-color: #3B4455;\n",
              "      fill: #D2E3FC;\n",
              "    }\n",
              "\n",
              "    [theme=dark] .colab-df-convert:hover {\n",
              "      background-color: #434B5C;\n",
              "      box-shadow: 0px 1px 3px 1px rgba(0, 0, 0, 0.15);\n",
              "      filter: drop-shadow(0px 1px 2px rgba(0, 0, 0, 0.3));\n",
              "      fill: #FFFFFF;\n",
              "    }\n",
              "  </style>\n",
              "\n",
              "    <script>\n",
              "      const buttonEl =\n",
              "        document.querySelector('#df-0f4a0c09-06c2-4c3b-83c6-619bd05bc036 button.colab-df-convert');\n",
              "      buttonEl.style.display =\n",
              "        google.colab.kernel.accessAllowed ? 'block' : 'none';\n",
              "\n",
              "      async function convertToInteractive(key) {\n",
              "        const element = document.querySelector('#df-0f4a0c09-06c2-4c3b-83c6-619bd05bc036');\n",
              "        const dataTable =\n",
              "          await google.colab.kernel.invokeFunction('convertToInteractive',\n",
              "                                                    [key], {});\n",
              "        if (!dataTable) return;\n",
              "\n",
              "        const docLinkHtml = 'Like what you see? Visit the ' +\n",
              "          '<a target=\"_blank\" href=https://colab.research.google.com/notebooks/data_table.ipynb>data table notebook</a>'\n",
              "          + ' to learn more about interactive tables.';\n",
              "        element.innerHTML = '';\n",
              "        dataTable['output_type'] = 'display_data';\n",
              "        await google.colab.output.renderOutput(dataTable, element);\n",
              "        const docLink = document.createElement('div');\n",
              "        docLink.innerHTML = docLinkHtml;\n",
              "        element.appendChild(docLink);\n",
              "      }\n",
              "    </script>\n",
              "  </div>\n",
              "\n",
              "\n",
              "<div id=\"df-97985c61-df2d-411a-88c1-2edb6c937416\">\n",
              "  <button class=\"colab-df-quickchart\" onclick=\"quickchart('df-97985c61-df2d-411a-88c1-2edb6c937416')\"\n",
              "            title=\"Suggest charts\"\n",
              "            style=\"display:none;\">\n",
              "\n",
              "<svg xmlns=\"http://www.w3.org/2000/svg\" height=\"24px\"viewBox=\"0 0 24 24\"\n",
              "     width=\"24px\">\n",
              "    <g>\n",
              "        <path d=\"M19 3H5c-1.1 0-2 .9-2 2v14c0 1.1.9 2 2 2h14c1.1 0 2-.9 2-2V5c0-1.1-.9-2-2-2zM9 17H7v-7h2v7zm4 0h-2V7h2v10zm4 0h-2v-4h2v4z\"/>\n",
              "    </g>\n",
              "</svg>\n",
              "  </button>\n",
              "\n",
              "<style>\n",
              "  .colab-df-quickchart {\n",
              "      --bg-color: #E8F0FE;\n",
              "      --fill-color: #1967D2;\n",
              "      --hover-bg-color: #E2EBFA;\n",
              "      --hover-fill-color: #174EA6;\n",
              "      --disabled-fill-color: #AAA;\n",
              "      --disabled-bg-color: #DDD;\n",
              "  }\n",
              "\n",
              "  [theme=dark] .colab-df-quickchart {\n",
              "      --bg-color: #3B4455;\n",
              "      --fill-color: #D2E3FC;\n",
              "      --hover-bg-color: #434B5C;\n",
              "      --hover-fill-color: #FFFFFF;\n",
              "      --disabled-bg-color: #3B4455;\n",
              "      --disabled-fill-color: #666;\n",
              "  }\n",
              "\n",
              "  .colab-df-quickchart {\n",
              "    background-color: var(--bg-color);\n",
              "    border: none;\n",
              "    border-radius: 50%;\n",
              "    cursor: pointer;\n",
              "    display: none;\n",
              "    fill: var(--fill-color);\n",
              "    height: 32px;\n",
              "    padding: 0;\n",
              "    width: 32px;\n",
              "  }\n",
              "\n",
              "  .colab-df-quickchart:hover {\n",
              "    background-color: var(--hover-bg-color);\n",
              "    box-shadow: 0 1px 2px rgba(60, 64, 67, 0.3), 0 1px 3px 1px rgba(60, 64, 67, 0.15);\n",
              "    fill: var(--button-hover-fill-color);\n",
              "  }\n",
              "\n",
              "  .colab-df-quickchart-complete:disabled,\n",
              "  .colab-df-quickchart-complete:disabled:hover {\n",
              "    background-color: var(--disabled-bg-color);\n",
              "    fill: var(--disabled-fill-color);\n",
              "    box-shadow: none;\n",
              "  }\n",
              "\n",
              "  .colab-df-spinner {\n",
              "    border: 2px solid var(--fill-color);\n",
              "    border-color: transparent;\n",
              "    border-bottom-color: var(--fill-color);\n",
              "    animation:\n",
              "      spin 1s steps(1) infinite;\n",
              "  }\n",
              "\n",
              "  @keyframes spin {\n",
              "    0% {\n",
              "      border-color: transparent;\n",
              "      border-bottom-color: var(--fill-color);\n",
              "      border-left-color: var(--fill-color);\n",
              "    }\n",
              "    20% {\n",
              "      border-color: transparent;\n",
              "      border-left-color: var(--fill-color);\n",
              "      border-top-color: var(--fill-color);\n",
              "    }\n",
              "    30% {\n",
              "      border-color: transparent;\n",
              "      border-left-color: var(--fill-color);\n",
              "      border-top-color: var(--fill-color);\n",
              "      border-right-color: var(--fill-color);\n",
              "    }\n",
              "    40% {\n",
              "      border-color: transparent;\n",
              "      border-right-color: var(--fill-color);\n",
              "      border-top-color: var(--fill-color);\n",
              "    }\n",
              "    60% {\n",
              "      border-color: transparent;\n",
              "      border-right-color: var(--fill-color);\n",
              "    }\n",
              "    80% {\n",
              "      border-color: transparent;\n",
              "      border-right-color: var(--fill-color);\n",
              "      border-bottom-color: var(--fill-color);\n",
              "    }\n",
              "    90% {\n",
              "      border-color: transparent;\n",
              "      border-bottom-color: var(--fill-color);\n",
              "    }\n",
              "  }\n",
              "</style>\n",
              "\n",
              "  <script>\n",
              "    async function quickchart(key) {\n",
              "      const quickchartButtonEl =\n",
              "        document.querySelector('#' + key + ' button');\n",
              "      quickchartButtonEl.disabled = true;  // To prevent multiple clicks.\n",
              "      quickchartButtonEl.classList.add('colab-df-spinner');\n",
              "      try {\n",
              "        const charts = await google.colab.kernel.invokeFunction(\n",
              "            'suggestCharts', [key], {});\n",
              "      } catch (error) {\n",
              "        console.error('Error during call to suggestCharts:', error);\n",
              "      }\n",
              "      quickchartButtonEl.classList.remove('colab-df-spinner');\n",
              "      quickchartButtonEl.classList.add('colab-df-quickchart-complete');\n",
              "    }\n",
              "    (() => {\n",
              "      let quickchartButtonEl =\n",
              "        document.querySelector('#df-97985c61-df2d-411a-88c1-2edb6c937416 button');\n",
              "      quickchartButtonEl.style.display =\n",
              "        google.colab.kernel.accessAllowed ? 'block' : 'none';\n",
              "    })();\n",
              "  </script>\n",
              "</div>\n",
              "\n",
              "  <div id=\"id_a709f864-e5bb-403d-98bc-13cbe0807d51\">\n",
              "    <style>\n",
              "      .colab-df-generate {\n",
              "        background-color: #E8F0FE;\n",
              "        border: none;\n",
              "        border-radius: 50%;\n",
              "        cursor: pointer;\n",
              "        display: none;\n",
              "        fill: #1967D2;\n",
              "        height: 32px;\n",
              "        padding: 0 0 0 0;\n",
              "        width: 32px;\n",
              "      }\n",
              "\n",
              "      .colab-df-generate:hover {\n",
              "        background-color: #E2EBFA;\n",
              "        box-shadow: 0px 1px 2px rgba(60, 64, 67, 0.3), 0px 1px 3px 1px rgba(60, 64, 67, 0.15);\n",
              "        fill: #174EA6;\n",
              "      }\n",
              "\n",
              "      [theme=dark] .colab-df-generate {\n",
              "        background-color: #3B4455;\n",
              "        fill: #D2E3FC;\n",
              "      }\n",
              "\n",
              "      [theme=dark] .colab-df-generate:hover {\n",
              "        background-color: #434B5C;\n",
              "        box-shadow: 0px 1px 3px 1px rgba(0, 0, 0, 0.15);\n",
              "        filter: drop-shadow(0px 1px 2px rgba(0, 0, 0, 0.3));\n",
              "        fill: #FFFFFF;\n",
              "      }\n",
              "    </style>\n",
              "    <button class=\"colab-df-generate\" onclick=\"generateWithVariable('df_precoPorBairroAtt')\"\n",
              "            title=\"Generate code using this dataframe.\"\n",
              "            style=\"display:none;\">\n",
              "\n",
              "  <svg xmlns=\"http://www.w3.org/2000/svg\" height=\"24px\"viewBox=\"0 0 24 24\"\n",
              "       width=\"24px\">\n",
              "    <path d=\"M7,19H8.4L18.45,9,17,7.55,7,17.6ZM5,21V16.75L18.45,3.32a2,2,0,0,1,2.83,0l1.4,1.43a1.91,1.91,0,0,1,.58,1.4,1.91,1.91,0,0,1-.58,1.4L9.25,21ZM18.45,9,17,7.55Zm-12,3A5.31,5.31,0,0,0,4.9,8.1,5.31,5.31,0,0,0,1,6.5,5.31,5.31,0,0,0,4.9,4.9,5.31,5.31,0,0,0,6.5,1,5.31,5.31,0,0,0,8.1,4.9,5.31,5.31,0,0,0,12,6.5,5.46,5.46,0,0,0,6.5,12Z\"/>\n",
              "  </svg>\n",
              "    </button>\n",
              "    <script>\n",
              "      (() => {\n",
              "      const buttonEl =\n",
              "        document.querySelector('#id_a709f864-e5bb-403d-98bc-13cbe0807d51 button.colab-df-generate');\n",
              "      buttonEl.style.display =\n",
              "        google.colab.kernel.accessAllowed ? 'block' : 'none';\n",
              "\n",
              "      buttonEl.onclick = () => {\n",
              "        google.colab.notebook.generateWithVariable('df_precoPorBairroAtt');\n",
              "      }\n",
              "      })();\n",
              "    </script>\n",
              "  </div>\n",
              "\n",
              "    </div>\n",
              "  </div>\n"
            ]
          },
          "metadata": {},
          "execution_count": 22
        }
      ]
    },
    {
      "cell_type": "code",
      "source": [
        "# Preenchendo células nulas da coluna 'host_name' com 'Unnamed' (Sem Nome);\n",
        "df['host_name'].fillna('Unnamed', inplace=True)"
      ],
      "metadata": {
        "id": "aW_rr4rbMf81"
      },
      "execution_count": 23,
      "outputs": []
    },
    {
      "cell_type": "code",
      "source": [
        "df.loc[df['reviews_per_month'].isnull(), 'number_of_reviews_ltm'].value_counts()"
      ],
      "metadata": {
        "colab": {
          "base_uri": "https://localhost:8080/"
        },
        "id": "fFmtjdXkMiTR",
        "outputId": "0ac58408-c0c9-4b5b-a6ac-80ee3c9ee704"
      },
      "execution_count": 24,
      "outputs": [
        {
          "output_type": "execute_result",
          "data": {
            "text/plain": [
              "0    17891\n",
              "Name: number_of_reviews_ltm, dtype: int64"
            ]
          },
          "metadata": {},
          "execution_count": 24
        }
      ]
    },
    {
      "cell_type": "code",
      "source": [
        "# Preenchendo dados faltantes da coluna 'reviews_per_month' com 0 (baseado na coluna 'number_of_reviews_ltm);\n",
        "df['reviews_per_month'].fillna(0, inplace=True)"
      ],
      "metadata": {
        "id": "Svxddd1NMnHB"
      },
      "execution_count": 25,
      "outputs": []
    },
    {
      "cell_type": "code",
      "source": [
        "df.isnull().sum()"
      ],
      "metadata": {
        "colab": {
          "base_uri": "https://localhost:8080/"
        },
        "id": "-GuZxbtJMp7V",
        "outputId": "4be4d128-8016-462a-8288-4d88b0a42897"
      },
      "execution_count": 26,
      "outputs": [
        {
          "output_type": "execute_result",
          "data": {
            "text/plain": [
              "id                                0\n",
              "name                              0\n",
              "host_id                           0\n",
              "host_name                         0\n",
              "neighbourhood                     0\n",
              "latitude                          0\n",
              "longitude                         0\n",
              "room_type                         0\n",
              "price                             0\n",
              "minimum_nights                    0\n",
              "number_of_reviews                 0\n",
              "reviews_per_month                 0\n",
              "calculated_host_listings_count    0\n",
              "availability_365                  0\n",
              "number_of_reviews_ltm             0\n",
              "score                             0\n",
              "dtype: int64"
            ]
          },
          "metadata": {},
          "execution_count": 26
        }
      ]
    },
    {
      "cell_type": "code",
      "source": [
        "# Criando coluna de 'Ativo' para determinar se a listagem ainda está ativa (1) ou não (0);\n",
        "# Inferência foi feita a partir das colunas 'availability_365' e 'number_of_reviews_ltm'.\n",
        "\n",
        "df['ativo'] = df['availability_365'] + df['number_of_reviews_ltm']\n",
        "df['ativo'] = df['ativo'].apply(lambda x:0 if x == 0 else 1)"
      ],
      "metadata": {
        "id": "9lMEB0zSMtnM"
      },
      "execution_count": 27,
      "outputs": []
    },
    {
      "cell_type": "code",
      "source": [
        "df['ativo'].value_counts(normalize=True)"
      ],
      "metadata": {
        "colab": {
          "base_uri": "https://localhost:8080/"
        },
        "id": "NMdkB3z1Mv6b",
        "outputId": "811907ca-7b33-4af8-acab-4b5d528c1f5c"
      },
      "execution_count": 28,
      "outputs": [
        {
          "output_type": "execute_result",
          "data": {
            "text/plain": [
              "1    0.761143\n",
              "0    0.238857\n",
              "Name: ativo, dtype: float64"
            ]
          },
          "metadata": {},
          "execution_count": 28
        }
      ]
    },
    {
      "cell_type": "code",
      "source": [
        "df_emAtividade = df[df['ativo'] == 1]\n",
        "df_emAtividade.head(n=3)"
      ],
      "metadata": {
        "colab": {
          "base_uri": "https://localhost:8080/",
          "height": 424
        },
        "id": "titDYubbMyqk",
        "outputId": "aeeed47d-bb67-4768-b1df-dd2ee0f53f63"
      },
      "execution_count": 29,
      "outputs": [
        {
          "output_type": "execute_result",
          "data": {
            "text/plain": [
              "     id                                               name  host_id host_name  \\\n",
              "0  3109  Rental unit in Paris · ★5.0 · 1 bedroom · 1 be...     3631      Anne   \n",
              "1  5396  Rental unit in Paris · ★4.59 · Studio · 1 bed ...     7903    Borzou   \n",
              "2  7397  Rental unit in Paris · ★4.73 · 2 bedrooms · 2 ...     2626    Franck   \n",
              "\n",
              "    neighbourhood  latitude  longitude        room_type  price  \\\n",
              "0    Observatoire  48.83191    2.31870  Entire home/apt  150.0   \n",
              "1  Hôtel-de-Ville  48.85247    2.35835  Entire home/apt  146.0   \n",
              "2  Hôtel-de-Ville  48.85909    2.35315  Entire home/apt  140.0   \n",
              "\n",
              "   minimum_nights  number_of_reviews  reviews_per_month  \\\n",
              "0               2                  4               0.05   \n",
              "1               1                374               2.12   \n",
              "2              10                343               2.22   \n",
              "\n",
              "   calculated_host_listings_count  availability_365  number_of_reviews_ltm  \\\n",
              "0                               1               327                      0   \n",
              "1                               2                 0                     48   \n",
              "2                               7               198                     22   \n",
              "\n",
              "  score  ativo  \n",
              "0  5.0       1  \n",
              "1  4.59      1  \n",
              "2  4.73      1  "
            ],
            "text/html": [
              "\n",
              "  <div id=\"df-de59707c-09ef-4c01-9856-7c11d5eee601\" class=\"colab-df-container\">\n",
              "    <div>\n",
              "<style scoped>\n",
              "    .dataframe tbody tr th:only-of-type {\n",
              "        vertical-align: middle;\n",
              "    }\n",
              "\n",
              "    .dataframe tbody tr th {\n",
              "        vertical-align: top;\n",
              "    }\n",
              "\n",
              "    .dataframe thead th {\n",
              "        text-align: right;\n",
              "    }\n",
              "</style>\n",
              "<table border=\"1\" class=\"dataframe\">\n",
              "  <thead>\n",
              "    <tr style=\"text-align: right;\">\n",
              "      <th></th>\n",
              "      <th>id</th>\n",
              "      <th>name</th>\n",
              "      <th>host_id</th>\n",
              "      <th>host_name</th>\n",
              "      <th>neighbourhood</th>\n",
              "      <th>latitude</th>\n",
              "      <th>longitude</th>\n",
              "      <th>room_type</th>\n",
              "      <th>price</th>\n",
              "      <th>minimum_nights</th>\n",
              "      <th>number_of_reviews</th>\n",
              "      <th>reviews_per_month</th>\n",
              "      <th>calculated_host_listings_count</th>\n",
              "      <th>availability_365</th>\n",
              "      <th>number_of_reviews_ltm</th>\n",
              "      <th>score</th>\n",
              "      <th>ativo</th>\n",
              "    </tr>\n",
              "  </thead>\n",
              "  <tbody>\n",
              "    <tr>\n",
              "      <th>0</th>\n",
              "      <td>3109</td>\n",
              "      <td>Rental unit in Paris · ★5.0 · 1 bedroom · 1 be...</td>\n",
              "      <td>3631</td>\n",
              "      <td>Anne</td>\n",
              "      <td>Observatoire</td>\n",
              "      <td>48.83191</td>\n",
              "      <td>2.31870</td>\n",
              "      <td>Entire home/apt</td>\n",
              "      <td>150.0</td>\n",
              "      <td>2</td>\n",
              "      <td>4</td>\n",
              "      <td>0.05</td>\n",
              "      <td>1</td>\n",
              "      <td>327</td>\n",
              "      <td>0</td>\n",
              "      <td>5.0</td>\n",
              "      <td>1</td>\n",
              "    </tr>\n",
              "    <tr>\n",
              "      <th>1</th>\n",
              "      <td>5396</td>\n",
              "      <td>Rental unit in Paris · ★4.59 · Studio · 1 bed ...</td>\n",
              "      <td>7903</td>\n",
              "      <td>Borzou</td>\n",
              "      <td>Hôtel-de-Ville</td>\n",
              "      <td>48.85247</td>\n",
              "      <td>2.35835</td>\n",
              "      <td>Entire home/apt</td>\n",
              "      <td>146.0</td>\n",
              "      <td>1</td>\n",
              "      <td>374</td>\n",
              "      <td>2.12</td>\n",
              "      <td>2</td>\n",
              "      <td>0</td>\n",
              "      <td>48</td>\n",
              "      <td>4.59</td>\n",
              "      <td>1</td>\n",
              "    </tr>\n",
              "    <tr>\n",
              "      <th>2</th>\n",
              "      <td>7397</td>\n",
              "      <td>Rental unit in Paris · ★4.73 · 2 bedrooms · 2 ...</td>\n",
              "      <td>2626</td>\n",
              "      <td>Franck</td>\n",
              "      <td>Hôtel-de-Ville</td>\n",
              "      <td>48.85909</td>\n",
              "      <td>2.35315</td>\n",
              "      <td>Entire home/apt</td>\n",
              "      <td>140.0</td>\n",
              "      <td>10</td>\n",
              "      <td>343</td>\n",
              "      <td>2.22</td>\n",
              "      <td>7</td>\n",
              "      <td>198</td>\n",
              "      <td>22</td>\n",
              "      <td>4.73</td>\n",
              "      <td>1</td>\n",
              "    </tr>\n",
              "  </tbody>\n",
              "</table>\n",
              "</div>\n",
              "    <div class=\"colab-df-buttons\">\n",
              "\n",
              "  <div class=\"colab-df-container\">\n",
              "    <button class=\"colab-df-convert\" onclick=\"convertToInteractive('df-de59707c-09ef-4c01-9856-7c11d5eee601')\"\n",
              "            title=\"Convert this dataframe to an interactive table.\"\n",
              "            style=\"display:none;\">\n",
              "\n",
              "  <svg xmlns=\"http://www.w3.org/2000/svg\" height=\"24px\" viewBox=\"0 -960 960 960\">\n",
              "    <path d=\"M120-120v-720h720v720H120Zm60-500h600v-160H180v160Zm220 220h160v-160H400v160Zm0 220h160v-160H400v160ZM180-400h160v-160H180v160Zm440 0h160v-160H620v160ZM180-180h160v-160H180v160Zm440 0h160v-160H620v160Z\"/>\n",
              "  </svg>\n",
              "    </button>\n",
              "\n",
              "  <style>\n",
              "    .colab-df-container {\n",
              "      display:flex;\n",
              "      gap: 12px;\n",
              "    }\n",
              "\n",
              "    .colab-df-convert {\n",
              "      background-color: #E8F0FE;\n",
              "      border: none;\n",
              "      border-radius: 50%;\n",
              "      cursor: pointer;\n",
              "      display: none;\n",
              "      fill: #1967D2;\n",
              "      height: 32px;\n",
              "      padding: 0 0 0 0;\n",
              "      width: 32px;\n",
              "    }\n",
              "\n",
              "    .colab-df-convert:hover {\n",
              "      background-color: #E2EBFA;\n",
              "      box-shadow: 0px 1px 2px rgba(60, 64, 67, 0.3), 0px 1px 3px 1px rgba(60, 64, 67, 0.15);\n",
              "      fill: #174EA6;\n",
              "    }\n",
              "\n",
              "    .colab-df-buttons div {\n",
              "      margin-bottom: 4px;\n",
              "    }\n",
              "\n",
              "    [theme=dark] .colab-df-convert {\n",
              "      background-color: #3B4455;\n",
              "      fill: #D2E3FC;\n",
              "    }\n",
              "\n",
              "    [theme=dark] .colab-df-convert:hover {\n",
              "      background-color: #434B5C;\n",
              "      box-shadow: 0px 1px 3px 1px rgba(0, 0, 0, 0.15);\n",
              "      filter: drop-shadow(0px 1px 2px rgba(0, 0, 0, 0.3));\n",
              "      fill: #FFFFFF;\n",
              "    }\n",
              "  </style>\n",
              "\n",
              "    <script>\n",
              "      const buttonEl =\n",
              "        document.querySelector('#df-de59707c-09ef-4c01-9856-7c11d5eee601 button.colab-df-convert');\n",
              "      buttonEl.style.display =\n",
              "        google.colab.kernel.accessAllowed ? 'block' : 'none';\n",
              "\n",
              "      async function convertToInteractive(key) {\n",
              "        const element = document.querySelector('#df-de59707c-09ef-4c01-9856-7c11d5eee601');\n",
              "        const dataTable =\n",
              "          await google.colab.kernel.invokeFunction('convertToInteractive',\n",
              "                                                    [key], {});\n",
              "        if (!dataTable) return;\n",
              "\n",
              "        const docLinkHtml = 'Like what you see? Visit the ' +\n",
              "          '<a target=\"_blank\" href=https://colab.research.google.com/notebooks/data_table.ipynb>data table notebook</a>'\n",
              "          + ' to learn more about interactive tables.';\n",
              "        element.innerHTML = '';\n",
              "        dataTable['output_type'] = 'display_data';\n",
              "        await google.colab.output.renderOutput(dataTable, element);\n",
              "        const docLink = document.createElement('div');\n",
              "        docLink.innerHTML = docLinkHtml;\n",
              "        element.appendChild(docLink);\n",
              "      }\n",
              "    </script>\n",
              "  </div>\n",
              "\n",
              "\n",
              "<div id=\"df-d6480438-d8a5-48a8-8298-c29d36d3c0f9\">\n",
              "  <button class=\"colab-df-quickchart\" onclick=\"quickchart('df-d6480438-d8a5-48a8-8298-c29d36d3c0f9')\"\n",
              "            title=\"Suggest charts\"\n",
              "            style=\"display:none;\">\n",
              "\n",
              "<svg xmlns=\"http://www.w3.org/2000/svg\" height=\"24px\"viewBox=\"0 0 24 24\"\n",
              "     width=\"24px\">\n",
              "    <g>\n",
              "        <path d=\"M19 3H5c-1.1 0-2 .9-2 2v14c0 1.1.9 2 2 2h14c1.1 0 2-.9 2-2V5c0-1.1-.9-2-2-2zM9 17H7v-7h2v7zm4 0h-2V7h2v10zm4 0h-2v-4h2v4z\"/>\n",
              "    </g>\n",
              "</svg>\n",
              "  </button>\n",
              "\n",
              "<style>\n",
              "  .colab-df-quickchart {\n",
              "      --bg-color: #E8F0FE;\n",
              "      --fill-color: #1967D2;\n",
              "      --hover-bg-color: #E2EBFA;\n",
              "      --hover-fill-color: #174EA6;\n",
              "      --disabled-fill-color: #AAA;\n",
              "      --disabled-bg-color: #DDD;\n",
              "  }\n",
              "\n",
              "  [theme=dark] .colab-df-quickchart {\n",
              "      --bg-color: #3B4455;\n",
              "      --fill-color: #D2E3FC;\n",
              "      --hover-bg-color: #434B5C;\n",
              "      --hover-fill-color: #FFFFFF;\n",
              "      --disabled-bg-color: #3B4455;\n",
              "      --disabled-fill-color: #666;\n",
              "  }\n",
              "\n",
              "  .colab-df-quickchart {\n",
              "    background-color: var(--bg-color);\n",
              "    border: none;\n",
              "    border-radius: 50%;\n",
              "    cursor: pointer;\n",
              "    display: none;\n",
              "    fill: var(--fill-color);\n",
              "    height: 32px;\n",
              "    padding: 0;\n",
              "    width: 32px;\n",
              "  }\n",
              "\n",
              "  .colab-df-quickchart:hover {\n",
              "    background-color: var(--hover-bg-color);\n",
              "    box-shadow: 0 1px 2px rgba(60, 64, 67, 0.3), 0 1px 3px 1px rgba(60, 64, 67, 0.15);\n",
              "    fill: var(--button-hover-fill-color);\n",
              "  }\n",
              "\n",
              "  .colab-df-quickchart-complete:disabled,\n",
              "  .colab-df-quickchart-complete:disabled:hover {\n",
              "    background-color: var(--disabled-bg-color);\n",
              "    fill: var(--disabled-fill-color);\n",
              "    box-shadow: none;\n",
              "  }\n",
              "\n",
              "  .colab-df-spinner {\n",
              "    border: 2px solid var(--fill-color);\n",
              "    border-color: transparent;\n",
              "    border-bottom-color: var(--fill-color);\n",
              "    animation:\n",
              "      spin 1s steps(1) infinite;\n",
              "  }\n",
              "\n",
              "  @keyframes spin {\n",
              "    0% {\n",
              "      border-color: transparent;\n",
              "      border-bottom-color: var(--fill-color);\n",
              "      border-left-color: var(--fill-color);\n",
              "    }\n",
              "    20% {\n",
              "      border-color: transparent;\n",
              "      border-left-color: var(--fill-color);\n",
              "      border-top-color: var(--fill-color);\n",
              "    }\n",
              "    30% {\n",
              "      border-color: transparent;\n",
              "      border-left-color: var(--fill-color);\n",
              "      border-top-color: var(--fill-color);\n",
              "      border-right-color: var(--fill-color);\n",
              "    }\n",
              "    40% {\n",
              "      border-color: transparent;\n",
              "      border-right-color: var(--fill-color);\n",
              "      border-top-color: var(--fill-color);\n",
              "    }\n",
              "    60% {\n",
              "      border-color: transparent;\n",
              "      border-right-color: var(--fill-color);\n",
              "    }\n",
              "    80% {\n",
              "      border-color: transparent;\n",
              "      border-right-color: var(--fill-color);\n",
              "      border-bottom-color: var(--fill-color);\n",
              "    }\n",
              "    90% {\n",
              "      border-color: transparent;\n",
              "      border-bottom-color: var(--fill-color);\n",
              "    }\n",
              "  }\n",
              "</style>\n",
              "\n",
              "  <script>\n",
              "    async function quickchart(key) {\n",
              "      const quickchartButtonEl =\n",
              "        document.querySelector('#' + key + ' button');\n",
              "      quickchartButtonEl.disabled = true;  // To prevent multiple clicks.\n",
              "      quickchartButtonEl.classList.add('colab-df-spinner');\n",
              "      try {\n",
              "        const charts = await google.colab.kernel.invokeFunction(\n",
              "            'suggestCharts', [key], {});\n",
              "      } catch (error) {\n",
              "        console.error('Error during call to suggestCharts:', error);\n",
              "      }\n",
              "      quickchartButtonEl.classList.remove('colab-df-spinner');\n",
              "      quickchartButtonEl.classList.add('colab-df-quickchart-complete');\n",
              "    }\n",
              "    (() => {\n",
              "      let quickchartButtonEl =\n",
              "        document.querySelector('#df-d6480438-d8a5-48a8-8298-c29d36d3c0f9 button');\n",
              "      quickchartButtonEl.style.display =\n",
              "        google.colab.kernel.accessAllowed ? 'block' : 'none';\n",
              "    })();\n",
              "  </script>\n",
              "</div>\n",
              "\n",
              "    </div>\n",
              "  </div>\n"
            ]
          },
          "metadata": {},
          "execution_count": 29
        }
      ]
    },
    {
      "cell_type": "code",
      "source": [
        "# Médias de preço pernoite por bairro das listagens em ativo;\n",
        "\n",
        "df_emAtividade.pivot_table(index='neighbourhood', values='price', aggfunc='mean').sort_values(by='price', ascending=False)"
      ],
      "metadata": {
        "colab": {
          "base_uri": "https://localhost:8080/",
          "height": 707
        },
        "id": "Hf7p42ByM-Ms",
        "outputId": "6aac4406-bc86-453f-8eac-6c8d1ab00fba"
      },
      "execution_count": 30,
      "outputs": [
        {
          "output_type": "execute_result",
          "data": {
            "text/plain": [
              "                          price\n",
              "neighbourhood                  \n",
              "Élysée               404.432350\n",
              "Passy                401.672409\n",
              "Palais-Bourbon       349.703593\n",
              "Louvre               323.646024\n",
              "Luxembourg           297.745212\n",
              "Panthéon             292.209775\n",
              "Temple               269.340977\n",
              "Bourse               258.130134\n",
              "Hôtel-de-Ville       253.881878\n",
              "Batignolles-Monceau  235.735987\n",
              "Opéra                233.631317\n",
              "Vaugirard            233.392472\n",
              "Gobelins             205.683382\n",
              "Entrepôt             199.442464\n",
              "Observatoire         199.359684\n",
              "Reuilly              198.374883\n",
              "Popincourt           184.683358\n",
              "Buttes-Chaumont      170.643991\n",
              "Buttes-Montmartre    168.100896\n",
              "Ménilmontant         149.506325"
            ],
            "text/html": [
              "\n",
              "  <div id=\"df-52f7373a-16d1-438c-bc25-ef912179955b\" class=\"colab-df-container\">\n",
              "    <div>\n",
              "<style scoped>\n",
              "    .dataframe tbody tr th:only-of-type {\n",
              "        vertical-align: middle;\n",
              "    }\n",
              "\n",
              "    .dataframe tbody tr th {\n",
              "        vertical-align: top;\n",
              "    }\n",
              "\n",
              "    .dataframe thead th {\n",
              "        text-align: right;\n",
              "    }\n",
              "</style>\n",
              "<table border=\"1\" class=\"dataframe\">\n",
              "  <thead>\n",
              "    <tr style=\"text-align: right;\">\n",
              "      <th></th>\n",
              "      <th>price</th>\n",
              "    </tr>\n",
              "    <tr>\n",
              "      <th>neighbourhood</th>\n",
              "      <th></th>\n",
              "    </tr>\n",
              "  </thead>\n",
              "  <tbody>\n",
              "    <tr>\n",
              "      <th>Élysée</th>\n",
              "      <td>404.432350</td>\n",
              "    </tr>\n",
              "    <tr>\n",
              "      <th>Passy</th>\n",
              "      <td>401.672409</td>\n",
              "    </tr>\n",
              "    <tr>\n",
              "      <th>Palais-Bourbon</th>\n",
              "      <td>349.703593</td>\n",
              "    </tr>\n",
              "    <tr>\n",
              "      <th>Louvre</th>\n",
              "      <td>323.646024</td>\n",
              "    </tr>\n",
              "    <tr>\n",
              "      <th>Luxembourg</th>\n",
              "      <td>297.745212</td>\n",
              "    </tr>\n",
              "    <tr>\n",
              "      <th>Panthéon</th>\n",
              "      <td>292.209775</td>\n",
              "    </tr>\n",
              "    <tr>\n",
              "      <th>Temple</th>\n",
              "      <td>269.340977</td>\n",
              "    </tr>\n",
              "    <tr>\n",
              "      <th>Bourse</th>\n",
              "      <td>258.130134</td>\n",
              "    </tr>\n",
              "    <tr>\n",
              "      <th>Hôtel-de-Ville</th>\n",
              "      <td>253.881878</td>\n",
              "    </tr>\n",
              "    <tr>\n",
              "      <th>Batignolles-Monceau</th>\n",
              "      <td>235.735987</td>\n",
              "    </tr>\n",
              "    <tr>\n",
              "      <th>Opéra</th>\n",
              "      <td>233.631317</td>\n",
              "    </tr>\n",
              "    <tr>\n",
              "      <th>Vaugirard</th>\n",
              "      <td>233.392472</td>\n",
              "    </tr>\n",
              "    <tr>\n",
              "      <th>Gobelins</th>\n",
              "      <td>205.683382</td>\n",
              "    </tr>\n",
              "    <tr>\n",
              "      <th>Entrepôt</th>\n",
              "      <td>199.442464</td>\n",
              "    </tr>\n",
              "    <tr>\n",
              "      <th>Observatoire</th>\n",
              "      <td>199.359684</td>\n",
              "    </tr>\n",
              "    <tr>\n",
              "      <th>Reuilly</th>\n",
              "      <td>198.374883</td>\n",
              "    </tr>\n",
              "    <tr>\n",
              "      <th>Popincourt</th>\n",
              "      <td>184.683358</td>\n",
              "    </tr>\n",
              "    <tr>\n",
              "      <th>Buttes-Chaumont</th>\n",
              "      <td>170.643991</td>\n",
              "    </tr>\n",
              "    <tr>\n",
              "      <th>Buttes-Montmartre</th>\n",
              "      <td>168.100896</td>\n",
              "    </tr>\n",
              "    <tr>\n",
              "      <th>Ménilmontant</th>\n",
              "      <td>149.506325</td>\n",
              "    </tr>\n",
              "  </tbody>\n",
              "</table>\n",
              "</div>\n",
              "    <div class=\"colab-df-buttons\">\n",
              "\n",
              "  <div class=\"colab-df-container\">\n",
              "    <button class=\"colab-df-convert\" onclick=\"convertToInteractive('df-52f7373a-16d1-438c-bc25-ef912179955b')\"\n",
              "            title=\"Convert this dataframe to an interactive table.\"\n",
              "            style=\"display:none;\">\n",
              "\n",
              "  <svg xmlns=\"http://www.w3.org/2000/svg\" height=\"24px\" viewBox=\"0 -960 960 960\">\n",
              "    <path d=\"M120-120v-720h720v720H120Zm60-500h600v-160H180v160Zm220 220h160v-160H400v160Zm0 220h160v-160H400v160ZM180-400h160v-160H180v160Zm440 0h160v-160H620v160ZM180-180h160v-160H180v160Zm440 0h160v-160H620v160Z\"/>\n",
              "  </svg>\n",
              "    </button>\n",
              "\n",
              "  <style>\n",
              "    .colab-df-container {\n",
              "      display:flex;\n",
              "      gap: 12px;\n",
              "    }\n",
              "\n",
              "    .colab-df-convert {\n",
              "      background-color: #E8F0FE;\n",
              "      border: none;\n",
              "      border-radius: 50%;\n",
              "      cursor: pointer;\n",
              "      display: none;\n",
              "      fill: #1967D2;\n",
              "      height: 32px;\n",
              "      padding: 0 0 0 0;\n",
              "      width: 32px;\n",
              "    }\n",
              "\n",
              "    .colab-df-convert:hover {\n",
              "      background-color: #E2EBFA;\n",
              "      box-shadow: 0px 1px 2px rgba(60, 64, 67, 0.3), 0px 1px 3px 1px rgba(60, 64, 67, 0.15);\n",
              "      fill: #174EA6;\n",
              "    }\n",
              "\n",
              "    .colab-df-buttons div {\n",
              "      margin-bottom: 4px;\n",
              "    }\n",
              "\n",
              "    [theme=dark] .colab-df-convert {\n",
              "      background-color: #3B4455;\n",
              "      fill: #D2E3FC;\n",
              "    }\n",
              "\n",
              "    [theme=dark] .colab-df-convert:hover {\n",
              "      background-color: #434B5C;\n",
              "      box-shadow: 0px 1px 3px 1px rgba(0, 0, 0, 0.15);\n",
              "      filter: drop-shadow(0px 1px 2px rgba(0, 0, 0, 0.3));\n",
              "      fill: #FFFFFF;\n",
              "    }\n",
              "  </style>\n",
              "\n",
              "    <script>\n",
              "      const buttonEl =\n",
              "        document.querySelector('#df-52f7373a-16d1-438c-bc25-ef912179955b button.colab-df-convert');\n",
              "      buttonEl.style.display =\n",
              "        google.colab.kernel.accessAllowed ? 'block' : 'none';\n",
              "\n",
              "      async function convertToInteractive(key) {\n",
              "        const element = document.querySelector('#df-52f7373a-16d1-438c-bc25-ef912179955b');\n",
              "        const dataTable =\n",
              "          await google.colab.kernel.invokeFunction('convertToInteractive',\n",
              "                                                    [key], {});\n",
              "        if (!dataTable) return;\n",
              "\n",
              "        const docLinkHtml = 'Like what you see? Visit the ' +\n",
              "          '<a target=\"_blank\" href=https://colab.research.google.com/notebooks/data_table.ipynb>data table notebook</a>'\n",
              "          + ' to learn more about interactive tables.';\n",
              "        element.innerHTML = '';\n",
              "        dataTable['output_type'] = 'display_data';\n",
              "        await google.colab.output.renderOutput(dataTable, element);\n",
              "        const docLink = document.createElement('div');\n",
              "        docLink.innerHTML = docLinkHtml;\n",
              "        element.appendChild(docLink);\n",
              "      }\n",
              "    </script>\n",
              "  </div>\n",
              "\n",
              "\n",
              "<div id=\"df-101d0f66-72ad-42f2-a8bd-566a77f58418\">\n",
              "  <button class=\"colab-df-quickchart\" onclick=\"quickchart('df-101d0f66-72ad-42f2-a8bd-566a77f58418')\"\n",
              "            title=\"Suggest charts\"\n",
              "            style=\"display:none;\">\n",
              "\n",
              "<svg xmlns=\"http://www.w3.org/2000/svg\" height=\"24px\"viewBox=\"0 0 24 24\"\n",
              "     width=\"24px\">\n",
              "    <g>\n",
              "        <path d=\"M19 3H5c-1.1 0-2 .9-2 2v14c0 1.1.9 2 2 2h14c1.1 0 2-.9 2-2V5c0-1.1-.9-2-2-2zM9 17H7v-7h2v7zm4 0h-2V7h2v10zm4 0h-2v-4h2v4z\"/>\n",
              "    </g>\n",
              "</svg>\n",
              "  </button>\n",
              "\n",
              "<style>\n",
              "  .colab-df-quickchart {\n",
              "      --bg-color: #E8F0FE;\n",
              "      --fill-color: #1967D2;\n",
              "      --hover-bg-color: #E2EBFA;\n",
              "      --hover-fill-color: #174EA6;\n",
              "      --disabled-fill-color: #AAA;\n",
              "      --disabled-bg-color: #DDD;\n",
              "  }\n",
              "\n",
              "  [theme=dark] .colab-df-quickchart {\n",
              "      --bg-color: #3B4455;\n",
              "      --fill-color: #D2E3FC;\n",
              "      --hover-bg-color: #434B5C;\n",
              "      --hover-fill-color: #FFFFFF;\n",
              "      --disabled-bg-color: #3B4455;\n",
              "      --disabled-fill-color: #666;\n",
              "  }\n",
              "\n",
              "  .colab-df-quickchart {\n",
              "    background-color: var(--bg-color);\n",
              "    border: none;\n",
              "    border-radius: 50%;\n",
              "    cursor: pointer;\n",
              "    display: none;\n",
              "    fill: var(--fill-color);\n",
              "    height: 32px;\n",
              "    padding: 0;\n",
              "    width: 32px;\n",
              "  }\n",
              "\n",
              "  .colab-df-quickchart:hover {\n",
              "    background-color: var(--hover-bg-color);\n",
              "    box-shadow: 0 1px 2px rgba(60, 64, 67, 0.3), 0 1px 3px 1px rgba(60, 64, 67, 0.15);\n",
              "    fill: var(--button-hover-fill-color);\n",
              "  }\n",
              "\n",
              "  .colab-df-quickchart-complete:disabled,\n",
              "  .colab-df-quickchart-complete:disabled:hover {\n",
              "    background-color: var(--disabled-bg-color);\n",
              "    fill: var(--disabled-fill-color);\n",
              "    box-shadow: none;\n",
              "  }\n",
              "\n",
              "  .colab-df-spinner {\n",
              "    border: 2px solid var(--fill-color);\n",
              "    border-color: transparent;\n",
              "    border-bottom-color: var(--fill-color);\n",
              "    animation:\n",
              "      spin 1s steps(1) infinite;\n",
              "  }\n",
              "\n",
              "  @keyframes spin {\n",
              "    0% {\n",
              "      border-color: transparent;\n",
              "      border-bottom-color: var(--fill-color);\n",
              "      border-left-color: var(--fill-color);\n",
              "    }\n",
              "    20% {\n",
              "      border-color: transparent;\n",
              "      border-left-color: var(--fill-color);\n",
              "      border-top-color: var(--fill-color);\n",
              "    }\n",
              "    30% {\n",
              "      border-color: transparent;\n",
              "      border-left-color: var(--fill-color);\n",
              "      border-top-color: var(--fill-color);\n",
              "      border-right-color: var(--fill-color);\n",
              "    }\n",
              "    40% {\n",
              "      border-color: transparent;\n",
              "      border-right-color: var(--fill-color);\n",
              "      border-top-color: var(--fill-color);\n",
              "    }\n",
              "    60% {\n",
              "      border-color: transparent;\n",
              "      border-right-color: var(--fill-color);\n",
              "    }\n",
              "    80% {\n",
              "      border-color: transparent;\n",
              "      border-right-color: var(--fill-color);\n",
              "      border-bottom-color: var(--fill-color);\n",
              "    }\n",
              "    90% {\n",
              "      border-color: transparent;\n",
              "      border-bottom-color: var(--fill-color);\n",
              "    }\n",
              "  }\n",
              "</style>\n",
              "\n",
              "  <script>\n",
              "    async function quickchart(key) {\n",
              "      const quickchartButtonEl =\n",
              "        document.querySelector('#' + key + ' button');\n",
              "      quickchartButtonEl.disabled = true;  // To prevent multiple clicks.\n",
              "      quickchartButtonEl.classList.add('colab-df-spinner');\n",
              "      try {\n",
              "        const charts = await google.colab.kernel.invokeFunction(\n",
              "            'suggestCharts', [key], {});\n",
              "      } catch (error) {\n",
              "        console.error('Error during call to suggestCharts:', error);\n",
              "      }\n",
              "      quickchartButtonEl.classList.remove('colab-df-spinner');\n",
              "      quickchartButtonEl.classList.add('colab-df-quickchart-complete');\n",
              "    }\n",
              "    (() => {\n",
              "      let quickchartButtonEl =\n",
              "        document.querySelector('#df-101d0f66-72ad-42f2-a8bd-566a77f58418 button');\n",
              "      quickchartButtonEl.style.display =\n",
              "        google.colab.kernel.accessAllowed ? 'block' : 'none';\n",
              "    })();\n",
              "  </script>\n",
              "</div>\n",
              "\n",
              "    </div>\n",
              "  </div>\n"
            ]
          },
          "metadata": {},
          "execution_count": 30
        }
      ]
    },
    {
      "cell_type": "code",
      "source": [
        "# Quantidade de listagens ativas por bairro;\n",
        "df_emAtividade.groupby(by='neighbourhood').count().id.sort_values(ascending=False)"
      ],
      "metadata": {
        "colab": {
          "base_uri": "https://localhost:8080/"
        },
        "id": "bf1tW84sNCnF",
        "outputId": "4232a519-0b19-4fe6-e403-a0aedfb06d96"
      },
      "execution_count": 31,
      "outputs": [
        {
          "output_type": "execute_result",
          "data": {
            "text/plain": [
              "neighbourhood\n",
              "Buttes-Montmartre      6026\n",
              "Popincourt             4813\n",
              "Vaugirard              4171\n",
              "Entrepôt               3928\n",
              "Batignolles-Monceau    3818\n",
              "Passy                  3715\n",
              "Buttes-Chaumont        3087\n",
              "Ménilmontant           2925\n",
              "Opéra                  2810\n",
              "Temple                 2660\n",
              "Bourse                 2167\n",
              "Reuilly                2134\n",
              "Observatoire           2024\n",
              "Hôtel-de-Ville         1981\n",
              "Élysée                 1966\n",
              "Panthéon               1821\n",
              "Luxembourg             1723\n",
              "Gobelins               1715\n",
              "Palais-Bourbon         1670\n",
              "Louvre                 1421\n",
              "Name: id, dtype: int64"
            ]
          },
          "metadata": {},
          "execution_count": 31
        }
      ]
    },
    {
      "cell_type": "code",
      "source": [
        "df_emAtividade.groupby(by='neighbourhood').count().id.plot(kind='bar', xlabel='bairros',\n",
        "                                                           ylabel='quantidade', figsize=(8, 4))"
      ],
      "metadata": {
        "colab": {
          "base_uri": "https://localhost:8080/",
          "height": 537
        },
        "id": "oK5aJCKHNFXL",
        "outputId": "8a629b22-ca44-4045-8d0b-1e7a2ce13bb5"
      },
      "execution_count": 32,
      "outputs": [
        {
          "output_type": "execute_result",
          "data": {
            "text/plain": [
              "<Axes: xlabel='bairros', ylabel='quantidade'>"
            ]
          },
          "metadata": {},
          "execution_count": 32
        },
        {
          "output_type": "display_data",
          "data": {
            "text/plain": [
              "<Figure size 800x400 with 1 Axes>"
            ],
            "image/png": "[encoded data removed]"
          },
          "metadata": {}
        }
      ]
    },
    {
      "cell_type": "markdown",
      "source": [
        "# **Análise descritiva**\n",
        "\n",
        "Vamos realizar uma análise estatística para aprofundar nosso entendimento sobre os dados e extrair insights relevantes."
      ],
      "metadata": {
        "id": "rRsWp8x0qfbO"
      }
    },
    {
      "cell_type": "markdown",
      "source": [
        "##  **Qual o tipo de distribuição das variáveis?**"
      ],
      "metadata": {
        "id": "kFzp4qPIiK65"
      }
    },
    {
      "cell_type": "code",
      "source": [
        "# histograma das variáveis numéricas\n",
        "df.hist(bins=15, figsize=(15,10));"
      ],
      "metadata": {
        "colab": {
          "base_uri": "https://localhost:8080/",
          "height": 569
        },
        "id": "P9qIaz8piLD4",
        "outputId": "2be55480-3354-4d4d-9221-60a5cb4f2881"
      },
      "execution_count": 33,
      "outputs": [
        {
          "output_type": "display_data",
          "data": {
            "text/plain": [
              "<Figure size 1500x1000 with 12 Axes>"
            ],
            "image/png": "[encoded data removed]"
          },
          "metadata": {}
        }
      ]
    },
    {
      "cell_type": "markdown",
      "source": [
        "Ao analisar as distribuições, é evidente que a maioria delas apresenta uma assimetria para a direita, indicando potenciais valores discrepantes nas variáveis `price`, `minimum_nights` e `calculated_host_listings_count`."
      ],
      "metadata": {
        "id": "iMYLMpmRik9a"
      }
    },
    {
      "cell_type": "markdown",
      "source": [
        "## **Há outleirs?**\n"
      ],
      "metadata": {
        "id": "L7EQpIFXhn1D"
      }
    },
    {
      "cell_type": "code",
      "source": [
        "df[['price', 'minimum_nights', 'number_of_reviews', 'reviews_per_month',\n",
        "    'calculated_host_listings_count', 'availability_365']].describe()"
      ],
      "metadata": {
        "colab": {
          "base_uri": "https://localhost:8080/",
          "height": 320
        },
        "id": "z4UKE0FYh0CZ",
        "outputId": "1753c58e-5af0-4ba0-95a7-58fb6ccea61c"
      },
      "execution_count": 34,
      "outputs": [
        {
          "output_type": "execute_result",
          "data": {
            "text/plain": [
              "              price  minimum_nights  number_of_reviews  reviews_per_month  \\\n",
              "count  74329.000000    74329.000000       74329.000000       74329.000000   \n",
              "mean     212.273608       57.052254          23.159897           0.855704   \n",
              "std      629.825831      125.497763          54.741564           1.342201   \n",
              "min        8.000000        1.000000           0.000000           0.000000   \n",
              "25%       90.000000        2.000000           1.000000           0.010000   \n",
              "50%      125.000000        3.000000           6.000000           0.330000   \n",
              "75%      199.000000        8.000000          22.000000           1.140000   \n",
              "max    84420.000000     1000.000000        2636.000000          45.850000   \n",
              "\n",
              "       calculated_host_listings_count  availability_365  \n",
              "count                    74329.000000      74329.000000  \n",
              "mean                        20.321342        105.546032  \n",
              "std                         75.370713        125.189183  \n",
              "min                          1.000000          0.000000  \n",
              "25%                          1.000000          0.000000  \n",
              "50%                          1.000000         45.000000  \n",
              "75%                          2.000000        192.000000  \n",
              "max                        628.000000        365.000000  "
            ],
            "text/html": [
              "\n",
              "  <div id=\"df-2bb9e2b1-8eae-4892-b509-d4c3b3505b7e\" class=\"colab-df-container\">\n",
              "    <div>\n",
              "<style scoped>\n",
              "    .dataframe tbody tr th:only-of-type {\n",
              "        vertical-align: middle;\n",
              "    }\n",
              "\n",
              "    .dataframe tbody tr th {\n",
              "        vertical-align: top;\n",
              "    }\n",
              "\n",
              "    .dataframe thead th {\n",
              "        text-align: right;\n",
              "    }\n",
              "</style>\n",
              "<table border=\"1\" class=\"dataframe\">\n",
              "  <thead>\n",
              "    <tr style=\"text-align: right;\">\n",
              "      <th></th>\n",
              "      <th>price</th>\n",
              "      <th>minimum_nights</th>\n",
              "      <th>number_of_reviews</th>\n",
              "      <th>reviews_per_month</th>\n",
              "      <th>calculated_host_listings_count</th>\n",
              "      <th>availability_365</th>\n",
              "    </tr>\n",
              "  </thead>\n",
              "  <tbody>\n",
              "    <tr>\n",
              "      <th>count</th>\n",
              "      <td>74329.000000</td>\n",
              "      <td>74329.000000</td>\n",
              "      <td>74329.000000</td>\n",
              "      <td>74329.000000</td>\n",
              "      <td>74329.000000</td>\n",
              "      <td>74329.000000</td>\n",
              "    </tr>\n",
              "    <tr>\n",
              "      <th>mean</th>\n",
              "      <td>212.273608</td>\n",
              "      <td>57.052254</td>\n",
              "      <td>23.159897</td>\n",
              "      <td>0.855704</td>\n",
              "      <td>20.321342</td>\n",
              "      <td>105.546032</td>\n",
              "    </tr>\n",
              "    <tr>\n",
              "      <th>std</th>\n",
              "      <td>629.825831</td>\n",
              "      <td>125.497763</td>\n",
              "      <td>54.741564</td>\n",
              "      <td>1.342201</td>\n",
              "      <td>75.370713</td>\n",
              "      <td>125.189183</td>\n",
              "    </tr>\n",
              "    <tr>\n",
              "      <th>min</th>\n",
              "      <td>8.000000</td>\n",
              "      <td>1.000000</td>\n",
              "      <td>0.000000</td>\n",
              "      <td>0.000000</td>\n",
              "      <td>1.000000</td>\n",
              "      <td>0.000000</td>\n",
              "    </tr>\n",
              "    <tr>\n",
              "      <th>25%</th>\n",
              "      <td>90.000000</td>\n",
              "      <td>2.000000</td>\n",
              "      <td>1.000000</td>\n",
              "      <td>0.010000</td>\n",
              "      <td>1.000000</td>\n",
              "      <td>0.000000</td>\n",
              "    </tr>\n",
              "    <tr>\n",
              "      <th>50%</th>\n",
              "      <td>125.000000</td>\n",
              "      <td>3.000000</td>\n",
              "      <td>6.000000</td>\n",
              "      <td>0.330000</td>\n",
              "      <td>1.000000</td>\n",
              "      <td>45.000000</td>\n",
              "    </tr>\n",
              "    <tr>\n",
              "      <th>75%</th>\n",
              "      <td>199.000000</td>\n",
              "      <td>8.000000</td>\n",
              "      <td>22.000000</td>\n",
              "      <td>1.140000</td>\n",
              "      <td>2.000000</td>\n",
              "      <td>192.000000</td>\n",
              "    </tr>\n",
              "    <tr>\n",
              "      <th>max</th>\n",
              "      <td>84420.000000</td>\n",
              "      <td>1000.000000</td>\n",
              "      <td>2636.000000</td>\n",
              "      <td>45.850000</td>\n",
              "      <td>628.000000</td>\n",
              "      <td>365.000000</td>\n",
              "    </tr>\n",
              "  </tbody>\n",
              "</table>\n",
              "</div>\n",
              "    <div class=\"colab-df-buttons\">\n",
              "\n",
              "  <div class=\"colab-df-container\">\n",
              "    <button class=\"colab-df-convert\" onclick=\"convertToInteractive('df-2bb9e2b1-8eae-4892-b509-d4c3b3505b7e')\"\n",
              "            title=\"Convert this dataframe to an interactive table.\"\n",
              "            style=\"display:none;\">\n",
              "\n",
              "  <svg xmlns=\"http://www.w3.org/2000/svg\" height=\"24px\" viewBox=\"0 -960 960 960\">\n",
              "    <path d=\"M120-120v-720h720v720H120Zm60-500h600v-160H180v160Zm220 220h160v-160H400v160Zm0 220h160v-160H400v160ZM180-400h160v-160H180v160Zm440 0h160v-160H620v160ZM180-180h160v-160H180v160Zm440 0h160v-160H620v160Z\"/>\n",
              "  </svg>\n",
              "    </button>\n",
              "\n",
              "  <style>\n",
              "    .colab-df-container {\n",
              "      display:flex;\n",
              "      gap: 12px;\n",
              "    }\n",
              "\n",
              "    .colab-df-convert {\n",
              "      background-color: #E8F0FE;\n",
              "      border: none;\n",
              "      border-radius: 50%;\n",
              "      cursor: pointer;\n",
              "      display: none;\n",
              "      fill: #1967D2;\n",
              "      height: 32px;\n",
              "      padding: 0 0 0 0;\n",
              "      width: 32px;\n",
              "    }\n",
              "\n",
              "    .colab-df-convert:hover {\n",
              "      background-color: #E2EBFA;\n",
              "      box-shadow: 0px 1px 2px rgba(60, 64, 67, 0.3), 0px 1px 3px 1px rgba(60, 64, 67, 0.15);\n",
              "      fill: #174EA6;\n",
              "    }\n",
              "\n",
              "    .colab-df-buttons div {\n",
              "      margin-bottom: 4px;\n",
              "    }\n",
              "\n",
              "    [theme=dark] .colab-df-convert {\n",
              "      background-color: #3B4455;\n",
              "      fill: #D2E3FC;\n",
              "    }\n",
              "\n",
              "    [theme=dark] .colab-df-convert:hover {\n",
              "      background-color: #434B5C;\n",
              "      box-shadow: 0px 1px 3px 1px rgba(0, 0, 0, 0.15);\n",
              "      filter: drop-shadow(0px 1px 2px rgba(0, 0, 0, 0.3));\n",
              "      fill: #FFFFFF;\n",
              "    }\n",
              "  </style>\n",
              "\n",
              "    <script>\n",
              "      const buttonEl =\n",
              "        document.querySelector('#df-2bb9e2b1-8eae-4892-b509-d4c3b3505b7e button.colab-df-convert');\n",
              "      buttonEl.style.display =\n",
              "        google.colab.kernel.accessAllowed ? 'block' : 'none';\n",
              "\n",
              "      async function convertToInteractive(key) {\n",
              "        const element = document.querySelector('#df-2bb9e2b1-8eae-4892-b509-d4c3b3505b7e');\n",
              "        const dataTable =\n",
              "          await google.colab.kernel.invokeFunction('convertToInteractive',\n",
              "                                                    [key], {});\n",
              "        if (!dataTable) return;\n",
              "\n",
              "        const docLinkHtml = 'Like what you see? Visit the ' +\n",
              "          '<a target=\"_blank\" href=https://colab.research.google.com/notebooks/data_table.ipynb>data table notebook</a>'\n",
              "          + ' to learn more about interactive tables.';\n",
              "        element.innerHTML = '';\n",
              "        dataTable['output_type'] = 'display_data';\n",
              "        await google.colab.output.renderOutput(dataTable, element);\n",
              "        const docLink = document.createElement('div');\n",
              "        docLink.innerHTML = docLinkHtml;\n",
              "        element.appendChild(docLink);\n",
              "      }\n",
              "    </script>\n",
              "  </div>\n",
              "\n",
              "\n",
              "<div id=\"df-9481dc42-ad09-47ee-acbc-b65530c06cb4\">\n",
              "  <button class=\"colab-df-quickchart\" onclick=\"quickchart('df-9481dc42-ad09-47ee-acbc-b65530c06cb4')\"\n",
              "            title=\"Suggest charts\"\n",
              "            style=\"display:none;\">\n",
              "\n",
              "<svg xmlns=\"http://www.w3.org/2000/svg\" height=\"24px\"viewBox=\"0 0 24 24\"\n",
              "     width=\"24px\">\n",
              "    <g>\n",
              "        <path d=\"M19 3H5c-1.1 0-2 .9-2 2v14c0 1.1.9 2 2 2h14c1.1 0 2-.9 2-2V5c0-1.1-.9-2-2-2zM9 17H7v-7h2v7zm4 0h-2V7h2v10zm4 0h-2v-4h2v4z\"/>\n",
              "    </g>\n",
              "</svg>\n",
              "  </button>\n",
              "\n",
              "<style>\n",
              "  .colab-df-quickchart {\n",
              "      --bg-color: #E8F0FE;\n",
              "      --fill-color: #1967D2;\n",
              "      --hover-bg-color: #E2EBFA;\n",
              "      --hover-fill-color: #174EA6;\n",
              "      --disabled-fill-color: #AAA;\n",
              "      --disabled-bg-color: #DDD;\n",
              "  }\n",
              "\n",
              "  [theme=dark] .colab-df-quickchart {\n",
              "      --bg-color: #3B4455;\n",
              "      --fill-color: #D2E3FC;\n",
              "      --hover-bg-color: #434B5C;\n",
              "      --hover-fill-color: #FFFFFF;\n",
              "      --disabled-bg-color: #3B4455;\n",
              "      --disabled-fill-color: #666;\n",
              "  }\n",
              "\n",
              "  .colab-df-quickchart {\n",
              "    background-color: var(--bg-color);\n",
              "    border: none;\n",
              "    border-radius: 50%;\n",
              "    cursor: pointer;\n",
              "    display: none;\n",
              "    fill: var(--fill-color);\n",
              "    height: 32px;\n",
              "    padding: 0;\n",
              "    width: 32px;\n",
              "  }\n",
              "\n",
              "  .colab-df-quickchart:hover {\n",
              "    background-color: var(--hover-bg-color);\n",
              "    box-shadow: 0 1px 2px rgba(60, 64, 67, 0.3), 0 1px 3px 1px rgba(60, 64, 67, 0.15);\n",
              "    fill: var(--button-hover-fill-color);\n",
              "  }\n",
              "\n",
              "  .colab-df-quickchart-complete:disabled,\n",
              "  .colab-df-quickchart-complete:disabled:hover {\n",
              "    background-color: var(--disabled-bg-color);\n",
              "    fill: var(--disabled-fill-color);\n",
              "    box-shadow: none;\n",
              "  }\n",
              "\n",
              "  .colab-df-spinner {\n",
              "    border: 2px solid var(--fill-color);\n",
              "    border-color: transparent;\n",
              "    border-bottom-color: var(--fill-color);\n",
              "    animation:\n",
              "      spin 1s steps(1) infinite;\n",
              "  }\n",
              "\n",
              "  @keyframes spin {\n",
              "    0% {\n",
              "      border-color: transparent;\n",
              "      border-bottom-color: var(--fill-color);\n",
              "      border-left-color: var(--fill-color);\n",
              "    }\n",
              "    20% {\n",
              "      border-color: transparent;\n",
              "      border-left-color: var(--fill-color);\n",
              "      border-top-color: var(--fill-color);\n",
              "    }\n",
              "    30% {\n",
              "      border-color: transparent;\n",
              "      border-left-color: var(--fill-color);\n",
              "      border-top-color: var(--fill-color);\n",
              "      border-right-color: var(--fill-color);\n",
              "    }\n",
              "    40% {\n",
              "      border-color: transparent;\n",
              "      border-right-color: var(--fill-color);\n",
              "      border-top-color: var(--fill-color);\n",
              "    }\n",
              "    60% {\n",
              "      border-color: transparent;\n",
              "      border-right-color: var(--fill-color);\n",
              "    }\n",
              "    80% {\n",
              "      border-color: transparent;\n",
              "      border-right-color: var(--fill-color);\n",
              "      border-bottom-color: var(--fill-color);\n",
              "    }\n",
              "    90% {\n",
              "      border-color: transparent;\n",
              "      border-bottom-color: var(--fill-color);\n",
              "    }\n",
              "  }\n",
              "</style>\n",
              "\n",
              "  <script>\n",
              "    async function quickchart(key) {\n",
              "      const quickchartButtonEl =\n",
              "        document.querySelector('#' + key + ' button');\n",
              "      quickchartButtonEl.disabled = true;  // To prevent multiple clicks.\n",
              "      quickchartButtonEl.classList.add('colab-df-spinner');\n",
              "      try {\n",
              "        const charts = await google.colab.kernel.invokeFunction(\n",
              "            'suggestCharts', [key], {});\n",
              "      } catch (error) {\n",
              "        console.error('Error during call to suggestCharts:', error);\n",
              "      }\n",
              "      quickchartButtonEl.classList.remove('colab-df-spinner');\n",
              "      quickchartButtonEl.classList.add('colab-df-quickchart-complete');\n",
              "    }\n",
              "    (() => {\n",
              "      let quickchartButtonEl =\n",
              "        document.querySelector('#df-9481dc42-ad09-47ee-acbc-b65530c06cb4 button');\n",
              "      quickchartButtonEl.style.display =\n",
              "        google.colab.kernel.accessAllowed ? 'block' : 'none';\n",
              "    })();\n",
              "  </script>\n",
              "</div>\n",
              "\n",
              "    </div>\n",
              "  </div>\n"
            ]
          },
          "metadata": {},
          "execution_count": 34
        }
      ]
    },
    {
      "cell_type": "code",
      "source": [
        "# Não podemos usar, eu sei, but queria so ver rs\n",
        "import matplotlib.pyplot as plt\n",
        "import seaborn as sns\n",
        "\n",
        "\n",
        "colunas_outliers = ['price', 'minimum_nights', 'number_of_reviews', 'reviews_per_month',\n",
        "                    'calculated_host_listings_count']\n",
        "\n",
        "fig, axs = plt.subplots(nrows=2, ncols=3, figsize=(15, 10))\n",
        "fig.subplots_adjust(hspace=0.5)\n",
        "\n",
        "for coluna, ax in zip(colunas_outliers, axs.flatten()):\n",
        "    sns.boxplot(x=df[coluna], ax=ax)\n",
        "    ax.set_title(f'Boxplot de {coluna}')\n",
        "\n",
        "plt.show()\n"
      ],
      "metadata": {
        "colab": {
          "base_uri": "https://localhost:8080/",
          "height": 601
        },
        "id": "VTHs0j6t8t23",
        "outputId": "81c77ea1-117f-41c7-9f79-9645c4a33fd4"
      },
      "execution_count": 49,
      "outputs": [
        {
          "output_type": "display_data",
          "data": {
            "text/plain": [
              "<Figure size 1500x1000 with 6 Axes>"
            ],
            "image/png": "[encoded data removed]"
          },
          "metadata": {}
        }
      ]
    },
    {
      "cell_type": "markdown",
      "source": [
        "As variáveis `price`, `minimum_nights` e `calculated_host_listings_count` apresentam outliers.\n"
      ],
      "metadata": {
        "id": "b6KVbhm6_dd9"
      }
    },
    {
      "cell_type": "markdown",
      "source": [
        "A partir daqui, temos que fazer a limpeza de outliers."
      ],
      "metadata": {
        "id": "8Qpv_fIdAMxw"
      }
    },
    {
      "cell_type": "markdown",
      "source": [
        "### **Variável Preço**"
      ],
      "metadata": {
        "id": "KUIkuU6UBJWd"
      }
    },
    {
      "cell_type": "code",
      "source": [
        "# identificar o iqr da variável price\n",
        "q1_price = df.price.quantile(.25)\n",
        "q3_price = df.price.quantile(.75)\n",
        "IQR_price = q3_price - q1_price\n",
        "print('IQR da variável price: ', IQR_price)\n",
        "\n",
        "# definir os limites superiores e inferiores\n",
        "sup_price = q3_price + 1.5 * IQR_price\n",
        "inf_price = q1_price - 1.5 * IQR_price\n",
        "\n",
        "print('Limite superior de price: ', sup_price)\n",
        "print('Limite inferior de price: ', inf_price)"
      ],
      "metadata": {
        "colab": {
          "base_uri": "https://localhost:8080/"
        },
        "id": "rH7o9S9JA-Fk",
        "outputId": "fde8eba4-ff9b-4946-cf20-c53b2020a5fb"
      },
      "execution_count": 56,
      "outputs": [
        {
          "output_type": "stream",
          "name": "stdout",
          "text": [
            "IQR da variável price:  109.0\n",
            "Limite superior de price:  362.5\n",
            "Limite inferior de price:  -73.5\n"
          ]
        }
      ]
    },
    {
      "cell_type": "code",
      "source": [
        "valores_zero = df[df['price'] == 0]\n",
        "print(valores_zero)"
      ],
      "metadata": {
        "colab": {
          "base_uri": "https://localhost:8080/"
        },
        "id": "FYB9t-VvBIY-",
        "outputId": "fe0941c0-7378-4f3d-9b95-2a290f179b17"
      },
      "execution_count": 52,
      "outputs": [
        {
          "output_type": "stream",
          "name": "stdout",
          "text": [
            "Empty DataFrame\n",
            "Columns: [id, name, host_id, host_name, neighbourhood, latitude, longitude, room_type, price, minimum_nights, number_of_reviews, reviews_per_month, calculated_host_listings_count, availability_365, number_of_reviews_ltm, score, ativo]\n",
            "Index: []\n"
          ]
        }
      ]
    },
    {
      "cell_type": "code",
      "source": [
        "# verificar o conjunto de dados original\n",
        "fig, ax = plt.subplots(figsize=(15,3))\n",
        "df.price.plot(kind='box', vert=False);\n",
        "ax.set_title('Dataset Original - Price')\n",
        "plt.show()\n",
        "\n",
        "print(\"O dataset possui {} colunas\".format(df.shape[0]))\n",
        "print(\"{} Entradas acima de 362.5\".format(len(df[df.price > 362.5])))\n",
        "print(\"Representam {:.2f}% do dataset\".format((len(df[df.price > 362.5]) / df.shape[0])*100))\n",
        "\n"
      ],
      "metadata": {
        "colab": {
          "base_uri": "https://localhost:8080/",
          "height": 270
        },
        "id": "xDCrHVqTB5SD",
        "outputId": "8f37268d-428b-4c07-ab9e-679361757b88"
      },
      "execution_count": 57,
      "outputs": [
        {
          "output_type": "display_data",
          "data": {
            "text/plain": [
              "<Figure size 1500x300 with 1 Axes>"
            ],
            "image/png": "[encoded data removed]"
          },
          "metadata": {}
        },
        {
          "output_type": "stream",
          "name": "stdout",
          "text": [
            "O dataset possui 74329 colunas\n",
            "6852 Entradas acima de 362.5\n",
            "Representam 9.22% do dataset\n"
          ]
        }
      ]
    },
    {
      "cell_type": "markdown",
      "source": [
        "Isso sugere que esse pequeno percentual do conjunto de dados (9.22%) contém valores de preço consideravelmente mais altos em comparação com o restante.\n",
        "\n",
        "---\n",
        "\n",
        "caso a gente queira remover os dados\n",
        "\n",
        "```python\n",
        "# copiar o dataset\n",
        "df_clean = df.copy()\n",
        "# excluir valores acima do limite superior\n",
        "df_clean.drop(df_clean[df_clean.price > 46279.0].index, axis=0, inplace=True)\n",
        "# excluir valores iguais a 0\n",
        "df_clean.drop(df_clean[df_clean.price == 0.0].index, axis=0, inplace=True)\n",
        "\n",
        "print('Shape antes da limpeza: ', df.shape)\n",
        "print('Shape após a limpeza: ',df_clean.shape)\n",
        "```\n",
        "\n",
        "e\n",
        "\n",
        "```python\n",
        "# verificar o conjunto limpo\n",
        "fig, ax = plt.subplots(figsize=(15,3))\n",
        "df_clean.price.plot(kind='box', vert=False);\n",
        "ax.set_title('Dataset Limpo - price')\n",
        "plt.show()\n",
        "\n",
        "print(\"Tamanho original: {} colunas\".format(df.shape[0]))\n",
        "print(\"Tamanho atual: {} colunas\".format(df_clean.shape[0]))\n",
        "```\n",
        "Se fizermos isso, temos que refazer todos os df. daqui para frente."
      ],
      "metadata": {
        "id": "NS78yGX_Cp3H"
      }
    },
    {
      "cell_type": "markdown",
      "source": [
        "## **Variavel Minimo Noites**"
      ],
      "metadata": {
        "id": "5JkOLw1OEFo0"
      }
    },
    {
      "cell_type": "code",
      "source": [
        "# identificar o IQR para a variável minimum_nights\n",
        "q1_minimum_nights = df.minimum_nights.quantile(.25)\n",
        "q3_minimum_nights = df.minimum_nights.quantile(.75)\n",
        "IQR_minimum_nights = q3_minimum_nights - q1_minimum_nights\n",
        "print('IQR da variável minimum_nights: ', IQR_minimum_nights)\n",
        "\n",
        "# definindo os limites\n",
        "sup_minimum_nights = q3_minimum_nights + 1.5 * IQR_minimum_nights\n",
        "inf_minimum_nights = q1_minimum_nights - 1.5 * IQR_minimum_nights\n",
        "\n",
        "print('Limite superior de minimum_nights: ', sup_minimum_nights)\n",
        "print('Limite inferior de minimum_nights: ', inf_minimum_nights)"
      ],
      "metadata": {
        "colab": {
          "base_uri": "https://localhost:8080/"
        },
        "id": "TvllD02IEL8d",
        "outputId": "e97a9edc-9730-4aa6-e491-b27b5b89a5d1"
      },
      "execution_count": 59,
      "outputs": [
        {
          "output_type": "stream",
          "name": "stdout",
          "text": [
            "IQR da variável minimum_nights:  6.0\n",
            "Limite superior de minimum_nights:  17.0\n",
            "Limite inferior de minimum_nights:  -7.0\n"
          ]
        }
      ]
    },
    {
      "cell_type": "code",
      "source": [
        "# verificar o conjunto original\n",
        "fig, ax = plt.subplots(figsize=(15,3))\n",
        "df.minimum_nights.plot(kind='box', vert=False);\n",
        "ax.set_title('Dataset Original - minimum_nights')\n",
        "plt.show()\n",
        "\n",
        "print(\"O dataset possui {} colunas\".format(df.shape[0]))\n",
        "print(\"{} Entradas acima de 17.0\".format(len(df[df.minimum_nights > 17])))\n",
        "print(\"Representam {:.2f}% do dataset\".format((len(df[df.minimum_nights > 17]) / df.shape[0])*100))\n",
        ""
      ],
      "metadata": {
        "colab": {
          "base_uri": "https://localhost:8080/",
          "height": 258
        },
        "id": "4GGzfdG3EZU1",
        "outputId": "b270e696-1f40-43b0-de9e-17645df161bd"
      },
      "execution_count": 64,
      "outputs": [
        {
          "output_type": "display_data",
          "data": {
            "text/plain": [
              "<Figure size 1500x300 with 1 Axes>"
            ],
            "image/png": "[encoded data removed]"
          },
          "metadata": {}
        },
        {
          "output_type": "stream",
          "name": "stdout",
          "text": [
            "O dataset possui 74329 colunas\n",
            "17340 Entradas acima de 17.0\n",
            "Representam 23.33% do dataset\n"
          ]
        }
      ]
    },
    {
      "cell_type": "markdown",
      "source": [
        "Qualquer valor acima desse limite é considerado um possível outlier e pode ser removido ou tratado de alguma maneira."
      ],
      "metadata": {
        "id": "WGz_yQWbE7gT"
      }
    },
    {
      "cell_type": "markdown",
      "source": [
        "---"
      ],
      "metadata": {
        "id": "H6MX4bcDW1IF"
      }
    },
    {
      "cell_type": "markdown",
      "source": [
        "# **Análise Explorátoria dos Dados**"
      ],
      "metadata": {
        "id": "X6OJ097Xky5C"
      }
    },
    {
      "cell_type": "markdown",
      "source": [
        "## **Qual a média de preços de Aluguel?**\n"
      ],
      "metadata": {
        "id": "amsQJ92gV_Js"
      }
    },
    {
      "cell_type": "code",
      "source": [
        "# ver a média da coluna `price`\n",
        "mean_price = (f'{df.price.mean():.2f}')\n",
        "brl_price = (f'{df.price.mean() * 5.43:.2f}')\n",
        "print(f'A média de preços é {mean_price} euros.')\n",
        "print(f'No momento atual, isso representa {brl_price} reais')"
      ],
      "metadata": {
        "colab": {
          "base_uri": "https://localhost:8080/"
        },
        "id": "ru3DlMlQkxLC",
        "outputId": "9fd19e14-ba14-4104-89f5-3d7bbe83668e"
      },
      "execution_count": 35,
      "outputs": [
        {
          "output_type": "stream",
          "name": "stdout",
          "text": [
            "A média de preços é 212.27 euros.\n",
            "No momento atual, isso representa 1152.65 reais\n"
          ]
        }
      ]
    },
    {
      "cell_type": "markdown",
      "source": [
        "## **Qual é a média do alugueis por bairro?**"
      ],
      "metadata": {
        "id": "aId1rFWVXmJz"
      }
    },
    {
      "cell_type": "code",
      "source": [
        "# média de preços por bairros\n",
        "media_por_bairro = df.groupby(['neighbourhood']).price.mean().sort_values(ascending = False)\n",
        "media_por_bairro"
      ],
      "metadata": {
        "colab": {
          "base_uri": "https://localhost:8080/"
        },
        "id": "T6TKTsfqny-b",
        "outputId": "ba9bf3ca-4b24-4198-faed-93184d723fa5"
      },
      "execution_count": 36,
      "outputs": [
        {
          "output_type": "execute_result",
          "data": {
            "text/plain": [
              "neighbourhood\n",
              "Élysée                 374.135708\n",
              "Passy                  363.547333\n",
              "Louvre                 316.134002\n",
              "Palais-Bourbon         316.017291\n",
              "Luxembourg             279.003786\n",
              "Panthéon               257.384615\n",
              "Temple                 245.637411\n",
              "Bourse                 241.101896\n",
              "Hôtel-de-Ville         237.398902\n",
              "Opéra                  229.155305\n",
              "Batignolles-Monceau    205.885585\n",
              "Vaugirard              202.366359\n",
              "Entrepôt               178.463340\n",
              "Reuilly                174.787191\n",
              "Observatoire           174.574476\n",
              "Gobelins               173.851501\n",
              "Popincourt             164.021520\n",
              "Buttes-Chaumont        153.092937\n",
              "Buttes-Montmartre      149.567898\n",
              "Ménilmontant           131.124366\n",
              "Name: price, dtype: float64"
            ]
          },
          "metadata": {},
          "execution_count": 36
        }
      ]
    },
    {
      "cell_type": "code",
      "source": [
        "# quantidade de imóveis por bairros\n",
        "qtd_imoveis_bairro = df.neighbourhood.value_counts().sort_values(ascending = False)\n",
        "qtd_imoveis_bairro"
      ],
      "metadata": {
        "colab": {
          "base_uri": "https://localhost:8080/"
        },
        "id": "wwcK0Vi9n7dL",
        "outputId": "8ff65b06-c496-489f-ee93-45ea6bccf958"
      },
      "execution_count": 37,
      "outputs": [
        {
          "output_type": "execute_result",
          "data": {
            "text/plain": [
              "Buttes-Montmartre      8255\n",
              "Popincourt             6645\n",
              "Vaugirard              5642\n",
              "Entrepôt               5251\n",
              "Batignolles-Monceau    5078\n",
              "Passy                  4500\n",
              "Buttes-Chaumont        4304\n",
              "Ménilmontant           4141\n",
              "Opéra                  3638\n",
              "Temple                 3213\n",
              "Reuilly                2951\n",
              "Observatoire           2766\n",
              "Bourse                 2532\n",
              "Gobelins               2431\n",
              "Hôtel-de-Ville         2369\n",
              "Panthéon               2366\n",
              "Élysée                 2358\n",
              "Luxembourg             2113\n",
              "Palais-Bourbon         2082\n",
              "Louvre                 1694\n",
              "Name: neighbourhood, dtype: int64"
            ]
          },
          "metadata": {},
          "execution_count": 37
        }
      ]
    },
    {
      "cell_type": "code",
      "source": [
        "# Juntar as informações de preço médio e quantidade de imóveis por bairro\n",
        "dados_completos = pd.merge(media_por_bairro, qtd_imoveis_bairro, left_index=True, right_index=True)\n",
        "\n",
        "# Renomear as colunas para maior clareza\n",
        "dados_completos.columns = ['media_preco', 'qtd_imoveis']\n",
        "\n",
        "# Ordenar os dados por preço médio em ordem decrescente\n",
        "dados_completos = dados_completos.sort_values(by='media_preco', ascending=False)\n",
        "\n",
        "# Imprimir os bairros mais caros de acordo com a média\n",
        "print(\"Bairros mais caros de acordo com a média:\")\n",
        "print(dados_completos.head())\n",
        "\n",
        "# Imprimir os bairros mais baratos mais caros de acordo com a média\n",
        "print(\"\\nBairros mais baratos de acordo com a média:\")\n",
        "print(dados_completos.tail())\n"
      ],
      "metadata": {
        "colab": {
          "base_uri": "https://localhost:8080/"
        },
        "id": "jU5iID0jpjo2",
        "outputId": "1775cb35-93b2-4b9c-83bc-5afc9dd79685"
      },
      "execution_count": 38,
      "outputs": [
        {
          "output_type": "stream",
          "name": "stdout",
          "text": [
            "Bairros mais caros de acordo com a média:\n",
            "                media_preco  qtd_imoveis\n",
            "Élysée           374.135708         2358\n",
            "Passy            363.547333         4500\n",
            "Louvre           316.134002         1694\n",
            "Palais-Bourbon   316.017291         2082\n",
            "Luxembourg       279.003786         2113\n",
            "\n",
            "Bairros mais baratos de acordo com a média:\n",
            "                   media_preco  qtd_imoveis\n",
            "Gobelins            173.851501         2431\n",
            "Popincourt          164.021520         6645\n",
            "Buttes-Chaumont     153.092937         4304\n",
            "Buttes-Montmartre   149.567898         8255\n",
            "Ménilmontant        131.124366         4141\n"
          ]
        }
      ]
    },
    {
      "cell_type": "markdown",
      "source": [
        "## **Quais os bairros mais caros?**"
      ],
      "metadata": {
        "id": "izzWA_G5uHek"
      }
    },
    {
      "cell_type": "markdown",
      "source": [
        "Não podemos afirmar com certeza que os bairros mais caros são aqueles com o valor médio de preço mais alto. Isso se deve ao fato de que a disponibilidade de imóveis pode influenciar significativamente o resultado.\n",
        "\n",
        "Portanto, vamos analisar a **mediana** da quantidade de imóveis, que não é tão suscetível a impactos extremos. Com base nessa informação, buscaremos identificar **os bairros mais caros que tenham uma quantidade significativa de dados para fundamentar nossa análise.**"
      ],
      "metadata": {
        "id": "aeLqlSC9uWEz"
      }
    },
    {
      "cell_type": "code",
      "source": [
        "# verificar mediana da quantidade de imóveis\n",
        "qtd_imoveis = df.neighbourhood.value_counts().values\n",
        "mediana = np.median(qtd_imoveis)\n",
        "print(\"A mediana da quantidade de imóveis é\", mediana)"
      ],
      "metadata": {
        "colab": {
          "base_uri": "https://localhost:8080/"
        },
        "id": "9WJKYw6ItR5j",
        "outputId": "4c13380e-bfae-49e6-b421-28d458a5afb5"
      },
      "execution_count": 39,
      "outputs": [
        {
          "output_type": "stream",
          "name": "stdout",
          "text": [
            "A mediana da quantidade de imóveis é 3082.0\n"
          ]
        }
      ]
    },
    {
      "cell_type": "code",
      "source": [
        "# verificar os três distritos mais caros com quantidade de imóveis maior ou igual a mediana\n",
        "df_new = pd.concat([df.neighbourhood.value_counts().rename('Quantidade de imóveis'),\n",
        "           df.groupby(['neighbourhood']).price.mean().sort_values(ascending = False).rename('Média de preço')], axis = 1).sort_values(by = 'Média de preço', ascending = False)\n",
        "df_new.loc[df_new['Quantidade de imóveis'] >= 3082.0][:3]"
      ],
      "metadata": {
        "colab": {
          "base_uri": "https://localhost:8080/",
          "height": 143
        },
        "id": "IBX9DZwytnGz",
        "outputId": "4d69d3cb-c226-47f0-f644-7316a3215ae3"
      },
      "execution_count": 40,
      "outputs": [
        {
          "output_type": "execute_result",
          "data": {
            "text/plain": [
              "        Quantidade de imóveis  Média de preço\n",
              "Passy                    4500      363.547333\n",
              "Temple                   3213      245.637411\n",
              "Opéra                    3638      229.155305"
            ],
            "text/html": [
              "\n",
              "  <div id=\"df-f33748be-a54a-4bbd-b732-901f6faa878e\" class=\"colab-df-container\">\n",
              "    <div>\n",
              "<style scoped>\n",
              "    .dataframe tbody tr th:only-of-type {\n",
              "        vertical-align: middle;\n",
              "    }\n",
              "\n",
              "    .dataframe tbody tr th {\n",
              "        vertical-align: top;\n",
              "    }\n",
              "\n",
              "    .dataframe thead th {\n",
              "        text-align: right;\n",
              "    }\n",
              "</style>\n",
              "<table border=\"1\" class=\"dataframe\">\n",
              "  <thead>\n",
              "    <tr style=\"text-align: right;\">\n",
              "      <th></th>\n",
              "      <th>Quantidade de imóveis</th>\n",
              "      <th>Média de preço</th>\n",
              "    </tr>\n",
              "  </thead>\n",
              "  <tbody>\n",
              "    <tr>\n",
              "      <th>Passy</th>\n",
              "      <td>4500</td>\n",
              "      <td>363.547333</td>\n",
              "    </tr>\n",
              "    <tr>\n",
              "      <th>Temple</th>\n",
              "      <td>3213</td>\n",
              "      <td>245.637411</td>\n",
              "    </tr>\n",
              "    <tr>\n",
              "      <th>Opéra</th>\n",
              "      <td>3638</td>\n",
              "      <td>229.155305</td>\n",
              "    </tr>\n",
              "  </tbody>\n",
              "</table>\n",
              "</div>\n",
              "    <div class=\"colab-df-buttons\">\n",
              "\n",
              "  <div class=\"colab-df-container\">\n",
              "    <button class=\"colab-df-convert\" onclick=\"convertToInteractive('df-f33748be-a54a-4bbd-b732-901f6faa878e')\"\n",
              "            title=\"Convert this dataframe to an interactive table.\"\n",
              "            style=\"display:none;\">\n",
              "\n",
              "  <svg xmlns=\"http://www.w3.org/2000/svg\" height=\"24px\" viewBox=\"0 -960 960 960\">\n",
              "    <path d=\"M120-120v-720h720v720H120Zm60-500h600v-160H180v160Zm220 220h160v-160H400v160Zm0 220h160v-160H400v160ZM180-400h160v-160H180v160Zm440 0h160v-160H620v160ZM180-180h160v-160H180v160Zm440 0h160v-160H620v160Z\"/>\n",
              "  </svg>\n",
              "    </button>\n",
              "\n",
              "  <style>\n",
              "    .colab-df-container {\n",
              "      display:flex;\n",
              "      gap: 12px;\n",
              "    }\n",
              "\n",
              "    .colab-df-convert {\n",
              "      background-color: #E8F0FE;\n",
              "      border: none;\n",
              "      border-radius: 50%;\n",
              "      cursor: pointer;\n",
              "      display: none;\n",
              "      fill: #1967D2;\n",
              "      height: 32px;\n",
              "      padding: 0 0 0 0;\n",
              "      width: 32px;\n",
              "    }\n",
              "\n",
              "    .colab-df-convert:hover {\n",
              "      background-color: #E2EBFA;\n",
              "      box-shadow: 0px 1px 2px rgba(60, 64, 67, 0.3), 0px 1px 3px 1px rgba(60, 64, 67, 0.15);\n",
              "      fill: #174EA6;\n",
              "    }\n",
              "\n",
              "    .colab-df-buttons div {\n",
              "      margin-bottom: 4px;\n",
              "    }\n",
              "\n",
              "    [theme=dark] .colab-df-convert {\n",
              "      background-color: #3B4455;\n",
              "      fill: #D2E3FC;\n",
              "    }\n",
              "\n",
              "    [theme=dark] .colab-df-convert:hover {\n",
              "      background-color: #434B5C;\n",
              "      box-shadow: 0px 1px 3px 1px rgba(0, 0, 0, 0.15);\n",
              "      filter: drop-shadow(0px 1px 2px rgba(0, 0, 0, 0.3));\n",
              "      fill: #FFFFFF;\n",
              "    }\n",
              "  </style>\n",
              "\n",
              "    <script>\n",
              "      const buttonEl =\n",
              "        document.querySelector('#df-f33748be-a54a-4bbd-b732-901f6faa878e button.colab-df-convert');\n",
              "      buttonEl.style.display =\n",
              "        google.colab.kernel.accessAllowed ? 'block' : 'none';\n",
              "\n",
              "      async function convertToInteractive(key) {\n",
              "        const element = document.querySelector('#df-f33748be-a54a-4bbd-b732-901f6faa878e');\n",
              "        const dataTable =\n",
              "          await google.colab.kernel.invokeFunction('convertToInteractive',\n",
              "                                                    [key], {});\n",
              "        if (!dataTable) return;\n",
              "\n",
              "        const docLinkHtml = 'Like what you see? Visit the ' +\n",
              "          '<a target=\"_blank\" href=https://colab.research.google.com/notebooks/data_table.ipynb>data table notebook</a>'\n",
              "          + ' to learn more about interactive tables.';\n",
              "        element.innerHTML = '';\n",
              "        dataTable['output_type'] = 'display_data';\n",
              "        await google.colab.output.renderOutput(dataTable, element);\n",
              "        const docLink = document.createElement('div');\n",
              "        docLink.innerHTML = docLinkHtml;\n",
              "        element.appendChild(docLink);\n",
              "      }\n",
              "    </script>\n",
              "  </div>\n",
              "\n",
              "\n",
              "<div id=\"df-406b457e-0133-4f16-a8d0-6e62c7fe6a6a\">\n",
              "  <button class=\"colab-df-quickchart\" onclick=\"quickchart('df-406b457e-0133-4f16-a8d0-6e62c7fe6a6a')\"\n",
              "            title=\"Suggest charts\"\n",
              "            style=\"display:none;\">\n",
              "\n",
              "<svg xmlns=\"http://www.w3.org/2000/svg\" height=\"24px\"viewBox=\"0 0 24 24\"\n",
              "     width=\"24px\">\n",
              "    <g>\n",
              "        <path d=\"M19 3H5c-1.1 0-2 .9-2 2v14c0 1.1.9 2 2 2h14c1.1 0 2-.9 2-2V5c0-1.1-.9-2-2-2zM9 17H7v-7h2v7zm4 0h-2V7h2v10zm4 0h-2v-4h2v4z\"/>\n",
              "    </g>\n",
              "</svg>\n",
              "  </button>\n",
              "\n",
              "<style>\n",
              "  .colab-df-quickchart {\n",
              "      --bg-color: #E8F0FE;\n",
              "      --fill-color: #1967D2;\n",
              "      --hover-bg-color: #E2EBFA;\n",
              "      --hover-fill-color: #174EA6;\n",
              "      --disabled-fill-color: #AAA;\n",
              "      --disabled-bg-color: #DDD;\n",
              "  }\n",
              "\n",
              "  [theme=dark] .colab-df-quickchart {\n",
              "      --bg-color: #3B4455;\n",
              "      --fill-color: #D2E3FC;\n",
              "      --hover-bg-color: #434B5C;\n",
              "      --hover-fill-color: #FFFFFF;\n",
              "      --disabled-bg-color: #3B4455;\n",
              "      --disabled-fill-color: #666;\n",
              "  }\n",
              "\n",
              "  .colab-df-quickchart {\n",
              "    background-color: var(--bg-color);\n",
              "    border: none;\n",
              "    border-radius: 50%;\n",
              "    cursor: pointer;\n",
              "    display: none;\n",
              "    fill: var(--fill-color);\n",
              "    height: 32px;\n",
              "    padding: 0;\n",
              "    width: 32px;\n",
              "  }\n",
              "\n",
              "  .colab-df-quickchart:hover {\n",
              "    background-color: var(--hover-bg-color);\n",
              "    box-shadow: 0 1px 2px rgba(60, 64, 67, 0.3), 0 1px 3px 1px rgba(60, 64, 67, 0.15);\n",
              "    fill: var(--button-hover-fill-color);\n",
              "  }\n",
              "\n",
              "  .colab-df-quickchart-complete:disabled,\n",
              "  .colab-df-quickchart-complete:disabled:hover {\n",
              "    background-color: var(--disabled-bg-color);\n",
              "    fill: var(--disabled-fill-color);\n",
              "    box-shadow: none;\n",
              "  }\n",
              "\n",
              "  .colab-df-spinner {\n",
              "    border: 2px solid var(--fill-color);\n",
              "    border-color: transparent;\n",
              "    border-bottom-color: var(--fill-color);\n",
              "    animation:\n",
              "      spin 1s steps(1) infinite;\n",
              "  }\n",
              "\n",
              "  @keyframes spin {\n",
              "    0% {\n",
              "      border-color: transparent;\n",
              "      border-bottom-color: var(--fill-color);\n",
              "      border-left-color: var(--fill-color);\n",
              "    }\n",
              "    20% {\n",
              "      border-color: transparent;\n",
              "      border-left-color: var(--fill-color);\n",
              "      border-top-color: var(--fill-color);\n",
              "    }\n",
              "    30% {\n",
              "      border-color: transparent;\n",
              "      border-left-color: var(--fill-color);\n",
              "      border-top-color: var(--fill-color);\n",
              "      border-right-color: var(--fill-color);\n",
              "    }\n",
              "    40% {\n",
              "      border-color: transparent;\n",
              "      border-right-color: var(--fill-color);\n",
              "      border-top-color: var(--fill-color);\n",
              "    }\n",
              "    60% {\n",
              "      border-color: transparent;\n",
              "      border-right-color: var(--fill-color);\n",
              "    }\n",
              "    80% {\n",
              "      border-color: transparent;\n",
              "      border-right-color: var(--fill-color);\n",
              "      border-bottom-color: var(--fill-color);\n",
              "    }\n",
              "    90% {\n",
              "      border-color: transparent;\n",
              "      border-bottom-color: var(--fill-color);\n",
              "    }\n",
              "  }\n",
              "</style>\n",
              "\n",
              "  <script>\n",
              "    async function quickchart(key) {\n",
              "      const quickchartButtonEl =\n",
              "        document.querySelector('#' + key + ' button');\n",
              "      quickchartButtonEl.disabled = true;  // To prevent multiple clicks.\n",
              "      quickchartButtonEl.classList.add('colab-df-spinner');\n",
              "      try {\n",
              "        const charts = await google.colab.kernel.invokeFunction(\n",
              "            'suggestCharts', [key], {});\n",
              "      } catch (error) {\n",
              "        console.error('Error during call to suggestCharts:', error);\n",
              "      }\n",
              "      quickchartButtonEl.classList.remove('colab-df-spinner');\n",
              "      quickchartButtonEl.classList.add('colab-df-quickchart-complete');\n",
              "    }\n",
              "    (() => {\n",
              "      let quickchartButtonEl =\n",
              "        document.querySelector('#df-406b457e-0133-4f16-a8d0-6e62c7fe6a6a button');\n",
              "      quickchartButtonEl.style.display =\n",
              "        google.colab.kernel.accessAllowed ? 'block' : 'none';\n",
              "    })();\n",
              "  </script>\n",
              "</div>\n",
              "\n",
              "    </div>\n",
              "  </div>\n"
            ]
          },
          "metadata": {},
          "execution_count": 40
        }
      ]
    },
    {
      "cell_type": "markdown",
      "source": [
        "## **Quais os preços mínimos e maximos por bairro?**"
      ],
      "metadata": {
        "id": "_9tmOgKxyGCD"
      }
    },
    {
      "cell_type": "markdown",
      "source": [
        "Da mesma forma que examinamos o preço médio, iremos investigar os valores mínimos e máximos para cada cidade analisada em Paris."
      ],
      "metadata": {
        "id": "v3nLRKK_yX5E"
      }
    },
    {
      "cell_type": "code",
      "source": [
        "# ver preços mínimos por distrito\n",
        "df.groupby(['neighbourhood']).price.min().sort_values(ascending = False)"
      ],
      "metadata": {
        "colab": {
          "base_uri": "https://localhost:8080/"
        },
        "id": "6Wf1fG7CyUqc",
        "outputId": "60566f65-fbca-422f-c86b-dbcdf324cda7"
      },
      "execution_count": 41,
      "outputs": [
        {
          "output_type": "execute_result",
          "data": {
            "text/plain": [
              "neighbourhood\n",
              "Louvre                 32.0\n",
              "Opéra                  21.0\n",
              "Observatoire           20.0\n",
              "Reuilly                20.0\n",
              "Entrepôt               20.0\n",
              "Hôtel-de-Ville         20.0\n",
              "Luxembourg             20.0\n",
              "Panthéon               18.0\n",
              "Palais-Bourbon         17.0\n",
              "Bourse                 15.0\n",
              "Batignolles-Monceau    15.0\n",
              "Gobelins               15.0\n",
              "Élysée                 12.0\n",
              "Ménilmontant           10.0\n",
              "Popincourt             10.0\n",
              "Vaugirard              10.0\n",
              "Buttes-Chaumont         9.0\n",
              "Temple                  9.0\n",
              "Buttes-Montmartre       8.0\n",
              "Passy                   8.0\n",
              "Name: price, dtype: float64"
            ]
          },
          "metadata": {},
          "execution_count": 41
        }
      ]
    },
    {
      "cell_type": "code",
      "source": [
        "# preços máximos por distrito\n",
        "df.groupby(['neighbourhood']).price.max().sort_values(ascending = False)"
      ],
      "metadata": {
        "colab": {
          "base_uri": "https://localhost:8080/"
        },
        "id": "kWCMzom1y4Dd",
        "outputId": "3e248374-3169-4ccc-ffca-ff568c169697"
      },
      "execution_count": 42,
      "outputs": [
        {
          "output_type": "execute_result",
          "data": {
            "text/plain": [
              "neighbourhood\n",
              "Panthéon               84420.0\n",
              "Opéra                  55714.0\n",
              "Gobelins               53239.0\n",
              "Buttes-Chaumont        30000.0\n",
              "Passy                  23229.0\n",
              "Temple                 22500.0\n",
              "Batignolles-Monceau    17650.0\n",
              "Louvre                 15655.0\n",
              "Popincourt             15000.0\n",
              "Vaugirard              11600.0\n",
              "Reuilly                11600.0\n",
              "Entrepôt               10000.0\n",
              "Observatoire            9999.0\n",
              "Palais-Bourbon          9999.0\n",
              "Bourse                  9999.0\n",
              "Hôtel-de-Ville          9999.0\n",
              "Buttes-Montmartre       9999.0\n",
              "Luxembourg              8999.0\n",
              "Élysée                  8018.0\n",
              "Ménilmontant            5000.0\n",
              "Name: price, dtype: float64"
            ]
          },
          "metadata": {},
          "execution_count": 42
        }
      ]
    },
    {
      "cell_type": "code",
      "source": [
        "min_price = (f'{df.price.min():.2f}')\n",
        "max_price = (f'{df.price.max():.2f}')\n",
        "brl_price = [f'{df.price.min() * 5.43:.2f}', f'{df.price.max() * 5.43:.2f}']\n",
        "\n",
        "print(f'O menor preço observado foi {min_price} euros')\n",
        "print(f'No momento atual, isso representa {brl_price[0]} reais\\n')\n",
        "print(f'O maior preço observado foi {max_price} euros')\n",
        "print(f'No momento atual, isso representa {brl_price[1]} reais')"
      ],
      "metadata": {
        "colab": {
          "base_uri": "https://localhost:8080/"
        },
        "id": "aRidGJjWzMzv",
        "outputId": "d85af45a-ab92-4ae7-83ef-02c0860a1226"
      },
      "execution_count": 43,
      "outputs": [
        {
          "output_type": "stream",
          "name": "stdout",
          "text": [
            "O menor preço observado foi 8.00 euros\n",
            "No momento atual, isso representa 43.44 reais\n",
            "\n",
            "O maior preço observado foi 84420.00 euros\n",
            "No momento atual, isso representa 458400.60 reais\n"
          ]
        }
      ]
    },
    {
      "cell_type": "markdown",
      "source": [
        "## **Qual a média da quantidade mínimas de noites para alugar?**"
      ],
      "metadata": {
        "id": "nCXFkssP0YPt"
      }
    },
    {
      "cell_type": "code",
      "source": [
        "# ver a média da coluna `minimum_nights`\n",
        "mean_minimum_nights = (f'{df.minimum_nights.mean():.2f}')\n",
        "\n",
        "print(f'O mínimo de noites é {df.minimum_nights.min()}.')\n",
        "print(f'A média de noites são {mean_minimum_nights}.')\n",
        "print(f'O máximo de noites são {df.minimum_nights.max()}.')"
      ],
      "metadata": {
        "colab": {
          "base_uri": "https://localhost:8080/"
        },
        "id": "nYoarR8f0zlu",
        "outputId": "44b21695-a686-45bb-f421-6cd31f9c73be"
      },
      "execution_count": 44,
      "outputs": [
        {
          "output_type": "stream",
          "name": "stdout",
          "text": [
            "O mínimo de noites é 1.\n",
            "A média de noites são 57.05.\n",
            "O máximo de noites são 1000.\n"
          ]
        }
      ]
    },
    {
      "cell_type": "code",
      "source": [
        "# ver a média de noites mínimas por distrito\n",
        "df.groupby(['neighbourhood']).minimum_nights.mean().sort_values(ascending = False).round()"
      ],
      "metadata": {
        "colab": {
          "base_uri": "https://localhost:8080/"
        },
        "id": "mSvjEcck1E-D",
        "outputId": "7e2e4fcc-5ed3-454e-de95-24fe63a03c72"
      },
      "execution_count": 45,
      "outputs": [
        {
          "output_type": "execute_result",
          "data": {
            "text/plain": [
              "neighbourhood\n",
              "Batignolles-Monceau    66.0\n",
              "Vaugirard              64.0\n",
              "Buttes-Montmartre      62.0\n",
              "Observatoire           62.0\n",
              "Reuilly                62.0\n",
              "Gobelins               62.0\n",
              "Popincourt             61.0\n",
              "Ménilmontant           60.0\n",
              "Palais-Bourbon         57.0\n",
              "Passy                  56.0\n",
              "Opéra                  56.0\n",
              "Buttes-Chaumont        55.0\n",
              "Panthéon               55.0\n",
              "Entrepôt               54.0\n",
              "Luxembourg             51.0\n",
              "Hôtel-de-Ville         48.0\n",
              "Temple                 47.0\n",
              "Élysée                 46.0\n",
              "Bourse                 40.0\n",
              "Louvre                 37.0\n",
              "Name: minimum_nights, dtype: float64"
            ]
          },
          "metadata": {},
          "execution_count": 45
        }
      ]
    },
    {
      "cell_type": "markdown",
      "source": [
        "## **Qual o tipo de imovel mais alugado no Airbnb?**"
      ],
      "metadata": {
        "id": "fxCLaM7QWEfi"
      }
    },
    {
      "cell_type": "code",
      "source": [
        "# mostrar a quantidade de cada tipo de imóvel disponível\n",
        "df.room_type.value_counts().sort_values(ascending = False)"
      ],
      "metadata": {
        "colab": {
          "base_uri": "https://localhost:8080/"
        },
        "id": "I_T5L9pz179a",
        "outputId": "143e759b-79e6-4dcd-a618-2bbabd9eac1d"
      },
      "execution_count": 46,
      "outputs": [
        {
          "output_type": "execute_result",
          "data": {
            "text/plain": [
              "Entire home/apt    64669\n",
              "Private room        8367\n",
              "Hotel room           828\n",
              "Shared room          465\n",
              "Name: room_type, dtype: int64"
            ]
          },
          "metadata": {},
          "execution_count": 46
        }
      ]
    },
    {
      "cell_type": "code",
      "source": [
        "# mostrar a porcentagem de cada tipo de imóvel disponível\n",
        "df.room_type.value_counts()/df.shape[0] * 100"
      ],
      "metadata": {
        "colab": {
          "base_uri": "https://localhost:8080/"
        },
        "id": "Fr7yAwRh2F6M",
        "outputId": "f46f9726-841e-4235-b0bd-4d5fe8aeb743"
      },
      "execution_count": 47,
      "outputs": [
        {
          "output_type": "execute_result",
          "data": {
            "text/plain": [
              "Entire home/apt    87.003727\n",
              "Private room       11.256710\n",
              "Hotel room          1.113966\n",
              "Shared room         0.625597\n",
              "Name: room_type, dtype: float64"
            ]
          },
          "metadata": {},
          "execution_count": 47
        }
      ]
    },
    {
      "cell_type": "markdown",
      "source": [
        "**Quantidade e % do tipo de imovel disponivel:**\n",
        "\n",
        "- Apartamento ou Casa Inteira: 64.669 - (**87.00%**)\n",
        "- Quarto Privativo: 8.367 - (**11.26%**)\n",
        "- Quarto de Hotel: 828 - (**1.11%**)\n",
        "- Quarto Compartilhado: 465 - (**0.63%**)"
      ],
      "metadata": {
        "id": "luzvxaiT2WNT"
      }
    },
    {
      "cell_type": "markdown",
      "source": [
        "## **Preços por tipo de Quarto**"
      ],
      "metadata": {
        "id": "3lewr04jXBdi"
      }
    },
    {
      "cell_type": "markdown",
      "source": [
        "## **Preços Médios dos alugueis por quarto/apartamento**\n"
      ],
      "metadata": {
        "id": "fEGT0qJWXJxv"
      }
    }
  ]
}