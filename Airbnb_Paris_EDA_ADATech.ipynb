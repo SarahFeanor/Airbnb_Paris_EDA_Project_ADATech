{
  "cells": [
    {
      "cell_type": "markdown",
      "metadata": {
        "id": "view-in-github",
        "colab_type": "text"
      },
      "source": [
        "<a href=\"https://colab.research.google.com/github/SarahFeanor/Airbnb_Paris_EDA_Project_ADATech/blob/main/Airbnb_Paris_EDA_ADATech.ipynb\" target=\"_parent\"><img src=\"https://colab.research.google.com/assets/colab-badge.svg\" alt=\"Open In Colab\"/></a>"
      ]
    },
    {
      "cell_type": "markdown",
      "metadata": {
        "id": "d1ZXkL82LYpO"
      },
      "source": [
        "[![Python 3.7+](https://img.shields.io/badge/python-3.7+-blue.svg)](https://www.python.org/downloads/release/python-360/) [![License: GPL v3](https://img.shields.io/badge/License-GPLv3-blue.svg)](https://www.gnu.org/licenses/gpl-3.0)\n"
      ]
    },
    {
      "cell_type": "markdown",
      "metadata": {
        "id": "IL4FZTS3LaEM"
      },
      "source": [
        "<sub> 📂 Projeto - Grupo 2 | Turma: 1102 | Programa Vem ser Tech - Dados | Módulo 4 - Técnicas de Programação (PY)  </sub>\n",
        "\n",
        "\n",
        "----"
      ]
    },
    {
      "cell_type": "markdown",
      "metadata": {
        "id": "tc-KoexjV7K3"
      },
      "source": [
        "# **Análise Explorátoria dos Dados do Airbnb - Paris 🗼**"
      ]
    },
    {
      "cell_type": "markdown",
      "metadata": {
        "id": "wQd1ZGplVtmW"
      },
      "source": [
        "<p align=\"center\">\n",
        "  <a href=\"https://github.com/SarahFeanor?tab=repositories\">\n",
        "    <img src=\"https://cdn.discordapp.com/attachments/1063559719291199599/1198980222389858464/thumb2-eiffel-tower-paris-champs-elysees-evening-paris-landmarks.jpg?ex=65c0e058&is=65ae6b58&hm=f80a94468a74b3b1a7104c55299392e769903121900d57137b15ad90714dccf4&\" alt=\"capa\" width=\"400\" height=\"300\">\n",
        "  </a>\n",
        "</p><p align=\"center\"> <sup> Foto: Torre Eiffel - Fonte: BesthHqWallpapers </sup> </p>"
      ]
    },
    {
      "cell_type": "markdown",
      "metadata": {
        "id": "nwKd9XjxLlzI"
      },
      "source": [
        "\n",
        "\n",
        "Este é um **projeto** de conclusão de módulo do curso **Vem ser Tech Dados** da Ada Tech, cujo objetivo é realizar um **EDA** (Exploratory Data Analysis) com os conhecimentos obtidos (Pandas e Numpy).\n",
        "\n",
        "Vale ressaltar que todos os dados são exclusivamente para fins de demonstração, garantindo total privacidade e conformidade ética.\n",
        "\n",
        "\n",
        "\n",
        "**Integrantes**:\n",
        "\n",
        "- [José Truta](https://www.linkedin.com/in/jos%C3%A9-truta/)\n",
        "- [Igor Cruz](https://www.linkedin.com/in/igorcruzcf/?utm_source=share&utm_campaign=share_via&utm_content=profile&utm_medium=android_app)\n",
        "- [Matheus Reis](https://www.linkedin.com/in/matheusreisn/)\n",
        "- [Leticia Carneiro](https://www.linkedin.com/in/leticia-oliv/)\n",
        "- [Sarah Rezende](https://www.linkedin.com/in/sarahfrezende/)\n",
        "\n",
        "**Professor**:\n",
        "- [Bruno Issamo](https://www.linkedin.com/in/bruno-issamo-7a977311a/)\n",
        "\n"
      ]
    },
    {
      "cell_type": "markdown",
      "metadata": {
        "id": "TIR_ovMOO0Fo"
      },
      "source": [
        "# **Visão Geral do Projeto**"
      ]
    },
    {
      "cell_type": "markdown",
      "metadata": {
        "id": "5LoaoflvDLVE"
      },
      "source": [
        "🔍Este projeto tem como foco a **análise exploratória de dados** relacionados à cidade de Paris, França, utilizando informações disponibilizadas pelo [Inside Airbnb](http://insideairbnb.com/get-the-data/). O objetivo principal é extrair percepções e conhecimentos a partir desses dados, explorando aspectos relevantes do mercado de hospedagem na cidade.\n",
        "\n",
        "💻 O contexto envolve a simulação da **RotaVIP**, uma empresa fictícia especializada em roteiros de viagem personalizados, preparando-se para uma reunião estratégica com a Airbnb. A proposta visa integrar os serviços de roteiros da **RotaVIP** com as facilidades da **Airbnb**, visando ampliar a base de clientes e proporcionar uma experiência de viagem mais completa e personalizada para usuários de ambas as plataformas.\n",
        "\n",
        "🗺️ Como analista de Dados da **RotaVIP**, realizamos uma Análise Exploratória de Dados (EDA) dedicada à cidade de Paris, com ênfase na área de hotelaria. A equipe utilizou dados do **Airbnb**, uma plataforma global que conecta anfitriões e viajantes. O Airbnb, conhecido por promover transparência e democratização dos dados, disponibiliza informações valiosas através do portal [Inside Airbnb](http://insideairbnb.com/get-the-data/).\n",
        "\n"
      ]
    },
    {
      "cell_type": "markdown",
      "metadata": {
        "id": "GaGWSFWgVIfe"
      },
      "source": [
        "# 🗼 **Paris - França**\n",
        "\n",
        "Paris, a \"Cidade Luz\", encanta com sua arquitetura icônica, incluindo a Torre Eiffel, o Louvre e a Catedral de Notre-Dame. Os charmosos cafés e bistrôs, a moda de alta qualidade e os jardins exuberantes de Luxemburgo são pontos marcantes. Passeios pelo Rio Sena, explorar o boêmio Montmartre e admirar as pontes iluminadas acrescentam romantismo. Paris é uma mistura única de história, cultura e beleza, continuando a ser um destino irresistível para viajantes de todo o mundo."
      ]
    },
    {
      "cell_type": "markdown",
      "metadata": {
        "id": "y7ssfjjBSM4g"
      },
      "source": [
        "# **Conjunto de Dados**"
      ]
    },
    {
      "cell_type": "markdown",
      "source": [
        "\n",
        "Os dados que utilizaremos foram adquiridos de um arquivo CSV disponibilizado no `Inside Airbnb`. Os arquivos usados aqui tambem podem ser adquiridos em nosso [repositório](https://github.com/SarahFeanor/Airbnb_Paris_EDA_Project_ADATech/tree/main) do **Github**:\n",
        "\n",
        "- Listagem - Informações resumidas e métricas: [listings.csv](https://github.com/SarahFeanor/Airbnb_Paris_EDA_Project_ADATech/blob/main/listings.csv)"
      ],
      "metadata": {
        "id": "w4w7CqcLaVgh"
      }
    },
    {
      "cell_type": "markdown",
      "metadata": {
        "id": "U0h-Ds9CT_Gw"
      },
      "source": [
        "# **Objetivo**"
      ]
    },
    {
      "cell_type": "markdown",
      "metadata": {
        "id": "xN0XRWtKfQ7-"
      },
      "source": [
        "O projeto visa conduzir uma análise exploratória dos dados disponibilizados pelo Inside Airbnb. Através dessa análise, buscamos identificar informações significativas e potenciais padrões, a fim de obter conclusões esclarecedoras sobre a utilização do aplicativo hoteleiro.\n",
        "\n",
        "🎯 **Backlog:**\n",
        "\n",
        "1. Importar dados e bibliotecas necessárias;\n",
        "2. Analisar a quantidade de atributos, entradas e os tipos de variáveis presentes nos dados;\n",
        "3. Identificar valores ausentes nos atributos;\n",
        "4. Realizar a limpeza e preparação dos dados;\n",
        "5. Realizar a Análise descritiva;\n",
        "6. Analisar qual o tipo de distribuição das variaveis;\n",
        "7. Verificar se há Outliers;\n",
        "8. Análise Explorátoria dos Dados\n",
        " - Qual é a média de preços de aluguel?\n",
        " - Qual é a média dos alugueis por bairro?\n",
        " - Quais os bairros mais caros?\n",
        " - Quais os preços minimos e maximos por bairro?\n",
        " - Qual a média da quantidade minima de noites para alugar?\n",
        " - Qual o tipo de imovel mais alugado no Airbnb?\n",
        " - Preços por tipos de Quarto\n",
        " - Preços Médios do alugueis/por quarto apartamento\n",
        "\n",
        "\n",
        "\n",
        "---"
      ]
    },
    {
      "cell_type": "markdown",
      "metadata": {
        "id": "qQD-XShwNUKN"
      },
      "source": [
        "## **Importanto as bibliotecas e os Dados**"
      ]
    },
    {
      "cell_type": "code",
      "execution_count": null,
      "metadata": {
        "id": "BPOy-7Xh_1Y8"
      },
      "outputs": [],
      "source": [
        "# Importando bibliotecas;\n",
        "import pandas as pd\n",
        "import numpy as np"
      ]
    },
    {
      "cell_type": "code",
      "execution_count": null,
      "metadata": {
        "id": "ZnfXAGRnbcqb"
      },
      "outputs": [],
      "source": [
        "# Importando dataset 'Listings'\n",
        "df = pd.read_csv('listings.csv')"
      ]
    },
    {
      "cell_type": "code",
      "source": [
        "# Avaliando o conjunto de dados\n",
        "print(\"Entradas: \",df.shape[0])\n",
        "print(\"Variáveis: \",df.shape[1])"
      ],
      "metadata": {
        "id": "xooHPyaaLmeM",
        "outputId": "3d0b1012-32c3-4f04-d74f-3a9d9825adf4",
        "colab": {
          "base_uri": "https://localhost:8080/"
        }
      },
      "execution_count": null,
      "outputs": [
        {
          "output_type": "stream",
          "name": "stdout",
          "text": [
            "Entradas:  74329\n",
            "Variáveis:  18\n"
          ]
        }
      ]
    },
    {
      "cell_type": "markdown",
      "metadata": {
        "id": "dA1Iz7tCRuXw"
      },
      "source": [
        "## **Mostrando as primeiras entradas:**"
      ]
    },
    {
      "cell_type": "code",
      "execution_count": null,
      "metadata": {
        "colab": {
          "base_uri": "https://localhost:8080/",
          "height": 424
        },
        "id": "YcXKsNQbPszu",
        "outputId": "8f169fed-d231-4dec-9946-e7e725b4c7fa"
      },
      "outputs": [
        {
          "output_type": "execute_result",
          "data": {
            "text/plain": [
              "     id                                               name  host_id host_name  \\\n",
              "0  3109  Rental unit in Paris · ★5.0 · 1 bedroom · 1 be...     3631      Anne   \n",
              "1  5396  Rental unit in Paris · ★4.59 · Studio · 1 bed ...     7903    Borzou   \n",
              "2  7397  Rental unit in Paris · ★4.73 · 2 bedrooms · 2 ...     2626    Franck   \n",
              "\n",
              "   neighbourhood_group   neighbourhood  latitude  longitude        room_type  \\\n",
              "0                  NaN    Observatoire  48.83191    2.31870  Entire home/apt   \n",
              "1                  NaN  Hôtel-de-Ville  48.85247    2.35835  Entire home/apt   \n",
              "2                  NaN  Hôtel-de-Ville  48.85909    2.35315  Entire home/apt   \n",
              "\n",
              "   price  minimum_nights  number_of_reviews last_review  reviews_per_month  \\\n",
              "0  150.0               2                  4  2019-10-24               0.05   \n",
              "1  146.0               1                374  2023-12-11               2.12   \n",
              "2  140.0              10                343  2023-11-16               2.22   \n",
              "\n",
              "   calculated_host_listings_count  availability_365  number_of_reviews_ltm  \\\n",
              "0                               1               327                      0   \n",
              "1                               2                 0                     48   \n",
              "2                               7               198                     22   \n",
              "\n",
              "         license  \n",
              "0  7511409139079  \n",
              "1  7510402838018  \n",
              "2  7510400829623  "
            ],
            "text/html": [
              "\n",
              "  <div id=\"df-b51febe7-ae59-4dcd-bbfb-93e4f32485ba\" class=\"colab-df-container\">\n",
              "    <div>\n",
              "<style scoped>\n",
              "    .dataframe tbody tr th:only-of-type {\n",
              "        vertical-align: middle;\n",
              "    }\n",
              "\n",
              "    .dataframe tbody tr th {\n",
              "        vertical-align: top;\n",
              "    }\n",
              "\n",
              "    .dataframe thead th {\n",
              "        text-align: right;\n",
              "    }\n",
              "</style>\n",
              "<table border=\"1\" class=\"dataframe\">\n",
              "  <thead>\n",
              "    <tr style=\"text-align: right;\">\n",
              "      <th></th>\n",
              "      <th>id</th>\n",
              "      <th>name</th>\n",
              "      <th>host_id</th>\n",
              "      <th>host_name</th>\n",
              "      <th>neighbourhood_group</th>\n",
              "      <th>neighbourhood</th>\n",
              "      <th>latitude</th>\n",
              "      <th>longitude</th>\n",
              "      <th>room_type</th>\n",
              "      <th>price</th>\n",
              "      <th>minimum_nights</th>\n",
              "      <th>number_of_reviews</th>\n",
              "      <th>last_review</th>\n",
              "      <th>reviews_per_month</th>\n",
              "      <th>calculated_host_listings_count</th>\n",
              "      <th>availability_365</th>\n",
              "      <th>number_of_reviews_ltm</th>\n",
              "      <th>license</th>\n",
              "    </tr>\n",
              "  </thead>\n",
              "  <tbody>\n",
              "    <tr>\n",
              "      <th>0</th>\n",
              "      <td>3109</td>\n",
              "      <td>Rental unit in Paris · ★5.0 · 1 bedroom · 1 be...</td>\n",
              "      <td>3631</td>\n",
              "      <td>Anne</td>\n",
              "      <td>NaN</td>\n",
              "      <td>Observatoire</td>\n",
              "      <td>48.83191</td>\n",
              "      <td>2.31870</td>\n",
              "      <td>Entire home/apt</td>\n",
              "      <td>150.0</td>\n",
              "      <td>2</td>\n",
              "      <td>4</td>\n",
              "      <td>2019-10-24</td>\n",
              "      <td>0.05</td>\n",
              "      <td>1</td>\n",
              "      <td>327</td>\n",
              "      <td>0</td>\n",
              "      <td>7511409139079</td>\n",
              "    </tr>\n",
              "    <tr>\n",
              "      <th>1</th>\n",
              "      <td>5396</td>\n",
              "      <td>Rental unit in Paris · ★4.59 · Studio · 1 bed ...</td>\n",
              "      <td>7903</td>\n",
              "      <td>Borzou</td>\n",
              "      <td>NaN</td>\n",
              "      <td>Hôtel-de-Ville</td>\n",
              "      <td>48.85247</td>\n",
              "      <td>2.35835</td>\n",
              "      <td>Entire home/apt</td>\n",
              "      <td>146.0</td>\n",
              "      <td>1</td>\n",
              "      <td>374</td>\n",
              "      <td>2023-12-11</td>\n",
              "      <td>2.12</td>\n",
              "      <td>2</td>\n",
              "      <td>0</td>\n",
              "      <td>48</td>\n",
              "      <td>7510402838018</td>\n",
              "    </tr>\n",
              "    <tr>\n",
              "      <th>2</th>\n",
              "      <td>7397</td>\n",
              "      <td>Rental unit in Paris · ★4.73 · 2 bedrooms · 2 ...</td>\n",
              "      <td>2626</td>\n",
              "      <td>Franck</td>\n",
              "      <td>NaN</td>\n",
              "      <td>Hôtel-de-Ville</td>\n",
              "      <td>48.85909</td>\n",
              "      <td>2.35315</td>\n",
              "      <td>Entire home/apt</td>\n",
              "      <td>140.0</td>\n",
              "      <td>10</td>\n",
              "      <td>343</td>\n",
              "      <td>2023-11-16</td>\n",
              "      <td>2.22</td>\n",
              "      <td>7</td>\n",
              "      <td>198</td>\n",
              "      <td>22</td>\n",
              "      <td>7510400829623</td>\n",
              "    </tr>\n",
              "  </tbody>\n",
              "</table>\n",
              "</div>\n",
              "    <div class=\"colab-df-buttons\">\n",
              "\n",
              "  <div class=\"colab-df-container\">\n",
              "    <button class=\"colab-df-convert\" onclick=\"convertToInteractive('df-b51febe7-ae59-4dcd-bbfb-93e4f32485ba')\"\n",
              "            title=\"Convert this dataframe to an interactive table.\"\n",
              "            style=\"display:none;\">\n",
              "\n",
              "  <svg xmlns=\"http://www.w3.org/2000/svg\" height=\"24px\" viewBox=\"0 -960 960 960\">\n",
              "    <path d=\"M120-120v-720h720v720H120Zm60-500h600v-160H180v160Zm220 220h160v-160H400v160Zm0 220h160v-160H400v160ZM180-400h160v-160H180v160Zm440 0h160v-160H620v160ZM180-180h160v-160H180v160Zm440 0h160v-160H620v160Z\"/>\n",
              "  </svg>\n",
              "    </button>\n",
              "\n",
              "  <style>\n",
              "    .colab-df-container {\n",
              "      display:flex;\n",
              "      gap: 12px;\n",
              "    }\n",
              "\n",
              "    .colab-df-convert {\n",
              "      background-color: #E8F0FE;\n",
              "      border: none;\n",
              "      border-radius: 50%;\n",
              "      cursor: pointer;\n",
              "      display: none;\n",
              "      fill: #1967D2;\n",
              "      height: 32px;\n",
              "      padding: 0 0 0 0;\n",
              "      width: 32px;\n",
              "    }\n",
              "\n",
              "    .colab-df-convert:hover {\n",
              "      background-color: #E2EBFA;\n",
              "      box-shadow: 0px 1px 2px rgba(60, 64, 67, 0.3), 0px 1px 3px 1px rgba(60, 64, 67, 0.15);\n",
              "      fill: #174EA6;\n",
              "    }\n",
              "\n",
              "    .colab-df-buttons div {\n",
              "      margin-bottom: 4px;\n",
              "    }\n",
              "\n",
              "    [theme=dark] .colab-df-convert {\n",
              "      background-color: #3B4455;\n",
              "      fill: #D2E3FC;\n",
              "    }\n",
              "\n",
              "    [theme=dark] .colab-df-convert:hover {\n",
              "      background-color: #434B5C;\n",
              "      box-shadow: 0px 1px 3px 1px rgba(0, 0, 0, 0.15);\n",
              "      filter: drop-shadow(0px 1px 2px rgba(0, 0, 0, 0.3));\n",
              "      fill: #FFFFFF;\n",
              "    }\n",
              "  </style>\n",
              "\n",
              "    <script>\n",
              "      const buttonEl =\n",
              "        document.querySelector('#df-b51febe7-ae59-4dcd-bbfb-93e4f32485ba button.colab-df-convert');\n",
              "      buttonEl.style.display =\n",
              "        google.colab.kernel.accessAllowed ? 'block' : 'none';\n",
              "\n",
              "      async function convertToInteractive(key) {\n",
              "        const element = document.querySelector('#df-b51febe7-ae59-4dcd-bbfb-93e4f32485ba');\n",
              "        const dataTable =\n",
              "          await google.colab.kernel.invokeFunction('convertToInteractive',\n",
              "                                                    [key], {});\n",
              "        if (!dataTable) return;\n",
              "\n",
              "        const docLinkHtml = 'Like what you see? Visit the ' +\n",
              "          '<a target=\"_blank\" href=https://colab.research.google.com/notebooks/data_table.ipynb>data table notebook</a>'\n",
              "          + ' to learn more about interactive tables.';\n",
              "        element.innerHTML = '';\n",
              "        dataTable['output_type'] = 'display_data';\n",
              "        await google.colab.output.renderOutput(dataTable, element);\n",
              "        const docLink = document.createElement('div');\n",
              "        docLink.innerHTML = docLinkHtml;\n",
              "        element.appendChild(docLink);\n",
              "      }\n",
              "    </script>\n",
              "  </div>\n",
              "\n",
              "\n",
              "<div id=\"df-57570e85-88a1-47f6-8b84-de79a4affc7c\">\n",
              "  <button class=\"colab-df-quickchart\" onclick=\"quickchart('df-57570e85-88a1-47f6-8b84-de79a4affc7c')\"\n",
              "            title=\"Suggest charts\"\n",
              "            style=\"display:none;\">\n",
              "\n",
              "<svg xmlns=\"http://www.w3.org/2000/svg\" height=\"24px\"viewBox=\"0 0 24 24\"\n",
              "     width=\"24px\">\n",
              "    <g>\n",
              "        <path d=\"M19 3H5c-1.1 0-2 .9-2 2v14c0 1.1.9 2 2 2h14c1.1 0 2-.9 2-2V5c0-1.1-.9-2-2-2zM9 17H7v-7h2v7zm4 0h-2V7h2v10zm4 0h-2v-4h2v4z\"/>\n",
              "    </g>\n",
              "</svg>\n",
              "  </button>\n",
              "\n",
              "<style>\n",
              "  .colab-df-quickchart {\n",
              "      --bg-color: #E8F0FE;\n",
              "      --fill-color: #1967D2;\n",
              "      --hover-bg-color: #E2EBFA;\n",
              "      --hover-fill-color: #174EA6;\n",
              "      --disabled-fill-color: #AAA;\n",
              "      --disabled-bg-color: #DDD;\n",
              "  }\n",
              "\n",
              "  [theme=dark] .colab-df-quickchart {\n",
              "      --bg-color: #3B4455;\n",
              "      --fill-color: #D2E3FC;\n",
              "      --hover-bg-color: #434B5C;\n",
              "      --hover-fill-color: #FFFFFF;\n",
              "      --disabled-bg-color: #3B4455;\n",
              "      --disabled-fill-color: #666;\n",
              "  }\n",
              "\n",
              "  .colab-df-quickchart {\n",
              "    background-color: var(--bg-color);\n",
              "    border: none;\n",
              "    border-radius: 50%;\n",
              "    cursor: pointer;\n",
              "    display: none;\n",
              "    fill: var(--fill-color);\n",
              "    height: 32px;\n",
              "    padding: 0;\n",
              "    width: 32px;\n",
              "  }\n",
              "\n",
              "  .colab-df-quickchart:hover {\n",
              "    background-color: var(--hover-bg-color);\n",
              "    box-shadow: 0 1px 2px rgba(60, 64, 67, 0.3), 0 1px 3px 1px rgba(60, 64, 67, 0.15);\n",
              "    fill: var(--button-hover-fill-color);\n",
              "  }\n",
              "\n",
              "  .colab-df-quickchart-complete:disabled,\n",
              "  .colab-df-quickchart-complete:disabled:hover {\n",
              "    background-color: var(--disabled-bg-color);\n",
              "    fill: var(--disabled-fill-color);\n",
              "    box-shadow: none;\n",
              "  }\n",
              "\n",
              "  .colab-df-spinner {\n",
              "    border: 2px solid var(--fill-color);\n",
              "    border-color: transparent;\n",
              "    border-bottom-color: var(--fill-color);\n",
              "    animation:\n",
              "      spin 1s steps(1) infinite;\n",
              "  }\n",
              "\n",
              "  @keyframes spin {\n",
              "    0% {\n",
              "      border-color: transparent;\n",
              "      border-bottom-color: var(--fill-color);\n",
              "      border-left-color: var(--fill-color);\n",
              "    }\n",
              "    20% {\n",
              "      border-color: transparent;\n",
              "      border-left-color: var(--fill-color);\n",
              "      border-top-color: var(--fill-color);\n",
              "    }\n",
              "    30% {\n",
              "      border-color: transparent;\n",
              "      border-left-color: var(--fill-color);\n",
              "      border-top-color: var(--fill-color);\n",
              "      border-right-color: var(--fill-color);\n",
              "    }\n",
              "    40% {\n",
              "      border-color: transparent;\n",
              "      border-right-color: var(--fill-color);\n",
              "      border-top-color: var(--fill-color);\n",
              "    }\n",
              "    60% {\n",
              "      border-color: transparent;\n",
              "      border-right-color: var(--fill-color);\n",
              "    }\n",
              "    80% {\n",
              "      border-color: transparent;\n",
              "      border-right-color: var(--fill-color);\n",
              "      border-bottom-color: var(--fill-color);\n",
              "    }\n",
              "    90% {\n",
              "      border-color: transparent;\n",
              "      border-bottom-color: var(--fill-color);\n",
              "    }\n",
              "  }\n",
              "</style>\n",
              "\n",
              "  <script>\n",
              "    async function quickchart(key) {\n",
              "      const quickchartButtonEl =\n",
              "        document.querySelector('#' + key + ' button');\n",
              "      quickchartButtonEl.disabled = true;  // To prevent multiple clicks.\n",
              "      quickchartButtonEl.classList.add('colab-df-spinner');\n",
              "      try {\n",
              "        const charts = await google.colab.kernel.invokeFunction(\n",
              "            'suggestCharts', [key], {});\n",
              "      } catch (error) {\n",
              "        console.error('Error during call to suggestCharts:', error);\n",
              "      }\n",
              "      quickchartButtonEl.classList.remove('colab-df-spinner');\n",
              "      quickchartButtonEl.classList.add('colab-df-quickchart-complete');\n",
              "    }\n",
              "    (() => {\n",
              "      let quickchartButtonEl =\n",
              "        document.querySelector('#df-57570e85-88a1-47f6-8b84-de79a4affc7c button');\n",
              "      quickchartButtonEl.style.display =\n",
              "        google.colab.kernel.accessAllowed ? 'block' : 'none';\n",
              "    })();\n",
              "  </script>\n",
              "</div>\n",
              "\n",
              "    </div>\n",
              "  </div>\n"
            ]
          },
          "metadata": {},
          "execution_count": 4
        }
      ],
      "source": [
        "df.head(n=3)"
      ]
    },
    {
      "cell_type": "code",
      "execution_count": null,
      "metadata": {
        "colab": {
          "base_uri": "https://localhost:8080/"
        },
        "id": "CZM3mKWDvKDQ",
        "outputId": "d5bd6986-0267-40e5-a6bc-57d19b84fe14"
      },
      "outputs": [
        {
          "output_type": "execute_result",
          "data": {
            "text/plain": [
              "Index(['id', 'name', 'host_id', 'host_name', 'neighbourhood_group',\n",
              "       'neighbourhood', 'latitude', 'longitude', 'room_type', 'price',\n",
              "       'minimum_nights', 'number_of_reviews', 'last_review',\n",
              "       'reviews_per_month', 'calculated_host_listings_count',\n",
              "       'availability_365', 'number_of_reviews_ltm', 'license'],\n",
              "      dtype='object')"
            ]
          },
          "metadata": {},
          "execution_count": 5
        }
      ],
      "source": [
        "# Colunas do DF\n",
        "df.columns"
      ]
    },
    {
      "cell_type": "markdown",
      "source": [
        "### **Criando colunas a partir de particionamento em 'name'**\n"
      ],
      "metadata": {
        "id": "BXKC7brLxpaG"
      }
    },
    {
      "cell_type": "markdown",
      "source": [
        "Ao analisarmos nosso conjunto de dados, percebemos que havia uma condensação de informações nos dados obtidos na coluna '`name`', como:\n",
        "\n",
        "- score de avaliação;\n",
        "- quantidade de quartos;\n",
        "- quantidade de camas;\n",
        "- quantidade de banheiros;\n",
        "\n",
        "Possivelmente como resultado do processo de webscraping. Optamos por destacá-los e criar novas colunas contendo tais informações."
      ],
      "metadata": {
        "id": "80v6sgQjx-yF"
      }
    },
    {
      "cell_type": "code",
      "source": [
        "# Analisando a coluna \"name\"\n",
        "df['name'][0]"
      ],
      "metadata": {
        "id": "QChAQFTcG2kE",
        "outputId": "29cc8103-b65a-4880-9910-c271fe1073a7",
        "colab": {
          "base_uri": "https://localhost:8080/",
          "height": 36
        }
      },
      "execution_count": null,
      "outputs": [
        {
          "output_type": "execute_result",
          "data": {
            "text/plain": [
              "'Rental unit in Paris · ★5.0 · 1 bedroom · 1 bed · 1 bath'"
            ],
            "application/vnd.google.colaboratory.intrinsic+json": {
              "type": "string"
            }
          },
          "metadata": {},
          "execution_count": 6
        }
      ]
    },
    {
      "cell_type": "markdown",
      "source": [
        "#### **Coluna - Notas de avaliação**"
      ],
      "metadata": {
        "id": "AtpWoGwnHZuD"
      }
    },
    {
      "cell_type": "code",
      "execution_count": null,
      "metadata": {
        "id": "Xv2sk2LKKXtZ"
      },
      "outputs": [],
      "source": [
        "# Extraindo as notas dos usuários da coluna \"name\"\n",
        "def extractScore(name):\n",
        "    for i in range(len(name)):\n",
        "        if name[i] == '★':\n",
        "            return name[i+1:i+5]\n",
        "    return 'No Score'"
      ]
    },
    {
      "cell_type": "code",
      "execution_count": null,
      "metadata": {
        "id": "Y-G-fihEKZ17"
      },
      "outputs": [],
      "source": [
        "# Criação de coluna com a avaliação por nota dos usuários;\n",
        "df['score'] = 'NaN'\n",
        "\n",
        "for i in range(len(df)):\n",
        "    df.loc[i, 'score'] = extractScore(df['name'][i])"
      ]
    },
    {
      "cell_type": "code",
      "execution_count": null,
      "metadata": {
        "colab": {
          "base_uri": "https://localhost:8080/"
        },
        "id": "nfMi7sD3KcnH",
        "outputId": "3073a813-a654-4eb8-dc8f-d66cf8ffbda5"
      },
      "outputs": [
        {
          "output_type": "execute_result",
          "data": {
            "text/plain": [
              "No Score    21356\n",
              "5.0          8556\n",
              "New          6475\n",
              "4.67         1853\n",
              "4.75         1481\n",
              "            ...  \n",
              "1.83            1\n",
              "1.40            1\n",
              "3.31            1\n",
              "3.99            1\n",
              "3.27            1\n",
              "Name: score, Length: 191, dtype: int64"
            ]
          },
          "metadata": {},
          "execution_count": 9
        }
      ],
      "source": [
        "df['score'].value_counts()"
      ]
    },
    {
      "cell_type": "markdown",
      "source": [
        "#### **Coluna Quartos**"
      ],
      "metadata": {
        "id": "B1Oc3_SPIBb7"
      }
    },
    {
      "cell_type": "code",
      "source": [
        "# Função para extrair a quantidade de quartos da coluna \"name\"\n",
        "def extractBedroom(name):\n",
        "    lista = name.split(' · ')\n",
        "\n",
        "    qtd = 0\n",
        "\n",
        "    for item in lista:\n",
        "        if 'bedroom' in item:\n",
        "            qtd = item[0]\n",
        "            break\n",
        "\n",
        "    return qtd"
      ],
      "metadata": {
        "id": "VC1Oi6jwIHX8"
      },
      "execution_count": null,
      "outputs": []
    },
    {
      "cell_type": "code",
      "source": [
        "# Criação de coluna com a quantidade de quartos;\n",
        "df['bedroom'] = np.NaN\n",
        "\n",
        "for i in range(len(df)):\n",
        "    df.loc[i, 'bedroom'] = extractBedroom(df['name'][i])"
      ],
      "metadata": {
        "id": "sowkHgphIcEL"
      },
      "execution_count": null,
      "outputs": []
    },
    {
      "cell_type": "markdown",
      "source": [
        "O valor `0` em 'bedroom' indica que a listagem é um Studio sem quartos."
      ],
      "metadata": {
        "id": "4L4_dSJiJAfy"
      }
    },
    {
      "cell_type": "code",
      "source": [
        "# O valor 0 em 'bedroom' indica que a listagem é um Studio sem quartos.\n",
        "df['bedroom'].value_counts()"
      ],
      "metadata": {
        "id": "RDn11UWhIhqB",
        "outputId": "c6dc10c3-bc02-4f5d-ba6e-aa5ae7b497a2",
        "colab": {
          "base_uri": "https://localhost:8080/"
        }
      },
      "execution_count": null,
      "outputs": [
        {
          "output_type": "execute_result",
          "data": {
            "text/plain": [
              "1    45846\n",
              "2    12836\n",
              "0    10012\n",
              "3     4239\n",
              "4     1068\n",
              "5      232\n",
              "6       67\n",
              "7       22\n",
              "8        5\n",
              "9        2\n",
              "Name: bedroom, dtype: int64"
            ]
          },
          "metadata": {},
          "execution_count": 12
        }
      ]
    },
    {
      "cell_type": "markdown",
      "source": [
        "#### **Coluna Camas**"
      ],
      "metadata": {
        "id": "UBWiO0htIs2h"
      }
    },
    {
      "cell_type": "code",
      "source": [
        "# Função para extrair a quantidade de camas da coluna \"name\";\n",
        "def extractBed(name):\n",
        "    lista = name.split(' · ')\n",
        "\n",
        "    qtd = 0\n",
        "\n",
        "    for item in lista:\n",
        "        if 'bedroom' not in item and 'bed' in item:\n",
        "            qtd = item[0:1]\n",
        "            break\n",
        "\n",
        "    return qtd"
      ],
      "metadata": {
        "id": "aWcYr0_pIyEZ"
      },
      "execution_count": null,
      "outputs": []
    },
    {
      "cell_type": "code",
      "source": [
        "# Criação de coluna com a quantidade de camas;\n",
        "df['bed'] = np.NaN\n",
        "\n",
        "for i in range(len(df)):\n",
        "    df.loc[i, 'bed'] = extractBed(df['name'][i])"
      ],
      "metadata": {
        "id": "H59fDOPEI1o1"
      },
      "execution_count": null,
      "outputs": []
    },
    {
      "cell_type": "markdown",
      "source": [
        "O valor `0` em 'bed' indica que a listagem é um Studio sem camas."
      ],
      "metadata": {
        "id": "leDLFuhnJK7M"
      }
    },
    {
      "cell_type": "code",
      "source": [
        "df['bed'].value_counts()"
      ],
      "metadata": {
        "id": "MpqUtYeEI5gE",
        "outputId": "4f57f80a-2a81-43ef-93fc-4c42e7985af7",
        "colab": {
          "base_uri": "https://localhost:8080/"
        }
      },
      "execution_count": null,
      "outputs": [
        {
          "output_type": "execute_result",
          "data": {
            "text/plain": [
              "1    39498\n",
              "2    21769\n",
              "3     7358\n",
              "4     3138\n",
              "5     1139\n",
              "0      714\n",
              "6      444\n",
              "7      147\n",
              "8       88\n",
              "9       34\n",
              "Name: bed, dtype: int64"
            ]
          },
          "metadata": {},
          "execution_count": 15
        }
      ]
    },
    {
      "cell_type": "markdown",
      "source": [
        "#### **Coluna Banheiros**"
      ],
      "metadata": {
        "id": "BDCy2R7BJZYZ"
      }
    },
    {
      "cell_type": "code",
      "source": [
        "# Função para extrair a quantidade de banheiros da coluna \"name\";\n",
        "def extractBath(name):\n",
        "    lista = name.split(' · ')\n",
        "\n",
        "    qtd = 0\n",
        "\n",
        "    for item in lista:\n",
        "        if 'bath' in item:\n",
        "            qtd = item[0]\n",
        "\n",
        "            if not qtd.isnumeric():\n",
        "                qtd = 0\n",
        "\n",
        "            break\n",
        "\n",
        "    return qtd"
      ],
      "metadata": {
        "id": "pCDNWgCsJgmy"
      },
      "execution_count": null,
      "outputs": []
    },
    {
      "cell_type": "code",
      "source": [
        "# Criação de coluna com a quantidade de camas;\n",
        "df['bath'] = 'NaN'\n",
        "\n",
        "for i in range(len(df)):\n",
        "    df.loc[i, 'bath'] = int(extractBath(df['name'][i]))"
      ],
      "metadata": {
        "id": "6kaPipDzJigC"
      },
      "execution_count": null,
      "outputs": []
    },
    {
      "cell_type": "markdown",
      "source": [
        "O valor `O` indica que são locais sem banheiro, pois há apenas lavabo."
      ],
      "metadata": {
        "id": "abEZtVKOJp2L"
      }
    },
    {
      "cell_type": "code",
      "source": [
        "# O valor O indica que são locais sem banheiro, há apenas lavabo;\n",
        "df['bath'].value_counts()"
      ],
      "metadata": {
        "id": "NtMsX_1wJnrU",
        "outputId": "b1cddb35-9aba-47dc-fa7f-0076113add96",
        "colab": {
          "base_uri": "https://localhost:8080/"
        }
      },
      "execution_count": null,
      "outputs": [
        {
          "output_type": "execute_result",
          "data": {
            "text/plain": [
              "1    66610\n",
              "2     5905\n",
              "3      952\n",
              "0      581\n",
              "4      200\n",
              "5       44\n",
              "6       26\n",
              "7        8\n",
              "8        2\n",
              "9        1\n",
              "Name: bath, dtype: int64"
            ]
          },
          "metadata": {},
          "execution_count": 18
        }
      ]
    },
    {
      "cell_type": "markdown",
      "metadata": {
        "id": "Kpqr0Q6ITBt3"
      },
      "source": [
        "## **Análise inicial dos dados**\n",
        "\n",
        "Vamos começar nossa análise ao descrever as variáveis presentes no conjunto de dados para compreender o significado de cada coluna.\n",
        "\n"
      ]
    },
    {
      "cell_type": "code",
      "source": [
        "# Colunas do DF\n",
        "df.columns"
      ],
      "metadata": {
        "id": "8sgzsbbKJ5xK",
        "outputId": "f184f080-215a-4aa7-d72e-96c48270f5ed",
        "colab": {
          "base_uri": "https://localhost:8080/"
        }
      },
      "execution_count": null,
      "outputs": [
        {
          "output_type": "execute_result",
          "data": {
            "text/plain": [
              "Index(['id', 'name', 'host_id', 'host_name', 'neighbourhood_group',\n",
              "       'neighbourhood', 'latitude', 'longitude', 'room_type', 'price',\n",
              "       'minimum_nights', 'number_of_reviews', 'last_review',\n",
              "       'reviews_per_month', 'calculated_host_listings_count',\n",
              "       'availability_365', 'number_of_reviews_ltm', 'license', 'score',\n",
              "       'bedroom', 'bed', 'bath'],\n",
              "      dtype='object')"
            ]
          },
          "metadata": {},
          "execution_count": 19
        }
      ]
    },
    {
      "cell_type": "markdown",
      "metadata": {
        "id": "DjDlq-FaSCWu"
      },
      "source": [
        "**Dicionário de Variavéis**\n",
        "\n",
        "- `id`: Identificador único para cada listagem no Airbnb, distinguindo cada propriedade individualmente.\n",
        "- `name`: Nome da propriedade anunciada.\n",
        "- `host_id`: Identificador único para o anfitrião (host) da propriedade.\n",
        "- `host_name`: Nome do anfitrião\n",
        "- `neighbourhood_group`: Subdivisão geográfica mais ampla, como um distrito ou bairro.\n",
        "- `neighbourhood`: Nome do bairro/ Distrito.\n",
        "- `latitude`: Coordenada de latitude da localização da propriedade.\n",
        "- `longitude`: Coordenada de longitude da localização da propriedade.\n",
        "- `room_type`: Tipo de quarto ou unidade anunciada (por exemplo, \"Casa inteira\", \"Quarto privado\", \"Compartilhado\").\n",
        "- `price`: Valor do aluguel da propriedade por noite.\n",
        "- `minimum_nights`: Número mínimo de noites que um hóspede deve reservar para esta propriedade.\n",
        "- `number_of_reviews`: Total de avaliações que a propriedade recebeu de hóspedes anteriores.\n",
        "- `last_review`: Data da última avaliação/revisão deixada por um hóspede.\n",
        "- `reviews_per_month`: Média de avaliações/revisões que a propriedade recebe por mês.\n",
        "- `calculated_host_listings_count`: Número total de propriedades que o host possui, calculado automaticamente.\n",
        "- `availability_365`: Número de dias em que a propriedade está disponível para reserva ao longo do ano.\n",
        "- `number_of_reviews_ltm`: Número de avaliações que a propriedade recebeu nos últimos doze meses.\n",
        "- `license`: Possível licença ou autorização associada à propriedade.\n",
        "\n",
        "#### **Colunas adicionadas:**\n",
        "\n",
        "- `score`: Notas que a propriedade recebeu\n",
        "- `bedroom`: Quantidade de quartos (o valor 0 siginifica que se trata de um Studio)\n",
        "- `bed`: Quantidade de Camas (o valor 0 siginifica que se trata de um Studio)\n",
        "- `bath`: Quantidade de Banheiros (o valor 0 siginifica que a locação só tem lavabo)"
      ]
    },
    {
      "cell_type": "markdown",
      "metadata": {
        "id": "OZ4TxH-bV1b9"
      },
      "source": [
        "## **Quantos atributos (variáveis) e entradas compõem nosso conjunto de dados? Quais são os tipos das variáveis presentes?**"
      ]
    },
    {
      "cell_type": "markdown",
      "metadata": {
        "id": "UHxlEcGecuL8"
      },
      "source": [
        "📝 Notamos que nosso dataset tem **74.392** linhas e **22** variaveis dos tipos **int**, **string** e **float**."
      ]
    },
    {
      "cell_type": "code",
      "execution_count": null,
      "metadata": {
        "colab": {
          "base_uri": "https://localhost:8080/"
        },
        "id": "s8jftjd3cNKk",
        "outputId": "a112f383-959b-432e-e5cf-c0f09d8b9eb9"
      },
      "outputs": [
        {
          "output_type": "stream",
          "name": "stdout",
          "text": [
            "Entradas:  74329\n",
            "Variáveis:  22\n"
          ]
        }
      ],
      "source": [
        "# Avaliando o conjunto de dados\n",
        "print(\"Entradas: \",df.shape[0])\n",
        "print(\"Variáveis: \",df.shape[1])"
      ]
    },
    {
      "cell_type": "code",
      "execution_count": null,
      "metadata": {
        "colab": {
          "base_uri": "https://localhost:8080/"
        },
        "id": "4aUgYaNy-JPO",
        "outputId": "cab0f93f-6abf-4bdb-e006-ee3d4e1ac47d"
      },
      "outputs": [
        {
          "output_type": "stream",
          "name": "stdout",
          "text": [
            "<class 'pandas.core.frame.DataFrame'>\n",
            "RangeIndex: 74329 entries, 0 to 74328\n",
            "Data columns (total 22 columns):\n",
            " #   Column                          Non-Null Count  Dtype  \n",
            "---  ------                          --------------  -----  \n",
            " 0   id                              74329 non-null  int64  \n",
            " 1   name                            74329 non-null  object \n",
            " 2   host_id                         74329 non-null  int64  \n",
            " 3   host_name                       74320 non-null  object \n",
            " 4   neighbourhood_group             0 non-null      float64\n",
            " 5   neighbourhood                   74329 non-null  object \n",
            " 6   latitude                        74329 non-null  float64\n",
            " 7   longitude                       74329 non-null  float64\n",
            " 8   room_type                       74329 non-null  object \n",
            " 9   price                           67108 non-null  float64\n",
            " 10  minimum_nights                  74329 non-null  int64  \n",
            " 11  number_of_reviews               74329 non-null  int64  \n",
            " 12  last_review                     56438 non-null  object \n",
            " 13  reviews_per_month               56438 non-null  float64\n",
            " 14  calculated_host_listings_count  74329 non-null  int64  \n",
            " 15  availability_365                74329 non-null  int64  \n",
            " 16  number_of_reviews_ltm           74329 non-null  int64  \n",
            " 17  license                         54687 non-null  object \n",
            " 18  score                           74329 non-null  object \n",
            " 19  bedroom                         74329 non-null  object \n",
            " 20  bed                             74329 non-null  object \n",
            " 21  bath                            74329 non-null  object \n",
            "dtypes: float64(5), int64(7), object(10)\n",
            "memory usage: 12.5+ MB\n"
          ]
        }
      ],
      "source": [
        "# Analisando o tipo das variáveis, e outras informações\n",
        "df.info()"
      ]
    },
    {
      "cell_type": "markdown",
      "metadata": {
        "id": "FaZoRDZbZPPI"
      },
      "source": [
        "## **Qual a porcentagem de valores ausentes no *dataset*?**\n",
        "\n",
        "📝 Podemos ver que existem alguns valores ausentes em nossos dados e temos que trata-los para garantir que nossas análises sejam robustas e confiáveis.\n",
        "\n"
      ]
    },
    {
      "cell_type": "markdown",
      "source": [
        "- É possível ver que a coluna **neighbourhood_group** possui **100%** dos seus valores faltantes.\n",
        "- As variáveis ***reviews_per_month*** e ***last_review*** possuem como valores nulos **24.07%**.\n",
        "- A coluna license **26.43%** e a ***hostname*** apenas **0.01%**.\n",
        "- A coluna ***price*** possui **9.71%** de valores faltantes."
      ],
      "metadata": {
        "id": "5ssTLoCYcXUY"
      }
    },
    {
      "cell_type": "code",
      "execution_count": null,
      "metadata": {
        "colab": {
          "base_uri": "https://localhost:8080/"
        },
        "id": "6uxeZdavsUT9",
        "outputId": "937a971f-d70d-4b2a-f91d-e02426e16ce1"
      },
      "outputs": [
        {
          "output_type": "execute_result",
          "data": {
            "text/plain": [
              "neighbourhood_group               100.00\n",
              "license                            26.43\n",
              "reviews_per_month                  24.07\n",
              "last_review                        24.07\n",
              "price                               9.71\n",
              "host_name                           0.01\n",
              "id                                  0.00\n",
              "bed                                 0.00\n",
              "bedroom                             0.00\n",
              "score                               0.00\n",
              "number_of_reviews_ltm               0.00\n",
              "availability_365                    0.00\n",
              "calculated_host_listings_count      0.00\n",
              "number_of_reviews                   0.00\n",
              "name                                0.00\n",
              "minimum_nights                      0.00\n",
              "room_type                           0.00\n",
              "longitude                           0.00\n",
              "latitude                            0.00\n",
              "neighbourhood                       0.00\n",
              "host_id                             0.00\n",
              "bath                                0.00\n",
              "dtype: float64"
            ]
          },
          "metadata": {},
          "execution_count": 22
        }
      ],
      "source": [
        "# % do Dataset\n",
        "(round((df.isnull().sum()/df.shape[0]),4)*100).sort_values(ascending = False)\n"
      ]
    },
    {
      "cell_type": "code",
      "execution_count": null,
      "metadata": {
        "colab": {
          "base_uri": "https://localhost:8080/"
        },
        "id": "iiQp6cak-Kqj",
        "outputId": "bc71bf72-4342-48b7-aaae-35e416e99430"
      },
      "outputs": [
        {
          "output_type": "execute_result",
          "data": {
            "text/plain": [
              "id                                    0\n",
              "name                                  0\n",
              "host_id                               0\n",
              "host_name                             9\n",
              "neighbourhood_group               74329\n",
              "neighbourhood                         0\n",
              "latitude                              0\n",
              "longitude                             0\n",
              "room_type                             0\n",
              "price                              7221\n",
              "minimum_nights                        0\n",
              "number_of_reviews                     0\n",
              "last_review                       17891\n",
              "reviews_per_month                 17891\n",
              "calculated_host_listings_count        0\n",
              "availability_365                      0\n",
              "number_of_reviews_ltm                 0\n",
              "license                           19642\n",
              "score                                 0\n",
              "bedroom                               0\n",
              "bed                                   0\n",
              "bath                                  0\n",
              "dtype: int64"
            ]
          },
          "metadata": {},
          "execution_count": 23
        }
      ],
      "source": [
        "# Valores Ausentes\n",
        "df.isnull().sum()"
      ]
    },
    {
      "cell_type": "markdown",
      "metadata": {
        "id": "yPRiJIWOqFF8"
      },
      "source": [
        "# **Limpeza e tratamento de dados**\n",
        "\n",
        "Vamos empregar estratégias como o preenchimento de dados ausentes, a eliminação de colunas irrelevantes e outras técnicas de imputação, conforme necessário. Essas ações visam assegurar que nossas análises subsequentes se fundamentem em dados abrangentes e representativos."
      ]
    },
    {
      "cell_type": "markdown",
      "source": [
        "### **Excluindo colunas**\n",
        "\n",
        "Nesta etapa, decidimos excluir 3 colunas:\n",
        "\n",
        "- As colunas `last_review` e `license`, por sua vez, serão removidas, uma vez que a ausência delas não impacta a continuidade da análise.\n",
        "- Sem nenhuma perda de dados, podemos excluir a coluna `neighbourhood_group`, pois não apresentam informações."
      ],
      "metadata": {
        "id": "WAnY02bbchxG"
      }
    },
    {
      "cell_type": "code",
      "execution_count": null,
      "metadata": {
        "colab": {
          "base_uri": "https://localhost:8080/"
        },
        "id": "zJEYugDsATXk",
        "outputId": "6d8f38b1-dfca-4285-f8e6-63ebfca2d5fb"
      },
      "outputs": [
        {
          "output_type": "execute_result",
          "data": {
            "text/plain": [
              "(17891, 22)"
            ]
          },
          "metadata": {},
          "execution_count": 24
        }
      ],
      "source": [
        "# Verificando coincidência entre as colunas 'reviews_per_month' e 'last_review';\n",
        "df[df['reviews_per_month'].isnull() & df['last_review'].isnull()].shape"
      ]
    },
    {
      "cell_type": "code",
      "execution_count": null,
      "metadata": {
        "id": "9LlP0eUUs038"
      },
      "outputs": [],
      "source": [
        "# Excluindo coluna 'neighbourhood_group', 'license' e 'last_review';\n",
        "df.drop(columns=['neighbourhood_group', 'license', 'last_review'], inplace=True)"
      ]
    },
    {
      "cell_type": "markdown",
      "source": [
        "### **Preenchendo os valores nulos da coluna \"price\" com a média de valores por bairro**"
      ],
      "metadata": {
        "id": "hu-4iO7ac8fb"
      }
    },
    {
      "cell_type": "code",
      "execution_count": null,
      "metadata": {
        "id": "ZXIfIBvnZSt2"
      },
      "outputs": [],
      "source": [
        "# Armazenando em variável a lista com os bairros listados;\n",
        "bairros = df['neighbourhood'].unique()"
      ]
    },
    {
      "cell_type": "code",
      "execution_count": null,
      "metadata": {
        "id": "8A0iX7JQL4A1"
      },
      "outputs": [],
      "source": [
        "# Inserindo médias de preço nas observações nulas da coluna 'price' a partir da média por bairro;\n",
        "df_precoPorBairro = df.pivot_table(index='neighbourhood', values='price', aggfunc=['mean', 'std', 'median'])\n"
      ]
    },
    {
      "cell_type": "code",
      "execution_count": null,
      "metadata": {
        "id": "nH9Hdb20MCfs"
      },
      "outputs": [],
      "source": [
        "df_precoPorBairro.columns = df_precoPorBairro.columns.droplevel(0)"
      ]
    },
    {
      "cell_type": "code",
      "execution_count": null,
      "metadata": {
        "colab": {
          "base_uri": "https://localhost:8080/",
          "height": 237
        },
        "id": "rI2aaj6rMHYK",
        "outputId": "fd4cf62d-4ca4-4e4a-a0ec-d73edde15f64"
      },
      "outputs": [
        {
          "output_type": "execute_result",
          "data": {
            "text/plain": [
              "                           mean         std  median\n",
              "neighbourhood                                      \n",
              "Batignolles-Monceau  216.345088  509.224960   123.0\n",
              "Bourse               246.330947  502.864136   162.0\n",
              "Buttes-Chaumont      159.192258  621.667492    98.0\n",
              "Buttes-Montmartre    154.279611  255.309570   109.0\n",
              "Entrepôt             184.537228  318.696637   122.0"
            ],
            "text/html": [
              "\n",
              "  <div id=\"df-39e2263c-9518-4b1b-bd56-8670df163366\" class=\"colab-df-container\">\n",
              "    <div>\n",
              "<style scoped>\n",
              "    .dataframe tbody tr th:only-of-type {\n",
              "        vertical-align: middle;\n",
              "    }\n",
              "\n",
              "    .dataframe tbody tr th {\n",
              "        vertical-align: top;\n",
              "    }\n",
              "\n",
              "    .dataframe thead th {\n",
              "        text-align: right;\n",
              "    }\n",
              "</style>\n",
              "<table border=\"1\" class=\"dataframe\">\n",
              "  <thead>\n",
              "    <tr style=\"text-align: right;\">\n",
              "      <th></th>\n",
              "      <th>mean</th>\n",
              "      <th>std</th>\n",
              "      <th>median</th>\n",
              "    </tr>\n",
              "    <tr>\n",
              "      <th>neighbourhood</th>\n",
              "      <th></th>\n",
              "      <th></th>\n",
              "      <th></th>\n",
              "    </tr>\n",
              "  </thead>\n",
              "  <tbody>\n",
              "    <tr>\n",
              "      <th>Batignolles-Monceau</th>\n",
              "      <td>216.345088</td>\n",
              "      <td>509.224960</td>\n",
              "      <td>123.0</td>\n",
              "    </tr>\n",
              "    <tr>\n",
              "      <th>Bourse</th>\n",
              "      <td>246.330947</td>\n",
              "      <td>502.864136</td>\n",
              "      <td>162.0</td>\n",
              "    </tr>\n",
              "    <tr>\n",
              "      <th>Buttes-Chaumont</th>\n",
              "      <td>159.192258</td>\n",
              "      <td>621.667492</td>\n",
              "      <td>98.0</td>\n",
              "    </tr>\n",
              "    <tr>\n",
              "      <th>Buttes-Montmartre</th>\n",
              "      <td>154.279611</td>\n",
              "      <td>255.309570</td>\n",
              "      <td>109.0</td>\n",
              "    </tr>\n",
              "    <tr>\n",
              "      <th>Entrepôt</th>\n",
              "      <td>184.537228</td>\n",
              "      <td>318.696637</td>\n",
              "      <td>122.0</td>\n",
              "    </tr>\n",
              "  </tbody>\n",
              "</table>\n",
              "</div>\n",
              "    <div class=\"colab-df-buttons\">\n",
              "\n",
              "  <div class=\"colab-df-container\">\n",
              "    <button class=\"colab-df-convert\" onclick=\"convertToInteractive('df-39e2263c-9518-4b1b-bd56-8670df163366')\"\n",
              "            title=\"Convert this dataframe to an interactive table.\"\n",
              "            style=\"display:none;\">\n",
              "\n",
              "  <svg xmlns=\"http://www.w3.org/2000/svg\" height=\"24px\" viewBox=\"0 -960 960 960\">\n",
              "    <path d=\"M120-120v-720h720v720H120Zm60-500h600v-160H180v160Zm220 220h160v-160H400v160Zm0 220h160v-160H400v160ZM180-400h160v-160H180v160Zm440 0h160v-160H620v160ZM180-180h160v-160H180v160Zm440 0h160v-160H620v160Z\"/>\n",
              "  </svg>\n",
              "    </button>\n",
              "\n",
              "  <style>\n",
              "    .colab-df-container {\n",
              "      display:flex;\n",
              "      gap: 12px;\n",
              "    }\n",
              "\n",
              "    .colab-df-convert {\n",
              "      background-color: #E8F0FE;\n",
              "      border: none;\n",
              "      border-radius: 50%;\n",
              "      cursor: pointer;\n",
              "      display: none;\n",
              "      fill: #1967D2;\n",
              "      height: 32px;\n",
              "      padding: 0 0 0 0;\n",
              "      width: 32px;\n",
              "    }\n",
              "\n",
              "    .colab-df-convert:hover {\n",
              "      background-color: #E2EBFA;\n",
              "      box-shadow: 0px 1px 2px rgba(60, 64, 67, 0.3), 0px 1px 3px 1px rgba(60, 64, 67, 0.15);\n",
              "      fill: #174EA6;\n",
              "    }\n",
              "\n",
              "    .colab-df-buttons div {\n",
              "      margin-bottom: 4px;\n",
              "    }\n",
              "\n",
              "    [theme=dark] .colab-df-convert {\n",
              "      background-color: #3B4455;\n",
              "      fill: #D2E3FC;\n",
              "    }\n",
              "\n",
              "    [theme=dark] .colab-df-convert:hover {\n",
              "      background-color: #434B5C;\n",
              "      box-shadow: 0px 1px 3px 1px rgba(0, 0, 0, 0.15);\n",
              "      filter: drop-shadow(0px 1px 2px rgba(0, 0, 0, 0.3));\n",
              "      fill: #FFFFFF;\n",
              "    }\n",
              "  </style>\n",
              "\n",
              "    <script>\n",
              "      const buttonEl =\n",
              "        document.querySelector('#df-39e2263c-9518-4b1b-bd56-8670df163366 button.colab-df-convert');\n",
              "      buttonEl.style.display =\n",
              "        google.colab.kernel.accessAllowed ? 'block' : 'none';\n",
              "\n",
              "      async function convertToInteractive(key) {\n",
              "        const element = document.querySelector('#df-39e2263c-9518-4b1b-bd56-8670df163366');\n",
              "        const dataTable =\n",
              "          await google.colab.kernel.invokeFunction('convertToInteractive',\n",
              "                                                    [key], {});\n",
              "        if (!dataTable) return;\n",
              "\n",
              "        const docLinkHtml = 'Like what you see? Visit the ' +\n",
              "          '<a target=\"_blank\" href=https://colab.research.google.com/notebooks/data_table.ipynb>data table notebook</a>'\n",
              "          + ' to learn more about interactive tables.';\n",
              "        element.innerHTML = '';\n",
              "        dataTable['output_type'] = 'display_data';\n",
              "        await google.colab.output.renderOutput(dataTable, element);\n",
              "        const docLink = document.createElement('div');\n",
              "        docLink.innerHTML = docLinkHtml;\n",
              "        element.appendChild(docLink);\n",
              "      }\n",
              "    </script>\n",
              "  </div>\n",
              "\n",
              "\n",
              "<div id=\"df-75ae34fd-f0ad-4135-9372-5a4224b62495\">\n",
              "  <button class=\"colab-df-quickchart\" onclick=\"quickchart('df-75ae34fd-f0ad-4135-9372-5a4224b62495')\"\n",
              "            title=\"Suggest charts\"\n",
              "            style=\"display:none;\">\n",
              "\n",
              "<svg xmlns=\"http://www.w3.org/2000/svg\" height=\"24px\"viewBox=\"0 0 24 24\"\n",
              "     width=\"24px\">\n",
              "    <g>\n",
              "        <path d=\"M19 3H5c-1.1 0-2 .9-2 2v14c0 1.1.9 2 2 2h14c1.1 0 2-.9 2-2V5c0-1.1-.9-2-2-2zM9 17H7v-7h2v7zm4 0h-2V7h2v10zm4 0h-2v-4h2v4z\"/>\n",
              "    </g>\n",
              "</svg>\n",
              "  </button>\n",
              "\n",
              "<style>\n",
              "  .colab-df-quickchart {\n",
              "      --bg-color: #E8F0FE;\n",
              "      --fill-color: #1967D2;\n",
              "      --hover-bg-color: #E2EBFA;\n",
              "      --hover-fill-color: #174EA6;\n",
              "      --disabled-fill-color: #AAA;\n",
              "      --disabled-bg-color: #DDD;\n",
              "  }\n",
              "\n",
              "  [theme=dark] .colab-df-quickchart {\n",
              "      --bg-color: #3B4455;\n",
              "      --fill-color: #D2E3FC;\n",
              "      --hover-bg-color: #434B5C;\n",
              "      --hover-fill-color: #FFFFFF;\n",
              "      --disabled-bg-color: #3B4455;\n",
              "      --disabled-fill-color: #666;\n",
              "  }\n",
              "\n",
              "  .colab-df-quickchart {\n",
              "    background-color: var(--bg-color);\n",
              "    border: none;\n",
              "    border-radius: 50%;\n",
              "    cursor: pointer;\n",
              "    display: none;\n",
              "    fill: var(--fill-color);\n",
              "    height: 32px;\n",
              "    padding: 0;\n",
              "    width: 32px;\n",
              "  }\n",
              "\n",
              "  .colab-df-quickchart:hover {\n",
              "    background-color: var(--hover-bg-color);\n",
              "    box-shadow: 0 1px 2px rgba(60, 64, 67, 0.3), 0 1px 3px 1px rgba(60, 64, 67, 0.15);\n",
              "    fill: var(--button-hover-fill-color);\n",
              "  }\n",
              "\n",
              "  .colab-df-quickchart-complete:disabled,\n",
              "  .colab-df-quickchart-complete:disabled:hover {\n",
              "    background-color: var(--disabled-bg-color);\n",
              "    fill: var(--disabled-fill-color);\n",
              "    box-shadow: none;\n",
              "  }\n",
              "\n",
              "  .colab-df-spinner {\n",
              "    border: 2px solid var(--fill-color);\n",
              "    border-color: transparent;\n",
              "    border-bottom-color: var(--fill-color);\n",
              "    animation:\n",
              "      spin 1s steps(1) infinite;\n",
              "  }\n",
              "\n",
              "  @keyframes spin {\n",
              "    0% {\n",
              "      border-color: transparent;\n",
              "      border-bottom-color: var(--fill-color);\n",
              "      border-left-color: var(--fill-color);\n",
              "    }\n",
              "    20% {\n",
              "      border-color: transparent;\n",
              "      border-left-color: var(--fill-color);\n",
              "      border-top-color: var(--fill-color);\n",
              "    }\n",
              "    30% {\n",
              "      border-color: transparent;\n",
              "      border-left-color: var(--fill-color);\n",
              "      border-top-color: var(--fill-color);\n",
              "      border-right-color: var(--fill-color);\n",
              "    }\n",
              "    40% {\n",
              "      border-color: transparent;\n",
              "      border-right-color: var(--fill-color);\n",
              "      border-top-color: var(--fill-color);\n",
              "    }\n",
              "    60% {\n",
              "      border-color: transparent;\n",
              "      border-right-color: var(--fill-color);\n",
              "    }\n",
              "    80% {\n",
              "      border-color: transparent;\n",
              "      border-right-color: var(--fill-color);\n",
              "      border-bottom-color: var(--fill-color);\n",
              "    }\n",
              "    90% {\n",
              "      border-color: transparent;\n",
              "      border-bottom-color: var(--fill-color);\n",
              "    }\n",
              "  }\n",
              "</style>\n",
              "\n",
              "  <script>\n",
              "    async function quickchart(key) {\n",
              "      const quickchartButtonEl =\n",
              "        document.querySelector('#' + key + ' button');\n",
              "      quickchartButtonEl.disabled = true;  // To prevent multiple clicks.\n",
              "      quickchartButtonEl.classList.add('colab-df-spinner');\n",
              "      try {\n",
              "        const charts = await google.colab.kernel.invokeFunction(\n",
              "            'suggestCharts', [key], {});\n",
              "      } catch (error) {\n",
              "        console.error('Error during call to suggestCharts:', error);\n",
              "      }\n",
              "      quickchartButtonEl.classList.remove('colab-df-spinner');\n",
              "      quickchartButtonEl.classList.add('colab-df-quickchart-complete');\n",
              "    }\n",
              "    (() => {\n",
              "      let quickchartButtonEl =\n",
              "        document.querySelector('#df-75ae34fd-f0ad-4135-9372-5a4224b62495 button');\n",
              "      quickchartButtonEl.style.display =\n",
              "        google.colab.kernel.accessAllowed ? 'block' : 'none';\n",
              "    })();\n",
              "  </script>\n",
              "</div>\n",
              "\n",
              "    </div>\n",
              "  </div>\n"
            ]
          },
          "metadata": {},
          "execution_count": 29
        }
      ],
      "source": [
        "df_precoPorBairro.columns = ['mean', 'std', 'median']\n",
        "df_precoPorBairro.head()"
      ]
    },
    {
      "cell_type": "code",
      "execution_count": null,
      "metadata": {
        "id": "Fkn5ssrUHLvx"
      },
      "outputs": [],
      "source": [
        "# Preenchendo as células 'NaN' na coluna 'prices' por -1;\n",
        "df['price'].fillna(-1, inplace=True)"
      ]
    },
    {
      "cell_type": "code",
      "execution_count": null,
      "metadata": {
        "id": "QzE0Cv4sMTEL"
      },
      "outputs": [],
      "source": [
        "# Trocando os valores -1 em 'prices' com a média de preço for a média de preço do bairro referente;\n",
        "for bairro in bairros:\n",
        "    valor = df_precoPorBairro.loc[bairro, 'mean']\n",
        "    df.loc[df['neighbourhood'] == bairro, 'price'] = df.loc[df['neighbourhood'] == bairro, 'price'].replace(-1, valor)"
      ]
    },
    {
      "cell_type": "code",
      "execution_count": null,
      "metadata": {
        "id": "8avDxRygMYl0"
      },
      "outputs": [],
      "source": [
        "df_precoPorBairroAtt = df.pivot_table(index='neighbourhood', values='price', aggfunc='mean')"
      ]
    },
    {
      "cell_type": "code",
      "execution_count": null,
      "metadata": {
        "colab": {
          "base_uri": "https://localhost:8080/",
          "height": 707
        },
        "id": "Vg-oZoPiMbMY",
        "outputId": "c4f58acf-be4f-424a-9288-7b64a274e9b2"
      },
      "outputs": [
        {
          "output_type": "execute_result",
          "data": {
            "text/plain": [
              "                          price  price_antigo          diff\n",
              "neighbourhood                                              \n",
              "Batignolles-Monceau  216.345088    216.345088  0.000000e+00\n",
              "Bourse               246.330947    246.330947  2.842171e-14\n",
              "Buttes-Chaumont      159.192258    159.192258  2.842171e-14\n",
              "Buttes-Montmartre    154.279611    154.279611 -2.842171e-14\n",
              "Entrepôt             184.537228    184.537228 -2.842171e-14\n",
              "Gobelins             183.825903    183.825903  0.000000e+00\n",
              "Hôtel-de-Ville       242.708561    242.708561  0.000000e+00\n",
              "Louvre               325.465902    325.465902 -5.684342e-14\n",
              "Luxembourg           287.169570    287.169570 -5.684342e-14\n",
              "Ménilmontant         135.364544    135.364544  0.000000e+00\n",
              "Observatoire         182.371556    182.371556 -2.842171e-14\n",
              "Opéra                237.104356    237.104356 -2.842171e-14\n",
              "Palais-Bourbon       330.194888    330.194888  0.000000e+00\n",
              "Panthéon             269.114862    269.114862  5.684342e-14\n",
              "Passy                382.067933    382.067933  0.000000e+00\n",
              "Popincourt           169.566958    169.566958  0.000000e+00\n",
              "Reuilly              182.744036    182.744036  0.000000e+00\n",
              "Temple               252.831646    252.831646  0.000000e+00\n",
              "Vaugirard            211.879809    211.879809  0.000000e+00\n",
              "Élysée               386.641818    386.641818  0.000000e+00"
            ],
            "text/html": [
              "\n",
              "  <div id=\"df-9180b8f0-2c62-444b-82db-c9981844d7f1\" class=\"colab-df-container\">\n",
              "    <div>\n",
              "<style scoped>\n",
              "    .dataframe tbody tr th:only-of-type {\n",
              "        vertical-align: middle;\n",
              "    }\n",
              "\n",
              "    .dataframe tbody tr th {\n",
              "        vertical-align: top;\n",
              "    }\n",
              "\n",
              "    .dataframe thead th {\n",
              "        text-align: right;\n",
              "    }\n",
              "</style>\n",
              "<table border=\"1\" class=\"dataframe\">\n",
              "  <thead>\n",
              "    <tr style=\"text-align: right;\">\n",
              "      <th></th>\n",
              "      <th>price</th>\n",
              "      <th>price_antigo</th>\n",
              "      <th>diff</th>\n",
              "    </tr>\n",
              "    <tr>\n",
              "      <th>neighbourhood</th>\n",
              "      <th></th>\n",
              "      <th></th>\n",
              "      <th></th>\n",
              "    </tr>\n",
              "  </thead>\n",
              "  <tbody>\n",
              "    <tr>\n",
              "      <th>Batignolles-Monceau</th>\n",
              "      <td>216.345088</td>\n",
              "      <td>216.345088</td>\n",
              "      <td>0.000000e+00</td>\n",
              "    </tr>\n",
              "    <tr>\n",
              "      <th>Bourse</th>\n",
              "      <td>246.330947</td>\n",
              "      <td>246.330947</td>\n",
              "      <td>2.842171e-14</td>\n",
              "    </tr>\n",
              "    <tr>\n",
              "      <th>Buttes-Chaumont</th>\n",
              "      <td>159.192258</td>\n",
              "      <td>159.192258</td>\n",
              "      <td>2.842171e-14</td>\n",
              "    </tr>\n",
              "    <tr>\n",
              "      <th>Buttes-Montmartre</th>\n",
              "      <td>154.279611</td>\n",
              "      <td>154.279611</td>\n",
              "      <td>-2.842171e-14</td>\n",
              "    </tr>\n",
              "    <tr>\n",
              "      <th>Entrepôt</th>\n",
              "      <td>184.537228</td>\n",
              "      <td>184.537228</td>\n",
              "      <td>-2.842171e-14</td>\n",
              "    </tr>\n",
              "    <tr>\n",
              "      <th>Gobelins</th>\n",
              "      <td>183.825903</td>\n",
              "      <td>183.825903</td>\n",
              "      <td>0.000000e+00</td>\n",
              "    </tr>\n",
              "    <tr>\n",
              "      <th>Hôtel-de-Ville</th>\n",
              "      <td>242.708561</td>\n",
              "      <td>242.708561</td>\n",
              "      <td>0.000000e+00</td>\n",
              "    </tr>\n",
              "    <tr>\n",
              "      <th>Louvre</th>\n",
              "      <td>325.465902</td>\n",
              "      <td>325.465902</td>\n",
              "      <td>-5.684342e-14</td>\n",
              "    </tr>\n",
              "    <tr>\n",
              "      <th>Luxembourg</th>\n",
              "      <td>287.169570</td>\n",
              "      <td>287.169570</td>\n",
              "      <td>-5.684342e-14</td>\n",
              "    </tr>\n",
              "    <tr>\n",
              "      <th>Ménilmontant</th>\n",
              "      <td>135.364544</td>\n",
              "      <td>135.364544</td>\n",
              "      <td>0.000000e+00</td>\n",
              "    </tr>\n",
              "    <tr>\n",
              "      <th>Observatoire</th>\n",
              "      <td>182.371556</td>\n",
              "      <td>182.371556</td>\n",
              "      <td>-2.842171e-14</td>\n",
              "    </tr>\n",
              "    <tr>\n",
              "      <th>Opéra</th>\n",
              "      <td>237.104356</td>\n",
              "      <td>237.104356</td>\n",
              "      <td>-2.842171e-14</td>\n",
              "    </tr>\n",
              "    <tr>\n",
              "      <th>Palais-Bourbon</th>\n",
              "      <td>330.194888</td>\n",
              "      <td>330.194888</td>\n",
              "      <td>0.000000e+00</td>\n",
              "    </tr>\n",
              "    <tr>\n",
              "      <th>Panthéon</th>\n",
              "      <td>269.114862</td>\n",
              "      <td>269.114862</td>\n",
              "      <td>5.684342e-14</td>\n",
              "    </tr>\n",
              "    <tr>\n",
              "      <th>Passy</th>\n",
              "      <td>382.067933</td>\n",
              "      <td>382.067933</td>\n",
              "      <td>0.000000e+00</td>\n",
              "    </tr>\n",
              "    <tr>\n",
              "      <th>Popincourt</th>\n",
              "      <td>169.566958</td>\n",
              "      <td>169.566958</td>\n",
              "      <td>0.000000e+00</td>\n",
              "    </tr>\n",
              "    <tr>\n",
              "      <th>Reuilly</th>\n",
              "      <td>182.744036</td>\n",
              "      <td>182.744036</td>\n",
              "      <td>0.000000e+00</td>\n",
              "    </tr>\n",
              "    <tr>\n",
              "      <th>Temple</th>\n",
              "      <td>252.831646</td>\n",
              "      <td>252.831646</td>\n",
              "      <td>0.000000e+00</td>\n",
              "    </tr>\n",
              "    <tr>\n",
              "      <th>Vaugirard</th>\n",
              "      <td>211.879809</td>\n",
              "      <td>211.879809</td>\n",
              "      <td>0.000000e+00</td>\n",
              "    </tr>\n",
              "    <tr>\n",
              "      <th>Élysée</th>\n",
              "      <td>386.641818</td>\n",
              "      <td>386.641818</td>\n",
              "      <td>0.000000e+00</td>\n",
              "    </tr>\n",
              "  </tbody>\n",
              "</table>\n",
              "</div>\n",
              "    <div class=\"colab-df-buttons\">\n",
              "\n",
              "  <div class=\"colab-df-container\">\n",
              "    <button class=\"colab-df-convert\" onclick=\"convertToInteractive('df-9180b8f0-2c62-444b-82db-c9981844d7f1')\"\n",
              "            title=\"Convert this dataframe to an interactive table.\"\n",
              "            style=\"display:none;\">\n",
              "\n",
              "  <svg xmlns=\"http://www.w3.org/2000/svg\" height=\"24px\" viewBox=\"0 -960 960 960\">\n",
              "    <path d=\"M120-120v-720h720v720H120Zm60-500h600v-160H180v160Zm220 220h160v-160H400v160Zm0 220h160v-160H400v160ZM180-400h160v-160H180v160Zm440 0h160v-160H620v160ZM180-180h160v-160H180v160Zm440 0h160v-160H620v160Z\"/>\n",
              "  </svg>\n",
              "    </button>\n",
              "\n",
              "  <style>\n",
              "    .colab-df-container {\n",
              "      display:flex;\n",
              "      gap: 12px;\n",
              "    }\n",
              "\n",
              "    .colab-df-convert {\n",
              "      background-color: #E8F0FE;\n",
              "      border: none;\n",
              "      border-radius: 50%;\n",
              "      cursor: pointer;\n",
              "      display: none;\n",
              "      fill: #1967D2;\n",
              "      height: 32px;\n",
              "      padding: 0 0 0 0;\n",
              "      width: 32px;\n",
              "    }\n",
              "\n",
              "    .colab-df-convert:hover {\n",
              "      background-color: #E2EBFA;\n",
              "      box-shadow: 0px 1px 2px rgba(60, 64, 67, 0.3), 0px 1px 3px 1px rgba(60, 64, 67, 0.15);\n",
              "      fill: #174EA6;\n",
              "    }\n",
              "\n",
              "    .colab-df-buttons div {\n",
              "      margin-bottom: 4px;\n",
              "    }\n",
              "\n",
              "    [theme=dark] .colab-df-convert {\n",
              "      background-color: #3B4455;\n",
              "      fill: #D2E3FC;\n",
              "    }\n",
              "\n",
              "    [theme=dark] .colab-df-convert:hover {\n",
              "      background-color: #434B5C;\n",
              "      box-shadow: 0px 1px 3px 1px rgba(0, 0, 0, 0.15);\n",
              "      filter: drop-shadow(0px 1px 2px rgba(0, 0, 0, 0.3));\n",
              "      fill: #FFFFFF;\n",
              "    }\n",
              "  </style>\n",
              "\n",
              "    <script>\n",
              "      const buttonEl =\n",
              "        document.querySelector('#df-9180b8f0-2c62-444b-82db-c9981844d7f1 button.colab-df-convert');\n",
              "      buttonEl.style.display =\n",
              "        google.colab.kernel.accessAllowed ? 'block' : 'none';\n",
              "\n",
              "      async function convertToInteractive(key) {\n",
              "        const element = document.querySelector('#df-9180b8f0-2c62-444b-82db-c9981844d7f1');\n",
              "        const dataTable =\n",
              "          await google.colab.kernel.invokeFunction('convertToInteractive',\n",
              "                                                    [key], {});\n",
              "        if (!dataTable) return;\n",
              "\n",
              "        const docLinkHtml = 'Like what you see? Visit the ' +\n",
              "          '<a target=\"_blank\" href=https://colab.research.google.com/notebooks/data_table.ipynb>data table notebook</a>'\n",
              "          + ' to learn more about interactive tables.';\n",
              "        element.innerHTML = '';\n",
              "        dataTable['output_type'] = 'display_data';\n",
              "        await google.colab.output.renderOutput(dataTable, element);\n",
              "        const docLink = document.createElement('div');\n",
              "        docLink.innerHTML = docLinkHtml;\n",
              "        element.appendChild(docLink);\n",
              "      }\n",
              "    </script>\n",
              "  </div>\n",
              "\n",
              "\n",
              "<div id=\"df-236f5612-2002-47c5-9656-d589c6670154\">\n",
              "  <button class=\"colab-df-quickchart\" onclick=\"quickchart('df-236f5612-2002-47c5-9656-d589c6670154')\"\n",
              "            title=\"Suggest charts\"\n",
              "            style=\"display:none;\">\n",
              "\n",
              "<svg xmlns=\"http://www.w3.org/2000/svg\" height=\"24px\"viewBox=\"0 0 24 24\"\n",
              "     width=\"24px\">\n",
              "    <g>\n",
              "        <path d=\"M19 3H5c-1.1 0-2 .9-2 2v14c0 1.1.9 2 2 2h14c1.1 0 2-.9 2-2V5c0-1.1-.9-2-2-2zM9 17H7v-7h2v7zm4 0h-2V7h2v10zm4 0h-2v-4h2v4z\"/>\n",
              "    </g>\n",
              "</svg>\n",
              "  </button>\n",
              "\n",
              "<style>\n",
              "  .colab-df-quickchart {\n",
              "      --bg-color: #E8F0FE;\n",
              "      --fill-color: #1967D2;\n",
              "      --hover-bg-color: #E2EBFA;\n",
              "      --hover-fill-color: #174EA6;\n",
              "      --disabled-fill-color: #AAA;\n",
              "      --disabled-bg-color: #DDD;\n",
              "  }\n",
              "\n",
              "  [theme=dark] .colab-df-quickchart {\n",
              "      --bg-color: #3B4455;\n",
              "      --fill-color: #D2E3FC;\n",
              "      --hover-bg-color: #434B5C;\n",
              "      --hover-fill-color: #FFFFFF;\n",
              "      --disabled-bg-color: #3B4455;\n",
              "      --disabled-fill-color: #666;\n",
              "  }\n",
              "\n",
              "  .colab-df-quickchart {\n",
              "    background-color: var(--bg-color);\n",
              "    border: none;\n",
              "    border-radius: 50%;\n",
              "    cursor: pointer;\n",
              "    display: none;\n",
              "    fill: var(--fill-color);\n",
              "    height: 32px;\n",
              "    padding: 0;\n",
              "    width: 32px;\n",
              "  }\n",
              "\n",
              "  .colab-df-quickchart:hover {\n",
              "    background-color: var(--hover-bg-color);\n",
              "    box-shadow: 0 1px 2px rgba(60, 64, 67, 0.3), 0 1px 3px 1px rgba(60, 64, 67, 0.15);\n",
              "    fill: var(--button-hover-fill-color);\n",
              "  }\n",
              "\n",
              "  .colab-df-quickchart-complete:disabled,\n",
              "  .colab-df-quickchart-complete:disabled:hover {\n",
              "    background-color: var(--disabled-bg-color);\n",
              "    fill: var(--disabled-fill-color);\n",
              "    box-shadow: none;\n",
              "  }\n",
              "\n",
              "  .colab-df-spinner {\n",
              "    border: 2px solid var(--fill-color);\n",
              "    border-color: transparent;\n",
              "    border-bottom-color: var(--fill-color);\n",
              "    animation:\n",
              "      spin 1s steps(1) infinite;\n",
              "  }\n",
              "\n",
              "  @keyframes spin {\n",
              "    0% {\n",
              "      border-color: transparent;\n",
              "      border-bottom-color: var(--fill-color);\n",
              "      border-left-color: var(--fill-color);\n",
              "    }\n",
              "    20% {\n",
              "      border-color: transparent;\n",
              "      border-left-color: var(--fill-color);\n",
              "      border-top-color: var(--fill-color);\n",
              "    }\n",
              "    30% {\n",
              "      border-color: transparent;\n",
              "      border-left-color: var(--fill-color);\n",
              "      border-top-color: var(--fill-color);\n",
              "      border-right-color: var(--fill-color);\n",
              "    }\n",
              "    40% {\n",
              "      border-color: transparent;\n",
              "      border-right-color: var(--fill-color);\n",
              "      border-top-color: var(--fill-color);\n",
              "    }\n",
              "    60% {\n",
              "      border-color: transparent;\n",
              "      border-right-color: var(--fill-color);\n",
              "    }\n",
              "    80% {\n",
              "      border-color: transparent;\n",
              "      border-right-color: var(--fill-color);\n",
              "      border-bottom-color: var(--fill-color);\n",
              "    }\n",
              "    90% {\n",
              "      border-color: transparent;\n",
              "      border-bottom-color: var(--fill-color);\n",
              "    }\n",
              "  }\n",
              "</style>\n",
              "\n",
              "  <script>\n",
              "    async function quickchart(key) {\n",
              "      const quickchartButtonEl =\n",
              "        document.querySelector('#' + key + ' button');\n",
              "      quickchartButtonEl.disabled = true;  // To prevent multiple clicks.\n",
              "      quickchartButtonEl.classList.add('colab-df-spinner');\n",
              "      try {\n",
              "        const charts = await google.colab.kernel.invokeFunction(\n",
              "            'suggestCharts', [key], {});\n",
              "      } catch (error) {\n",
              "        console.error('Error during call to suggestCharts:', error);\n",
              "      }\n",
              "      quickchartButtonEl.classList.remove('colab-df-spinner');\n",
              "      quickchartButtonEl.classList.add('colab-df-quickchart-complete');\n",
              "    }\n",
              "    (() => {\n",
              "      let quickchartButtonEl =\n",
              "        document.querySelector('#df-236f5612-2002-47c5-9656-d589c6670154 button');\n",
              "      quickchartButtonEl.style.display =\n",
              "        google.colab.kernel.accessAllowed ? 'block' : 'none';\n",
              "    })();\n",
              "  </script>\n",
              "</div>\n",
              "\n",
              "  <div id=\"id_107dd79c-e2cc-4744-81c8-680a73390ba7\">\n",
              "    <style>\n",
              "      .colab-df-generate {\n",
              "        background-color: #E8F0FE;\n",
              "        border: none;\n",
              "        border-radius: 50%;\n",
              "        cursor: pointer;\n",
              "        display: none;\n",
              "        fill: #1967D2;\n",
              "        height: 32px;\n",
              "        padding: 0 0 0 0;\n",
              "        width: 32px;\n",
              "      }\n",
              "\n",
              "      .colab-df-generate:hover {\n",
              "        background-color: #E2EBFA;\n",
              "        box-shadow: 0px 1px 2px rgba(60, 64, 67, 0.3), 0px 1px 3px 1px rgba(60, 64, 67, 0.15);\n",
              "        fill: #174EA6;\n",
              "      }\n",
              "\n",
              "      [theme=dark] .colab-df-generate {\n",
              "        background-color: #3B4455;\n",
              "        fill: #D2E3FC;\n",
              "      }\n",
              "\n",
              "      [theme=dark] .colab-df-generate:hover {\n",
              "        background-color: #434B5C;\n",
              "        box-shadow: 0px 1px 3px 1px rgba(0, 0, 0, 0.15);\n",
              "        filter: drop-shadow(0px 1px 2px rgba(0, 0, 0, 0.3));\n",
              "        fill: #FFFFFF;\n",
              "      }\n",
              "    </style>\n",
              "    <button class=\"colab-df-generate\" onclick=\"generateWithVariable('df_precoPorBairroAtt')\"\n",
              "            title=\"Generate code using this dataframe.\"\n",
              "            style=\"display:none;\">\n",
              "\n",
              "  <svg xmlns=\"http://www.w3.org/2000/svg\" height=\"24px\"viewBox=\"0 0 24 24\"\n",
              "       width=\"24px\">\n",
              "    <path d=\"M7,19H8.4L18.45,9,17,7.55,7,17.6ZM5,21V16.75L18.45,3.32a2,2,0,0,1,2.83,0l1.4,1.43a1.91,1.91,0,0,1,.58,1.4,1.91,1.91,0,0,1-.58,1.4L9.25,21ZM18.45,9,17,7.55Zm-12,3A5.31,5.31,0,0,0,4.9,8.1,5.31,5.31,0,0,0,1,6.5,5.31,5.31,0,0,0,4.9,4.9,5.31,5.31,0,0,0,6.5,1,5.31,5.31,0,0,0,8.1,4.9,5.31,5.31,0,0,0,12,6.5,5.46,5.46,0,0,0,6.5,12Z\"/>\n",
              "  </svg>\n",
              "    </button>\n",
              "    <script>\n",
              "      (() => {\n",
              "      const buttonEl =\n",
              "        document.querySelector('#id_107dd79c-e2cc-4744-81c8-680a73390ba7 button.colab-df-generate');\n",
              "      buttonEl.style.display =\n",
              "        google.colab.kernel.accessAllowed ? 'block' : 'none';\n",
              "\n",
              "      buttonEl.onclick = () => {\n",
              "        google.colab.notebook.generateWithVariable('df_precoPorBairroAtt');\n",
              "      }\n",
              "      })();\n",
              "    </script>\n",
              "  </div>\n",
              "\n",
              "    </div>\n",
              "  </div>\n"
            ]
          },
          "metadata": {},
          "execution_count": 34
        }
      ],
      "source": [
        "df_precoPorBairroAtt['price_antigo'] = df_precoPorBairro['mean']\n",
        "df_precoPorBairroAtt['diff'] = df_precoPorBairroAtt['price'] - df_precoPorBairroAtt['price_antigo']\n",
        "\n",
        "df_precoPorBairroAtt"
      ]
    },
    {
      "cell_type": "markdown",
      "source": [
        "### **Preenchendo os valores nulos da coluna \"host_name\" com 'Unnamed' (sem nome)**"
      ],
      "metadata": {
        "id": "TeO18K-XOIBb"
      }
    },
    {
      "cell_type": "code",
      "execution_count": null,
      "metadata": {
        "id": "aW_rr4rbMf81"
      },
      "outputs": [],
      "source": [
        "# Preenchendo células nulas da coluna 'host_name' com 'Unnamed' (Sem Nome);\n",
        "df['host_name'].fillna('Unnamed', inplace=True)"
      ]
    },
    {
      "cell_type": "code",
      "execution_count": null,
      "metadata": {
        "colab": {
          "base_uri": "https://localhost:8080/"
        },
        "id": "fFmtjdXkMiTR",
        "outputId": "646167db-cff6-4ed2-a024-946d474eb36f"
      },
      "outputs": [
        {
          "output_type": "execute_result",
          "data": {
            "text/plain": [
              "0    17891\n",
              "Name: number_of_reviews_ltm, dtype: int64"
            ]
          },
          "metadata": {},
          "execution_count": 36
        }
      ],
      "source": [
        "# Verificando a quantidade de reviews anuais onde a coluna 'reviews_per_month' encontra-se nula;\n",
        "df.loc[df['reviews_per_month'].isnull(), 'number_of_reviews_ltm'].value_counts()"
      ]
    },
    {
      "cell_type": "markdown",
      "source": [
        "### **Preenchendo os valores nulos da coluna 'reviews_per_month' com 0**"
      ],
      "metadata": {
        "id": "TqQEf2hXOkR0"
      }
    },
    {
      "cell_type": "code",
      "execution_count": null,
      "metadata": {
        "id": "Svxddd1NMnHB"
      },
      "outputs": [],
      "source": [
        "# Preenchendo dados faltantes da coluna 'reviews_per_month' com 0 (baseado na coluna 'number_of_reviews_ltm);\n",
        "df['reviews_per_month'].fillna(0, inplace=True)"
      ]
    },
    {
      "cell_type": "markdown",
      "source": [
        "#### **Verificando os valores nulos após o tratamento:**"
      ],
      "metadata": {
        "id": "5SjxniCaO2Vq"
      }
    },
    {
      "cell_type": "code",
      "execution_count": null,
      "metadata": {
        "colab": {
          "base_uri": "https://localhost:8080/"
        },
        "id": "-GuZxbtJMp7V",
        "outputId": "7577da2c-f494-40ed-f852-b39e8315be49"
      },
      "outputs": [
        {
          "output_type": "execute_result",
          "data": {
            "text/plain": [
              "id                                0\n",
              "name                              0\n",
              "host_id                           0\n",
              "host_name                         0\n",
              "neighbourhood                     0\n",
              "latitude                          0\n",
              "longitude                         0\n",
              "room_type                         0\n",
              "price                             0\n",
              "minimum_nights                    0\n",
              "number_of_reviews                 0\n",
              "reviews_per_month                 0\n",
              "calculated_host_listings_count    0\n",
              "availability_365                  0\n",
              "number_of_reviews_ltm             0\n",
              "score                             0\n",
              "bedroom                           0\n",
              "bed                               0\n",
              "bath                              0\n",
              "dtype: int64"
            ]
          },
          "metadata": {},
          "execution_count": 38
        }
      ],
      "source": [
        "# Confirmando o preenchimento de todos os campos previamente vazios;\n",
        "df.isnull().sum()"
      ]
    },
    {
      "cell_type": "markdown",
      "source": [
        "#### **Verificando os ativos:**"
      ],
      "metadata": {
        "id": "4rCKTsD1PCJE"
      }
    },
    {
      "cell_type": "code",
      "execution_count": null,
      "metadata": {
        "id": "9lMEB0zSMtnM"
      },
      "outputs": [],
      "source": [
        "# Criando coluna de 'Ativo' para determinar se a listagem ainda está ativa (1) ou não (0);\n",
        "# Inferência foi feita a partir das colunas 'availability_365' e 'number_of_reviews_ltm'.\n",
        "\n",
        "df['ativo'] = df['availability_365'] + df['number_of_reviews_ltm']\n",
        "df['ativo'] = df['ativo'].apply(lambda x:0 if x == 0 else 1)"
      ]
    },
    {
      "cell_type": "code",
      "execution_count": null,
      "metadata": {
        "colab": {
          "base_uri": "https://localhost:8080/"
        },
        "id": "NMdkB3z1Mv6b",
        "outputId": "ce46489f-a993-4b58-c291-d9e44d68f240"
      },
      "outputs": [
        {
          "output_type": "execute_result",
          "data": {
            "text/plain": [
              "1    0.761143\n",
              "0    0.238857\n",
              "Name: ativo, dtype: float64"
            ]
          },
          "metadata": {},
          "execution_count": 40
        }
      ],
      "source": [
        "df['ativo'].value_counts(normalize=True)"
      ]
    },
    {
      "cell_type": "markdown",
      "metadata": {
        "id": "CpoCEZFeZSuD"
      },
      "source": [
        "**Quantidade em % de listagens em atividade:**\n",
        "\n",
        "- Ativo: **76.11%**\n",
        "- Inativo: **23.89%**"
      ]
    },
    {
      "cell_type": "markdown",
      "source": [
        "#### **Após o tratamento verificamos que ficamos com 74.329 entradas e 20 variáveis.**"
      ],
      "metadata": {
        "id": "VmdCGoywPdui"
      }
    },
    {
      "cell_type": "code",
      "source": [
        "df.shape"
      ],
      "metadata": {
        "id": "vx0lORrdPUgb"
      },
      "execution_count": null,
      "outputs": []
    },
    {
      "cell_type": "markdown",
      "source": [
        "---"
      ],
      "metadata": {
        "id": "NrT9_ZKMP0oB"
      }
    },
    {
      "cell_type": "markdown",
      "metadata": {
        "id": "rRsWp8x0qfbO"
      },
      "source": [
        "# **Análise descritiva**\n",
        "\n",
        "Vamos realizar uma análise estatística para aprofundar nosso entendimento sobre os dados e extrair insights relevantes."
      ]
    },
    {
      "cell_type": "code",
      "execution_count": null,
      "metadata": {
        "colab": {
          "base_uri": "https://localhost:8080/",
          "height": 320
        },
        "id": "z4UKE0FYh0CZ",
        "outputId": "a0833552-5a43-476a-d72c-3a7977ddec6f"
      },
      "outputs": [
        {
          "output_type": "execute_result",
          "data": {
            "text/plain": [
              "              price  minimum_nights  number_of_reviews  reviews_per_month  \\\n",
              "count  74329.000000    74329.000000       74329.000000       74329.000000   \n",
              "mean     220.460863       57.052254          23.159897           0.855704   \n",
              "std      629.527844      125.497763          54.741564           1.342201   \n",
              "min        8.000000        1.000000           0.000000           0.000000   \n",
              "25%       90.000000        2.000000           1.000000           0.010000   \n",
              "50%      140.000000        3.000000           6.000000           0.330000   \n",
              "75%      215.000000        8.000000          22.000000           1.140000   \n",
              "max    84420.000000     1000.000000        2636.000000          45.850000   \n",
              "\n",
              "       calculated_host_listings_count  availability_365  \n",
              "count                    74329.000000      74329.000000  \n",
              "mean                        20.321342        105.546032  \n",
              "std                         75.370713        125.189183  \n",
              "min                          1.000000          0.000000  \n",
              "25%                          1.000000          0.000000  \n",
              "50%                          1.000000         45.000000  \n",
              "75%                          2.000000        192.000000  \n",
              "max                        628.000000        365.000000  "
            ],
            "text/html": [
              "\n",
              "  <div id=\"df-8e377cc9-be35-4ab1-b972-de6a17096f36\" class=\"colab-df-container\">\n",
              "    <div>\n",
              "<style scoped>\n",
              "    .dataframe tbody tr th:only-of-type {\n",
              "        vertical-align: middle;\n",
              "    }\n",
              "\n",
              "    .dataframe tbody tr th {\n",
              "        vertical-align: top;\n",
              "    }\n",
              "\n",
              "    .dataframe thead th {\n",
              "        text-align: right;\n",
              "    }\n",
              "</style>\n",
              "<table border=\"1\" class=\"dataframe\">\n",
              "  <thead>\n",
              "    <tr style=\"text-align: right;\">\n",
              "      <th></th>\n",
              "      <th>price</th>\n",
              "      <th>minimum_nights</th>\n",
              "      <th>number_of_reviews</th>\n",
              "      <th>reviews_per_month</th>\n",
              "      <th>calculated_host_listings_count</th>\n",
              "      <th>availability_365</th>\n",
              "    </tr>\n",
              "  </thead>\n",
              "  <tbody>\n",
              "    <tr>\n",
              "      <th>count</th>\n",
              "      <td>74329.000000</td>\n",
              "      <td>74329.000000</td>\n",
              "      <td>74329.000000</td>\n",
              "      <td>74329.000000</td>\n",
              "      <td>74329.000000</td>\n",
              "      <td>74329.000000</td>\n",
              "    </tr>\n",
              "    <tr>\n",
              "      <th>mean</th>\n",
              "      <td>220.460863</td>\n",
              "      <td>57.052254</td>\n",
              "      <td>23.159897</td>\n",
              "      <td>0.855704</td>\n",
              "      <td>20.321342</td>\n",
              "      <td>105.546032</td>\n",
              "    </tr>\n",
              "    <tr>\n",
              "      <th>std</th>\n",
              "      <td>629.527844</td>\n",
              "      <td>125.497763</td>\n",
              "      <td>54.741564</td>\n",
              "      <td>1.342201</td>\n",
              "      <td>75.370713</td>\n",
              "      <td>125.189183</td>\n",
              "    </tr>\n",
              "    <tr>\n",
              "      <th>min</th>\n",
              "      <td>8.000000</td>\n",
              "      <td>1.000000</td>\n",
              "      <td>0.000000</td>\n",
              "      <td>0.000000</td>\n",
              "      <td>1.000000</td>\n",
              "      <td>0.000000</td>\n",
              "    </tr>\n",
              "    <tr>\n",
              "      <th>25%</th>\n",
              "      <td>90.000000</td>\n",
              "      <td>2.000000</td>\n",
              "      <td>1.000000</td>\n",
              "      <td>0.010000</td>\n",
              "      <td>1.000000</td>\n",
              "      <td>0.000000</td>\n",
              "    </tr>\n",
              "    <tr>\n",
              "      <th>50%</th>\n",
              "      <td>140.000000</td>\n",
              "      <td>3.000000</td>\n",
              "      <td>6.000000</td>\n",
              "      <td>0.330000</td>\n",
              "      <td>1.000000</td>\n",
              "      <td>45.000000</td>\n",
              "    </tr>\n",
              "    <tr>\n",
              "      <th>75%</th>\n",
              "      <td>215.000000</td>\n",
              "      <td>8.000000</td>\n",
              "      <td>22.000000</td>\n",
              "      <td>1.140000</td>\n",
              "      <td>2.000000</td>\n",
              "      <td>192.000000</td>\n",
              "    </tr>\n",
              "    <tr>\n",
              "      <th>max</th>\n",
              "      <td>84420.000000</td>\n",
              "      <td>1000.000000</td>\n",
              "      <td>2636.000000</td>\n",
              "      <td>45.850000</td>\n",
              "      <td>628.000000</td>\n",
              "      <td>365.000000</td>\n",
              "    </tr>\n",
              "  </tbody>\n",
              "</table>\n",
              "</div>\n",
              "    <div class=\"colab-df-buttons\">\n",
              "\n",
              "  <div class=\"colab-df-container\">\n",
              "    <button class=\"colab-df-convert\" onclick=\"convertToInteractive('df-8e377cc9-be35-4ab1-b972-de6a17096f36')\"\n",
              "            title=\"Convert this dataframe to an interactive table.\"\n",
              "            style=\"display:none;\">\n",
              "\n",
              "  <svg xmlns=\"http://www.w3.org/2000/svg\" height=\"24px\" viewBox=\"0 -960 960 960\">\n",
              "    <path d=\"M120-120v-720h720v720H120Zm60-500h600v-160H180v160Zm220 220h160v-160H400v160Zm0 220h160v-160H400v160ZM180-400h160v-160H180v160Zm440 0h160v-160H620v160ZM180-180h160v-160H180v160Zm440 0h160v-160H620v160Z\"/>\n",
              "  </svg>\n",
              "    </button>\n",
              "\n",
              "  <style>\n",
              "    .colab-df-container {\n",
              "      display:flex;\n",
              "      gap: 12px;\n",
              "    }\n",
              "\n",
              "    .colab-df-convert {\n",
              "      background-color: #E8F0FE;\n",
              "      border: none;\n",
              "      border-radius: 50%;\n",
              "      cursor: pointer;\n",
              "      display: none;\n",
              "      fill: #1967D2;\n",
              "      height: 32px;\n",
              "      padding: 0 0 0 0;\n",
              "      width: 32px;\n",
              "    }\n",
              "\n",
              "    .colab-df-convert:hover {\n",
              "      background-color: #E2EBFA;\n",
              "      box-shadow: 0px 1px 2px rgba(60, 64, 67, 0.3), 0px 1px 3px 1px rgba(60, 64, 67, 0.15);\n",
              "      fill: #174EA6;\n",
              "    }\n",
              "\n",
              "    .colab-df-buttons div {\n",
              "      margin-bottom: 4px;\n",
              "    }\n",
              "\n",
              "    [theme=dark] .colab-df-convert {\n",
              "      background-color: #3B4455;\n",
              "      fill: #D2E3FC;\n",
              "    }\n",
              "\n",
              "    [theme=dark] .colab-df-convert:hover {\n",
              "      background-color: #434B5C;\n",
              "      box-shadow: 0px 1px 3px 1px rgba(0, 0, 0, 0.15);\n",
              "      filter: drop-shadow(0px 1px 2px rgba(0, 0, 0, 0.3));\n",
              "      fill: #FFFFFF;\n",
              "    }\n",
              "  </style>\n",
              "\n",
              "    <script>\n",
              "      const buttonEl =\n",
              "        document.querySelector('#df-8e377cc9-be35-4ab1-b972-de6a17096f36 button.colab-df-convert');\n",
              "      buttonEl.style.display =\n",
              "        google.colab.kernel.accessAllowed ? 'block' : 'none';\n",
              "\n",
              "      async function convertToInteractive(key) {\n",
              "        const element = document.querySelector('#df-8e377cc9-be35-4ab1-b972-de6a17096f36');\n",
              "        const dataTable =\n",
              "          await google.colab.kernel.invokeFunction('convertToInteractive',\n",
              "                                                    [key], {});\n",
              "        if (!dataTable) return;\n",
              "\n",
              "        const docLinkHtml = 'Like what you see? Visit the ' +\n",
              "          '<a target=\"_blank\" href=https://colab.research.google.com/notebooks/data_table.ipynb>data table notebook</a>'\n",
              "          + ' to learn more about interactive tables.';\n",
              "        element.innerHTML = '';\n",
              "        dataTable['output_type'] = 'display_data';\n",
              "        await google.colab.output.renderOutput(dataTable, element);\n",
              "        const docLink = document.createElement('div');\n",
              "        docLink.innerHTML = docLinkHtml;\n",
              "        element.appendChild(docLink);\n",
              "      }\n",
              "    </script>\n",
              "  </div>\n",
              "\n",
              "\n",
              "<div id=\"df-94655bb0-7ac7-487a-9058-47ca39ca3c21\">\n",
              "  <button class=\"colab-df-quickchart\" onclick=\"quickchart('df-94655bb0-7ac7-487a-9058-47ca39ca3c21')\"\n",
              "            title=\"Suggest charts\"\n",
              "            style=\"display:none;\">\n",
              "\n",
              "<svg xmlns=\"http://www.w3.org/2000/svg\" height=\"24px\"viewBox=\"0 0 24 24\"\n",
              "     width=\"24px\">\n",
              "    <g>\n",
              "        <path d=\"M19 3H5c-1.1 0-2 .9-2 2v14c0 1.1.9 2 2 2h14c1.1 0 2-.9 2-2V5c0-1.1-.9-2-2-2zM9 17H7v-7h2v7zm4 0h-2V7h2v10zm4 0h-2v-4h2v4z\"/>\n",
              "    </g>\n",
              "</svg>\n",
              "  </button>\n",
              "\n",
              "<style>\n",
              "  .colab-df-quickchart {\n",
              "      --bg-color: #E8F0FE;\n",
              "      --fill-color: #1967D2;\n",
              "      --hover-bg-color: #E2EBFA;\n",
              "      --hover-fill-color: #174EA6;\n",
              "      --disabled-fill-color: #AAA;\n",
              "      --disabled-bg-color: #DDD;\n",
              "  }\n",
              "\n",
              "  [theme=dark] .colab-df-quickchart {\n",
              "      --bg-color: #3B4455;\n",
              "      --fill-color: #D2E3FC;\n",
              "      --hover-bg-color: #434B5C;\n",
              "      --hover-fill-color: #FFFFFF;\n",
              "      --disabled-bg-color: #3B4455;\n",
              "      --disabled-fill-color: #666;\n",
              "  }\n",
              "\n",
              "  .colab-df-quickchart {\n",
              "    background-color: var(--bg-color);\n",
              "    border: none;\n",
              "    border-radius: 50%;\n",
              "    cursor: pointer;\n",
              "    display: none;\n",
              "    fill: var(--fill-color);\n",
              "    height: 32px;\n",
              "    padding: 0;\n",
              "    width: 32px;\n",
              "  }\n",
              "\n",
              "  .colab-df-quickchart:hover {\n",
              "    background-color: var(--hover-bg-color);\n",
              "    box-shadow: 0 1px 2px rgba(60, 64, 67, 0.3), 0 1px 3px 1px rgba(60, 64, 67, 0.15);\n",
              "    fill: var(--button-hover-fill-color);\n",
              "  }\n",
              "\n",
              "  .colab-df-quickchart-complete:disabled,\n",
              "  .colab-df-quickchart-complete:disabled:hover {\n",
              "    background-color: var(--disabled-bg-color);\n",
              "    fill: var(--disabled-fill-color);\n",
              "    box-shadow: none;\n",
              "  }\n",
              "\n",
              "  .colab-df-spinner {\n",
              "    border: 2px solid var(--fill-color);\n",
              "    border-color: transparent;\n",
              "    border-bottom-color: var(--fill-color);\n",
              "    animation:\n",
              "      spin 1s steps(1) infinite;\n",
              "  }\n",
              "\n",
              "  @keyframes spin {\n",
              "    0% {\n",
              "      border-color: transparent;\n",
              "      border-bottom-color: var(--fill-color);\n",
              "      border-left-color: var(--fill-color);\n",
              "    }\n",
              "    20% {\n",
              "      border-color: transparent;\n",
              "      border-left-color: var(--fill-color);\n",
              "      border-top-color: var(--fill-color);\n",
              "    }\n",
              "    30% {\n",
              "      border-color: transparent;\n",
              "      border-left-color: var(--fill-color);\n",
              "      border-top-color: var(--fill-color);\n",
              "      border-right-color: var(--fill-color);\n",
              "    }\n",
              "    40% {\n",
              "      border-color: transparent;\n",
              "      border-right-color: var(--fill-color);\n",
              "      border-top-color: var(--fill-color);\n",
              "    }\n",
              "    60% {\n",
              "      border-color: transparent;\n",
              "      border-right-color: var(--fill-color);\n",
              "    }\n",
              "    80% {\n",
              "      border-color: transparent;\n",
              "      border-right-color: var(--fill-color);\n",
              "      border-bottom-color: var(--fill-color);\n",
              "    }\n",
              "    90% {\n",
              "      border-color: transparent;\n",
              "      border-bottom-color: var(--fill-color);\n",
              "    }\n",
              "  }\n",
              "</style>\n",
              "\n",
              "  <script>\n",
              "    async function quickchart(key) {\n",
              "      const quickchartButtonEl =\n",
              "        document.querySelector('#' + key + ' button');\n",
              "      quickchartButtonEl.disabled = true;  // To prevent multiple clicks.\n",
              "      quickchartButtonEl.classList.add('colab-df-spinner');\n",
              "      try {\n",
              "        const charts = await google.colab.kernel.invokeFunction(\n",
              "            'suggestCharts', [key], {});\n",
              "      } catch (error) {\n",
              "        console.error('Error during call to suggestCharts:', error);\n",
              "      }\n",
              "      quickchartButtonEl.classList.remove('colab-df-spinner');\n",
              "      quickchartButtonEl.classList.add('colab-df-quickchart-complete');\n",
              "    }\n",
              "    (() => {\n",
              "      let quickchartButtonEl =\n",
              "        document.querySelector('#df-94655bb0-7ac7-487a-9058-47ca39ca3c21 button');\n",
              "      quickchartButtonEl.style.display =\n",
              "        google.colab.kernel.accessAllowed ? 'block' : 'none';\n",
              "    })();\n",
              "  </script>\n",
              "</div>\n",
              "\n",
              "    </div>\n",
              "  </div>\n"
            ]
          },
          "metadata": {},
          "execution_count": 44
        }
      ],
      "source": [
        "df[['price', 'minimum_nights', 'number_of_reviews', 'reviews_per_month',\n",
        "    'calculated_host_listings_count', 'availability_365']].describe()"
      ]
    },
    {
      "cell_type": "markdown",
      "source": [
        "Os dados fornecidos sobre listagens no Airbnb revelam uma diversidade significativa nas características das propriedades.\n",
        "Porém, pode haver presença de outliers em duas variáveis, como `price` e número `minimum_nights`, vamos verificar se há necessidade de um tratamento cuidadoso desses pontos.\n",
        "\n"
      ],
      "metadata": {
        "id": "YVVv29cDEk9p"
      }
    },
    {
      "cell_type": "markdown",
      "metadata": {
        "id": "L7EQpIFXhn1D"
      },
      "source": [
        "## **Há outliers?**\n"
      ]
    },
    {
      "cell_type": "markdown",
      "source": [
        "O tratamento de **outliers** é uma etapa **crucial** na manipulação de dados, referindo-se a pontos que se desviam dos padrões convencionais e têm a capacidade de distorcer a nossa análise."
      ],
      "metadata": {
        "id": "BvmPShhkD6_-"
      }
    },
    {
      "cell_type": "markdown",
      "metadata": {
        "id": "RafDiZRma6-1"
      },
      "source": [
        "## **Verificando a variável `Price`**"
      ]
    },
    {
      "cell_type": "code",
      "execution_count": null,
      "metadata": {
        "colab": {
          "base_uri": "https://localhost:8080/",
          "height": 300
        },
        "id": "UjvD9FiVaN2o",
        "outputId": "68b007ab-afed-48c7-e0cb-1da48c0856b5"
      },
      "outputs": [
        {
          "output_type": "execute_result",
          "data": {
            "text/plain": [
              "         price\n",
              "count  74329.0\n",
              "mean     220.0\n",
              "std      630.0\n",
              "min        8.0\n",
              "25%       90.0\n",
              "50%      140.0\n",
              "75%      215.0\n",
              "max    84420.0"
            ],
            "text/html": [
              "\n",
              "  <div id=\"df-b98855d0-a171-4322-9ae9-9212537198d4\" class=\"colab-df-container\">\n",
              "    <div>\n",
              "<style scoped>\n",
              "    .dataframe tbody tr th:only-of-type {\n",
              "        vertical-align: middle;\n",
              "    }\n",
              "\n",
              "    .dataframe tbody tr th {\n",
              "        vertical-align: top;\n",
              "    }\n",
              "\n",
              "    .dataframe thead th {\n",
              "        text-align: right;\n",
              "    }\n",
              "</style>\n",
              "<table border=\"1\" class=\"dataframe\">\n",
              "  <thead>\n",
              "    <tr style=\"text-align: right;\">\n",
              "      <th></th>\n",
              "      <th>price</th>\n",
              "    </tr>\n",
              "  </thead>\n",
              "  <tbody>\n",
              "    <tr>\n",
              "      <th>count</th>\n",
              "      <td>74329.0</td>\n",
              "    </tr>\n",
              "    <tr>\n",
              "      <th>mean</th>\n",
              "      <td>220.0</td>\n",
              "    </tr>\n",
              "    <tr>\n",
              "      <th>std</th>\n",
              "      <td>630.0</td>\n",
              "    </tr>\n",
              "    <tr>\n",
              "      <th>min</th>\n",
              "      <td>8.0</td>\n",
              "    </tr>\n",
              "    <tr>\n",
              "      <th>25%</th>\n",
              "      <td>90.0</td>\n",
              "    </tr>\n",
              "    <tr>\n",
              "      <th>50%</th>\n",
              "      <td>140.0</td>\n",
              "    </tr>\n",
              "    <tr>\n",
              "      <th>75%</th>\n",
              "      <td>215.0</td>\n",
              "    </tr>\n",
              "    <tr>\n",
              "      <th>max</th>\n",
              "      <td>84420.0</td>\n",
              "    </tr>\n",
              "  </tbody>\n",
              "</table>\n",
              "</div>\n",
              "    <div class=\"colab-df-buttons\">\n",
              "\n",
              "  <div class=\"colab-df-container\">\n",
              "    <button class=\"colab-df-convert\" onclick=\"convertToInteractive('df-b98855d0-a171-4322-9ae9-9212537198d4')\"\n",
              "            title=\"Convert this dataframe to an interactive table.\"\n",
              "            style=\"display:none;\">\n",
              "\n",
              "  <svg xmlns=\"http://www.w3.org/2000/svg\" height=\"24px\" viewBox=\"0 -960 960 960\">\n",
              "    <path d=\"M120-120v-720h720v720H120Zm60-500h600v-160H180v160Zm220 220h160v-160H400v160Zm0 220h160v-160H400v160ZM180-400h160v-160H180v160Zm440 0h160v-160H620v160ZM180-180h160v-160H180v160Zm440 0h160v-160H620v160Z\"/>\n",
              "  </svg>\n",
              "    </button>\n",
              "\n",
              "  <style>\n",
              "    .colab-df-container {\n",
              "      display:flex;\n",
              "      gap: 12px;\n",
              "    }\n",
              "\n",
              "    .colab-df-convert {\n",
              "      background-color: #E8F0FE;\n",
              "      border: none;\n",
              "      border-radius: 50%;\n",
              "      cursor: pointer;\n",
              "      display: none;\n",
              "      fill: #1967D2;\n",
              "      height: 32px;\n",
              "      padding: 0 0 0 0;\n",
              "      width: 32px;\n",
              "    }\n",
              "\n",
              "    .colab-df-convert:hover {\n",
              "      background-color: #E2EBFA;\n",
              "      box-shadow: 0px 1px 2px rgba(60, 64, 67, 0.3), 0px 1px 3px 1px rgba(60, 64, 67, 0.15);\n",
              "      fill: #174EA6;\n",
              "    }\n",
              "\n",
              "    .colab-df-buttons div {\n",
              "      margin-bottom: 4px;\n",
              "    }\n",
              "\n",
              "    [theme=dark] .colab-df-convert {\n",
              "      background-color: #3B4455;\n",
              "      fill: #D2E3FC;\n",
              "    }\n",
              "\n",
              "    [theme=dark] .colab-df-convert:hover {\n",
              "      background-color: #434B5C;\n",
              "      box-shadow: 0px 1px 3px 1px rgba(0, 0, 0, 0.15);\n",
              "      filter: drop-shadow(0px 1px 2px rgba(0, 0, 0, 0.3));\n",
              "      fill: #FFFFFF;\n",
              "    }\n",
              "  </style>\n",
              "\n",
              "    <script>\n",
              "      const buttonEl =\n",
              "        document.querySelector('#df-b98855d0-a171-4322-9ae9-9212537198d4 button.colab-df-convert');\n",
              "      buttonEl.style.display =\n",
              "        google.colab.kernel.accessAllowed ? 'block' : 'none';\n",
              "\n",
              "      async function convertToInteractive(key) {\n",
              "        const element = document.querySelector('#df-b98855d0-a171-4322-9ae9-9212537198d4');\n",
              "        const dataTable =\n",
              "          await google.colab.kernel.invokeFunction('convertToInteractive',\n",
              "                                                    [key], {});\n",
              "        if (!dataTable) return;\n",
              "\n",
              "        const docLinkHtml = 'Like what you see? Visit the ' +\n",
              "          '<a target=\"_blank\" href=https://colab.research.google.com/notebooks/data_table.ipynb>data table notebook</a>'\n",
              "          + ' to learn more about interactive tables.';\n",
              "        element.innerHTML = '';\n",
              "        dataTable['output_type'] = 'display_data';\n",
              "        await google.colab.output.renderOutput(dataTable, element);\n",
              "        const docLink = document.createElement('div');\n",
              "        docLink.innerHTML = docLinkHtml;\n",
              "        element.appendChild(docLink);\n",
              "      }\n",
              "    </script>\n",
              "  </div>\n",
              "\n",
              "\n",
              "<div id=\"df-e3970a26-2f63-413a-b5d1-e539ef683f86\">\n",
              "  <button class=\"colab-df-quickchart\" onclick=\"quickchart('df-e3970a26-2f63-413a-b5d1-e539ef683f86')\"\n",
              "            title=\"Suggest charts\"\n",
              "            style=\"display:none;\">\n",
              "\n",
              "<svg xmlns=\"http://www.w3.org/2000/svg\" height=\"24px\"viewBox=\"0 0 24 24\"\n",
              "     width=\"24px\">\n",
              "    <g>\n",
              "        <path d=\"M19 3H5c-1.1 0-2 .9-2 2v14c0 1.1.9 2 2 2h14c1.1 0 2-.9 2-2V5c0-1.1-.9-2-2-2zM9 17H7v-7h2v7zm4 0h-2V7h2v10zm4 0h-2v-4h2v4z\"/>\n",
              "    </g>\n",
              "</svg>\n",
              "  </button>\n",
              "\n",
              "<style>\n",
              "  .colab-df-quickchart {\n",
              "      --bg-color: #E8F0FE;\n",
              "      --fill-color: #1967D2;\n",
              "      --hover-bg-color: #E2EBFA;\n",
              "      --hover-fill-color: #174EA6;\n",
              "      --disabled-fill-color: #AAA;\n",
              "      --disabled-bg-color: #DDD;\n",
              "  }\n",
              "\n",
              "  [theme=dark] .colab-df-quickchart {\n",
              "      --bg-color: #3B4455;\n",
              "      --fill-color: #D2E3FC;\n",
              "      --hover-bg-color: #434B5C;\n",
              "      --hover-fill-color: #FFFFFF;\n",
              "      --disabled-bg-color: #3B4455;\n",
              "      --disabled-fill-color: #666;\n",
              "  }\n",
              "\n",
              "  .colab-df-quickchart {\n",
              "    background-color: var(--bg-color);\n",
              "    border: none;\n",
              "    border-radius: 50%;\n",
              "    cursor: pointer;\n",
              "    display: none;\n",
              "    fill: var(--fill-color);\n",
              "    height: 32px;\n",
              "    padding: 0;\n",
              "    width: 32px;\n",
              "  }\n",
              "\n",
              "  .colab-df-quickchart:hover {\n",
              "    background-color: var(--hover-bg-color);\n",
              "    box-shadow: 0 1px 2px rgba(60, 64, 67, 0.3), 0 1px 3px 1px rgba(60, 64, 67, 0.15);\n",
              "    fill: var(--button-hover-fill-color);\n",
              "  }\n",
              "\n",
              "  .colab-df-quickchart-complete:disabled,\n",
              "  .colab-df-quickchart-complete:disabled:hover {\n",
              "    background-color: var(--disabled-bg-color);\n",
              "    fill: var(--disabled-fill-color);\n",
              "    box-shadow: none;\n",
              "  }\n",
              "\n",
              "  .colab-df-spinner {\n",
              "    border: 2px solid var(--fill-color);\n",
              "    border-color: transparent;\n",
              "    border-bottom-color: var(--fill-color);\n",
              "    animation:\n",
              "      spin 1s steps(1) infinite;\n",
              "  }\n",
              "\n",
              "  @keyframes spin {\n",
              "    0% {\n",
              "      border-color: transparent;\n",
              "      border-bottom-color: var(--fill-color);\n",
              "      border-left-color: var(--fill-color);\n",
              "    }\n",
              "    20% {\n",
              "      border-color: transparent;\n",
              "      border-left-color: var(--fill-color);\n",
              "      border-top-color: var(--fill-color);\n",
              "    }\n",
              "    30% {\n",
              "      border-color: transparent;\n",
              "      border-left-color: var(--fill-color);\n",
              "      border-top-color: var(--fill-color);\n",
              "      border-right-color: var(--fill-color);\n",
              "    }\n",
              "    40% {\n",
              "      border-color: transparent;\n",
              "      border-right-color: var(--fill-color);\n",
              "      border-top-color: var(--fill-color);\n",
              "    }\n",
              "    60% {\n",
              "      border-color: transparent;\n",
              "      border-right-color: var(--fill-color);\n",
              "    }\n",
              "    80% {\n",
              "      border-color: transparent;\n",
              "      border-right-color: var(--fill-color);\n",
              "      border-bottom-color: var(--fill-color);\n",
              "    }\n",
              "    90% {\n",
              "      border-color: transparent;\n",
              "      border-bottom-color: var(--fill-color);\n",
              "    }\n",
              "  }\n",
              "</style>\n",
              "\n",
              "  <script>\n",
              "    async function quickchart(key) {\n",
              "      const quickchartButtonEl =\n",
              "        document.querySelector('#' + key + ' button');\n",
              "      quickchartButtonEl.disabled = true;  // To prevent multiple clicks.\n",
              "      quickchartButtonEl.classList.add('colab-df-spinner');\n",
              "      try {\n",
              "        const charts = await google.colab.kernel.invokeFunction(\n",
              "            'suggestCharts', [key], {});\n",
              "      } catch (error) {\n",
              "        console.error('Error during call to suggestCharts:', error);\n",
              "      }\n",
              "      quickchartButtonEl.classList.remove('colab-df-spinner');\n",
              "      quickchartButtonEl.classList.add('colab-df-quickchart-complete');\n",
              "    }\n",
              "    (() => {\n",
              "      let quickchartButtonEl =\n",
              "        document.querySelector('#df-e3970a26-2f63-413a-b5d1-e539ef683f86 button');\n",
              "      quickchartButtonEl.style.display =\n",
              "        google.colab.kernel.accessAllowed ? 'block' : 'none';\n",
              "    })();\n",
              "  </script>\n",
              "</div>\n",
              "\n",
              "    </div>\n",
              "  </div>\n"
            ]
          },
          "metadata": {},
          "execution_count": 58
        }
      ],
      "source": [
        "df[[\"price\"]].describe().round()"
      ]
    },
    {
      "cell_type": "markdown",
      "source": [
        "- O menor preço observado foi **8.00** euros\n",
        "No momento atual, isso representa R$**43.44**\n",
        "\n",
        "- O maior preço observado foi **84.420** euros\n",
        "No momento atual, isso representa R$**458.400,60**"
      ],
      "metadata": {
        "id": "uwSZ7rQCfznS"
      }
    },
    {
      "cell_type": "code",
      "execution_count": null,
      "metadata": {
        "colab": {
          "base_uri": "https://localhost:8080/",
          "height": 194
        },
        "id": "jJF3t_nvaZH-",
        "outputId": "e4c9476a-659a-449a-8013-7641914964b4"
      },
      "outputs": [
        {
          "output_type": "execute_result",
          "data": {
            "text/plain": [
              "<Axes: >"
            ]
          },
          "metadata": {},
          "execution_count": 70
        },
        {
          "output_type": "display_data",
          "data": {
            "text/plain": [
              "<Figure size 700x150 with 1 Axes>"
            ],
            "image/png": "[encoded data removed]"
          },
          "metadata": {}
        }
      ],
      "source": [
        "# plotando o boxplot\n",
        "df[[\"price\"]].plot(kind='box', vert=False, figsize=(7,1.5))"
      ]
    },
    {
      "cell_type": "code",
      "source": [
        "# histograma da variável price\n",
        "df[\"price\"].hist(bins=15, figsize=(3,2));"
      ],
      "metadata": {
        "id": "z_xDfTz_F7Fw",
        "outputId": "0ac8a598-4a34-42de-b684-fa4c79b8f07b",
        "colab": {
          "base_uri": "https://localhost:8080/",
          "height": 214
        }
      },
      "execution_count": null,
      "outputs": [
        {
          "output_type": "display_data",
          "data": {
            "text/plain": [
              "<Figure size 300x200 with 1 Axes>"
            ],
            "image/png": "[encoded data removed]"
          },
          "metadata": {}
        }
      ]
    },
    {
      "cell_type": "markdown",
      "source": [
        "#### **Identificando o IQR, limite inferior e superior da variavel minimum_nights**"
      ],
      "metadata": {
        "id": "hpnDaJxgHGch"
      }
    },
    {
      "cell_type": "code",
      "execution_count": null,
      "metadata": {
        "colab": {
          "base_uri": "https://localhost:8080/"
        },
        "id": "sLTFunjWp3k-",
        "outputId": "ef9046f3-c0e2-44b6-e600-e5a9c34f4a55"
      },
      "outputs": [
        {
          "output_type": "stream",
          "name": "stdout",
          "text": [
            "IQR da variável price:  125.0\n",
            "Limite superior de price:  402.5\n",
            "Limite inferior de price:  -97.5\n"
          ]
        }
      ],
      "source": [
        "# identificar o iqr da variável price\n",
        "q1_price = df.price.quantile(.25)\n",
        "q3_price = df.price.quantile(.75)\n",
        "IQR_price = q3_price - q1_price\n",
        "print('IQR da variável price: ', IQR_price)\n",
        "\n",
        "# definir os limites superiores e inferiores\n",
        "sup_price = q3_price + 1.5 * IQR_price\n",
        "inf_price = q1_price - 1.5 * IQR_price\n",
        "\n",
        "print('Limite superior de price: ', sup_price)\n",
        "print('Limite inferior de price: ', inf_price)"
      ]
    },
    {
      "cell_type": "code",
      "source": [
        "print(\"O dataset possui {} colunas\".format(df.shape[0]))\n",
        "print(\"{} Entradas acima de 402.5\".format(len(df[df.price > 402.5])))\n",
        "print(\"Representam {:.2f}% do dataset\".format((len(df[df.price > 362.5]) / df.shape[0])*100))"
      ],
      "metadata": {
        "colab": {
          "base_uri": "https://localhost:8080/"
        },
        "id": "Q0A-lAIPfstV",
        "outputId": "8cb2c331-6eb9-4aba-ae40-7be8dff3bef3"
      },
      "execution_count": null,
      "outputs": [
        {
          "output_type": "stream",
          "name": "stdout",
          "text": [
            "O dataset possui 74329 colunas\n",
            "5649 Entradas acima de 402.5\n",
            "Representam 9.96% do dataset\n"
          ]
        }
      ]
    },
    {
      "cell_type": "markdown",
      "source": [
        "Isso sugere que esse pequeno percentual do conjunto de dados (9.22%) contém valores de preço consideravelmente mais altos em comparação com o restante.\n",
        "\n",
        "Embora o limite superior de **€ 362,5** seja plausível, ao verificar o site e buscar pelos maiores valores de aluguel por noite, encontramos propriedades listadas por até **R$10.000**, o que equivaleria a aproximadamente **€1.860,08**. Portanto, é plausível considerar como outliers os valores acima de **€ 2000**, uma vez que não condizem com os padrões observados nos imóveis disponíveis no site.\n",
        "\n",
        "\n",
        "**Vamos verificar:**"
      ],
      "metadata": {
        "id": "uXSSo9XzgVYD"
      }
    },
    {
      "cell_type": "code",
      "source": [
        "print(\"O dataset possui {} colunas\".format(df.shape[0]))\n",
        "print(\"{} Entradas acima de 2000\".format(len(df[df.price > 2000])))\n",
        "print(\"Representam {:.2f}% do dataset\".format((len(df[df.price > 2000]) / df.shape[0])*100))"
      ],
      "metadata": {
        "colab": {
          "base_uri": "https://localhost:8080/"
        },
        "id": "6JMOL3L6hNuf",
        "outputId": "4f144aae-3630-4d22-d9ef-10275c11dabb"
      },
      "execution_count": null,
      "outputs": [
        {
          "output_type": "stream",
          "name": "stdout",
          "text": [
            "O dataset possui 74329 colunas\n",
            "456 Entradas acima de 2000\n",
            "Representam 0.61% do dataset\n"
          ]
        }
      ]
    },
    {
      "cell_type": "markdown",
      "source": [
        "Isso sugere que esse percentual quase imperceptvel do conjunto de dados (0.61%) contém valores de preço consideravelmente mais altos em comparação com o restante."
      ],
      "metadata": {
        "id": "vwJdi5anh5df"
      }
    },
    {
      "cell_type": "markdown",
      "metadata": {
        "id": "fqr7WAi1zgbJ"
      },
      "source": [
        "## **Verificando a variável `minimum_nights`**"
      ]
    },
    {
      "cell_type": "code",
      "source": [
        "df[[\"minimum_nights\"]].describe().round()"
      ],
      "metadata": {
        "colab": {
          "base_uri": "https://localhost:8080/",
          "height": 300
        },
        "id": "_kOJwuE5id6I",
        "outputId": "ff651489-0430-4c93-b58d-9c60d504f57e"
      },
      "execution_count": null,
      "outputs": [
        {
          "output_type": "execute_result",
          "data": {
            "text/plain": [
              "       minimum_nights\n",
              "count         74329.0\n",
              "mean             57.0\n",
              "std             125.0\n",
              "min               1.0\n",
              "25%               2.0\n",
              "50%               3.0\n",
              "75%               8.0\n",
              "max            1000.0"
            ],
            "text/html": [
              "\n",
              "  <div id=\"df-172f842d-c03e-4d01-b3a3-1adef38e8a4a\" class=\"colab-df-container\">\n",
              "    <div>\n",
              "<style scoped>\n",
              "    .dataframe tbody tr th:only-of-type {\n",
              "        vertical-align: middle;\n",
              "    }\n",
              "\n",
              "    .dataframe tbody tr th {\n",
              "        vertical-align: top;\n",
              "    }\n",
              "\n",
              "    .dataframe thead th {\n",
              "        text-align: right;\n",
              "    }\n",
              "</style>\n",
              "<table border=\"1\" class=\"dataframe\">\n",
              "  <thead>\n",
              "    <tr style=\"text-align: right;\">\n",
              "      <th></th>\n",
              "      <th>minimum_nights</th>\n",
              "    </tr>\n",
              "  </thead>\n",
              "  <tbody>\n",
              "    <tr>\n",
              "      <th>count</th>\n",
              "      <td>74329.0</td>\n",
              "    </tr>\n",
              "    <tr>\n",
              "      <th>mean</th>\n",
              "      <td>57.0</td>\n",
              "    </tr>\n",
              "    <tr>\n",
              "      <th>std</th>\n",
              "      <td>125.0</td>\n",
              "    </tr>\n",
              "    <tr>\n",
              "      <th>min</th>\n",
              "      <td>1.0</td>\n",
              "    </tr>\n",
              "    <tr>\n",
              "      <th>25%</th>\n",
              "      <td>2.0</td>\n",
              "    </tr>\n",
              "    <tr>\n",
              "      <th>50%</th>\n",
              "      <td>3.0</td>\n",
              "    </tr>\n",
              "    <tr>\n",
              "      <th>75%</th>\n",
              "      <td>8.0</td>\n",
              "    </tr>\n",
              "    <tr>\n",
              "      <th>max</th>\n",
              "      <td>1000.0</td>\n",
              "    </tr>\n",
              "  </tbody>\n",
              "</table>\n",
              "</div>\n",
              "    <div class=\"colab-df-buttons\">\n",
              "\n",
              "  <div class=\"colab-df-container\">\n",
              "    <button class=\"colab-df-convert\" onclick=\"convertToInteractive('df-172f842d-c03e-4d01-b3a3-1adef38e8a4a')\"\n",
              "            title=\"Convert this dataframe to an interactive table.\"\n",
              "            style=\"display:none;\">\n",
              "\n",
              "  <svg xmlns=\"http://www.w3.org/2000/svg\" height=\"24px\" viewBox=\"0 -960 960 960\">\n",
              "    <path d=\"M120-120v-720h720v720H120Zm60-500h600v-160H180v160Zm220 220h160v-160H400v160Zm0 220h160v-160H400v160ZM180-400h160v-160H180v160Zm440 0h160v-160H620v160ZM180-180h160v-160H180v160Zm440 0h160v-160H620v160Z\"/>\n",
              "  </svg>\n",
              "    </button>\n",
              "\n",
              "  <style>\n",
              "    .colab-df-container {\n",
              "      display:flex;\n",
              "      gap: 12px;\n",
              "    }\n",
              "\n",
              "    .colab-df-convert {\n",
              "      background-color: #E8F0FE;\n",
              "      border: none;\n",
              "      border-radius: 50%;\n",
              "      cursor: pointer;\n",
              "      display: none;\n",
              "      fill: #1967D2;\n",
              "      height: 32px;\n",
              "      padding: 0 0 0 0;\n",
              "      width: 32px;\n",
              "    }\n",
              "\n",
              "    .colab-df-convert:hover {\n",
              "      background-color: #E2EBFA;\n",
              "      box-shadow: 0px 1px 2px rgba(60, 64, 67, 0.3), 0px 1px 3px 1px rgba(60, 64, 67, 0.15);\n",
              "      fill: #174EA6;\n",
              "    }\n",
              "\n",
              "    .colab-df-buttons div {\n",
              "      margin-bottom: 4px;\n",
              "    }\n",
              "\n",
              "    [theme=dark] .colab-df-convert {\n",
              "      background-color: #3B4455;\n",
              "      fill: #D2E3FC;\n",
              "    }\n",
              "\n",
              "    [theme=dark] .colab-df-convert:hover {\n",
              "      background-color: #434B5C;\n",
              "      box-shadow: 0px 1px 3px 1px rgba(0, 0, 0, 0.15);\n",
              "      filter: drop-shadow(0px 1px 2px rgba(0, 0, 0, 0.3));\n",
              "      fill: #FFFFFF;\n",
              "    }\n",
              "  </style>\n",
              "\n",
              "    <script>\n",
              "      const buttonEl =\n",
              "        document.querySelector('#df-172f842d-c03e-4d01-b3a3-1adef38e8a4a button.colab-df-convert');\n",
              "      buttonEl.style.display =\n",
              "        google.colab.kernel.accessAllowed ? 'block' : 'none';\n",
              "\n",
              "      async function convertToInteractive(key) {\n",
              "        const element = document.querySelector('#df-172f842d-c03e-4d01-b3a3-1adef38e8a4a');\n",
              "        const dataTable =\n",
              "          await google.colab.kernel.invokeFunction('convertToInteractive',\n",
              "                                                    [key], {});\n",
              "        if (!dataTable) return;\n",
              "\n",
              "        const docLinkHtml = 'Like what you see? Visit the ' +\n",
              "          '<a target=\"_blank\" href=https://colab.research.google.com/notebooks/data_table.ipynb>data table notebook</a>'\n",
              "          + ' to learn more about interactive tables.';\n",
              "        element.innerHTML = '';\n",
              "        dataTable['output_type'] = 'display_data';\n",
              "        await google.colab.output.renderOutput(dataTable, element);\n",
              "        const docLink = document.createElement('div');\n",
              "        docLink.innerHTML = docLinkHtml;\n",
              "        element.appendChild(docLink);\n",
              "      }\n",
              "    </script>\n",
              "  </div>\n",
              "\n",
              "\n",
              "<div id=\"df-fa8ece67-6f67-495e-8ce3-031b6d85d795\">\n",
              "  <button class=\"colab-df-quickchart\" onclick=\"quickchart('df-fa8ece67-6f67-495e-8ce3-031b6d85d795')\"\n",
              "            title=\"Suggest charts\"\n",
              "            style=\"display:none;\">\n",
              "\n",
              "<svg xmlns=\"http://www.w3.org/2000/svg\" height=\"24px\"viewBox=\"0 0 24 24\"\n",
              "     width=\"24px\">\n",
              "    <g>\n",
              "        <path d=\"M19 3H5c-1.1 0-2 .9-2 2v14c0 1.1.9 2 2 2h14c1.1 0 2-.9 2-2V5c0-1.1-.9-2-2-2zM9 17H7v-7h2v7zm4 0h-2V7h2v10zm4 0h-2v-4h2v4z\"/>\n",
              "    </g>\n",
              "</svg>\n",
              "  </button>\n",
              "\n",
              "<style>\n",
              "  .colab-df-quickchart {\n",
              "      --bg-color: #E8F0FE;\n",
              "      --fill-color: #1967D2;\n",
              "      --hover-bg-color: #E2EBFA;\n",
              "      --hover-fill-color: #174EA6;\n",
              "      --disabled-fill-color: #AAA;\n",
              "      --disabled-bg-color: #DDD;\n",
              "  }\n",
              "\n",
              "  [theme=dark] .colab-df-quickchart {\n",
              "      --bg-color: #3B4455;\n",
              "      --fill-color: #D2E3FC;\n",
              "      --hover-bg-color: #434B5C;\n",
              "      --hover-fill-color: #FFFFFF;\n",
              "      --disabled-bg-color: #3B4455;\n",
              "      --disabled-fill-color: #666;\n",
              "  }\n",
              "\n",
              "  .colab-df-quickchart {\n",
              "    background-color: var(--bg-color);\n",
              "    border: none;\n",
              "    border-radius: 50%;\n",
              "    cursor: pointer;\n",
              "    display: none;\n",
              "    fill: var(--fill-color);\n",
              "    height: 32px;\n",
              "    padding: 0;\n",
              "    width: 32px;\n",
              "  }\n",
              "\n",
              "  .colab-df-quickchart:hover {\n",
              "    background-color: var(--hover-bg-color);\n",
              "    box-shadow: 0 1px 2px rgba(60, 64, 67, 0.3), 0 1px 3px 1px rgba(60, 64, 67, 0.15);\n",
              "    fill: var(--button-hover-fill-color);\n",
              "  }\n",
              "\n",
              "  .colab-df-quickchart-complete:disabled,\n",
              "  .colab-df-quickchart-complete:disabled:hover {\n",
              "    background-color: var(--disabled-bg-color);\n",
              "    fill: var(--disabled-fill-color);\n",
              "    box-shadow: none;\n",
              "  }\n",
              "\n",
              "  .colab-df-spinner {\n",
              "    border: 2px solid var(--fill-color);\n",
              "    border-color: transparent;\n",
              "    border-bottom-color: var(--fill-color);\n",
              "    animation:\n",
              "      spin 1s steps(1) infinite;\n",
              "  }\n",
              "\n",
              "  @keyframes spin {\n",
              "    0% {\n",
              "      border-color: transparent;\n",
              "      border-bottom-color: var(--fill-color);\n",
              "      border-left-color: var(--fill-color);\n",
              "    }\n",
              "    20% {\n",
              "      border-color: transparent;\n",
              "      border-left-color: var(--fill-color);\n",
              "      border-top-color: var(--fill-color);\n",
              "    }\n",
              "    30% {\n",
              "      border-color: transparent;\n",
              "      border-left-color: var(--fill-color);\n",
              "      border-top-color: var(--fill-color);\n",
              "      border-right-color: var(--fill-color);\n",
              "    }\n",
              "    40% {\n",
              "      border-color: transparent;\n",
              "      border-right-color: var(--fill-color);\n",
              "      border-top-color: var(--fill-color);\n",
              "    }\n",
              "    60% {\n",
              "      border-color: transparent;\n",
              "      border-right-color: var(--fill-color);\n",
              "    }\n",
              "    80% {\n",
              "      border-color: transparent;\n",
              "      border-right-color: var(--fill-color);\n",
              "      border-bottom-color: var(--fill-color);\n",
              "    }\n",
              "    90% {\n",
              "      border-color: transparent;\n",
              "      border-bottom-color: var(--fill-color);\n",
              "    }\n",
              "  }\n",
              "</style>\n",
              "\n",
              "  <script>\n",
              "    async function quickchart(key) {\n",
              "      const quickchartButtonEl =\n",
              "        document.querySelector('#' + key + ' button');\n",
              "      quickchartButtonEl.disabled = true;  // To prevent multiple clicks.\n",
              "      quickchartButtonEl.classList.add('colab-df-spinner');\n",
              "      try {\n",
              "        const charts = await google.colab.kernel.invokeFunction(\n",
              "            'suggestCharts', [key], {});\n",
              "      } catch (error) {\n",
              "        console.error('Error during call to suggestCharts:', error);\n",
              "      }\n",
              "      quickchartButtonEl.classList.remove('colab-df-spinner');\n",
              "      quickchartButtonEl.classList.add('colab-df-quickchart-complete');\n",
              "    }\n",
              "    (() => {\n",
              "      let quickchartButtonEl =\n",
              "        document.querySelector('#df-fa8ece67-6f67-495e-8ce3-031b6d85d795 button');\n",
              "      quickchartButtonEl.style.display =\n",
              "        google.colab.kernel.accessAllowed ? 'block' : 'none';\n",
              "    })();\n",
              "  </script>\n",
              "</div>\n",
              "\n",
              "    </div>\n",
              "  </div>\n"
            ]
          },
          "metadata": {},
          "execution_count": 119
        }
      ]
    },
    {
      "cell_type": "markdown",
      "source": [
        "- O mínimo de noites é **1**\n",
        "- A média de noites são **57.05**\n",
        "- O máximo de noites são **1000**"
      ],
      "metadata": {
        "id": "JW2bR3cWi1nA"
      }
    },
    {
      "cell_type": "code",
      "execution_count": null,
      "metadata": {
        "colab": {
          "base_uri": "https://localhost:8080/",
          "height": 194
        },
        "id": "tigJZ6uh0DFt",
        "outputId": "f7d646dc-8d39-4ed9-a830-3652d2af771a"
      },
      "outputs": [
        {
          "output_type": "execute_result",
          "data": {
            "text/plain": [
              "<Axes: >"
            ]
          },
          "metadata": {},
          "execution_count": 69
        },
        {
          "output_type": "display_data",
          "data": {
            "text/plain": [
              "<Figure size 700x150 with 1 Axes>"
            ],
            "image/png": "[encoded data removed]"
          },
          "metadata": {}
        }
      ],
      "source": [
        "# plotando o boxplot\n",
        "df[[\"minimum_nights\"]].plot(kind='box', vert=False, figsize=(7,1.5))"
      ]
    },
    {
      "cell_type": "code",
      "source": [
        "# histograma da variável price\n",
        "df[\"price\"].hist(bins=15, figsize=(3,2));"
      ],
      "metadata": {
        "id": "wAmKO1fMHPZ1",
        "outputId": "2f88208c-2f22-4636-8256-1edf72249815",
        "colab": {
          "base_uri": "https://localhost:8080/",
          "height": 214
        }
      },
      "execution_count": null,
      "outputs": [
        {
          "output_type": "display_data",
          "data": {
            "text/plain": [
              "<Figure size 300x200 with 1 Axes>"
            ],
            "image/png": "[encoded data removed]"
          },
          "metadata": {}
        }
      ]
    },
    {
      "cell_type": "markdown",
      "source": [
        "#### **Identificando o IQR, limite inferior e superior da variavel minimum_nights**"
      ],
      "metadata": {
        "id": "q3hQvG2tG5Am"
      }
    },
    {
      "cell_type": "code",
      "execution_count": null,
      "metadata": {
        "colab": {
          "base_uri": "https://localhost:8080/"
        },
        "id": "b_jaXdwHziol",
        "outputId": "d48508a5-29c1-4fbf-d3ec-dda5b3418579"
      },
      "outputs": [
        {
          "output_type": "stream",
          "name": "stdout",
          "text": [
            "IQR da variável minimum_nights:  6.0\n",
            "Limite superior de minimum_nights:  17.0\n",
            "Limite inferior de minimum_nights:  -7.0\n"
          ]
        }
      ],
      "source": [
        "# identificar o IQR para a variável minimum_nights\n",
        "q1_minimum_nights = df.minimum_nights.quantile(.25)\n",
        "q3_minimum_nights = df.minimum_nights.quantile(.75)\n",
        "IQR_minimum_nights = q3_minimum_nights - q1_minimum_nights\n",
        "print('IQR da variável minimum_nights: ', IQR_minimum_nights)\n",
        "\n",
        "# definindo os limites\n",
        "sup_minimum_nights = q3_minimum_nights + 1.5 * IQR_minimum_nights\n",
        "inf_minimum_nights = q1_minimum_nights - 1.5 * IQR_minimum_nights\n",
        "\n",
        "print('Limite superior de minimum_nights: ', sup_minimum_nights)\n",
        "print('Limite inferior de minimum_nights: ', inf_minimum_nights)"
      ]
    },
    {
      "cell_type": "markdown",
      "source": [
        "### Verificando o quanto a limpeza pode influênciar a robustez do *dataset*"
      ],
      "metadata": {
        "id": "wiJO6eIIHZ_-"
      }
    },
    {
      "cell_type": "code",
      "source": [
        "print(\"O dataset possui {} colunas\".format(df.shape[0]))\n",
        "print(\"{} Entradas acima de 17.0\".format(len(df[df.minimum_nights > 17])))\n",
        "print(\"Representam {:.2f}% do dataset\".format((len(df[df.minimum_nights > 17]) / df.shape[0])*100))"
      ],
      "metadata": {
        "colab": {
          "base_uri": "https://localhost:8080/"
        },
        "id": "ddgKLcpFjEdK",
        "outputId": "7dc63ada-44a9-4b68-8be6-6df71cbf2b24"
      },
      "execution_count": null,
      "outputs": [
        {
          "output_type": "stream",
          "name": "stdout",
          "text": [
            "O dataset possui 74329 colunas\n",
            "17340 Entradas acima de 17.0\n",
            "Representam 23.33% do dataset\n"
          ]
        }
      ]
    },
    {
      "cell_type": "code",
      "source": [
        "print(\"O dataset possui {} colunas\".format(df.shape[0]))\n",
        "print(\"{} Entradas acima de 699\".format(len(df[df.minimum_nights > 699])))\n",
        "print(\"Representam {:.2f}% do dataset\".format((len(df[df.minimum_nights > 699]) / df.shape[0])*100))"
      ],
      "metadata": {
        "colab": {
          "base_uri": "https://localhost:8080/"
        },
        "id": "B2TSD_5ejKsf",
        "outputId": "bed6d357-4dc5-4375-9265-3cf03cb683a7"
      },
      "execution_count": null,
      "outputs": [
        {
          "output_type": "stream",
          "name": "stdout",
          "text": [
            "O dataset possui 74329 colunas\n",
            "9 Entradas acima de 699\n",
            "Representam 0.01% do dataset\n"
          ]
        }
      ]
    },
    {
      "cell_type": "code",
      "source": [
        "print(\"O dataset possui {} colunas\".format(df.shape[0]))\n",
        "print(\"{} Entradas acima de 30\".format(len(df[df.minimum_nights > 30])))\n",
        "print(\"Representam {:.2f}% do dataset\".format((len(df[df.minimum_nights > 30]) / df.shape[0])*100))"
      ],
      "metadata": {
        "colab": {
          "base_uri": "https://localhost:8080/"
        },
        "id": "NZFpFCSgjPpf",
        "outputId": "2feb4f4a-78d6-4d89-bd6c-e796e01cc7f8"
      },
      "execution_count": null,
      "outputs": [
        {
          "output_type": "stream",
          "name": "stdout",
          "text": [
            "O dataset possui 74329 colunas\n",
            "12125 Entradas acima de 30\n",
            "Representam 16.31% do dataset\n"
          ]
        }
      ]
    },
    {
      "cell_type": "code",
      "source": [
        "print(\"O dataset possui {} colunas\".format(df.shape[0]))\n",
        "print(\"{} Entradas acima de 365\".format(len(df[df.minimum_nights > 365])))\n",
        "print(\"Representam {:.2f}% do dataset\".format((len(df[df.minimum_nights > 365]) / df.shape[0])*100))"
      ],
      "metadata": {
        "colab": {
          "base_uri": "https://localhost:8080/"
        },
        "id": "8zo0obmtjyXX",
        "outputId": "528004b8-5fa7-4d0f-a32e-9a2169a13f09"
      },
      "execution_count": null,
      "outputs": [
        {
          "output_type": "stream",
          "name": "stdout",
          "text": [
            "O dataset possui 74329 colunas\n",
            "28 Entradas acima de 365\n",
            "Representam 0.04% do dataset\n"
          ]
        }
      ]
    },
    {
      "cell_type": "markdown",
      "metadata": {
        "id": "wOzSR9wKZSuV"
      },
      "source": [
        "## **Tratamento de outliers**\n",
        "\n",
        "Criamos um subset com os dados tratados, com a retirada de outliers das colunas 'price' e 'minimum_nights', além de filtragem de listagens atualmente ativos, para uma representação atual dos dados."
      ]
    },
    {
      "cell_type": "code",
      "execution_count": null,
      "metadata": {
        "id": "Vtv4TY5lZSuV"
      },
      "outputs": [],
      "source": [
        "df_t = df[(~((df['price'] >= 2000) | (df['minimum_nights'] > 365))) & (df['ativo'] == 1)]"
      ]
    },
    {
      "cell_type": "code",
      "execution_count": null,
      "metadata": {
        "colab": {
          "base_uri": "https://localhost:8080/",
          "height": 320
        },
        "id": "zTmDz1kXZSuV",
        "outputId": "1af28555-1aa7-4735-efa6-c89005944a58"
      },
      "outputs": [
        {
          "output_type": "execute_result",
          "data": {
            "text/plain": [
              "                 id       host_id      latitude     longitude         price  \\\n",
              "count  5.607200e+04  5.607200e+04  56072.000000  56072.000000  56072.000000   \n",
              "mean   5.078774e+17  1.751029e+08     48.864414      2.342975    204.907386   \n",
              "std    4.361667e+17  1.880450e+08      0.017894      0.033927    209.820802   \n",
              "min    3.109000e+03  2.750000e+02     48.816080      2.224640     10.000000   \n",
              "25%    3.650198e+07  1.783017e+07     48.851610      2.321701     98.000000   \n",
              "50%    6.759065e+17  7.273143e+07     48.865618      2.346814    142.000000   \n",
              "75%    9.223955e+17  3.376990e+08     48.878750      2.367170    223.000000   \n",
              "max    1.044192e+18  5.503984e+08     48.901590      2.467120   1999.000000   \n",
              "\n",
              "       minimum_nights  number_of_reviews  reviews_per_month  \\\n",
              "count    56072.000000       56072.000000       56072.000000   \n",
              "mean        18.583446          27.782654           1.092003   \n",
              "std         65.135524          61.299943           1.462178   \n",
              "min          1.000000           0.000000           0.000000   \n",
              "25%          2.000000           1.000000           0.090000   \n",
              "50%          3.000000           8.000000           0.620000   \n",
              "75%          5.000000          28.000000           1.540000   \n",
              "max        365.000000        2636.000000          45.850000   \n",
              "\n",
              "       calculated_host_listings_count  availability_365  \\\n",
              "count                     56072.00000      56072.000000   \n",
              "mean                         24.76186        138.110964   \n",
              "std                          81.98756        126.270038   \n",
              "min                           1.00000          0.000000   \n",
              "25%                           1.00000         19.000000   \n",
              "50%                           1.00000         97.000000   \n",
              "75%                           5.00000        253.000000   \n",
              "max                         628.00000        365.000000   \n",
              "\n",
              "       number_of_reviews_ltm    ativo  \n",
              "count           56072.000000  56072.0  \n",
              "mean                9.087619      1.0  \n",
              "std                16.022890      0.0  \n",
              "min                 0.000000      1.0  \n",
              "25%                 0.000000      1.0  \n",
              "50%                 4.000000      1.0  \n",
              "75%                12.000000      1.0  \n",
              "max               902.000000      1.0  "
            ],
            "text/html": [
              "\n",
              "  <div id=\"df-8716fe93-40b3-4796-a998-5c3556ea2748\" class=\"colab-df-container\">\n",
              "    <div>\n",
              "<style scoped>\n",
              "    .dataframe tbody tr th:only-of-type {\n",
              "        vertical-align: middle;\n",
              "    }\n",
              "\n",
              "    .dataframe tbody tr th {\n",
              "        vertical-align: top;\n",
              "    }\n",
              "\n",
              "    .dataframe thead th {\n",
              "        text-align: right;\n",
              "    }\n",
              "</style>\n",
              "<table border=\"1\" class=\"dataframe\">\n",
              "  <thead>\n",
              "    <tr style=\"text-align: right;\">\n",
              "      <th></th>\n",
              "      <th>id</th>\n",
              "      <th>host_id</th>\n",
              "      <th>latitude</th>\n",
              "      <th>longitude</th>\n",
              "      <th>price</th>\n",
              "      <th>minimum_nights</th>\n",
              "      <th>number_of_reviews</th>\n",
              "      <th>reviews_per_month</th>\n",
              "      <th>calculated_host_listings_count</th>\n",
              "      <th>availability_365</th>\n",
              "      <th>number_of_reviews_ltm</th>\n",
              "      <th>ativo</th>\n",
              "    </tr>\n",
              "  </thead>\n",
              "  <tbody>\n",
              "    <tr>\n",
              "      <th>count</th>\n",
              "      <td>5.607200e+04</td>\n",
              "      <td>5.607200e+04</td>\n",
              "      <td>56072.000000</td>\n",
              "      <td>56072.000000</td>\n",
              "      <td>56072.000000</td>\n",
              "      <td>56072.000000</td>\n",
              "      <td>56072.000000</td>\n",
              "      <td>56072.000000</td>\n",
              "      <td>56072.00000</td>\n",
              "      <td>56072.000000</td>\n",
              "      <td>56072.000000</td>\n",
              "      <td>56072.0</td>\n",
              "    </tr>\n",
              "    <tr>\n",
              "      <th>mean</th>\n",
              "      <td>5.078774e+17</td>\n",
              "      <td>1.751029e+08</td>\n",
              "      <td>48.864414</td>\n",
              "      <td>2.342975</td>\n",
              "      <td>204.907386</td>\n",
              "      <td>18.583446</td>\n",
              "      <td>27.782654</td>\n",
              "      <td>1.092003</td>\n",
              "      <td>24.76186</td>\n",
              "      <td>138.110964</td>\n",
              "      <td>9.087619</td>\n",
              "      <td>1.0</td>\n",
              "    </tr>\n",
              "    <tr>\n",
              "      <th>std</th>\n",
              "      <td>4.361667e+17</td>\n",
              "      <td>1.880450e+08</td>\n",
              "      <td>0.017894</td>\n",
              "      <td>0.033927</td>\n",
              "      <td>209.820802</td>\n",
              "      <td>65.135524</td>\n",
              "      <td>61.299943</td>\n",
              "      <td>1.462178</td>\n",
              "      <td>81.98756</td>\n",
              "      <td>126.270038</td>\n",
              "      <td>16.022890</td>\n",
              "      <td>0.0</td>\n",
              "    </tr>\n",
              "    <tr>\n",
              "      <th>min</th>\n",
              "      <td>3.109000e+03</td>\n",
              "      <td>2.750000e+02</td>\n",
              "      <td>48.816080</td>\n",
              "      <td>2.224640</td>\n",
              "      <td>10.000000</td>\n",
              "      <td>1.000000</td>\n",
              "      <td>0.000000</td>\n",
              "      <td>0.000000</td>\n",
              "      <td>1.00000</td>\n",
              "      <td>0.000000</td>\n",
              "      <td>0.000000</td>\n",
              "      <td>1.0</td>\n",
              "    </tr>\n",
              "    <tr>\n",
              "      <th>25%</th>\n",
              "      <td>3.650198e+07</td>\n",
              "      <td>1.783017e+07</td>\n",
              "      <td>48.851610</td>\n",
              "      <td>2.321701</td>\n",
              "      <td>98.000000</td>\n",
              "      <td>2.000000</td>\n",
              "      <td>1.000000</td>\n",
              "      <td>0.090000</td>\n",
              "      <td>1.00000</td>\n",
              "      <td>19.000000</td>\n",
              "      <td>0.000000</td>\n",
              "      <td>1.0</td>\n",
              "    </tr>\n",
              "    <tr>\n",
              "      <th>50%</th>\n",
              "      <td>6.759065e+17</td>\n",
              "      <td>7.273143e+07</td>\n",
              "      <td>48.865618</td>\n",
              "      <td>2.346814</td>\n",
              "      <td>142.000000</td>\n",
              "      <td>3.000000</td>\n",
              "      <td>8.000000</td>\n",
              "      <td>0.620000</td>\n",
              "      <td>1.00000</td>\n",
              "      <td>97.000000</td>\n",
              "      <td>4.000000</td>\n",
              "      <td>1.0</td>\n",
              "    </tr>\n",
              "    <tr>\n",
              "      <th>75%</th>\n",
              "      <td>9.223955e+17</td>\n",
              "      <td>3.376990e+08</td>\n",
              "      <td>48.878750</td>\n",
              "      <td>2.367170</td>\n",
              "      <td>223.000000</td>\n",
              "      <td>5.000000</td>\n",
              "      <td>28.000000</td>\n",
              "      <td>1.540000</td>\n",
              "      <td>5.00000</td>\n",
              "      <td>253.000000</td>\n",
              "      <td>12.000000</td>\n",
              "      <td>1.0</td>\n",
              "    </tr>\n",
              "    <tr>\n",
              "      <th>max</th>\n",
              "      <td>1.044192e+18</td>\n",
              "      <td>5.503984e+08</td>\n",
              "      <td>48.901590</td>\n",
              "      <td>2.467120</td>\n",
              "      <td>1999.000000</td>\n",
              "      <td>365.000000</td>\n",
              "      <td>2636.000000</td>\n",
              "      <td>45.850000</td>\n",
              "      <td>628.00000</td>\n",
              "      <td>365.000000</td>\n",
              "      <td>902.000000</td>\n",
              "      <td>1.0</td>\n",
              "    </tr>\n",
              "  </tbody>\n",
              "</table>\n",
              "</div>\n",
              "    <div class=\"colab-df-buttons\">\n",
              "\n",
              "  <div class=\"colab-df-container\">\n",
              "    <button class=\"colab-df-convert\" onclick=\"convertToInteractive('df-8716fe93-40b3-4796-a998-5c3556ea2748')\"\n",
              "            title=\"Convert this dataframe to an interactive table.\"\n",
              "            style=\"display:none;\">\n",
              "\n",
              "  <svg xmlns=\"http://www.w3.org/2000/svg\" height=\"24px\" viewBox=\"0 -960 960 960\">\n",
              "    <path d=\"M120-120v-720h720v720H120Zm60-500h600v-160H180v160Zm220 220h160v-160H400v160Zm0 220h160v-160H400v160ZM180-400h160v-160H180v160Zm440 0h160v-160H620v160ZM180-180h160v-160H180v160Zm440 0h160v-160H620v160Z\"/>\n",
              "  </svg>\n",
              "    </button>\n",
              "\n",
              "  <style>\n",
              "    .colab-df-container {\n",
              "      display:flex;\n",
              "      gap: 12px;\n",
              "    }\n",
              "\n",
              "    .colab-df-convert {\n",
              "      background-color: #E8F0FE;\n",
              "      border: none;\n",
              "      border-radius: 50%;\n",
              "      cursor: pointer;\n",
              "      display: none;\n",
              "      fill: #1967D2;\n",
              "      height: 32px;\n",
              "      padding: 0 0 0 0;\n",
              "      width: 32px;\n",
              "    }\n",
              "\n",
              "    .colab-df-convert:hover {\n",
              "      background-color: #E2EBFA;\n",
              "      box-shadow: 0px 1px 2px rgba(60, 64, 67, 0.3), 0px 1px 3px 1px rgba(60, 64, 67, 0.15);\n",
              "      fill: #174EA6;\n",
              "    }\n",
              "\n",
              "    .colab-df-buttons div {\n",
              "      margin-bottom: 4px;\n",
              "    }\n",
              "\n",
              "    [theme=dark] .colab-df-convert {\n",
              "      background-color: #3B4455;\n",
              "      fill: #D2E3FC;\n",
              "    }\n",
              "\n",
              "    [theme=dark] .colab-df-convert:hover {\n",
              "      background-color: #434B5C;\n",
              "      box-shadow: 0px 1px 3px 1px rgba(0, 0, 0, 0.15);\n",
              "      filter: drop-shadow(0px 1px 2px rgba(0, 0, 0, 0.3));\n",
              "      fill: #FFFFFF;\n",
              "    }\n",
              "  </style>\n",
              "\n",
              "    <script>\n",
              "      const buttonEl =\n",
              "        document.querySelector('#df-8716fe93-40b3-4796-a998-5c3556ea2748 button.colab-df-convert');\n",
              "      buttonEl.style.display =\n",
              "        google.colab.kernel.accessAllowed ? 'block' : 'none';\n",
              "\n",
              "      async function convertToInteractive(key) {\n",
              "        const element = document.querySelector('#df-8716fe93-40b3-4796-a998-5c3556ea2748');\n",
              "        const dataTable =\n",
              "          await google.colab.kernel.invokeFunction('convertToInteractive',\n",
              "                                                    [key], {});\n",
              "        if (!dataTable) return;\n",
              "\n",
              "        const docLinkHtml = 'Like what you see? Visit the ' +\n",
              "          '<a target=\"_blank\" href=https://colab.research.google.com/notebooks/data_table.ipynb>data table notebook</a>'\n",
              "          + ' to learn more about interactive tables.';\n",
              "        element.innerHTML = '';\n",
              "        dataTable['output_type'] = 'display_data';\n",
              "        await google.colab.output.renderOutput(dataTable, element);\n",
              "        const docLink = document.createElement('div');\n",
              "        docLink.innerHTML = docLinkHtml;\n",
              "        element.appendChild(docLink);\n",
              "      }\n",
              "    </script>\n",
              "  </div>\n",
              "\n",
              "\n",
              "<div id=\"df-947aa8d3-9231-4b66-8ea9-a343cc74df8d\">\n",
              "  <button class=\"colab-df-quickchart\" onclick=\"quickchart('df-947aa8d3-9231-4b66-8ea9-a343cc74df8d')\"\n",
              "            title=\"Suggest charts\"\n",
              "            style=\"display:none;\">\n",
              "\n",
              "<svg xmlns=\"http://www.w3.org/2000/svg\" height=\"24px\"viewBox=\"0 0 24 24\"\n",
              "     width=\"24px\">\n",
              "    <g>\n",
              "        <path d=\"M19 3H5c-1.1 0-2 .9-2 2v14c0 1.1.9 2 2 2h14c1.1 0 2-.9 2-2V5c0-1.1-.9-2-2-2zM9 17H7v-7h2v7zm4 0h-2V7h2v10zm4 0h-2v-4h2v4z\"/>\n",
              "    </g>\n",
              "</svg>\n",
              "  </button>\n",
              "\n",
              "<style>\n",
              "  .colab-df-quickchart {\n",
              "      --bg-color: #E8F0FE;\n",
              "      --fill-color: #1967D2;\n",
              "      --hover-bg-color: #E2EBFA;\n",
              "      --hover-fill-color: #174EA6;\n",
              "      --disabled-fill-color: #AAA;\n",
              "      --disabled-bg-color: #DDD;\n",
              "  }\n",
              "\n",
              "  [theme=dark] .colab-df-quickchart {\n",
              "      --bg-color: #3B4455;\n",
              "      --fill-color: #D2E3FC;\n",
              "      --hover-bg-color: #434B5C;\n",
              "      --hover-fill-color: #FFFFFF;\n",
              "      --disabled-bg-color: #3B4455;\n",
              "      --disabled-fill-color: #666;\n",
              "  }\n",
              "\n",
              "  .colab-df-quickchart {\n",
              "    background-color: var(--bg-color);\n",
              "    border: none;\n",
              "    border-radius: 50%;\n",
              "    cursor: pointer;\n",
              "    display: none;\n",
              "    fill: var(--fill-color);\n",
              "    height: 32px;\n",
              "    padding: 0;\n",
              "    width: 32px;\n",
              "  }\n",
              "\n",
              "  .colab-df-quickchart:hover {\n",
              "    background-color: var(--hover-bg-color);\n",
              "    box-shadow: 0 1px 2px rgba(60, 64, 67, 0.3), 0 1px 3px 1px rgba(60, 64, 67, 0.15);\n",
              "    fill: var(--button-hover-fill-color);\n",
              "  }\n",
              "\n",
              "  .colab-df-quickchart-complete:disabled,\n",
              "  .colab-df-quickchart-complete:disabled:hover {\n",
              "    background-color: var(--disabled-bg-color);\n",
              "    fill: var(--disabled-fill-color);\n",
              "    box-shadow: none;\n",
              "  }\n",
              "\n",
              "  .colab-df-spinner {\n",
              "    border: 2px solid var(--fill-color);\n",
              "    border-color: transparent;\n",
              "    border-bottom-color: var(--fill-color);\n",
              "    animation:\n",
              "      spin 1s steps(1) infinite;\n",
              "  }\n",
              "\n",
              "  @keyframes spin {\n",
              "    0% {\n",
              "      border-color: transparent;\n",
              "      border-bottom-color: var(--fill-color);\n",
              "      border-left-color: var(--fill-color);\n",
              "    }\n",
              "    20% {\n",
              "      border-color: transparent;\n",
              "      border-left-color: var(--fill-color);\n",
              "      border-top-color: var(--fill-color);\n",
              "    }\n",
              "    30% {\n",
              "      border-color: transparent;\n",
              "      border-left-color: var(--fill-color);\n",
              "      border-top-color: var(--fill-color);\n",
              "      border-right-color: var(--fill-color);\n",
              "    }\n",
              "    40% {\n",
              "      border-color: transparent;\n",
              "      border-right-color: var(--fill-color);\n",
              "      border-top-color: var(--fill-color);\n",
              "    }\n",
              "    60% {\n",
              "      border-color: transparent;\n",
              "      border-right-color: var(--fill-color);\n",
              "    }\n",
              "    80% {\n",
              "      border-color: transparent;\n",
              "      border-right-color: var(--fill-color);\n",
              "      border-bottom-color: var(--fill-color);\n",
              "    }\n",
              "    90% {\n",
              "      border-color: transparent;\n",
              "      border-bottom-color: var(--fill-color);\n",
              "    }\n",
              "  }\n",
              "</style>\n",
              "\n",
              "  <script>\n",
              "    async function quickchart(key) {\n",
              "      const quickchartButtonEl =\n",
              "        document.querySelector('#' + key + ' button');\n",
              "      quickchartButtonEl.disabled = true;  // To prevent multiple clicks.\n",
              "      quickchartButtonEl.classList.add('colab-df-spinner');\n",
              "      try {\n",
              "        const charts = await google.colab.kernel.invokeFunction(\n",
              "            'suggestCharts', [key], {});\n",
              "      } catch (error) {\n",
              "        console.error('Error during call to suggestCharts:', error);\n",
              "      }\n",
              "      quickchartButtonEl.classList.remove('colab-df-spinner');\n",
              "      quickchartButtonEl.classList.add('colab-df-quickchart-complete');\n",
              "    }\n",
              "    (() => {\n",
              "      let quickchartButtonEl =\n",
              "        document.querySelector('#df-947aa8d3-9231-4b66-8ea9-a343cc74df8d button');\n",
              "      quickchartButtonEl.style.display =\n",
              "        google.colab.kernel.accessAllowed ? 'block' : 'none';\n",
              "    })();\n",
              "  </script>\n",
              "</div>\n",
              "\n",
              "    </div>\n",
              "  </div>\n"
            ]
          },
          "metadata": {},
          "execution_count": 82
        }
      ],
      "source": [
        "df_t.describe()"
      ]
    },
    {
      "cell_type": "markdown",
      "source": [
        "### **BoxPlot \"minimum_nights\"**"
      ],
      "metadata": {
        "id": "CPFSPckdbV0Z"
      }
    },
    {
      "cell_type": "code",
      "source": [
        "df[[\"minimum_nights\"]].plot(kind='box', vert=False, figsize=(7,1.5))"
      ],
      "metadata": {
        "id": "pNj4BRFAZB0Y",
        "outputId": "19c0968b-237b-4769-d19a-e17b6c496a74",
        "colab": {
          "base_uri": "https://localhost:8080/",
          "height": 194
        }
      },
      "execution_count": null,
      "outputs": [
        {
          "output_type": "execute_result",
          "data": {
            "text/plain": [
              "<Axes: >"
            ]
          },
          "metadata": {},
          "execution_count": 84
        },
        {
          "output_type": "display_data",
          "data": {
            "text/plain": [
              "<Figure size 700x150 with 1 Axes>"
            ],
            "image/png": "[encoded data removed]"
          },
          "metadata": {}
        }
      ]
    },
    {
      "cell_type": "code",
      "source": [
        "df_t[[\"minimum_nights\"]].plot(kind='box', vert=False, figsize=(7,1.5))"
      ],
      "metadata": {
        "id": "udnlXokeZGck",
        "outputId": "8053d3a1-0bdb-424e-8796-ba4e33360101",
        "colab": {
          "base_uri": "https://localhost:8080/",
          "height": 194
        }
      },
      "execution_count": null,
      "outputs": [
        {
          "output_type": "execute_result",
          "data": {
            "text/plain": [
              "<Axes: >"
            ]
          },
          "metadata": {},
          "execution_count": 90
        },
        {
          "output_type": "display_data",
          "data": {
            "text/plain": [
              "<Figure size 700x150 with 1 Axes>"
            ],
            "image/png": "[encoded data removed]"
          },
          "metadata": {}
        }
      ]
    },
    {
      "cell_type": "markdown",
      "source": [
        "### **BoxPlot \"Price\"**"
      ],
      "metadata": {
        "id": "FL0Tw4HBbHaT"
      }
    },
    {
      "cell_type": "code",
      "source": [
        "df[[\"price\"]].plot(kind='box', vert=False, figsize=(7,1.5))"
      ],
      "metadata": {
        "id": "pEHSbiMWbAzx",
        "outputId": "c2f6f9bf-d1b8-46cf-e8d7-ca5fb6388919",
        "colab": {
          "base_uri": "https://localhost:8080/",
          "height": 194
        }
      },
      "execution_count": null,
      "outputs": [
        {
          "output_type": "execute_result",
          "data": {
            "text/plain": [
              "<Axes: >"
            ]
          },
          "metadata": {},
          "execution_count": 93
        },
        {
          "output_type": "display_data",
          "data": {
            "text/plain": [
              "<Figure size 700x150 with 1 Axes>"
            ],
            "image/png": "[encoded data removed]"
          },
          "metadata": {}
        }
      ]
    },
    {
      "cell_type": "code",
      "source": [
        "df_t[[\"price\"]].plot(kind='box', vert=False, figsize=(7,1.5))"
      ],
      "metadata": {
        "id": "vySEv2CnaYiJ",
        "outputId": "6ebae072-c1da-4521-89ec-60d3c34188b8",
        "colab": {
          "base_uri": "https://localhost:8080/",
          "height": 194
        }
      },
      "execution_count": null,
      "outputs": [
        {
          "output_type": "execute_result",
          "data": {
            "text/plain": [
              "<Axes: >"
            ]
          },
          "metadata": {},
          "execution_count": 91
        },
        {
          "output_type": "display_data",
          "data": {
            "text/plain": [
              "<Figure size 700x150 with 1 Axes>"
            ],
            "image/png": "[encoded data removed]"
          },
          "metadata": {}
        }
      ]
    },
    {
      "cell_type": "markdown",
      "source": [
        "---"
      ],
      "metadata": {
        "id": "1AofsCdYZC0B"
      }
    },
    {
      "cell_type": "markdown",
      "source": [
        "<p align=\"center\">\n",
        "  <a href=\"https://github.com/SarahFeanor?tab=repositories\">\n",
        "    <img src=\"https://cdn.discordapp.com/attachments/1063559719291199599/1198977694004682752/cats.jpg?ex=65c0ddfe&is=65ae68fe&hm=7592e55b8862cbda52a303953ee10fdf3f357eb049f96977e08b99ddb85545b7&\" alt=\"capa\" width=\"400\" height=\"300\">\n",
        "  </a>\n",
        "</p><p align=\"center\"> <sup> Foto: Mapa dos bairros de Paris - Fonte: Paris CityVision </sup> </p>"
      ],
      "metadata": {
        "id": "IRmPVMUoRNzP"
      }
    },
    {
      "cell_type": "markdown",
      "metadata": {
        "id": "X6OJ097Xky5C"
      },
      "source": [
        "# 🔍 **Análise Explorátoria dos Dados**"
      ]
    },
    {
      "cell_type": "markdown",
      "metadata": {
        "id": "amsQJ92gV_Js"
      },
      "source": [
        "## **Qual a média de preços de Aluguel?**\n"
      ]
    },
    {
      "cell_type": "code",
      "execution_count": null,
      "metadata": {
        "colab": {
          "base_uri": "https://localhost:8080/"
        },
        "id": "ru3DlMlQkxLC",
        "outputId": "0fd93a91-9ff3-4f43-ac6f-55d6a97e2d67"
      },
      "outputs": [
        {
          "output_type": "stream",
          "name": "stdout",
          "text": [
            "A média de preços é 204.91 euros.\n",
            "No momento atual, isso representa 1112.65 reais\n"
          ]
        }
      ],
      "source": [
        "# ver a média da coluna `price`\n",
        "mean_price = (f'{df_t.price.mean():.2f}')\n",
        "brl_price = (f'{df_t.price.mean() * 5.43:.2f}')\n",
        "print(f'A média de preços é {mean_price} euros.')\n",
        "print(f'No momento atual, isso representa {brl_price} reais')"
      ]
    },
    {
      "cell_type": "markdown",
      "source": [
        "# 💶 **€ 204.91** (R$ 1.112,62)\n",
        "\n"
      ],
      "metadata": {
        "id": "saK5GkwtxT0Q"
      }
    },
    {
      "cell_type": "markdown",
      "metadata": {
        "id": "aId1rFWVXmJz"
      },
      "source": [
        "## **Qual a média de aluguéis e a quantidade de imóveis disponíveis em cada bairro?**"
      ]
    },
    {
      "cell_type": "code",
      "source": [
        "# Encontrando os valores da média de alugueis e qtd de imoveis por bairro\n",
        "media_por_bairro = df_t.groupby(['neighbourhood']).price.mean().sort_values(ascending = False).round()\n",
        "qtd_imoveis_bairro = df_t.neighbourhood.value_counts().sort_values(ascending = False)\n",
        "\n",
        "# mesclando as informações de preço médio e quantidade de imóveis por bairro\n",
        "dados_completos = pd.merge(media_por_bairro, qtd_imoveis_bairro, left_index=True, right_index=True)\n",
        "dados_completos\n"
      ],
      "metadata": {
        "id": "N6zB2DdJet-g",
        "outputId": "599c99bb-2a94-4dc7-d0c6-44d116397785",
        "colab": {
          "base_uri": "https://localhost:8080/",
          "height": 676
        }
      },
      "execution_count": null,
      "outputs": [
        {
          "output_type": "execute_result",
          "data": {
            "text/plain": [
              "                     price  neighbourhood\n",
              "Élysée               299.0           1904\n",
              "Passy                286.0           3599\n",
              "Palais-Bourbon       279.0           1628\n",
              "Louvre               270.0           1403\n",
              "Luxembourg           269.0           1705\n",
              "Hôtel-de-Ville       240.0           1971\n",
              "Temple               227.0           2639\n",
              "Bourse               223.0           2149\n",
              "Opéra                223.0           2797\n",
              "Panthéon             219.0           1807\n",
              "Vaugirard            204.0           4138\n",
              "Batignolles-Monceau  203.0           3780\n",
              "Entrepôt             186.0           3908\n",
              "Observatoire         179.0           2012\n",
              "Popincourt           174.0           4796\n",
              "Reuilly              170.0           2123\n",
              "Gobelins             165.0           1707\n",
              "Buttes-Montmartre    161.0           6012\n",
              "Buttes-Chaumont      152.0           3077\n",
              "Ménilmontant         143.0           2917"
            ],
            "text/html": [
              "\n",
              "  <div id=\"df-24876852-0626-4039-8743-134229013901\" class=\"colab-df-container\">\n",
              "    <div>\n",
              "<style scoped>\n",
              "    .dataframe tbody tr th:only-of-type {\n",
              "        vertical-align: middle;\n",
              "    }\n",
              "\n",
              "    .dataframe tbody tr th {\n",
              "        vertical-align: top;\n",
              "    }\n",
              "\n",
              "    .dataframe thead th {\n",
              "        text-align: right;\n",
              "    }\n",
              "</style>\n",
              "<table border=\"1\" class=\"dataframe\">\n",
              "  <thead>\n",
              "    <tr style=\"text-align: right;\">\n",
              "      <th></th>\n",
              "      <th>price</th>\n",
              "      <th>neighbourhood</th>\n",
              "    </tr>\n",
              "  </thead>\n",
              "  <tbody>\n",
              "    <tr>\n",
              "      <th>Élysée</th>\n",
              "      <td>299.0</td>\n",
              "      <td>1904</td>\n",
              "    </tr>\n",
              "    <tr>\n",
              "      <th>Passy</th>\n",
              "      <td>286.0</td>\n",
              "      <td>3599</td>\n",
              "    </tr>\n",
              "    <tr>\n",
              "      <th>Palais-Bourbon</th>\n",
              "      <td>279.0</td>\n",
              "      <td>1628</td>\n",
              "    </tr>\n",
              "    <tr>\n",
              "      <th>Louvre</th>\n",
              "      <td>270.0</td>\n",
              "      <td>1403</td>\n",
              "    </tr>\n",
              "    <tr>\n",
              "      <th>Luxembourg</th>\n",
              "      <td>269.0</td>\n",
              "      <td>1705</td>\n",
              "    </tr>\n",
              "    <tr>\n",
              "      <th>Hôtel-de-Ville</th>\n",
              "      <td>240.0</td>\n",
              "      <td>1971</td>\n",
              "    </tr>\n",
              "    <tr>\n",
              "      <th>Temple</th>\n",
              "      <td>227.0</td>\n",
              "      <td>2639</td>\n",
              "    </tr>\n",
              "    <tr>\n",
              "      <th>Bourse</th>\n",
              "      <td>223.0</td>\n",
              "      <td>2149</td>\n",
              "    </tr>\n",
              "    <tr>\n",
              "      <th>Opéra</th>\n",
              "      <td>223.0</td>\n",
              "      <td>2797</td>\n",
              "    </tr>\n",
              "    <tr>\n",
              "      <th>Panthéon</th>\n",
              "      <td>219.0</td>\n",
              "      <td>1807</td>\n",
              "    </tr>\n",
              "    <tr>\n",
              "      <th>Vaugirard</th>\n",
              "      <td>204.0</td>\n",
              "      <td>4138</td>\n",
              "    </tr>\n",
              "    <tr>\n",
              "      <th>Batignolles-Monceau</th>\n",
              "      <td>203.0</td>\n",
              "      <td>3780</td>\n",
              "    </tr>\n",
              "    <tr>\n",
              "      <th>Entrepôt</th>\n",
              "      <td>186.0</td>\n",
              "      <td>3908</td>\n",
              "    </tr>\n",
              "    <tr>\n",
              "      <th>Observatoire</th>\n",
              "      <td>179.0</td>\n",
              "      <td>2012</td>\n",
              "    </tr>\n",
              "    <tr>\n",
              "      <th>Popincourt</th>\n",
              "      <td>174.0</td>\n",
              "      <td>4796</td>\n",
              "    </tr>\n",
              "    <tr>\n",
              "      <th>Reuilly</th>\n",
              "      <td>170.0</td>\n",
              "      <td>2123</td>\n",
              "    </tr>\n",
              "    <tr>\n",
              "      <th>Gobelins</th>\n",
              "      <td>165.0</td>\n",
              "      <td>1707</td>\n",
              "    </tr>\n",
              "    <tr>\n",
              "      <th>Buttes-Montmartre</th>\n",
              "      <td>161.0</td>\n",
              "      <td>6012</td>\n",
              "    </tr>\n",
              "    <tr>\n",
              "      <th>Buttes-Chaumont</th>\n",
              "      <td>152.0</td>\n",
              "      <td>3077</td>\n",
              "    </tr>\n",
              "    <tr>\n",
              "      <th>Ménilmontant</th>\n",
              "      <td>143.0</td>\n",
              "      <td>2917</td>\n",
              "    </tr>\n",
              "  </tbody>\n",
              "</table>\n",
              "</div>\n",
              "    <div class=\"colab-df-buttons\">\n",
              "\n",
              "  <div class=\"colab-df-container\">\n",
              "    <button class=\"colab-df-convert\" onclick=\"convertToInteractive('df-24876852-0626-4039-8743-134229013901')\"\n",
              "            title=\"Convert this dataframe to an interactive table.\"\n",
              "            style=\"display:none;\">\n",
              "\n",
              "  <svg xmlns=\"http://www.w3.org/2000/svg\" height=\"24px\" viewBox=\"0 -960 960 960\">\n",
              "    <path d=\"M120-120v-720h720v720H120Zm60-500h600v-160H180v160Zm220 220h160v-160H400v160Zm0 220h160v-160H400v160ZM180-400h160v-160H180v160Zm440 0h160v-160H620v160ZM180-180h160v-160H180v160Zm440 0h160v-160H620v160Z\"/>\n",
              "  </svg>\n",
              "    </button>\n",
              "\n",
              "  <style>\n",
              "    .colab-df-container {\n",
              "      display:flex;\n",
              "      gap: 12px;\n",
              "    }\n",
              "\n",
              "    .colab-df-convert {\n",
              "      background-color: #E8F0FE;\n",
              "      border: none;\n",
              "      border-radius: 50%;\n",
              "      cursor: pointer;\n",
              "      display: none;\n",
              "      fill: #1967D2;\n",
              "      height: 32px;\n",
              "      padding: 0 0 0 0;\n",
              "      width: 32px;\n",
              "    }\n",
              "\n",
              "    .colab-df-convert:hover {\n",
              "      background-color: #E2EBFA;\n",
              "      box-shadow: 0px 1px 2px rgba(60, 64, 67, 0.3), 0px 1px 3px 1px rgba(60, 64, 67, 0.15);\n",
              "      fill: #174EA6;\n",
              "    }\n",
              "\n",
              "    .colab-df-buttons div {\n",
              "      margin-bottom: 4px;\n",
              "    }\n",
              "\n",
              "    [theme=dark] .colab-df-convert {\n",
              "      background-color: #3B4455;\n",
              "      fill: #D2E3FC;\n",
              "    }\n",
              "\n",
              "    [theme=dark] .colab-df-convert:hover {\n",
              "      background-color: #434B5C;\n",
              "      box-shadow: 0px 1px 3px 1px rgba(0, 0, 0, 0.15);\n",
              "      filter: drop-shadow(0px 1px 2px rgba(0, 0, 0, 0.3));\n",
              "      fill: #FFFFFF;\n",
              "    }\n",
              "  </style>\n",
              "\n",
              "    <script>\n",
              "      const buttonEl =\n",
              "        document.querySelector('#df-24876852-0626-4039-8743-134229013901 button.colab-df-convert');\n",
              "      buttonEl.style.display =\n",
              "        google.colab.kernel.accessAllowed ? 'block' : 'none';\n",
              "\n",
              "      async function convertToInteractive(key) {\n",
              "        const element = document.querySelector('#df-24876852-0626-4039-8743-134229013901');\n",
              "        const dataTable =\n",
              "          await google.colab.kernel.invokeFunction('convertToInteractive',\n",
              "                                                    [key], {});\n",
              "        if (!dataTable) return;\n",
              "\n",
              "        const docLinkHtml = 'Like what you see? Visit the ' +\n",
              "          '<a target=\"_blank\" href=https://colab.research.google.com/notebooks/data_table.ipynb>data table notebook</a>'\n",
              "          + ' to learn more about interactive tables.';\n",
              "        element.innerHTML = '';\n",
              "        dataTable['output_type'] = 'display_data';\n",
              "        await google.colab.output.renderOutput(dataTable, element);\n",
              "        const docLink = document.createElement('div');\n",
              "        docLink.innerHTML = docLinkHtml;\n",
              "        element.appendChild(docLink);\n",
              "      }\n",
              "    </script>\n",
              "  </div>\n",
              "\n",
              "\n",
              "<div id=\"df-66784c82-3f1e-4417-b015-cb24d1a94ca1\">\n",
              "  <button class=\"colab-df-quickchart\" onclick=\"quickchart('df-66784c82-3f1e-4417-b015-cb24d1a94ca1')\"\n",
              "            title=\"Suggest charts\"\n",
              "            style=\"display:none;\">\n",
              "\n",
              "<svg xmlns=\"http://www.w3.org/2000/svg\" height=\"24px\"viewBox=\"0 0 24 24\"\n",
              "     width=\"24px\">\n",
              "    <g>\n",
              "        <path d=\"M19 3H5c-1.1 0-2 .9-2 2v14c0 1.1.9 2 2 2h14c1.1 0 2-.9 2-2V5c0-1.1-.9-2-2-2zM9 17H7v-7h2v7zm4 0h-2V7h2v10zm4 0h-2v-4h2v4z\"/>\n",
              "    </g>\n",
              "</svg>\n",
              "  </button>\n",
              "\n",
              "<style>\n",
              "  .colab-df-quickchart {\n",
              "      --bg-color: #E8F0FE;\n",
              "      --fill-color: #1967D2;\n",
              "      --hover-bg-color: #E2EBFA;\n",
              "      --hover-fill-color: #174EA6;\n",
              "      --disabled-fill-color: #AAA;\n",
              "      --disabled-bg-color: #DDD;\n",
              "  }\n",
              "\n",
              "  [theme=dark] .colab-df-quickchart {\n",
              "      --bg-color: #3B4455;\n",
              "      --fill-color: #D2E3FC;\n",
              "      --hover-bg-color: #434B5C;\n",
              "      --hover-fill-color: #FFFFFF;\n",
              "      --disabled-bg-color: #3B4455;\n",
              "      --disabled-fill-color: #666;\n",
              "  }\n",
              "\n",
              "  .colab-df-quickchart {\n",
              "    background-color: var(--bg-color);\n",
              "    border: none;\n",
              "    border-radius: 50%;\n",
              "    cursor: pointer;\n",
              "    display: none;\n",
              "    fill: var(--fill-color);\n",
              "    height: 32px;\n",
              "    padding: 0;\n",
              "    width: 32px;\n",
              "  }\n",
              "\n",
              "  .colab-df-quickchart:hover {\n",
              "    background-color: var(--hover-bg-color);\n",
              "    box-shadow: 0 1px 2px rgba(60, 64, 67, 0.3), 0 1px 3px 1px rgba(60, 64, 67, 0.15);\n",
              "    fill: var(--button-hover-fill-color);\n",
              "  }\n",
              "\n",
              "  .colab-df-quickchart-complete:disabled,\n",
              "  .colab-df-quickchart-complete:disabled:hover {\n",
              "    background-color: var(--disabled-bg-color);\n",
              "    fill: var(--disabled-fill-color);\n",
              "    box-shadow: none;\n",
              "  }\n",
              "\n",
              "  .colab-df-spinner {\n",
              "    border: 2px solid var(--fill-color);\n",
              "    border-color: transparent;\n",
              "    border-bottom-color: var(--fill-color);\n",
              "    animation:\n",
              "      spin 1s steps(1) infinite;\n",
              "  }\n",
              "\n",
              "  @keyframes spin {\n",
              "    0% {\n",
              "      border-color: transparent;\n",
              "      border-bottom-color: var(--fill-color);\n",
              "      border-left-color: var(--fill-color);\n",
              "    }\n",
              "    20% {\n",
              "      border-color: transparent;\n",
              "      border-left-color: var(--fill-color);\n",
              "      border-top-color: var(--fill-color);\n",
              "    }\n",
              "    30% {\n",
              "      border-color: transparent;\n",
              "      border-left-color: var(--fill-color);\n",
              "      border-top-color: var(--fill-color);\n",
              "      border-right-color: var(--fill-color);\n",
              "    }\n",
              "    40% {\n",
              "      border-color: transparent;\n",
              "      border-right-color: var(--fill-color);\n",
              "      border-top-color: var(--fill-color);\n",
              "    }\n",
              "    60% {\n",
              "      border-color: transparent;\n",
              "      border-right-color: var(--fill-color);\n",
              "    }\n",
              "    80% {\n",
              "      border-color: transparent;\n",
              "      border-right-color: var(--fill-color);\n",
              "      border-bottom-color: var(--fill-color);\n",
              "    }\n",
              "    90% {\n",
              "      border-color: transparent;\n",
              "      border-bottom-color: var(--fill-color);\n",
              "    }\n",
              "  }\n",
              "</style>\n",
              "\n",
              "  <script>\n",
              "    async function quickchart(key) {\n",
              "      const quickchartButtonEl =\n",
              "        document.querySelector('#' + key + ' button');\n",
              "      quickchartButtonEl.disabled = true;  // To prevent multiple clicks.\n",
              "      quickchartButtonEl.classList.add('colab-df-spinner');\n",
              "      try {\n",
              "        const charts = await google.colab.kernel.invokeFunction(\n",
              "            'suggestCharts', [key], {});\n",
              "      } catch (error) {\n",
              "        console.error('Error during call to suggestCharts:', error);\n",
              "      }\n",
              "      quickchartButtonEl.classList.remove('colab-df-spinner');\n",
              "      quickchartButtonEl.classList.add('colab-df-quickchart-complete');\n",
              "    }\n",
              "    (() => {\n",
              "      let quickchartButtonEl =\n",
              "        document.querySelector('#df-66784c82-3f1e-4417-b015-cb24d1a94ca1 button');\n",
              "      quickchartButtonEl.style.display =\n",
              "        google.colab.kernel.accessAllowed ? 'block' : 'none';\n",
              "    })();\n",
              "  </script>\n",
              "</div>\n",
              "\n",
              "  <div id=\"id_3b588e2e-9c9d-4b25-ad3b-fe97f3c5ac96\">\n",
              "    <style>\n",
              "      .colab-df-generate {\n",
              "        background-color: #E8F0FE;\n",
              "        border: none;\n",
              "        border-radius: 50%;\n",
              "        cursor: pointer;\n",
              "        display: none;\n",
              "        fill: #1967D2;\n",
              "        height: 32px;\n",
              "        padding: 0 0 0 0;\n",
              "        width: 32px;\n",
              "      }\n",
              "\n",
              "      .colab-df-generate:hover {\n",
              "        background-color: #E2EBFA;\n",
              "        box-shadow: 0px 1px 2px rgba(60, 64, 67, 0.3), 0px 1px 3px 1px rgba(60, 64, 67, 0.15);\n",
              "        fill: #174EA6;\n",
              "      }\n",
              "\n",
              "      [theme=dark] .colab-df-generate {\n",
              "        background-color: #3B4455;\n",
              "        fill: #D2E3FC;\n",
              "      }\n",
              "\n",
              "      [theme=dark] .colab-df-generate:hover {\n",
              "        background-color: #434B5C;\n",
              "        box-shadow: 0px 1px 3px 1px rgba(0, 0, 0, 0.15);\n",
              "        filter: drop-shadow(0px 1px 2px rgba(0, 0, 0, 0.3));\n",
              "        fill: #FFFFFF;\n",
              "      }\n",
              "    </style>\n",
              "    <button class=\"colab-df-generate\" onclick=\"generateWithVariable('dados_completos')\"\n",
              "            title=\"Generate code using this dataframe.\"\n",
              "            style=\"display:none;\">\n",
              "\n",
              "  <svg xmlns=\"http://www.w3.org/2000/svg\" height=\"24px\"viewBox=\"0 0 24 24\"\n",
              "       width=\"24px\">\n",
              "    <path d=\"M7,19H8.4L18.45,9,17,7.55,7,17.6ZM5,21V16.75L18.45,3.32a2,2,0,0,1,2.83,0l1.4,1.43a1.91,1.91,0,0,1,.58,1.4,1.91,1.91,0,0,1-.58,1.4L9.25,21ZM18.45,9,17,7.55Zm-12,3A5.31,5.31,0,0,0,4.9,8.1,5.31,5.31,0,0,0,1,6.5,5.31,5.31,0,0,0,4.9,4.9,5.31,5.31,0,0,0,6.5,1,5.31,5.31,0,0,0,8.1,4.9,5.31,5.31,0,0,0,12,6.5,5.46,5.46,0,0,0,6.5,12Z\"/>\n",
              "  </svg>\n",
              "    </button>\n",
              "    <script>\n",
              "      (() => {\n",
              "      const buttonEl =\n",
              "        document.querySelector('#id_3b588e2e-9c9d-4b25-ad3b-fe97f3c5ac96 button.colab-df-generate');\n",
              "      buttonEl.style.display =\n",
              "        google.colab.kernel.accessAllowed ? 'block' : 'none';\n",
              "\n",
              "      buttonEl.onclick = () => {\n",
              "        google.colab.notebook.generateWithVariable('dados_completos');\n",
              "      }\n",
              "      })();\n",
              "    </script>\n",
              "  </div>\n",
              "\n",
              "    </div>\n",
              "  </div>\n"
            ]
          },
          "metadata": {},
          "execution_count": 109
        }
      ]
    },
    {
      "cell_type": "markdown",
      "source": [
        "## **Quais são os bairros mais caros e mais baratos de acordo com o valor da média de cada bairro?**"
      ],
      "metadata": {
        "id": "HegXnuNPhVa5"
      }
    },
    {
      "cell_type": "code",
      "execution_count": null,
      "metadata": {
        "colab": {
          "base_uri": "https://localhost:8080/"
        },
        "id": "jU5iID0jpjo2",
        "outputId": "9845865e-a965-45b4-909d-a0aee0d839a3"
      },
      "outputs": [
        {
          "output_type": "stream",
          "name": "stdout",
          "text": [
            "\n",
            "Bairros mais caros de acordo com a média:\n",
            "                media_preco  qtd_imoveis\n",
            "Élysée                299.0         1904\n",
            "Passy                 286.0         3599\n",
            "Palais-Bourbon        279.0         1628\n",
            "Louvre                270.0         1403\n",
            "Luxembourg            269.0         1705\n",
            "\n",
            "Bairros mais baratos de acordo com a média:\n",
            "                   media_preco  qtd_imoveis\n",
            "Reuilly                  170.0         2123\n",
            "Gobelins                 165.0         1707\n",
            "Buttes-Montmartre        161.0         6012\n",
            "Buttes-Chaumont          152.0         3077\n",
            "Ménilmontant             143.0         2917\n"
          ]
        }
      ],
      "source": [
        "# Juntando os dois valores\n",
        "dados_completos.columns = ['media_preco', 'qtd_imoveis']\n",
        "dados_completos = dados_completos.sort_values(by='media_preco', ascending=False)\n",
        "\n",
        "# Imprimindo os resultados\n",
        "print(\"\\nBairros mais caros de acordo com a média:\")\n",
        "print(dados_completos.head())\n",
        "\n",
        "print(\"\\nBairros mais baratos de acordo com a média:\")\n",
        "print(dados_completos.tail())"
      ]
    },
    {
      "cell_type": "markdown",
      "metadata": {
        "id": "aeLqlSC9uWEz"
      },
      "source": [
        "### **Conferindo a mediana**\n",
        "\n",
        "Não podemos afirmar com certeza que os bairros mais caros são aqueles com o valor médio de preço mais alto. Isso se deve ao fato de que a disponibilidade de imóveis pode influenciar significativamente o resultado.\n",
        "\n",
        "Portanto, vamos analisar a **mediana** da quantidade de imóveis, que não é tão suscetível a impactos extremos. Com base nessa informação, buscaremos identificar **os bairros mais caros que tenham uma quantidade significativa de dados para fundamentar nossa análise.**"
      ]
    },
    {
      "cell_type": "code",
      "execution_count": null,
      "metadata": {
        "colab": {
          "base_uri": "https://localhost:8080/"
        },
        "id": "9WJKYw6ItR5j",
        "outputId": "ecf26fef-8f5c-48a1-8e73-a8737da80740"
      },
      "outputs": [
        {
          "output_type": "stream",
          "name": "stdout",
          "text": [
            "A mediana da quantidade de imóveis é 2394.0\n"
          ]
        }
      ],
      "source": [
        "# verificar mediana da quantidade de imóveis\n",
        "qtd_imoveis = df_t.neighbourhood.value_counts().values\n",
        "mediana = np.median(qtd_imoveis)\n",
        "print(\"A mediana da quantidade de imóveis é\", mediana)"
      ]
    },
    {
      "cell_type": "code",
      "execution_count": null,
      "metadata": {
        "colab": {
          "base_uri": "https://localhost:8080/",
          "height": 143
        },
        "id": "IBX9DZwytnGz",
        "outputId": "666464d4-4960-4fe0-e063-de0211c84d08"
      },
      "outputs": [
        {
          "output_type": "execute_result",
          "data": {
            "text/plain": [
              "        Quantidade de imóveis  Média de preço\n",
              "Passy                    3599      285.970932\n",
              "Temple                   2639      227.365698\n",
              "Opéra                    2797      222.647103"
            ],
            "text/html": [
              "\n",
              "  <div id=\"df-497b84e3-b497-4ec0-863e-27300bf19440\" class=\"colab-df-container\">\n",
              "    <div>\n",
              "<style scoped>\n",
              "    .dataframe tbody tr th:only-of-type {\n",
              "        vertical-align: middle;\n",
              "    }\n",
              "\n",
              "    .dataframe tbody tr th {\n",
              "        vertical-align: top;\n",
              "    }\n",
              "\n",
              "    .dataframe thead th {\n",
              "        text-align: right;\n",
              "    }\n",
              "</style>\n",
              "<table border=\"1\" class=\"dataframe\">\n",
              "  <thead>\n",
              "    <tr style=\"text-align: right;\">\n",
              "      <th></th>\n",
              "      <th>Quantidade de imóveis</th>\n",
              "      <th>Média de preço</th>\n",
              "    </tr>\n",
              "  </thead>\n",
              "  <tbody>\n",
              "    <tr>\n",
              "      <th>Passy</th>\n",
              "      <td>3599</td>\n",
              "      <td>285.970932</td>\n",
              "    </tr>\n",
              "    <tr>\n",
              "      <th>Temple</th>\n",
              "      <td>2639</td>\n",
              "      <td>227.365698</td>\n",
              "    </tr>\n",
              "    <tr>\n",
              "      <th>Opéra</th>\n",
              "      <td>2797</td>\n",
              "      <td>222.647103</td>\n",
              "    </tr>\n",
              "  </tbody>\n",
              "</table>\n",
              "</div>\n",
              "    <div class=\"colab-df-buttons\">\n",
              "\n",
              "  <div class=\"colab-df-container\">\n",
              "    <button class=\"colab-df-convert\" onclick=\"convertToInteractive('df-497b84e3-b497-4ec0-863e-27300bf19440')\"\n",
              "            title=\"Convert this dataframe to an interactive table.\"\n",
              "            style=\"display:none;\">\n",
              "\n",
              "  <svg xmlns=\"http://www.w3.org/2000/svg\" height=\"24px\" viewBox=\"0 -960 960 960\">\n",
              "    <path d=\"M120-120v-720h720v720H120Zm60-500h600v-160H180v160Zm220 220h160v-160H400v160Zm0 220h160v-160H400v160ZM180-400h160v-160H180v160Zm440 0h160v-160H620v160ZM180-180h160v-160H180v160Zm440 0h160v-160H620v160Z\"/>\n",
              "  </svg>\n",
              "    </button>\n",
              "\n",
              "  <style>\n",
              "    .colab-df-container {\n",
              "      display:flex;\n",
              "      gap: 12px;\n",
              "    }\n",
              "\n",
              "    .colab-df-convert {\n",
              "      background-color: #E8F0FE;\n",
              "      border: none;\n",
              "      border-radius: 50%;\n",
              "      cursor: pointer;\n",
              "      display: none;\n",
              "      fill: #1967D2;\n",
              "      height: 32px;\n",
              "      padding: 0 0 0 0;\n",
              "      width: 32px;\n",
              "    }\n",
              "\n",
              "    .colab-df-convert:hover {\n",
              "      background-color: #E2EBFA;\n",
              "      box-shadow: 0px 1px 2px rgba(60, 64, 67, 0.3), 0px 1px 3px 1px rgba(60, 64, 67, 0.15);\n",
              "      fill: #174EA6;\n",
              "    }\n",
              "\n",
              "    .colab-df-buttons div {\n",
              "      margin-bottom: 4px;\n",
              "    }\n",
              "\n",
              "    [theme=dark] .colab-df-convert {\n",
              "      background-color: #3B4455;\n",
              "      fill: #D2E3FC;\n",
              "    }\n",
              "\n",
              "    [theme=dark] .colab-df-convert:hover {\n",
              "      background-color: #434B5C;\n",
              "      box-shadow: 0px 1px 3px 1px rgba(0, 0, 0, 0.15);\n",
              "      filter: drop-shadow(0px 1px 2px rgba(0, 0, 0, 0.3));\n",
              "      fill: #FFFFFF;\n",
              "    }\n",
              "  </style>\n",
              "\n",
              "    <script>\n",
              "      const buttonEl =\n",
              "        document.querySelector('#df-497b84e3-b497-4ec0-863e-27300bf19440 button.colab-df-convert');\n",
              "      buttonEl.style.display =\n",
              "        google.colab.kernel.accessAllowed ? 'block' : 'none';\n",
              "\n",
              "      async function convertToInteractive(key) {\n",
              "        const element = document.querySelector('#df-497b84e3-b497-4ec0-863e-27300bf19440');\n",
              "        const dataTable =\n",
              "          await google.colab.kernel.invokeFunction('convertToInteractive',\n",
              "                                                    [key], {});\n",
              "        if (!dataTable) return;\n",
              "\n",
              "        const docLinkHtml = 'Like what you see? Visit the ' +\n",
              "          '<a target=\"_blank\" href=https://colab.research.google.com/notebooks/data_table.ipynb>data table notebook</a>'\n",
              "          + ' to learn more about interactive tables.';\n",
              "        element.innerHTML = '';\n",
              "        dataTable['output_type'] = 'display_data';\n",
              "        await google.colab.output.renderOutput(dataTable, element);\n",
              "        const docLink = document.createElement('div');\n",
              "        docLink.innerHTML = docLinkHtml;\n",
              "        element.appendChild(docLink);\n",
              "      }\n",
              "    </script>\n",
              "  </div>\n",
              "\n",
              "\n",
              "<div id=\"df-5f8835b1-747a-43e8-8ce2-1b31ee12e58f\">\n",
              "  <button class=\"colab-df-quickchart\" onclick=\"quickchart('df-5f8835b1-747a-43e8-8ce2-1b31ee12e58f')\"\n",
              "            title=\"Suggest charts\"\n",
              "            style=\"display:none;\">\n",
              "\n",
              "<svg xmlns=\"http://www.w3.org/2000/svg\" height=\"24px\"viewBox=\"0 0 24 24\"\n",
              "     width=\"24px\">\n",
              "    <g>\n",
              "        <path d=\"M19 3H5c-1.1 0-2 .9-2 2v14c0 1.1.9 2 2 2h14c1.1 0 2-.9 2-2V5c0-1.1-.9-2-2-2zM9 17H7v-7h2v7zm4 0h-2V7h2v10zm4 0h-2v-4h2v4z\"/>\n",
              "    </g>\n",
              "</svg>\n",
              "  </button>\n",
              "\n",
              "<style>\n",
              "  .colab-df-quickchart {\n",
              "      --bg-color: #E8F0FE;\n",
              "      --fill-color: #1967D2;\n",
              "      --hover-bg-color: #E2EBFA;\n",
              "      --hover-fill-color: #174EA6;\n",
              "      --disabled-fill-color: #AAA;\n",
              "      --disabled-bg-color: #DDD;\n",
              "  }\n",
              "\n",
              "  [theme=dark] .colab-df-quickchart {\n",
              "      --bg-color: #3B4455;\n",
              "      --fill-color: #D2E3FC;\n",
              "      --hover-bg-color: #434B5C;\n",
              "      --hover-fill-color: #FFFFFF;\n",
              "      --disabled-bg-color: #3B4455;\n",
              "      --disabled-fill-color: #666;\n",
              "  }\n",
              "\n",
              "  .colab-df-quickchart {\n",
              "    background-color: var(--bg-color);\n",
              "    border: none;\n",
              "    border-radius: 50%;\n",
              "    cursor: pointer;\n",
              "    display: none;\n",
              "    fill: var(--fill-color);\n",
              "    height: 32px;\n",
              "    padding: 0;\n",
              "    width: 32px;\n",
              "  }\n",
              "\n",
              "  .colab-df-quickchart:hover {\n",
              "    background-color: var(--hover-bg-color);\n",
              "    box-shadow: 0 1px 2px rgba(60, 64, 67, 0.3), 0 1px 3px 1px rgba(60, 64, 67, 0.15);\n",
              "    fill: var(--button-hover-fill-color);\n",
              "  }\n",
              "\n",
              "  .colab-df-quickchart-complete:disabled,\n",
              "  .colab-df-quickchart-complete:disabled:hover {\n",
              "    background-color: var(--disabled-bg-color);\n",
              "    fill: var(--disabled-fill-color);\n",
              "    box-shadow: none;\n",
              "  }\n",
              "\n",
              "  .colab-df-spinner {\n",
              "    border: 2px solid var(--fill-color);\n",
              "    border-color: transparent;\n",
              "    border-bottom-color: var(--fill-color);\n",
              "    animation:\n",
              "      spin 1s steps(1) infinite;\n",
              "  }\n",
              "\n",
              "  @keyframes spin {\n",
              "    0% {\n",
              "      border-color: transparent;\n",
              "      border-bottom-color: var(--fill-color);\n",
              "      border-left-color: var(--fill-color);\n",
              "    }\n",
              "    20% {\n",
              "      border-color: transparent;\n",
              "      border-left-color: var(--fill-color);\n",
              "      border-top-color: var(--fill-color);\n",
              "    }\n",
              "    30% {\n",
              "      border-color: transparent;\n",
              "      border-left-color: var(--fill-color);\n",
              "      border-top-color: var(--fill-color);\n",
              "      border-right-color: var(--fill-color);\n",
              "    }\n",
              "    40% {\n",
              "      border-color: transparent;\n",
              "      border-right-color: var(--fill-color);\n",
              "      border-top-color: var(--fill-color);\n",
              "    }\n",
              "    60% {\n",
              "      border-color: transparent;\n",
              "      border-right-color: var(--fill-color);\n",
              "    }\n",
              "    80% {\n",
              "      border-color: transparent;\n",
              "      border-right-color: var(--fill-color);\n",
              "      border-bottom-color: var(--fill-color);\n",
              "    }\n",
              "    90% {\n",
              "      border-color: transparent;\n",
              "      border-bottom-color: var(--fill-color);\n",
              "    }\n",
              "  }\n",
              "</style>\n",
              "\n",
              "  <script>\n",
              "    async function quickchart(key) {\n",
              "      const quickchartButtonEl =\n",
              "        document.querySelector('#' + key + ' button');\n",
              "      quickchartButtonEl.disabled = true;  // To prevent multiple clicks.\n",
              "      quickchartButtonEl.classList.add('colab-df-spinner');\n",
              "      try {\n",
              "        const charts = await google.colab.kernel.invokeFunction(\n",
              "            'suggestCharts', [key], {});\n",
              "      } catch (error) {\n",
              "        console.error('Error during call to suggestCharts:', error);\n",
              "      }\n",
              "      quickchartButtonEl.classList.remove('colab-df-spinner');\n",
              "      quickchartButtonEl.classList.add('colab-df-quickchart-complete');\n",
              "    }\n",
              "    (() => {\n",
              "      let quickchartButtonEl =\n",
              "        document.querySelector('#df-5f8835b1-747a-43e8-8ce2-1b31ee12e58f button');\n",
              "      quickchartButtonEl.style.display =\n",
              "        google.colab.kernel.accessAllowed ? 'block' : 'none';\n",
              "    })();\n",
              "  </script>\n",
              "</div>\n",
              "\n",
              "    </div>\n",
              "  </div>\n"
            ]
          },
          "metadata": {},
          "execution_count": 118
        }
      ],
      "source": [
        "# verificar os três distritos mais caros com quantidade de imóveis maior ou igual a mediana\n",
        "df_new = pd.concat([df_t.neighbourhood.value_counts().rename('Quantidade de imóveis'),\n",
        "           df_t.groupby(['neighbourhood']).price.mean().sort_values(ascending = False).rename('Média de preço')], axis = 1).sort_values(by = 'Média de preço', ascending = False)\n",
        "df_new.loc[df_new['Quantidade de imóveis'] >= 2394.0][:3]"
      ]
    },
    {
      "cell_type": "markdown",
      "source": [
        "## **Veja os 4 bairros mais caros de Paris segunda a média de valores de alugueis**\n",
        "\n"
      ],
      "metadata": {
        "id": "5CoOi9e2meAp"
      }
    },
    {
      "cell_type": "markdown",
      "source": [
        "## **Elyesée**\n",
        "\n",
        "- O Élysée, é um bairro caro devido à sua **localização central** no **coração da cidade**, próximo a renomadas avenidas como a **Champs-Élysées** e a diversas atrações turísticas, incluindo o **Palácio do Eliseu**, residência oficial do presidente francês. Este bairro prestigioso é conhecido por suas avenidas elegantes, comércio de luxo, residências de alto padrão e oferece uma experiência exclusiva, fatores que contribuem para sua reputação e preços elevados nos alugueis.\n",
        "\n",
        "\n",
        "\n"
      ],
      "metadata": {
        "id": "_SBFF6OFkSYZ"
      }
    },
    {
      "cell_type": "markdown",
      "source": [
        "<p align=\"center\">\n",
        "  <a href=\"https://github.com/SarahFeanor?tab=repositories\">\n",
        "    <img src=\"https://media.discordapp.net/attachments/1063559719291199599/1199779739146133604/paris_1.jpg?ex=65c3c8f4&is=65b153f4&hm=903637444e520cb251961669eb51ab958fbd4a2ea0649a5bd5196e84e1b6b844&=&format=webp&width=702&height=468\" alt=\"capa\" width=\"300\" height=\"200\">\n",
        "  </a>\n",
        "</p>                \n",
        "<p align=\"center\">  \n",
        "  <sup> Avenida Champs-Elysées — Foto Gett Images </sup>\n",
        "</p>\n"
      ],
      "metadata": {
        "id": "6b9m3ugHmMlU"
      }
    },
    {
      "cell_type": "markdown",
      "source": [
        "## **Passy**\n",
        "\n",
        "- **Passy**, é considerado um bairro caro devido à sua localização **residencial nobre** com vistas para o **Rio Sena**, proximidade com monumentos emblemáticos como a **Torre Eiffel** e o **Trocadéro**, comércio e gastronomia sofisticados, infraestrutura de alta qualidade, arquitetura elegante e histórica, além de uma reputação de segurança e privacidade. Esses elementos combinados contribuem para a atratividade do bairro, resultando em preços mais elevados no aluguel de imóveis."
      ],
      "metadata": {
        "id": "sHKie3ynlqS7"
      }
    },
    {
      "cell_type": "markdown",
      "source": [
        "<p align=\"center\">\n",
        "  <a href=\"https://github.com/SarahFeanor?tab=repositories\">\n",
        "    <img src=\"https://media.discordapp.net/attachments/1063559719291199599/1199784614328287333/907724-la-terrasse-en-rooftop-du-peninsula-2023-soiree-d-inauguration-a7c5474.jpg?ex=65c3cd7e&is=65b1587e&hm=16ee815343ab6e604654c476ed66bbd872885ddbc8d60bbd645a147b6c955684&=&format=webp&width=702&height=468\" alt=\"capa\" width=\"300\" height=\"200\">\n",
        "  </a>\n",
        "</p>                \n",
        "<p align=\"center\">  \n",
        "  <sup> Bairro Passy — Foto de privateaser </sup>\n",
        "</p>\n"
      ],
      "metadata": {
        "id": "KedJS9IFmYEx"
      }
    },
    {
      "cell_type": "markdown",
      "source": [
        "## **Palais-Bourbon**\n",
        "\n",
        "- O Palais-Bourbon, destaca-se pelos aluguéis mais caros para turistas devido à sua proximidade com monumentos emblemáticos, como o **edifício da Assembleia Nacional** e a **Torre Eiffel**. A localização central e prestigiada, combinada com um ambiente elegante e residencial, contribui para a demanda elevada e, consequentemente, para os preços mais elevados na média de aluguéis na área."
      ],
      "metadata": {
        "id": "kM2TkuI8nd64"
      }
    },
    {
      "cell_type": "markdown",
      "source": [
        "<p align=\"center\">\n",
        "  <a href=\"https://github.com/SarahFeanor?tab=repositories\">\n",
        "    <img src=\"https://cdn.discordapp.com/attachments/1063559719291199599/1199780008395284671/theatre-de-la-tour-eiffel.jpg?ex=65c3c934&is=65b15434&hm=445e3490128a9f3cac7635ca86ea83d3cebbbb52de1d8f94f2581fdf80c2e970&\" alt=\"capa\" width=\"300\" height=\"200\">\n",
        "  </a>\n",
        "</p>                \n",
        "<p align=\"center\">  \n",
        "  <sup> Palais-Bourbon — Foto de Theatre de la Tour Eiffel </sup>\n",
        "</p>"
      ],
      "metadata": {
        "id": "dAcinuH3nuqn"
      }
    },
    {
      "cell_type": "markdown",
      "source": [
        "## **Louvre**\n",
        "\n",
        "O bairro do Louvre, destaca-se pela proximidade com o renomado **Museu do Louvre**, sua arquitetura histórica, jardins encantadores, **localização central** conveniente, diversidade de comércio e gastronomia, vida cultural vibrante e proximidade com outras atrações turísticas. Esses elementos combinados tornam o Louvre uma área atrativa tanto para moradores quanto para visitantes, oferecendo uma experiência única e enriquecedora."
      ],
      "metadata": {
        "id": "uLM3rjP6n5JN"
      }
    },
    {
      "cell_type": "markdown",
      "source": [
        "<p align=\"center\">\n",
        "  <a href=\"https://github.com/SarahFeanor?tab=repositories\">\n",
        "    <img src=\"https://cdn.discordapp.com/attachments/1063559719291199599/1199779738806399100/louvre.jpg?ex=65c3c8f4&is=65b153f4&hm=3f909d1e72fd56e567ac25623fbb7b2d7aafa79b87e364df036f1a340ac15352&\" alt=\"capa\" width=\"300\" height=\"200\">\n",
        "  </a>\n",
        "</p>                \n",
        "<p align=\"center\">  \n",
        "  <sup> Museu do Louvre — Foto de shutterstoc </sup>\n",
        "</p>"
      ],
      "metadata": {
        "id": "Xl0xuC9NoVpD"
      }
    },
    {
      "cell_type": "markdown",
      "source": [
        "#### **E os bairros com médias inferiores?**\n",
        "\n",
        "Os bairros mais caros e mais baratos em uma cidade podem ter uma série de fatores que contribuem para suas diferenças de preço. No caso dos bairros mencionados em Paris, França, a localização, infraestrutura, serviços oferecidos, prestígio histórico e cultural, além da demanda imobiliária, podem influenciar os preços.\n",
        "\n",
        "\n",
        "- **Reuilly:** Situado no **leste de Paris**, é uma área mais **afastada do centro**, o que pode contribuir para preços mais acessíveis.\n",
        "\n",
        "- **Gobelins:** Localizado no 13º arrondissement, é conhecido por ser uma área mais **residencial** e menos turística.\n",
        "\n",
        "- **Buttes-Montmartre:** Ao **norte de Paris**, é uma área que pode ser considerada mais pitoresca, com o famoso bairro de Montmartre, mas que pode ter preços mais baixos comparados aos centrais.\n",
        "\n",
        "\n"
      ],
      "metadata": {
        "id": "76k36tjVzzah"
      }
    },
    {
      "cell_type": "markdown",
      "metadata": {
        "id": "_9tmOgKxyGCD"
      },
      "source": [
        "## **Quais os preços mínimos e maximos por bairro?**"
      ]
    },
    {
      "cell_type": "markdown",
      "metadata": {
        "id": "v3nLRKK_yX5E"
      },
      "source": [
        "Da mesma forma que examinamos o preço médio, iremos investigar os valores mínimos e máximos para cada cidade analisada em Paris."
      ]
    },
    {
      "cell_type": "code",
      "execution_count": null,
      "metadata": {
        "colab": {
          "base_uri": "https://localhost:8080/"
        },
        "id": "6Wf1fG7CyUqc",
        "outputId": "1318fe68-2fe0-453b-f2a3-08f1c9f2961b"
      },
      "outputs": [
        {
          "output_type": "execute_result",
          "data": {
            "text/plain": [
              "neighbourhood\n",
              "Hôtel-de-Ville         34.0\n",
              "Louvre                 32.0\n",
              "Bourse                 27.0\n",
              "Opéra                  26.0\n",
              "Palais-Bourbon         25.0\n",
              "Buttes-Chaumont        22.0\n",
              "Entrepôt               22.0\n",
              "Reuilly                22.0\n",
              "Observatoire           20.0\n",
              "Gobelins               20.0\n",
              "Luxembourg             20.0\n",
              "Panthéon               18.0\n",
              "Temple                 18.0\n",
              "Batignolles-Monceau    16.0\n",
              "Buttes-Montmartre      14.0\n",
              "Élysée                 12.0\n",
              "Passy                  10.0\n",
              "Popincourt             10.0\n",
              "Ménilmontant           10.0\n",
              "Vaugirard              10.0\n",
              "Name: price, dtype: float64"
            ]
          },
          "metadata": {},
          "execution_count": 98
        }
      ],
      "source": [
        "# ver preços mínimos por bairro\n",
        "df_t.groupby(['neighbourhood']).price.min().sort_values(ascending = False)"
      ]
    },
    {
      "cell_type": "code",
      "execution_count": null,
      "metadata": {
        "colab": {
          "base_uri": "https://localhost:8080/"
        },
        "id": "kWCMzom1y4Dd",
        "outputId": "026e3f1d-f43c-4d7b-a190-0e6cd089d512"
      },
      "outputs": [
        {
          "output_type": "execute_result",
          "data": {
            "text/plain": [
              "neighbourhood\n",
              "Entrepôt               1999.0\n",
              "Vaugirard              1997.0\n",
              "Passy                  1992.0\n",
              "Palais-Bourbon         1992.0\n",
              "Buttes-Chaumont        1990.0\n",
              "Buttes-Montmartre      1980.0\n",
              "Opéra                  1975.0\n",
              "Reuilly                1950.0\n",
              "Batignolles-Monceau    1943.0\n",
              "Élysée                 1943.0\n",
              "Hôtel-de-Ville         1941.0\n",
              "Popincourt             1929.0\n",
              "Observatoire           1900.0\n",
              "Gobelins               1895.0\n",
              "Luxembourg             1875.0\n",
              "Panthéon               1850.0\n",
              "Temple                 1850.0\n",
              "Bourse                 1800.0\n",
              "Louvre                 1800.0\n",
              "Ménilmontant           1550.0\n",
              "Name: price, dtype: float64"
            ]
          },
          "metadata": {},
          "execution_count": 122
        }
      ],
      "source": [
        "# preços máximos por bairro\n",
        "df_t.groupby(['neighbourhood']).price.max().sort_values(ascending = False)"
      ]
    },
    {
      "cell_type": "code",
      "execution_count": null,
      "metadata": {
        "colab": {
          "base_uri": "https://localhost:8080/"
        },
        "id": "aRidGJjWzMzv",
        "outputId": "2058f65b-bac1-4f38-fa23-80422c68660e"
      },
      "outputs": [
        {
          "output_type": "stream",
          "name": "stdout",
          "text": [
            "O menor preço observado foi 10.00 euros\n",
            "No momento atual, isso representa 54.30 reais\n",
            "\n",
            "O maior preço observado foi 1999.00 euros\n",
            "No momento atual, isso representa 10854.57 reais\n"
          ]
        }
      ],
      "source": [
        "min_price = (f'{df_t.price.min():.2f}')\n",
        "max_price = (f'{df_t.price.max():.2f}')\n",
        "brl_price = [f'{df_t.price.min() * 5.43:.2f}', f'{df_t.price.max() * 5.43:.2f}']\n",
        "\n",
        "print(f'O menor preço observado foi {min_price} euros')\n",
        "print(f'No momento atual, isso representa {brl_price[0]} reais\\n')\n",
        "print(f'O maior preço observado foi {max_price} euros')\n",
        "print(f'No momento atual, isso representa {brl_price[1]} reais')"
      ]
    },
    {
      "cell_type": "markdown",
      "source": [
        "## Maior Preço: 💶 **€ 10** (R$ 54,30)\n",
        "\n",
        "## Menor Preço: 💶 **€ 1.999** (R$ 10.854.57)"
      ],
      "metadata": {
        "id": "ew8EMNt23Mmj"
      }
    },
    {
      "cell_type": "markdown",
      "source": [
        "---"
      ],
      "metadata": {
        "id": "zm9E8Aqa363J"
      }
    },
    {
      "cell_type": "markdown",
      "metadata": {
        "id": "nCXFkssP0YPt"
      },
      "source": [
        "## **Qual a média da quantidade mínimas de noites para alugar?**"
      ]
    },
    {
      "cell_type": "code",
      "execution_count": null,
      "metadata": {
        "colab": {
          "base_uri": "https://localhost:8080/"
        },
        "id": "nYoarR8f0zlu",
        "outputId": "1ade9d6a-7093-4a36-c670-0e5a70735786"
      },
      "outputs": [
        {
          "output_type": "stream",
          "name": "stdout",
          "text": [
            "O mínimo de noites é 1.\n",
            "A média de noites são 18.58.\n",
            "O máximo de noites são 365.\n"
          ]
        }
      ],
      "source": [
        "# ver a média da coluna `minimum_nights`\n",
        "mean_minimum_nights = (f'{df_t.minimum_nights.mean():.2f}')\n",
        "\n",
        "print(f'O mínimo de noites é {df_t.minimum_nights.min()}.')\n",
        "print(f'A média de noites são {mean_minimum_nights}.')\n",
        "print(f'O máximo de noites são {df_t.minimum_nights.max()}.')"
      ]
    },
    {
      "cell_type": "code",
      "execution_count": null,
      "metadata": {
        "colab": {
          "base_uri": "https://localhost:8080/"
        },
        "id": "mSvjEcck1E-D",
        "outputId": "809135f3-8db7-4aa4-a8a2-c55ce9d24d1b"
      },
      "outputs": [
        {
          "output_type": "execute_result",
          "data": {
            "text/plain": [
              "neighbourhood\n",
              "Luxembourg             25.0\n",
              "Passy                  24.0\n",
              "Palais-Bourbon         24.0\n",
              "Élysée                 21.0\n",
              "Hôtel-de-Ville         21.0\n",
              "Panthéon               20.0\n",
              "Vaugirard              19.0\n",
              "Batignolles-Monceau    19.0\n",
              "Observatoire           19.0\n",
              "Opéra                  18.0\n",
              "Buttes-Montmartre      18.0\n",
              "Ménilmontant           18.0\n",
              "Popincourt             17.0\n",
              "Temple                 17.0\n",
              "Bourse                 17.0\n",
              "Gobelins               16.0\n",
              "Entrepôt               16.0\n",
              "Reuilly                16.0\n",
              "Buttes-Chaumont        15.0\n",
              "Louvre                 14.0\n",
              "Name: minimum_nights, dtype: float64"
            ]
          },
          "metadata": {},
          "execution_count": 125
        }
      ],
      "source": [
        "# ver a média de noites mínimas por cidade\n",
        "df_t.groupby(['neighbourhood']).minimum_nights.mean().sort_values(ascending = False).round()"
      ]
    },
    {
      "cell_type": "markdown",
      "source": [
        "## **Qual a média de preços por minimo de noites?**\n"
      ],
      "metadata": {
        "id": "uPMS6Y3RJsE4"
      }
    },
    {
      "cell_type": "markdown",
      "source": [
        "Qual a média de preços por minimo de noites?\n",
        "Quando uma pessoa vai alugar um Airbnb é possível escolher a quantidade de dias deseja, e abaixo vamos verificar como isso influencia nos preços de acordo com a faixa de dias escolhidos."
      ],
      "metadata": {
        "id": "kkkpoOrdJqJS"
      }
    },
    {
      "cell_type": "markdown",
      "metadata": {
        "id": "fxCLaM7QWEfi"
      },
      "source": [
        "## **Qual o tipo de imóvel mais alugado no Airbnb?**"
      ]
    },
    {
      "cell_type": "code",
      "execution_count": null,
      "metadata": {
        "colab": {
          "base_uri": "https://localhost:8080/"
        },
        "id": "I_T5L9pz179a",
        "outputId": "79231e26-87c5-4b95-fbe2-b802cbc16017"
      },
      "outputs": [
        {
          "output_type": "execute_result",
          "data": {
            "text/plain": [
              "Entire home/apt    49800\n",
              "Private room        5328\n",
              "Hotel room           615\n",
              "Shared room          329\n",
              "Name: room_type, dtype: int64"
            ]
          },
          "metadata": {},
          "execution_count": 140
        }
      ],
      "source": [
        "# mostrar a quantidade de cada tipo de imóvel disponível\n",
        "df_t.room_type.value_counts().sort_values(ascending = False)"
      ]
    },
    {
      "cell_type": "code",
      "execution_count": null,
      "metadata": {
        "colab": {
          "base_uri": "https://localhost:8080/"
        },
        "id": "Fr7yAwRh2F6M",
        "outputId": "8e358422-59bd-42b4-995b-c4685ee465e3"
      },
      "outputs": [
        {
          "output_type": "execute_result",
          "data": {
            "text/plain": [
              "Entire home/apt    67.00\n",
              "Private room        7.17\n",
              "Hotel room          0.83\n",
              "Shared room         0.44\n",
              "Name: room_type, dtype: float64"
            ]
          },
          "metadata": {},
          "execution_count": 141
        }
      ],
      "source": [
        "# mostrar a porcentagem de cada tipo de imóvel disponível\n",
        "(df_t.room_type.value_counts()/df.shape[0] * 100.).round(2)"
      ]
    },
    {
      "cell_type": "markdown",
      "source": [
        "**Quantidade e % do tipo de imovel disponivel:**\n",
        "\n",
        "- Casa/apartamento inteiro: **49.800** (67%)\n",
        "- Quarto privativo: **5.328** (7%)\n",
        "- Quarto de hotel: **615** (0.83)\n",
        "- Quarto compartilhado: **329** (0.44)\n",
        "\n",
        "A preferência por acomodações mais exclusivas e personalizadas é evidente, o que sugere que os usuários do Airbnb valorizam a privacidade e a experiência única oferecida por casas e **apartamentos inteiros**."
      ],
      "metadata": {
        "id": "ySLJOK0V5u51"
      }
    },
    {
      "cell_type": "markdown",
      "metadata": {
        "id": "3lewr04jXBdi"
      },
      "source": [
        "## **Preços por tipo de quarto?**"
      ]
    },
    {
      "cell_type": "code",
      "source": [
        "# agrupando por tipo de quarto e calculando a media e a mediana agregadas\n",
        "preco_por_tipo_quarto = df_t.groupby('room_type')['price'].agg(['mean', 'median']).round()\n",
        "\n",
        "preco_por_tipo_quarto['std'] = df_t.groupby('room_type')['price'].std().round()\n",
        "preco_por_tipo_quarto['min'] = df_t.groupby('room_type')['price'].min()\n",
        "preco_por_tipo_quarto['max'] = df_t.groupby('room_type')['price'].max()\n",
        "\n",
        "print(preco_por_tipo_quarto)"
      ],
      "metadata": {
        "colab": {
          "base_uri": "https://localhost:8080/"
        },
        "id": "4JV2O5Wtqo2V",
        "outputId": "43860686-748a-4d9d-d472-26ed2b5734f7"
      },
      "execution_count": null,
      "outputs": [
        {
          "output_type": "stream",
          "name": "stdout",
          "text": [
            "                  mean  median    std   min     max\n",
            "room_type                                          \n",
            "Entire home/apt  211.0   149.0  214.0  10.0  1999.0\n",
            "Hotel room       274.0   218.0  199.0  36.0  1781.0\n",
            "Private room     146.0    98.0  163.0  18.0  1975.0\n",
            "Shared room       73.0    48.0  104.0  16.0  1250.0\n"
          ]
        }
      ]
    },
    {
      "cell_type": "markdown",
      "source": [
        "- A diferenças entre **médias** e **medianas** indicam **assimetrias** nas distribuições de preços.\n",
        "- Variabilidade expressiva destaca uma **ampla gama** de **opções** em cada **categoria**.\n",
        "- Amplitudes refletem a **diversidade** de escolhas, desde opções **acessíveis** até propriedades de **luxo**."
      ],
      "metadata": {
        "id": "mcVBascQ9wwm"
      }
    },
    {
      "cell_type": "markdown",
      "source": [
        "O Apartamento/casa inteira demonstra uma tendência a preços mais elevados devido à maior privacidade e espaço proporcionados aos hóspedes.\n",
        "\n",
        "E o quarto de Hotel é consistentemente o tipo de imóvel mais caro, devido aos serviços personalizados oferecidos."
      ],
      "metadata": {
        "id": "oeFL_33KIoQ5"
      }
    },
    {
      "cell_type": "markdown",
      "metadata": {
        "id": "Ihh5founZSuf"
      },
      "source": [
        "## **Avaliações médias dos alugueis por bairro**"
      ]
    },
    {
      "cell_type": "code",
      "execution_count": null,
      "metadata": {
        "id": "Lnj7aAY-ZSug",
        "outputId": "5ea800d6-1a07-4678-f539-17b386e2859c",
        "colab": {
          "base_uri": "https://localhost:8080/",
          "height": 424
        }
      },
      "outputs": [
        {
          "output_type": "execute_result",
          "data": {
            "text/plain": [
              "     id                                               name  host_id host_name  \\\n",
              "0  3109  Rental unit in Paris · ★5.0 · 1 bedroom · 1 be...     3631      Anne   \n",
              "1  5396  Rental unit in Paris · ★4.59 · Studio · 1 bed ...     7903    Borzou   \n",
              "2  7397  Rental unit in Paris · ★4.73 · 2 bedrooms · 2 ...     2626    Franck   \n",
              "\n",
              "    neighbourhood  latitude  longitude        room_type  price  \\\n",
              "0    Observatoire  48.83191    2.31870  Entire home/apt  150.0   \n",
              "1  Hôtel-de-Ville  48.85247    2.35835  Entire home/apt  146.0   \n",
              "2  Hôtel-de-Ville  48.85909    2.35315  Entire home/apt  140.0   \n",
              "\n",
              "   minimum_nights  number_of_reviews  reviews_per_month  \\\n",
              "0               2                  4               0.05   \n",
              "1               1                374               2.12   \n",
              "2              10                343               2.22   \n",
              "\n",
              "   calculated_host_listings_count  availability_365  number_of_reviews_ltm  \\\n",
              "0                               1               327                      0   \n",
              "1                               2                 0                     48   \n",
              "2                               7               198                     22   \n",
              "\n",
              "  score bedroom bed bath  ativo  \n",
              "0  5.0        1   1    1      1  \n",
              "1  4.59       0   1    1      1  \n",
              "2  4.73       2   2    1      1  "
            ],
            "text/html": [
              "\n",
              "  <div id=\"df-53a97e56-7f51-46a1-a54c-8ca0b80a7a88\" class=\"colab-df-container\">\n",
              "    <div>\n",
              "<style scoped>\n",
              "    .dataframe tbody tr th:only-of-type {\n",
              "        vertical-align: middle;\n",
              "    }\n",
              "\n",
              "    .dataframe tbody tr th {\n",
              "        vertical-align: top;\n",
              "    }\n",
              "\n",
              "    .dataframe thead th {\n",
              "        text-align: right;\n",
              "    }\n",
              "</style>\n",
              "<table border=\"1\" class=\"dataframe\">\n",
              "  <thead>\n",
              "    <tr style=\"text-align: right;\">\n",
              "      <th></th>\n",
              "      <th>id</th>\n",
              "      <th>name</th>\n",
              "      <th>host_id</th>\n",
              "      <th>host_name</th>\n",
              "      <th>neighbourhood</th>\n",
              "      <th>latitude</th>\n",
              "      <th>longitude</th>\n",
              "      <th>room_type</th>\n",
              "      <th>price</th>\n",
              "      <th>minimum_nights</th>\n",
              "      <th>number_of_reviews</th>\n",
              "      <th>reviews_per_month</th>\n",
              "      <th>calculated_host_listings_count</th>\n",
              "      <th>availability_365</th>\n",
              "      <th>number_of_reviews_ltm</th>\n",
              "      <th>score</th>\n",
              "      <th>bedroom</th>\n",
              "      <th>bed</th>\n",
              "      <th>bath</th>\n",
              "      <th>ativo</th>\n",
              "    </tr>\n",
              "  </thead>\n",
              "  <tbody>\n",
              "    <tr>\n",
              "      <th>0</th>\n",
              "      <td>3109</td>\n",
              "      <td>Rental unit in Paris · ★5.0 · 1 bedroom · 1 be...</td>\n",
              "      <td>3631</td>\n",
              "      <td>Anne</td>\n",
              "      <td>Observatoire</td>\n",
              "      <td>48.83191</td>\n",
              "      <td>2.31870</td>\n",
              "      <td>Entire home/apt</td>\n",
              "      <td>150.0</td>\n",
              "      <td>2</td>\n",
              "      <td>4</td>\n",
              "      <td>0.05</td>\n",
              "      <td>1</td>\n",
              "      <td>327</td>\n",
              "      <td>0</td>\n",
              "      <td>5.0</td>\n",
              "      <td>1</td>\n",
              "      <td>1</td>\n",
              "      <td>1</td>\n",
              "      <td>1</td>\n",
              "    </tr>\n",
              "    <tr>\n",
              "      <th>1</th>\n",
              "      <td>5396</td>\n",
              "      <td>Rental unit in Paris · ★4.59 · Studio · 1 bed ...</td>\n",
              "      <td>7903</td>\n",
              "      <td>Borzou</td>\n",
              "      <td>Hôtel-de-Ville</td>\n",
              "      <td>48.85247</td>\n",
              "      <td>2.35835</td>\n",
              "      <td>Entire home/apt</td>\n",
              "      <td>146.0</td>\n",
              "      <td>1</td>\n",
              "      <td>374</td>\n",
              "      <td>2.12</td>\n",
              "      <td>2</td>\n",
              "      <td>0</td>\n",
              "      <td>48</td>\n",
              "      <td>4.59</td>\n",
              "      <td>0</td>\n",
              "      <td>1</td>\n",
              "      <td>1</td>\n",
              "      <td>1</td>\n",
              "    </tr>\n",
              "    <tr>\n",
              "      <th>2</th>\n",
              "      <td>7397</td>\n",
              "      <td>Rental unit in Paris · ★4.73 · 2 bedrooms · 2 ...</td>\n",
              "      <td>2626</td>\n",
              "      <td>Franck</td>\n",
              "      <td>Hôtel-de-Ville</td>\n",
              "      <td>48.85909</td>\n",
              "      <td>2.35315</td>\n",
              "      <td>Entire home/apt</td>\n",
              "      <td>140.0</td>\n",
              "      <td>10</td>\n",
              "      <td>343</td>\n",
              "      <td>2.22</td>\n",
              "      <td>7</td>\n",
              "      <td>198</td>\n",
              "      <td>22</td>\n",
              "      <td>4.73</td>\n",
              "      <td>2</td>\n",
              "      <td>2</td>\n",
              "      <td>1</td>\n",
              "      <td>1</td>\n",
              "    </tr>\n",
              "  </tbody>\n",
              "</table>\n",
              "</div>\n",
              "    <div class=\"colab-df-buttons\">\n",
              "\n",
              "  <div class=\"colab-df-container\">\n",
              "    <button class=\"colab-df-convert\" onclick=\"convertToInteractive('df-53a97e56-7f51-46a1-a54c-8ca0b80a7a88')\"\n",
              "            title=\"Convert this dataframe to an interactive table.\"\n",
              "            style=\"display:none;\">\n",
              "\n",
              "  <svg xmlns=\"http://www.w3.org/2000/svg\" height=\"24px\" viewBox=\"0 -960 960 960\">\n",
              "    <path d=\"M120-120v-720h720v720H120Zm60-500h600v-160H180v160Zm220 220h160v-160H400v160Zm0 220h160v-160H400v160ZM180-400h160v-160H180v160Zm440 0h160v-160H620v160ZM180-180h160v-160H180v160Zm440 0h160v-160H620v160Z\"/>\n",
              "  </svg>\n",
              "    </button>\n",
              "\n",
              "  <style>\n",
              "    .colab-df-container {\n",
              "      display:flex;\n",
              "      gap: 12px;\n",
              "    }\n",
              "\n",
              "    .colab-df-convert {\n",
              "      background-color: #E8F0FE;\n",
              "      border: none;\n",
              "      border-radius: 50%;\n",
              "      cursor: pointer;\n",
              "      display: none;\n",
              "      fill: #1967D2;\n",
              "      height: 32px;\n",
              "      padding: 0 0 0 0;\n",
              "      width: 32px;\n",
              "    }\n",
              "\n",
              "    .colab-df-convert:hover {\n",
              "      background-color: #E2EBFA;\n",
              "      box-shadow: 0px 1px 2px rgba(60, 64, 67, 0.3), 0px 1px 3px 1px rgba(60, 64, 67, 0.15);\n",
              "      fill: #174EA6;\n",
              "    }\n",
              "\n",
              "    .colab-df-buttons div {\n",
              "      margin-bottom: 4px;\n",
              "    }\n",
              "\n",
              "    [theme=dark] .colab-df-convert {\n",
              "      background-color: #3B4455;\n",
              "      fill: #D2E3FC;\n",
              "    }\n",
              "\n",
              "    [theme=dark] .colab-df-convert:hover {\n",
              "      background-color: #434B5C;\n",
              "      box-shadow: 0px 1px 3px 1px rgba(0, 0, 0, 0.15);\n",
              "      filter: drop-shadow(0px 1px 2px rgba(0, 0, 0, 0.3));\n",
              "      fill: #FFFFFF;\n",
              "    }\n",
              "  </style>\n",
              "\n",
              "    <script>\n",
              "      const buttonEl =\n",
              "        document.querySelector('#df-53a97e56-7f51-46a1-a54c-8ca0b80a7a88 button.colab-df-convert');\n",
              "      buttonEl.style.display =\n",
              "        google.colab.kernel.accessAllowed ? 'block' : 'none';\n",
              "\n",
              "      async function convertToInteractive(key) {\n",
              "        const element = document.querySelector('#df-53a97e56-7f51-46a1-a54c-8ca0b80a7a88');\n",
              "        const dataTable =\n",
              "          await google.colab.kernel.invokeFunction('convertToInteractive',\n",
              "                                                    [key], {});\n",
              "        if (!dataTable) return;\n",
              "\n",
              "        const docLinkHtml = 'Like what you see? Visit the ' +\n",
              "          '<a target=\"_blank\" href=https://colab.research.google.com/notebooks/data_table.ipynb>data table notebook</a>'\n",
              "          + ' to learn more about interactive tables.';\n",
              "        element.innerHTML = '';\n",
              "        dataTable['output_type'] = 'display_data';\n",
              "        await google.colab.output.renderOutput(dataTable, element);\n",
              "        const docLink = document.createElement('div');\n",
              "        docLink.innerHTML = docLinkHtml;\n",
              "        element.appendChild(docLink);\n",
              "      }\n",
              "    </script>\n",
              "  </div>\n",
              "\n",
              "\n",
              "<div id=\"df-8d649905-20d2-44f1-8814-27a15ce768fb\">\n",
              "  <button class=\"colab-df-quickchart\" onclick=\"quickchart('df-8d649905-20d2-44f1-8814-27a15ce768fb')\"\n",
              "            title=\"Suggest charts\"\n",
              "            style=\"display:none;\">\n",
              "\n",
              "<svg xmlns=\"http://www.w3.org/2000/svg\" height=\"24px\"viewBox=\"0 0 24 24\"\n",
              "     width=\"24px\">\n",
              "    <g>\n",
              "        <path d=\"M19 3H5c-1.1 0-2 .9-2 2v14c0 1.1.9 2 2 2h14c1.1 0 2-.9 2-2V5c0-1.1-.9-2-2-2zM9 17H7v-7h2v7zm4 0h-2V7h2v10zm4 0h-2v-4h2v4z\"/>\n",
              "    </g>\n",
              "</svg>\n",
              "  </button>\n",
              "\n",
              "<style>\n",
              "  .colab-df-quickchart {\n",
              "      --bg-color: #E8F0FE;\n",
              "      --fill-color: #1967D2;\n",
              "      --hover-bg-color: #E2EBFA;\n",
              "      --hover-fill-color: #174EA6;\n",
              "      --disabled-fill-color: #AAA;\n",
              "      --disabled-bg-color: #DDD;\n",
              "  }\n",
              "\n",
              "  [theme=dark] .colab-df-quickchart {\n",
              "      --bg-color: #3B4455;\n",
              "      --fill-color: #D2E3FC;\n",
              "      --hover-bg-color: #434B5C;\n",
              "      --hover-fill-color: #FFFFFF;\n",
              "      --disabled-bg-color: #3B4455;\n",
              "      --disabled-fill-color: #666;\n",
              "  }\n",
              "\n",
              "  .colab-df-quickchart {\n",
              "    background-color: var(--bg-color);\n",
              "    border: none;\n",
              "    border-radius: 50%;\n",
              "    cursor: pointer;\n",
              "    display: none;\n",
              "    fill: var(--fill-color);\n",
              "    height: 32px;\n",
              "    padding: 0;\n",
              "    width: 32px;\n",
              "  }\n",
              "\n",
              "  .colab-df-quickchart:hover {\n",
              "    background-color: var(--hover-bg-color);\n",
              "    box-shadow: 0 1px 2px rgba(60, 64, 67, 0.3), 0 1px 3px 1px rgba(60, 64, 67, 0.15);\n",
              "    fill: var(--button-hover-fill-color);\n",
              "  }\n",
              "\n",
              "  .colab-df-quickchart-complete:disabled,\n",
              "  .colab-df-quickchart-complete:disabled:hover {\n",
              "    background-color: var(--disabled-bg-color);\n",
              "    fill: var(--disabled-fill-color);\n",
              "    box-shadow: none;\n",
              "  }\n",
              "\n",
              "  .colab-df-spinner {\n",
              "    border: 2px solid var(--fill-color);\n",
              "    border-color: transparent;\n",
              "    border-bottom-color: var(--fill-color);\n",
              "    animation:\n",
              "      spin 1s steps(1) infinite;\n",
              "  }\n",
              "\n",
              "  @keyframes spin {\n",
              "    0% {\n",
              "      border-color: transparent;\n",
              "      border-bottom-color: var(--fill-color);\n",
              "      border-left-color: var(--fill-color);\n",
              "    }\n",
              "    20% {\n",
              "      border-color: transparent;\n",
              "      border-left-color: var(--fill-color);\n",
              "      border-top-color: var(--fill-color);\n",
              "    }\n",
              "    30% {\n",
              "      border-color: transparent;\n",
              "      border-left-color: var(--fill-color);\n",
              "      border-top-color: var(--fill-color);\n",
              "      border-right-color: var(--fill-color);\n",
              "    }\n",
              "    40% {\n",
              "      border-color: transparent;\n",
              "      border-right-color: var(--fill-color);\n",
              "      border-top-color: var(--fill-color);\n",
              "    }\n",
              "    60% {\n",
              "      border-color: transparent;\n",
              "      border-right-color: var(--fill-color);\n",
              "    }\n",
              "    80% {\n",
              "      border-color: transparent;\n",
              "      border-right-color: var(--fill-color);\n",
              "      border-bottom-color: var(--fill-color);\n",
              "    }\n",
              "    90% {\n",
              "      border-color: transparent;\n",
              "      border-bottom-color: var(--fill-color);\n",
              "    }\n",
              "  }\n",
              "</style>\n",
              "\n",
              "  <script>\n",
              "    async function quickchart(key) {\n",
              "      const quickchartButtonEl =\n",
              "        document.querySelector('#' + key + ' button');\n",
              "      quickchartButtonEl.disabled = true;  // To prevent multiple clicks.\n",
              "      quickchartButtonEl.classList.add('colab-df-spinner');\n",
              "      try {\n",
              "        const charts = await google.colab.kernel.invokeFunction(\n",
              "            'suggestCharts', [key], {});\n",
              "      } catch (error) {\n",
              "        console.error('Error during call to suggestCharts:', error);\n",
              "      }\n",
              "      quickchartButtonEl.classList.remove('colab-df-spinner');\n",
              "      quickchartButtonEl.classList.add('colab-df-quickchart-complete');\n",
              "    }\n",
              "    (() => {\n",
              "      let quickchartButtonEl =\n",
              "        document.querySelector('#df-8d649905-20d2-44f1-8814-27a15ce768fb button');\n",
              "      quickchartButtonEl.style.display =\n",
              "        google.colab.kernel.accessAllowed ? 'block' : 'none';\n",
              "    })();\n",
              "  </script>\n",
              "</div>\n",
              "\n",
              "    </div>\n",
              "  </div>\n"
            ]
          },
          "metadata": {},
          "execution_count": 139
        }
      ],
      "source": [
        "# Subset com as listagens com avaliações válidas;\n",
        "df_comScore = df_t.loc[~((df_t['score'] == 'New ') | (df_t['score'] == 'No Score'))]\n",
        "df_comScore.head(n=3)"
      ]
    },
    {
      "cell_type": "code",
      "execution_count": null,
      "metadata": {
        "id": "I-YTRVj7ZSug",
        "outputId": "290c8e7a-8440-4524-8c87-b2c400e621b2",
        "colab": {
          "base_uri": "https://localhost:8080/"
        }
      },
      "outputs": [
        {
          "output_type": "stream",
          "name": "stderr",
          "text": [
            "<ipython-input-78-e058e46e3225>:1: SettingWithCopyWarning: \n",
            "A value is trying to be set on a copy of a slice from a DataFrame.\n",
            "Try using .loc[row_indexer,col_indexer] = value instead\n",
            "\n",
            "See the caveats in the documentation: https://pandas.pydata.org/pandas-docs/stable/user_guide/indexing.html#returning-a-view-versus-a-copy\n",
            "  df_comScore['score'] = df_comScore['score'].astype('float64')\n"
          ]
        }
      ],
      "source": [
        "df_comScore['score'] = df_comScore['score'].astype('float64')"
      ]
    },
    {
      "cell_type": "code",
      "execution_count": null,
      "metadata": {
        "id": "ceMgLSTqZSug",
        "outputId": "9d1b4308-8b22-46fb-fe4a-d2864ed6b9ba",
        "colab": {
          "base_uri": "https://localhost:8080/",
          "height": 707
        }
      },
      "outputs": [
        {
          "output_type": "execute_result",
          "data": {
            "text/plain": [
              "                      score\n",
              "neighbourhood              \n",
              "Ménilmontant         4.7610\n",
              "Popincourt           4.7378\n",
              "Reuilly              4.7344\n",
              "Buttes-Chaumont      4.7337\n",
              "Buttes-Montmartre    4.7337\n",
              "Palais-Bourbon       4.7322\n",
              "Entrepôt             4.7204\n",
              "Opéra                4.7103\n",
              "Gobelins             4.7090\n",
              "Passy                4.7063\n",
              "Louvre               4.7045\n",
              "Panthéon             4.7017\n",
              "Vaugirard            4.7011\n",
              "Hôtel-de-Ville       4.6950\n",
              "Luxembourg           4.6949\n",
              "Batignolles-Monceau  4.6933\n",
              "Observatoire         4.6931\n",
              "Temple               4.6845\n",
              "Bourse               4.6668\n",
              "Élysée               4.6615"
            ],
            "text/html": [
              "\n",
              "  <div id=\"df-13e764a1-10f9-42d1-88e1-b13e97a685ea\" class=\"colab-df-container\">\n",
              "    <div>\n",
              "<style scoped>\n",
              "    .dataframe tbody tr th:only-of-type {\n",
              "        vertical-align: middle;\n",
              "    }\n",
              "\n",
              "    .dataframe tbody tr th {\n",
              "        vertical-align: top;\n",
              "    }\n",
              "\n",
              "    .dataframe thead th {\n",
              "        text-align: right;\n",
              "    }\n",
              "</style>\n",
              "<table border=\"1\" class=\"dataframe\">\n",
              "  <thead>\n",
              "    <tr style=\"text-align: right;\">\n",
              "      <th></th>\n",
              "      <th>score</th>\n",
              "    </tr>\n",
              "    <tr>\n",
              "      <th>neighbourhood</th>\n",
              "      <th></th>\n",
              "    </tr>\n",
              "  </thead>\n",
              "  <tbody>\n",
              "    <tr>\n",
              "      <th>Ménilmontant</th>\n",
              "      <td>4.7610</td>\n",
              "    </tr>\n",
              "    <tr>\n",
              "      <th>Popincourt</th>\n",
              "      <td>4.7378</td>\n",
              "    </tr>\n",
              "    <tr>\n",
              "      <th>Reuilly</th>\n",
              "      <td>4.7344</td>\n",
              "    </tr>\n",
              "    <tr>\n",
              "      <th>Buttes-Chaumont</th>\n",
              "      <td>4.7337</td>\n",
              "    </tr>\n",
              "    <tr>\n",
              "      <th>Buttes-Montmartre</th>\n",
              "      <td>4.7337</td>\n",
              "    </tr>\n",
              "    <tr>\n",
              "      <th>Palais-Bourbon</th>\n",
              "      <td>4.7322</td>\n",
              "    </tr>\n",
              "    <tr>\n",
              "      <th>Entrepôt</th>\n",
              "      <td>4.7204</td>\n",
              "    </tr>\n",
              "    <tr>\n",
              "      <th>Opéra</th>\n",
              "      <td>4.7103</td>\n",
              "    </tr>\n",
              "    <tr>\n",
              "      <th>Gobelins</th>\n",
              "      <td>4.7090</td>\n",
              "    </tr>\n",
              "    <tr>\n",
              "      <th>Passy</th>\n",
              "      <td>4.7063</td>\n",
              "    </tr>\n",
              "    <tr>\n",
              "      <th>Louvre</th>\n",
              "      <td>4.7045</td>\n",
              "    </tr>\n",
              "    <tr>\n",
              "      <th>Panthéon</th>\n",
              "      <td>4.7017</td>\n",
              "    </tr>\n",
              "    <tr>\n",
              "      <th>Vaugirard</th>\n",
              "      <td>4.7011</td>\n",
              "    </tr>\n",
              "    <tr>\n",
              "      <th>Hôtel-de-Ville</th>\n",
              "      <td>4.6950</td>\n",
              "    </tr>\n",
              "    <tr>\n",
              "      <th>Luxembourg</th>\n",
              "      <td>4.6949</td>\n",
              "    </tr>\n",
              "    <tr>\n",
              "      <th>Batignolles-Monceau</th>\n",
              "      <td>4.6933</td>\n",
              "    </tr>\n",
              "    <tr>\n",
              "      <th>Observatoire</th>\n",
              "      <td>4.6931</td>\n",
              "    </tr>\n",
              "    <tr>\n",
              "      <th>Temple</th>\n",
              "      <td>4.6845</td>\n",
              "    </tr>\n",
              "    <tr>\n",
              "      <th>Bourse</th>\n",
              "      <td>4.6668</td>\n",
              "    </tr>\n",
              "    <tr>\n",
              "      <th>Élysée</th>\n",
              "      <td>4.6615</td>\n",
              "    </tr>\n",
              "  </tbody>\n",
              "</table>\n",
              "</div>\n",
              "    <div class=\"colab-df-buttons\">\n",
              "\n",
              "  <div class=\"colab-df-container\">\n",
              "    <button class=\"colab-df-convert\" onclick=\"convertToInteractive('df-13e764a1-10f9-42d1-88e1-b13e97a685ea')\"\n",
              "            title=\"Convert this dataframe to an interactive table.\"\n",
              "            style=\"display:none;\">\n",
              "\n",
              "  <svg xmlns=\"http://www.w3.org/2000/svg\" height=\"24px\" viewBox=\"0 -960 960 960\">\n",
              "    <path d=\"M120-120v-720h720v720H120Zm60-500h600v-160H180v160Zm220 220h160v-160H400v160Zm0 220h160v-160H400v160ZM180-400h160v-160H180v160Zm440 0h160v-160H620v160ZM180-180h160v-160H180v160Zm440 0h160v-160H620v160Z\"/>\n",
              "  </svg>\n",
              "    </button>\n",
              "\n",
              "  <style>\n",
              "    .colab-df-container {\n",
              "      display:flex;\n",
              "      gap: 12px;\n",
              "    }\n",
              "\n",
              "    .colab-df-convert {\n",
              "      background-color: #E8F0FE;\n",
              "      border: none;\n",
              "      border-radius: 50%;\n",
              "      cursor: pointer;\n",
              "      display: none;\n",
              "      fill: #1967D2;\n",
              "      height: 32px;\n",
              "      padding: 0 0 0 0;\n",
              "      width: 32px;\n",
              "    }\n",
              "\n",
              "    .colab-df-convert:hover {\n",
              "      background-color: #E2EBFA;\n",
              "      box-shadow: 0px 1px 2px rgba(60, 64, 67, 0.3), 0px 1px 3px 1px rgba(60, 64, 67, 0.15);\n",
              "      fill: #174EA6;\n",
              "    }\n",
              "\n",
              "    .colab-df-buttons div {\n",
              "      margin-bottom: 4px;\n",
              "    }\n",
              "\n",
              "    [theme=dark] .colab-df-convert {\n",
              "      background-color: #3B4455;\n",
              "      fill: #D2E3FC;\n",
              "    }\n",
              "\n",
              "    [theme=dark] .colab-df-convert:hover {\n",
              "      background-color: #434B5C;\n",
              "      box-shadow: 0px 1px 3px 1px rgba(0, 0, 0, 0.15);\n",
              "      filter: drop-shadow(0px 1px 2px rgba(0, 0, 0, 0.3));\n",
              "      fill: #FFFFFF;\n",
              "    }\n",
              "  </style>\n",
              "\n",
              "    <script>\n",
              "      const buttonEl =\n",
              "        document.querySelector('#df-13e764a1-10f9-42d1-88e1-b13e97a685ea button.colab-df-convert');\n",
              "      buttonEl.style.display =\n",
              "        google.colab.kernel.accessAllowed ? 'block' : 'none';\n",
              "\n",
              "      async function convertToInteractive(key) {\n",
              "        const element = document.querySelector('#df-13e764a1-10f9-42d1-88e1-b13e97a685ea');\n",
              "        const dataTable =\n",
              "          await google.colab.kernel.invokeFunction('convertToInteractive',\n",
              "                                                    [key], {});\n",
              "        if (!dataTable) return;\n",
              "\n",
              "        const docLinkHtml = 'Like what you see? Visit the ' +\n",
              "          '<a target=\"_blank\" href=https://colab.research.google.com/notebooks/data_table.ipynb>data table notebook</a>'\n",
              "          + ' to learn more about interactive tables.';\n",
              "        element.innerHTML = '';\n",
              "        dataTable['output_type'] = 'display_data';\n",
              "        await google.colab.output.renderOutput(dataTable, element);\n",
              "        const docLink = document.createElement('div');\n",
              "        docLink.innerHTML = docLinkHtml;\n",
              "        element.appendChild(docLink);\n",
              "      }\n",
              "    </script>\n",
              "  </div>\n",
              "\n",
              "\n",
              "<div id=\"df-88387d68-2ac6-4a94-84cd-b63315320efb\">\n",
              "  <button class=\"colab-df-quickchart\" onclick=\"quickchart('df-88387d68-2ac6-4a94-84cd-b63315320efb')\"\n",
              "            title=\"Suggest charts\"\n",
              "            style=\"display:none;\">\n",
              "\n",
              "<svg xmlns=\"http://www.w3.org/2000/svg\" height=\"24px\"viewBox=\"0 0 24 24\"\n",
              "     width=\"24px\">\n",
              "    <g>\n",
              "        <path d=\"M19 3H5c-1.1 0-2 .9-2 2v14c0 1.1.9 2 2 2h14c1.1 0 2-.9 2-2V5c0-1.1-.9-2-2-2zM9 17H7v-7h2v7zm4 0h-2V7h2v10zm4 0h-2v-4h2v4z\"/>\n",
              "    </g>\n",
              "</svg>\n",
              "  </button>\n",
              "\n",
              "<style>\n",
              "  .colab-df-quickchart {\n",
              "      --bg-color: #E8F0FE;\n",
              "      --fill-color: #1967D2;\n",
              "      --hover-bg-color: #E2EBFA;\n",
              "      --hover-fill-color: #174EA6;\n",
              "      --disabled-fill-color: #AAA;\n",
              "      --disabled-bg-color: #DDD;\n",
              "  }\n",
              "\n",
              "  [theme=dark] .colab-df-quickchart {\n",
              "      --bg-color: #3B4455;\n",
              "      --fill-color: #D2E3FC;\n",
              "      --hover-bg-color: #434B5C;\n",
              "      --hover-fill-color: #FFFFFF;\n",
              "      --disabled-bg-color: #3B4455;\n",
              "      --disabled-fill-color: #666;\n",
              "  }\n",
              "\n",
              "  .colab-df-quickchart {\n",
              "    background-color: var(--bg-color);\n",
              "    border: none;\n",
              "    border-radius: 50%;\n",
              "    cursor: pointer;\n",
              "    display: none;\n",
              "    fill: var(--fill-color);\n",
              "    height: 32px;\n",
              "    padding: 0;\n",
              "    width: 32px;\n",
              "  }\n",
              "\n",
              "  .colab-df-quickchart:hover {\n",
              "    background-color: var(--hover-bg-color);\n",
              "    box-shadow: 0 1px 2px rgba(60, 64, 67, 0.3), 0 1px 3px 1px rgba(60, 64, 67, 0.15);\n",
              "    fill: var(--button-hover-fill-color);\n",
              "  }\n",
              "\n",
              "  .colab-df-quickchart-complete:disabled,\n",
              "  .colab-df-quickchart-complete:disabled:hover {\n",
              "    background-color: var(--disabled-bg-color);\n",
              "    fill: var(--disabled-fill-color);\n",
              "    box-shadow: none;\n",
              "  }\n",
              "\n",
              "  .colab-df-spinner {\n",
              "    border: 2px solid var(--fill-color);\n",
              "    border-color: transparent;\n",
              "    border-bottom-color: var(--fill-color);\n",
              "    animation:\n",
              "      spin 1s steps(1) infinite;\n",
              "  }\n",
              "\n",
              "  @keyframes spin {\n",
              "    0% {\n",
              "      border-color: transparent;\n",
              "      border-bottom-color: var(--fill-color);\n",
              "      border-left-color: var(--fill-color);\n",
              "    }\n",
              "    20% {\n",
              "      border-color: transparent;\n",
              "      border-left-color: var(--fill-color);\n",
              "      border-top-color: var(--fill-color);\n",
              "    }\n",
              "    30% {\n",
              "      border-color: transparent;\n",
              "      border-left-color: var(--fill-color);\n",
              "      border-top-color: var(--fill-color);\n",
              "      border-right-color: var(--fill-color);\n",
              "    }\n",
              "    40% {\n",
              "      border-color: transparent;\n",
              "      border-right-color: var(--fill-color);\n",
              "      border-top-color: var(--fill-color);\n",
              "    }\n",
              "    60% {\n",
              "      border-color: transparent;\n",
              "      border-right-color: var(--fill-color);\n",
              "    }\n",
              "    80% {\n",
              "      border-color: transparent;\n",
              "      border-right-color: var(--fill-color);\n",
              "      border-bottom-color: var(--fill-color);\n",
              "    }\n",
              "    90% {\n",
              "      border-color: transparent;\n",
              "      border-bottom-color: var(--fill-color);\n",
              "    }\n",
              "  }\n",
              "</style>\n",
              "\n",
              "  <script>\n",
              "    async function quickchart(key) {\n",
              "      const quickchartButtonEl =\n",
              "        document.querySelector('#' + key + ' button');\n",
              "      quickchartButtonEl.disabled = true;  // To prevent multiple clicks.\n",
              "      quickchartButtonEl.classList.add('colab-df-spinner');\n",
              "      try {\n",
              "        const charts = await google.colab.kernel.invokeFunction(\n",
              "            'suggestCharts', [key], {});\n",
              "      } catch (error) {\n",
              "        console.error('Error during call to suggestCharts:', error);\n",
              "      }\n",
              "      quickchartButtonEl.classList.remove('colab-df-spinner');\n",
              "      quickchartButtonEl.classList.add('colab-df-quickchart-complete');\n",
              "    }\n",
              "    (() => {\n",
              "      let quickchartButtonEl =\n",
              "        document.querySelector('#df-88387d68-2ac6-4a94-84cd-b63315320efb button');\n",
              "      quickchartButtonEl.style.display =\n",
              "        google.colab.kernel.accessAllowed ? 'block' : 'none';\n",
              "    })();\n",
              "  </script>\n",
              "</div>\n",
              "\n",
              "    </div>\n",
              "  </div>\n"
            ]
          },
          "metadata": {},
          "execution_count": 87
        }
      ],
      "source": [
        "df_comScore.pivot_table(index='neighbourhood', values='score', aggfunc='mean').sort_values(by='score', ascending=False).round(4)"
      ]
    },
    {
      "cell_type": "markdown",
      "metadata": {
        "id": "jclFhYy4ZSuh"
      },
      "source": [
        "## **Hospedagens 5 estrelas em cada bairro e seu preço médio**"
      ]
    },
    {
      "cell_type": "code",
      "execution_count": null,
      "metadata": {
        "id": "W2t2qLW4ZSuh",
        "outputId": "d87a4d2b-6c74-47b4-eb89-bf2dcd54cf1f",
        "colab": {
          "base_uri": "https://localhost:8080/",
          "height": 739
        }
      },
      "outputs": [
        {
          "output_type": "execute_result",
          "data": {
            "text/plain": [
              "                           mean count\n",
              "                          price price\n",
              "neighbourhood                        \n",
              "Batignolles-Monceau  193.514355   442\n",
              "Bourse               259.203578   185\n",
              "Buttes-Chaumont      132.031419   426\n",
              "Buttes-Montmartre    166.285692   815\n",
              "Entrepôt             187.411169   527\n",
              "Gobelins             155.323845   194\n",
              "Hôtel-de-Ville       285.277778   216\n",
              "Louvre               285.012658   158\n",
              "Luxembourg           333.830601   183\n",
              "Ménilmontant         134.876571   464\n",
              "Observatoire         175.735849   212\n",
              "Opéra                224.096818   343\n",
              "Palais-Bourbon       312.269430   193\n",
              "Panthéon             226.585722   214\n",
              "Passy                279.889511   397\n",
              "Popincourt           178.905024   710\n",
              "Reuilly              168.190976   250\n",
              "Temple               246.137931   290\n",
              "Vaugirard            190.076266   461\n",
              "Élysée               336.527363   201"
            ],
            "text/html": [
              "\n",
              "  <div id=\"df-61657737-ae76-4ca9-9547-aab2e6596c48\" class=\"colab-df-container\">\n",
              "    <div>\n",
              "<style scoped>\n",
              "    .dataframe tbody tr th:only-of-type {\n",
              "        vertical-align: middle;\n",
              "    }\n",
              "\n",
              "    .dataframe tbody tr th {\n",
              "        vertical-align: top;\n",
              "    }\n",
              "\n",
              "    .dataframe thead tr th {\n",
              "        text-align: left;\n",
              "    }\n",
              "\n",
              "    .dataframe thead tr:last-of-type th {\n",
              "        text-align: right;\n",
              "    }\n",
              "</style>\n",
              "<table border=\"1\" class=\"dataframe\">\n",
              "  <thead>\n",
              "    <tr>\n",
              "      <th></th>\n",
              "      <th>mean</th>\n",
              "      <th>count</th>\n",
              "    </tr>\n",
              "    <tr>\n",
              "      <th></th>\n",
              "      <th>price</th>\n",
              "      <th>price</th>\n",
              "    </tr>\n",
              "    <tr>\n",
              "      <th>neighbourhood</th>\n",
              "      <th></th>\n",
              "      <th></th>\n",
              "    </tr>\n",
              "  </thead>\n",
              "  <tbody>\n",
              "    <tr>\n",
              "      <th>Batignolles-Monceau</th>\n",
              "      <td>193.514355</td>\n",
              "      <td>442</td>\n",
              "    </tr>\n",
              "    <tr>\n",
              "      <th>Bourse</th>\n",
              "      <td>259.203578</td>\n",
              "      <td>185</td>\n",
              "    </tr>\n",
              "    <tr>\n",
              "      <th>Buttes-Chaumont</th>\n",
              "      <td>132.031419</td>\n",
              "      <td>426</td>\n",
              "    </tr>\n",
              "    <tr>\n",
              "      <th>Buttes-Montmartre</th>\n",
              "      <td>166.285692</td>\n",
              "      <td>815</td>\n",
              "    </tr>\n",
              "    <tr>\n",
              "      <th>Entrepôt</th>\n",
              "      <td>187.411169</td>\n",
              "      <td>527</td>\n",
              "    </tr>\n",
              "    <tr>\n",
              "      <th>Gobelins</th>\n",
              "      <td>155.323845</td>\n",
              "      <td>194</td>\n",
              "    </tr>\n",
              "    <tr>\n",
              "      <th>Hôtel-de-Ville</th>\n",
              "      <td>285.277778</td>\n",
              "      <td>216</td>\n",
              "    </tr>\n",
              "    <tr>\n",
              "      <th>Louvre</th>\n",
              "      <td>285.012658</td>\n",
              "      <td>158</td>\n",
              "    </tr>\n",
              "    <tr>\n",
              "      <th>Luxembourg</th>\n",
              "      <td>333.830601</td>\n",
              "      <td>183</td>\n",
              "    </tr>\n",
              "    <tr>\n",
              "      <th>Ménilmontant</th>\n",
              "      <td>134.876571</td>\n",
              "      <td>464</td>\n",
              "    </tr>\n",
              "    <tr>\n",
              "      <th>Observatoire</th>\n",
              "      <td>175.735849</td>\n",
              "      <td>212</td>\n",
              "    </tr>\n",
              "    <tr>\n",
              "      <th>Opéra</th>\n",
              "      <td>224.096818</td>\n",
              "      <td>343</td>\n",
              "    </tr>\n",
              "    <tr>\n",
              "      <th>Palais-Bourbon</th>\n",
              "      <td>312.269430</td>\n",
              "      <td>193</td>\n",
              "    </tr>\n",
              "    <tr>\n",
              "      <th>Panthéon</th>\n",
              "      <td>226.585722</td>\n",
              "      <td>214</td>\n",
              "    </tr>\n",
              "    <tr>\n",
              "      <th>Passy</th>\n",
              "      <td>279.889511</td>\n",
              "      <td>397</td>\n",
              "    </tr>\n",
              "    <tr>\n",
              "      <th>Popincourt</th>\n",
              "      <td>178.905024</td>\n",
              "      <td>710</td>\n",
              "    </tr>\n",
              "    <tr>\n",
              "      <th>Reuilly</th>\n",
              "      <td>168.190976</td>\n",
              "      <td>250</td>\n",
              "    </tr>\n",
              "    <tr>\n",
              "      <th>Temple</th>\n",
              "      <td>246.137931</td>\n",
              "      <td>290</td>\n",
              "    </tr>\n",
              "    <tr>\n",
              "      <th>Vaugirard</th>\n",
              "      <td>190.076266</td>\n",
              "      <td>461</td>\n",
              "    </tr>\n",
              "    <tr>\n",
              "      <th>Élysée</th>\n",
              "      <td>336.527363</td>\n",
              "      <td>201</td>\n",
              "    </tr>\n",
              "  </tbody>\n",
              "</table>\n",
              "</div>\n",
              "    <div class=\"colab-df-buttons\">\n",
              "\n",
              "  <div class=\"colab-df-container\">\n",
              "    <button class=\"colab-df-convert\" onclick=\"convertToInteractive('df-61657737-ae76-4ca9-9547-aab2e6596c48')\"\n",
              "            title=\"Convert this dataframe to an interactive table.\"\n",
              "            style=\"display:none;\">\n",
              "\n",
              "  <svg xmlns=\"http://www.w3.org/2000/svg\" height=\"24px\" viewBox=\"0 -960 960 960\">\n",
              "    <path d=\"M120-120v-720h720v720H120Zm60-500h600v-160H180v160Zm220 220h160v-160H400v160Zm0 220h160v-160H400v160ZM180-400h160v-160H180v160Zm440 0h160v-160H620v160ZM180-180h160v-160H180v160Zm440 0h160v-160H620v160Z\"/>\n",
              "  </svg>\n",
              "    </button>\n",
              "\n",
              "  <style>\n",
              "    .colab-df-container {\n",
              "      display:flex;\n",
              "      gap: 12px;\n",
              "    }\n",
              "\n",
              "    .colab-df-convert {\n",
              "      background-color: #E8F0FE;\n",
              "      border: none;\n",
              "      border-radius: 50%;\n",
              "      cursor: pointer;\n",
              "      display: none;\n",
              "      fill: #1967D2;\n",
              "      height: 32px;\n",
              "      padding: 0 0 0 0;\n",
              "      width: 32px;\n",
              "    }\n",
              "\n",
              "    .colab-df-convert:hover {\n",
              "      background-color: #E2EBFA;\n",
              "      box-shadow: 0px 1px 2px rgba(60, 64, 67, 0.3), 0px 1px 3px 1px rgba(60, 64, 67, 0.15);\n",
              "      fill: #174EA6;\n",
              "    }\n",
              "\n",
              "    .colab-df-buttons div {\n",
              "      margin-bottom: 4px;\n",
              "    }\n",
              "\n",
              "    [theme=dark] .colab-df-convert {\n",
              "      background-color: #3B4455;\n",
              "      fill: #D2E3FC;\n",
              "    }\n",
              "\n",
              "    [theme=dark] .colab-df-convert:hover {\n",
              "      background-color: #434B5C;\n",
              "      box-shadow: 0px 1px 3px 1px rgba(0, 0, 0, 0.15);\n",
              "      filter: drop-shadow(0px 1px 2px rgba(0, 0, 0, 0.3));\n",
              "      fill: #FFFFFF;\n",
              "    }\n",
              "  </style>\n",
              "\n",
              "    <script>\n",
              "      const buttonEl =\n",
              "        document.querySelector('#df-61657737-ae76-4ca9-9547-aab2e6596c48 button.colab-df-convert');\n",
              "      buttonEl.style.display =\n",
              "        google.colab.kernel.accessAllowed ? 'block' : 'none';\n",
              "\n",
              "      async function convertToInteractive(key) {\n",
              "        const element = document.querySelector('#df-61657737-ae76-4ca9-9547-aab2e6596c48');\n",
              "        const dataTable =\n",
              "          await google.colab.kernel.invokeFunction('convertToInteractive',\n",
              "                                                    [key], {});\n",
              "        if (!dataTable) return;\n",
              "\n",
              "        const docLinkHtml = 'Like what you see? Visit the ' +\n",
              "          '<a target=\"_blank\" href=https://colab.research.google.com/notebooks/data_table.ipynb>data table notebook</a>'\n",
              "          + ' to learn more about interactive tables.';\n",
              "        element.innerHTML = '';\n",
              "        dataTable['output_type'] = 'display_data';\n",
              "        await google.colab.output.renderOutput(dataTable, element);\n",
              "        const docLink = document.createElement('div');\n",
              "        docLink.innerHTML = docLinkHtml;\n",
              "        element.appendChild(docLink);\n",
              "      }\n",
              "    </script>\n",
              "  </div>\n",
              "\n",
              "\n",
              "<div id=\"df-6188d345-95d6-409c-8dbb-618a4060d076\">\n",
              "  <button class=\"colab-df-quickchart\" onclick=\"quickchart('df-6188d345-95d6-409c-8dbb-618a4060d076')\"\n",
              "            title=\"Suggest charts\"\n",
              "            style=\"display:none;\">\n",
              "\n",
              "<svg xmlns=\"http://www.w3.org/2000/svg\" height=\"24px\"viewBox=\"0 0 24 24\"\n",
              "     width=\"24px\">\n",
              "    <g>\n",
              "        <path d=\"M19 3H5c-1.1 0-2 .9-2 2v14c0 1.1.9 2 2 2h14c1.1 0 2-.9 2-2V5c0-1.1-.9-2-2-2zM9 17H7v-7h2v7zm4 0h-2V7h2v10zm4 0h-2v-4h2v4z\"/>\n",
              "    </g>\n",
              "</svg>\n",
              "  </button>\n",
              "\n",
              "<style>\n",
              "  .colab-df-quickchart {\n",
              "      --bg-color: #E8F0FE;\n",
              "      --fill-color: #1967D2;\n",
              "      --hover-bg-color: #E2EBFA;\n",
              "      --hover-fill-color: #174EA6;\n",
              "      --disabled-fill-color: #AAA;\n",
              "      --disabled-bg-color: #DDD;\n",
              "  }\n",
              "\n",
              "  [theme=dark] .colab-df-quickchart {\n",
              "      --bg-color: #3B4455;\n",
              "      --fill-color: #D2E3FC;\n",
              "      --hover-bg-color: #434B5C;\n",
              "      --hover-fill-color: #FFFFFF;\n",
              "      --disabled-bg-color: #3B4455;\n",
              "      --disabled-fill-color: #666;\n",
              "  }\n",
              "\n",
              "  .colab-df-quickchart {\n",
              "    background-color: var(--bg-color);\n",
              "    border: none;\n",
              "    border-radius: 50%;\n",
              "    cursor: pointer;\n",
              "    display: none;\n",
              "    fill: var(--fill-color);\n",
              "    height: 32px;\n",
              "    padding: 0;\n",
              "    width: 32px;\n",
              "  }\n",
              "\n",
              "  .colab-df-quickchart:hover {\n",
              "    background-color: var(--hover-bg-color);\n",
              "    box-shadow: 0 1px 2px rgba(60, 64, 67, 0.3), 0 1px 3px 1px rgba(60, 64, 67, 0.15);\n",
              "    fill: var(--button-hover-fill-color);\n",
              "  }\n",
              "\n",
              "  .colab-df-quickchart-complete:disabled,\n",
              "  .colab-df-quickchart-complete:disabled:hover {\n",
              "    background-color: var(--disabled-bg-color);\n",
              "    fill: var(--disabled-fill-color);\n",
              "    box-shadow: none;\n",
              "  }\n",
              "\n",
              "  .colab-df-spinner {\n",
              "    border: 2px solid var(--fill-color);\n",
              "    border-color: transparent;\n",
              "    border-bottom-color: var(--fill-color);\n",
              "    animation:\n",
              "      spin 1s steps(1) infinite;\n",
              "  }\n",
              "\n",
              "  @keyframes spin {\n",
              "    0% {\n",
              "      border-color: transparent;\n",
              "      border-bottom-color: var(--fill-color);\n",
              "      border-left-color: var(--fill-color);\n",
              "    }\n",
              "    20% {\n",
              "      border-color: transparent;\n",
              "      border-left-color: var(--fill-color);\n",
              "      border-top-color: var(--fill-color);\n",
              "    }\n",
              "    30% {\n",
              "      border-color: transparent;\n",
              "      border-left-color: var(--fill-color);\n",
              "      border-top-color: var(--fill-color);\n",
              "      border-right-color: var(--fill-color);\n",
              "    }\n",
              "    40% {\n",
              "      border-color: transparent;\n",
              "      border-right-color: var(--fill-color);\n",
              "      border-top-color: var(--fill-color);\n",
              "    }\n",
              "    60% {\n",
              "      border-color: transparent;\n",
              "      border-right-color: var(--fill-color);\n",
              "    }\n",
              "    80% {\n",
              "      border-color: transparent;\n",
              "      border-right-color: var(--fill-color);\n",
              "      border-bottom-color: var(--fill-color);\n",
              "    }\n",
              "    90% {\n",
              "      border-color: transparent;\n",
              "      border-bottom-color: var(--fill-color);\n",
              "    }\n",
              "  }\n",
              "</style>\n",
              "\n",
              "  <script>\n",
              "    async function quickchart(key) {\n",
              "      const quickchartButtonEl =\n",
              "        document.querySelector('#' + key + ' button');\n",
              "      quickchartButtonEl.disabled = true;  // To prevent multiple clicks.\n",
              "      quickchartButtonEl.classList.add('colab-df-spinner');\n",
              "      try {\n",
              "        const charts = await google.colab.kernel.invokeFunction(\n",
              "            'suggestCharts', [key], {});\n",
              "      } catch (error) {\n",
              "        console.error('Error during call to suggestCharts:', error);\n",
              "      }\n",
              "      quickchartButtonEl.classList.remove('colab-df-spinner');\n",
              "      quickchartButtonEl.classList.add('colab-df-quickchart-complete');\n",
              "    }\n",
              "    (() => {\n",
              "      let quickchartButtonEl =\n",
              "        document.querySelector('#df-6188d345-95d6-409c-8dbb-618a4060d076 button');\n",
              "      quickchartButtonEl.style.display =\n",
              "        google.colab.kernel.accessAllowed ? 'block' : 'none';\n",
              "    })();\n",
              "  </script>\n",
              "</div>\n",
              "\n",
              "    </div>\n",
              "  </div>\n"
            ]
          },
          "metadata": {},
          "execution_count": 80
        }
      ],
      "source": [
        "df_comScore[df_comScore['score'] == 5].pivot_table(index='neighbourhood', values='price', aggfunc=['mean', 'count'])"
      ]
    },
    {
      "cell_type": "code",
      "execution_count": null,
      "metadata": {
        "id": "kjF300ZPZSuh",
        "outputId": "961281d5-b806-4c53-8c83-4fcc53e46884",
        "colab": {
          "base_uri": "https://localhost:8080/",
          "height": 537
        }
      },
      "outputs": [
        {
          "output_type": "execute_result",
          "data": {
            "text/plain": [
              "<Axes: xlabel='bairros', ylabel='quantidade'>"
            ]
          },
          "metadata": {},
          "execution_count": 81
        },
        {
          "output_type": "display_data",
          "data": {
            "text/plain": [
              "<Figure size 800x400 with 1 Axes>"
            ],
            "image/png": "[encoded data removed]"
          },
          "metadata": {}
        }
      ],
      "source": [
        "df_comScore[df_comScore['score'] == 5].groupby(by='neighbourhood').id.count().plot(kind='bar', xlabel='bairros',\n",
        "                                                                                ylabel='quantidade', figsize=(8, 4))"
      ]
    },
    {
      "cell_type": "markdown",
      "source": [
        "---"
      ],
      "metadata": {
        "id": "kDozMfHk-cHP"
      }
    },
    {
      "cell_type": "markdown",
      "metadata": {
        "id": "BVpvrFLnUGbq"
      },
      "source": [
        "# **Conclusão**"
      ]
    },
    {
      "cell_type": "markdown",
      "source": [
        "- Durante a análise do conjunto de dados do Airbnb, identificamos uma condensação de informações na coluna '**name**', incluindo elementos como **score** de **avaliação**, **quantidade de quartos**, **camas** e **banheiros**. Optamos por destacar esses elementos e criar novas colunas específicas para cada informação relevante.\n",
        "\n",
        "- Ao explorar a qualidade dos dados, observamos a presença de valores ausentes em várias colunas, sendo a coluna 'neighbourhood_group' a que possui 100% dos valores faltantes. Para garantir a robustez e confiabilidade das análises, aplicamos estratégias como preenchimento de dados ausentes, eliminação de colunas irrelevantes e outras técnicas de imputação, conforme necessário.\n",
        "\n",
        "- Decidimos excluir colunas como 'last_review' e 'license', cuja ausência não impacta a continuidade da análise. A coluna 'neighbourhood_group' também foi removida por não apresentar informações úteis.\n",
        "\n",
        "- A análise também destaca uma variação\n",
        "significativa nas médias de preços dentro de cada bairro, refletindo a diversidade de imóveis disponíveis, desde apartamentos pequenos até grandes mansões. Essa variação é crucial para os usuários do Airbnb, permitindo que encontrem acomodações que atendam às suas necessidades e orçamento específicos.\n",
        "\n",
        "### **Preço mínimo**:\n",
        "- 💶 **€ 10** (equivalente a **R$ 54,30**)\n",
        "\n",
        "### **Preço máximo**:\n",
        "- 💶 **€ 1.999** (cerca de **R$ 10.854.57**)\n",
        "\n",
        "### **A média de preços em Paris**\n",
        "- 💶 **€ 204.91** (cerca de**R$ 1.112,62**)\n",
        "\n",
        "\n",
        "\n",
        "\n",
        "Ao investigar possíveis outliers, notamos que a coluna 'price' e 'minimum_nights' poderiam conter valores discrepantes. Após o tratamento adequado desses outliers, realizamos uma análise mais aprofundada dos preços médios por bairro, destacando os mais caros e baratos. Além disso, identificamos o menor e o maior preço por bairro, proporcionando insights valiosos sobre a variação de preços.\n",
        "\n",
        "A análise do tipo de imóvel disponível revelou uma preferência significativa por casas/apartamentos inteiros 67%, seguidos por quartos privativos 7%. Os quartos de hotel, apesar de representarem uma parcela menor 0.83%, tendem a ser consistentemente os mais caros, indicando uma preferência por acomodações mais exclusivas e personalizadas.\n",
        "\n",
        "Este projeto envolveu a exploração, limpeza e análise de dados do Airbnb, proporcionando insights sobre preços, tipos de imóveis e características dos bairros em Paris. As ações tomadas visaram garantir a integridade e confiabilidade dos dados para análises subsequentes."
      ],
      "metadata": {
        "id": "4Okn9CMfBETf"
      }
    },
    {
      "cell_type": "markdown",
      "source": [
        "# **Considerações finais**\n",
        "\n",
        "A realização deste projeto foi uma experiência de aprendizado significativa que nos permitiu aplicar os conhecimentos adquiridos em sala de aula em um ambiente prático. O projeto nos permitiu explorar novos horizontes e expandir nossa compreensão sobre as técnicas programação em Python voltadas para Análise Explorátoria de Dados(Pandas/Numpy).\n",
        "\n",
        "Gostaríamos de expressar nossa gratidão ao professor **Bruno**, por nos proporcionar a oportunidade de realizar este projeto e pela orientação valiosa que nos foi oferecida ao longo das aulas. Foi uma jornada colaborativa que nos ajudou a fortalecer nossos laços e a compreender a importância do trabalho em equipe.\n",
        "\n",
        "Atenciosamente,\n",
        "\n",
        "Grupo 2 - Turma 1102 | Dados."
      ],
      "metadata": {
        "id": "bONktaem-6Ce"
      }
    },
    {
      "cell_type": "markdown",
      "source": [
        "# **Referências**\n",
        "\n",
        "- WIKIPÉDIA. **França**. Disponível em: https://pt.wikipedia.org/wiki/Fran%C3%A7a. Acesso em: 20 de Janeiro de 2024.\n",
        "\n",
        "- **Airbnb**. Disponível em: https://www.airbnb.com.br/. Acesso em:  20 de Janeiro de 2024.\n",
        "\n"
      ],
      "metadata": {
        "id": "A39jNUAa_aDz"
      }
    }
  ],
  "metadata": {
    "colab": {
      "provenance": [],
      "toc_visible": true,
      "include_colab_link": true
    },
    "kernelspec": {
      "display_name": "Python 3",
      "name": "python3"
    },
    "language_info": {
      "codemirror_mode": {
        "name": "ipython",
        "version": 3
      },
      "file_extension": ".py",
      "mimetype": "text/x-python",
      "name": "python",
      "nbconvert_exporter": "python",
      "pygments_lexer": "ipython3",
      "version": "3.10.5"
    }
  },
  "nbformat": 4,
  "nbformat_minor": 0
}